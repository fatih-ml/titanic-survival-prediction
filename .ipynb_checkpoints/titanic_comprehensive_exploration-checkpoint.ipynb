{
 "cells": [
  {
   "cell_type": "markdown",
   "id": "177ffa3e-0b1a-4f0a-860d-8bf6ba7d6d09",
   "metadata": {},
   "source": [
    "<p align=\"center\">\n",
    "  <img src=\"data/TITANIC COVER.png\" width=\"1200\" height=\"500\">\n",
    "</p>"
   ]
  },
  {
   "cell_type": "markdown",
   "id": "56844844-c73f-4191-a117-67f4bd6e410c",
   "metadata": {},
   "source": [
    "# Titanic Survival Prediction: A Comprehensive Exploration"
   ]
  },
  {
   "cell_type": "markdown",
   "id": "664d34d1-b81d-4c70-9897-6aa9f4b73fa2",
   "metadata": {},
   "source": [
    "# 1. Introduction"
   ]
  },
  {
   "cell_type": "markdown",
   "id": "c03d43df-6629-4c6c-b959-2f1fc4b0b889",
   "metadata": {},
   "source": [
    "The sinking of the Titanic remains one of the most tragic events in maritime history, claiming the lives of many passengers in a heartbreaking manner. This project delves into the infamous Titanic dataset, available on Kaggle, to predict survival outcomes using various machine learning models. The dataset, derived from this historic catastrophe, not only provides a real-world context for analysis but also serves as a valuable resource for data science enthusiasts and students seeking a comprehensive guide.\n",
    "\n",
    "**Project Overview**  \n",
    "Motivated by the project's prominence within the data science community and the rich dataset derived from a well-documented historical event, this endeavor aims to create a detailed guideline for both personal use and as a resource for aspiring data scientists. The journey encompasses initial data exploration, meticulous data preprocessing, insightful exploratory data analysis, model building, feature selection, and hyperparameter tuning.  \n",
    "\n",
    "**Outline of the Study**  \n",
    "* Introduction\n",
    "* Initial Data Exploration\n",
    "* Data Preprocessing  \n",
    "* Exploratory Data Analysis and Visualizations  \n",
    "* Model Building and Feature Selection  \n",
    "* Hyperparameter Tuning  \n",
    "\n",
    "**Data Preprocessing and Feature Engineering**  \n",
    "The data preprocessing phase involved not only combining train and test datasets but also addressing missing values and performing extensive feature engineering. Beyond extracting titles from names, a 'Family' feature was created, capturing the nuanced dynamics of passenger relationships. Despite concerted efforts on names, tickets, and cabins, only title extraction significantly contributed to the models. Additionally, binning age and fare variables proved pivotal, not only enhancing model performance but also mitigating issues of overfitting.\n",
    "\n",
    "**Exploratory Data Analysis and Key Findings**  \n",
    "The exploratory data analysis (EDA) extended beyond surface-level examination, employing nested pivots and nuanced questioning to extract deeper insights. Beyond the well-established impact of gender on survival rates, the analysis revealed surprising correlations, such as the lack of correlation between age and survival—a phenomenon elucidated by gender-based disparities. Further revelations included the substantial influence of passenger class, ticket fares, and the emergence of titles as critical factors. Notably, the exploration uncovered intricate patterns related to age, gender, and survival, highlighting the complexity of the dataset.\n",
    "\n",
    "**Classification Models, Feature Selection, and Key Findings**  \n",
    "The classification model phase embraced a diverse set, including Random Forest, Logistic Regression, and XGBoost. Rigorous evaluation of feature importance and coefficients resulted in the selection of six key features: Pclass, Binned Fare, Binned Age, Family, Gender, and Titles. Feature selection not only streamlined model performance but also provided a nuanced understanding of the predictive factors. Beyond accuracy scores, the models were scrutinized for their ability to generalize, with Random Forest emerging as the most robust classifier. Further exploration revealed that features like 'Embarked,' 'Is Alone,' and 'SibSp' added minimal value, and their removal consistently improved model performance across various algorithms.\n",
    "\n",
    "**Challenges and Future Improvements**  \n",
    "Challenges encountered included intricate feature extraction, potential overfitting, and the critical task of feature selection. Future improvements may involve delving deeper into feature engineering, especially on surnames, ticket numbers, and cabins. Additionally, the exploration of more sophisticated models, potentially including neural networks or complex layered approaches, could further enhance predictive accuracy and robustness.  This notebook and study, is not aimed to maximize the Kaggle scores, therefore a thorough study is conducted as in daily life. However, if you want to maximize the scores, you can simply use this study, play with the train-test split ratio, spend much more time on hyperparamtre tuning, feature selection and try different models for prediction, each time you can face some small improvements. In case of use thisd study, dont forget to kindly make a reference.\n",
    "\n",
    "**Contact**  \n",
    "For questions, collaborations, or further discussions, feel free to reach out on [Linkedin](https://www.linkedin.com/in/fatih-calik-469961237/), [Github](https://github.com/fatih-ml) or [Kaggle](https://www.kaggle.com/fatihkgg)\n",
    "\n",
    "**Dataset**  \n",
    "Also, you can reach the famous Kaggle titanic competition and original dataset on [this link](https://www.kaggle.com/c/titanic)"
   ]
  },
  {
   "cell_type": "markdown",
   "id": "34f4932a-cd62-452b-b724-1f72fb042772",
   "metadata": {},
   "source": [
    "# 2. Initial Data Exploration"
   ]
  },
  {
   "cell_type": "markdown",
   "id": "dd202be3-95aa-4ebe-8cc5-5c6060700e28",
   "metadata": {},
   "source": [
    "## Importing the dependencies"
   ]
  },
  {
   "cell_type": "code",
   "execution_count": 1,
   "id": "4110091f-64ec-41d7-8790-3da0d158428c",
   "metadata": {
    "tags": []
   },
   "outputs": [],
   "source": [
    "import pandas as pd\n",
    "import numpy as np\n",
    "import scipy.stats as stats\n",
    "import matplotlib.pyplot as plt\n",
    "import seaborn as sns\n",
    "import re\n",
    "import math\n",
    "import pickle\n",
    "from datetime import datetime\n",
    "\n",
    "import warnings\n",
    "warnings.filterwarnings('ignore')\n",
    "np.set_printoptions(suppress=True)\n",
    "pd.set_option('display.max_rows', 200)\n",
    "pd.set_option('display.max_columns', 200)"
   ]
  },
  {
   "cell_type": "code",
   "execution_count": 2,
   "id": "7c19420c-a64a-4214-a1dd-e0eeeacaa4b4",
   "metadata": {
    "tags": []
   },
   "outputs": [],
   "source": [
    "from sklearn.preprocessing import LabelEncoder, OneHotEncoder\n",
    "from sklearn.model_selection import train_test_split, GridSearchCV, RandomizedSearchCV, cross_validate, cross_val_score\n",
    "from sklearn.pipeline import Pipeline\n",
    "from sklearn.neighbors import KNeighborsClassifier \n",
    "from sklearn.linear_model import LogisticRegression \n",
    "from sklearn.ensemble import GradientBoostingClassifier, RandomForestClassifier, AdaBoostClassifier, ExtraTreesClassifier \n",
    "from xgboost import XGBClassifier \n",
    "from lightgbm import LGBMClassifier\n",
    "from sklearn.tree import DecisionTreeClassifier, ExtraTreeClassifier\n",
    "from sklearn.svm import SVC\n",
    "from sklearn.preprocessing import StandardScaler\n",
    "from sklearn.metrics import accuracy_score, classification_report\n",
    "from sklearn.model_selection import learning_curve"
   ]
  },
  {
   "cell_type": "code",
   "execution_count": 3,
   "id": "c16f5b09-7c0e-45bf-96b6-c91be9eebea7",
   "metadata": {
    "tags": []
   },
   "outputs": [
    {
     "data": {
      "text/html": [
       "<div>\n",
       "<style scoped>\n",
       "    .dataframe tbody tr th:only-of-type {\n",
       "        vertical-align: middle;\n",
       "    }\n",
       "\n",
       "    .dataframe tbody tr th {\n",
       "        vertical-align: top;\n",
       "    }\n",
       "\n",
       "    .dataframe thead th {\n",
       "        text-align: right;\n",
       "    }\n",
       "</style>\n",
       "<table border=\"1\" class=\"dataframe\">\n",
       "  <thead>\n",
       "    <tr style=\"text-align: right;\">\n",
       "      <th></th>\n",
       "      <th>PassengerId</th>\n",
       "      <th>Survived</th>\n",
       "      <th>Pclass</th>\n",
       "      <th>Name</th>\n",
       "      <th>Sex</th>\n",
       "      <th>Age</th>\n",
       "      <th>SibSp</th>\n",
       "      <th>Parch</th>\n",
       "      <th>Ticket</th>\n",
       "      <th>Fare</th>\n",
       "      <th>Cabin</th>\n",
       "      <th>Embarked</th>\n",
       "    </tr>\n",
       "  </thead>\n",
       "  <tbody>\n",
       "    <tr>\n",
       "      <th>0</th>\n",
       "      <td>1</td>\n",
       "      <td>0</td>\n",
       "      <td>3</td>\n",
       "      <td>Braund, Mr. Owen Harris</td>\n",
       "      <td>male</td>\n",
       "      <td>22.0</td>\n",
       "      <td>1</td>\n",
       "      <td>0</td>\n",
       "      <td>A/5 21171</td>\n",
       "      <td>7.2500</td>\n",
       "      <td>NaN</td>\n",
       "      <td>S</td>\n",
       "    </tr>\n",
       "    <tr>\n",
       "      <th>1</th>\n",
       "      <td>2</td>\n",
       "      <td>1</td>\n",
       "      <td>1</td>\n",
       "      <td>Cumings, Mrs. John Bradley (Florence Briggs Th...</td>\n",
       "      <td>female</td>\n",
       "      <td>38.0</td>\n",
       "      <td>1</td>\n",
       "      <td>0</td>\n",
       "      <td>PC 17599</td>\n",
       "      <td>71.2833</td>\n",
       "      <td>C85</td>\n",
       "      <td>C</td>\n",
       "    </tr>\n",
       "    <tr>\n",
       "      <th>2</th>\n",
       "      <td>3</td>\n",
       "      <td>1</td>\n",
       "      <td>3</td>\n",
       "      <td>Heikkinen, Miss. Laina</td>\n",
       "      <td>female</td>\n",
       "      <td>26.0</td>\n",
       "      <td>0</td>\n",
       "      <td>0</td>\n",
       "      <td>STON/O2. 3101282</td>\n",
       "      <td>7.9250</td>\n",
       "      <td>NaN</td>\n",
       "      <td>S</td>\n",
       "    </tr>\n",
       "    <tr>\n",
       "      <th>3</th>\n",
       "      <td>4</td>\n",
       "      <td>1</td>\n",
       "      <td>1</td>\n",
       "      <td>Futrelle, Mrs. Jacques Heath (Lily May Peel)</td>\n",
       "      <td>female</td>\n",
       "      <td>35.0</td>\n",
       "      <td>1</td>\n",
       "      <td>0</td>\n",
       "      <td>113803</td>\n",
       "      <td>53.1000</td>\n",
       "      <td>C123</td>\n",
       "      <td>S</td>\n",
       "    </tr>\n",
       "    <tr>\n",
       "      <th>4</th>\n",
       "      <td>5</td>\n",
       "      <td>0</td>\n",
       "      <td>3</td>\n",
       "      <td>Allen, Mr. William Henry</td>\n",
       "      <td>male</td>\n",
       "      <td>35.0</td>\n",
       "      <td>0</td>\n",
       "      <td>0</td>\n",
       "      <td>373450</td>\n",
       "      <td>8.0500</td>\n",
       "      <td>NaN</td>\n",
       "      <td>S</td>\n",
       "    </tr>\n",
       "  </tbody>\n",
       "</table>\n",
       "</div>"
      ],
      "text/plain": [
       "   PassengerId  Survived  Pclass  \\\n",
       "0            1         0       3   \n",
       "1            2         1       1   \n",
       "2            3         1       3   \n",
       "3            4         1       1   \n",
       "4            5         0       3   \n",
       "\n",
       "                                                Name     Sex   Age  SibSp  \\\n",
       "0                            Braund, Mr. Owen Harris    male  22.0      1   \n",
       "1  Cumings, Mrs. John Bradley (Florence Briggs Th...  female  38.0      1   \n",
       "2                             Heikkinen, Miss. Laina  female  26.0      0   \n",
       "3       Futrelle, Mrs. Jacques Heath (Lily May Peel)  female  35.0      1   \n",
       "4                           Allen, Mr. William Henry    male  35.0      0   \n",
       "\n",
       "   Parch            Ticket     Fare Cabin Embarked  \n",
       "0      0         A/5 21171   7.2500   NaN        S  \n",
       "1      0          PC 17599  71.2833   C85        C  \n",
       "2      0  STON/O2. 3101282   7.9250   NaN        S  \n",
       "3      0            113803  53.1000  C123        S  \n",
       "4      0            373450   8.0500   NaN        S  "
      ]
     },
     "execution_count": 3,
     "metadata": {},
     "output_type": "execute_result"
    }
   ],
   "source": [
    "df_train2 = pd.read_csv('data/train.csv')\n",
    "df_test2 = pd.read_csv('data/test.csv')\n",
    "df_train2.head()"
   ]
  },
  {
   "cell_type": "markdown",
   "id": "1c5b30c8-e196-462e-8337-e0bff3c6548d",
   "metadata": {},
   "source": [
    "## Prepare Datasets & First Observations"
   ]
  },
  {
   "cell_type": "code",
   "execution_count": 4,
   "id": "2902e4dd-50fd-41f6-85c8-5c7f5035e3b9",
   "metadata": {
    "tags": []
   },
   "outputs": [
    {
     "name": "stdout",
     "output_type": "stream",
     "text": [
      "(891, 12)\n",
      "(418, 11)\n"
     ]
    }
   ],
   "source": [
    "print(df_train2.shape)\n",
    "print(df_test2.shape)"
   ]
  },
  {
   "cell_type": "code",
   "execution_count": 5,
   "id": "b410fbad-5c94-4afa-9d23-7dbf411ca9c1",
   "metadata": {
    "tags": []
   },
   "outputs": [],
   "source": [
    "df = pd.concat([df_train2, df_test2], axis=0)"
   ]
  },
  {
   "cell_type": "code",
   "execution_count": 6,
   "id": "34e3a5e0-f1e1-4097-a4af-5be131eccefe",
   "metadata": {
    "tags": []
   },
   "outputs": [
    {
     "name": "stdout",
     "output_type": "stream",
     "text": [
      "<class 'pandas.core.frame.DataFrame'>\n",
      "Int64Index: 1309 entries, 0 to 417\n",
      "Data columns (total 12 columns):\n",
      " #   Column       Non-Null Count  Dtype  \n",
      "---  ------       --------------  -----  \n",
      " 0   PassengerId  1309 non-null   int64  \n",
      " 1   Survived     891 non-null    float64\n",
      " 2   Pclass       1309 non-null   int64  \n",
      " 3   Name         1309 non-null   object \n",
      " 4   Sex          1309 non-null   object \n",
      " 5   Age          1046 non-null   float64\n",
      " 6   SibSp        1309 non-null   int64  \n",
      " 7   Parch        1309 non-null   int64  \n",
      " 8   Ticket       1309 non-null   object \n",
      " 9   Fare         1308 non-null   float64\n",
      " 10  Cabin        295 non-null    object \n",
      " 11  Embarked     1307 non-null   object \n",
      "dtypes: float64(3), int64(4), object(5)\n",
      "memory usage: 132.9+ KB\n"
     ]
    }
   ],
   "source": [
    "df.info()"
   ]
  },
  {
   "cell_type": "code",
   "execution_count": 7,
   "id": "4accb448-63fa-4521-9f49-3ea5fc8d5d4d",
   "metadata": {
    "tags": []
   },
   "outputs": [],
   "source": [
    "categorical_features = df.select_dtypes(include=['object', 'category']).columns\n",
    "numerical_features = df.select_dtypes(include='number').columns"
   ]
  },
  {
   "cell_type": "code",
   "execution_count": 8,
   "id": "b7ff0223-1a90-470c-94ec-ca97d620799a",
   "metadata": {},
   "outputs": [
    {
     "data": {
      "text/html": [
       "<div>\n",
       "<style scoped>\n",
       "    .dataframe tbody tr th:only-of-type {\n",
       "        vertical-align: middle;\n",
       "    }\n",
       "\n",
       "    .dataframe tbody tr th {\n",
       "        vertical-align: top;\n",
       "    }\n",
       "\n",
       "    .dataframe thead th {\n",
       "        text-align: right;\n",
       "    }\n",
       "</style>\n",
       "<table border=\"1\" class=\"dataframe\">\n",
       "  <thead>\n",
       "    <tr style=\"text-align: right;\">\n",
       "      <th></th>\n",
       "      <th>count</th>\n",
       "      <th>unique</th>\n",
       "      <th>top</th>\n",
       "      <th>freq</th>\n",
       "    </tr>\n",
       "  </thead>\n",
       "  <tbody>\n",
       "    <tr>\n",
       "      <th>Name</th>\n",
       "      <td>1309</td>\n",
       "      <td>1307</td>\n",
       "      <td>Connolly, Miss. Kate</td>\n",
       "      <td>2</td>\n",
       "    </tr>\n",
       "    <tr>\n",
       "      <th>Sex</th>\n",
       "      <td>1309</td>\n",
       "      <td>2</td>\n",
       "      <td>male</td>\n",
       "      <td>843</td>\n",
       "    </tr>\n",
       "    <tr>\n",
       "      <th>Ticket</th>\n",
       "      <td>1309</td>\n",
       "      <td>929</td>\n",
       "      <td>CA. 2343</td>\n",
       "      <td>11</td>\n",
       "    </tr>\n",
       "    <tr>\n",
       "      <th>Cabin</th>\n",
       "      <td>295</td>\n",
       "      <td>186</td>\n",
       "      <td>C23 C25 C27</td>\n",
       "      <td>6</td>\n",
       "    </tr>\n",
       "    <tr>\n",
       "      <th>Embarked</th>\n",
       "      <td>1307</td>\n",
       "      <td>3</td>\n",
       "      <td>S</td>\n",
       "      <td>914</td>\n",
       "    </tr>\n",
       "  </tbody>\n",
       "</table>\n",
       "</div>"
      ],
      "text/plain": [
       "         count unique                   top freq\n",
       "Name      1309   1307  Connolly, Miss. Kate    2\n",
       "Sex       1309      2                  male  843\n",
       "Ticket    1309    929              CA. 2343   11\n",
       "Cabin      295    186           C23 C25 C27    6\n",
       "Embarked  1307      3                     S  914"
      ]
     },
     "execution_count": 8,
     "metadata": {},
     "output_type": "execute_result"
    }
   ],
   "source": [
    "df[categorical_features].describe().T"
   ]
  },
  {
   "cell_type": "code",
   "execution_count": 9,
   "id": "b0217b7c-a0e7-405a-a8e3-b4e9a34b7288",
   "metadata": {
    "tags": []
   },
   "outputs": [
    {
     "data": {
      "text/html": [
       "<div>\n",
       "<style scoped>\n",
       "    .dataframe tbody tr th:only-of-type {\n",
       "        vertical-align: middle;\n",
       "    }\n",
       "\n",
       "    .dataframe tbody tr th {\n",
       "        vertical-align: top;\n",
       "    }\n",
       "\n",
       "    .dataframe thead th {\n",
       "        text-align: right;\n",
       "    }\n",
       "</style>\n",
       "<table border=\"1\" class=\"dataframe\">\n",
       "  <thead>\n",
       "    <tr style=\"text-align: right;\">\n",
       "      <th></th>\n",
       "      <th>count</th>\n",
       "      <th>mean</th>\n",
       "      <th>std</th>\n",
       "      <th>min</th>\n",
       "      <th>25%</th>\n",
       "      <th>50%</th>\n",
       "      <th>75%</th>\n",
       "      <th>max</th>\n",
       "    </tr>\n",
       "  </thead>\n",
       "  <tbody>\n",
       "    <tr>\n",
       "      <th>PassengerId</th>\n",
       "      <td>1309.0</td>\n",
       "      <td>655.000000</td>\n",
       "      <td>378.020061</td>\n",
       "      <td>1.00</td>\n",
       "      <td>328.0000</td>\n",
       "      <td>655.0000</td>\n",
       "      <td>982.000</td>\n",
       "      <td>1309.0000</td>\n",
       "    </tr>\n",
       "    <tr>\n",
       "      <th>Survived</th>\n",
       "      <td>891.0</td>\n",
       "      <td>0.383838</td>\n",
       "      <td>0.486592</td>\n",
       "      <td>0.00</td>\n",
       "      <td>0.0000</td>\n",
       "      <td>0.0000</td>\n",
       "      <td>1.000</td>\n",
       "      <td>1.0000</td>\n",
       "    </tr>\n",
       "    <tr>\n",
       "      <th>Pclass</th>\n",
       "      <td>1309.0</td>\n",
       "      <td>2.294882</td>\n",
       "      <td>0.837836</td>\n",
       "      <td>1.00</td>\n",
       "      <td>2.0000</td>\n",
       "      <td>3.0000</td>\n",
       "      <td>3.000</td>\n",
       "      <td>3.0000</td>\n",
       "    </tr>\n",
       "    <tr>\n",
       "      <th>Age</th>\n",
       "      <td>1046.0</td>\n",
       "      <td>29.881138</td>\n",
       "      <td>14.413493</td>\n",
       "      <td>0.17</td>\n",
       "      <td>21.0000</td>\n",
       "      <td>28.0000</td>\n",
       "      <td>39.000</td>\n",
       "      <td>80.0000</td>\n",
       "    </tr>\n",
       "    <tr>\n",
       "      <th>SibSp</th>\n",
       "      <td>1309.0</td>\n",
       "      <td>0.498854</td>\n",
       "      <td>1.041658</td>\n",
       "      <td>0.00</td>\n",
       "      <td>0.0000</td>\n",
       "      <td>0.0000</td>\n",
       "      <td>1.000</td>\n",
       "      <td>8.0000</td>\n",
       "    </tr>\n",
       "    <tr>\n",
       "      <th>Parch</th>\n",
       "      <td>1309.0</td>\n",
       "      <td>0.385027</td>\n",
       "      <td>0.865560</td>\n",
       "      <td>0.00</td>\n",
       "      <td>0.0000</td>\n",
       "      <td>0.0000</td>\n",
       "      <td>0.000</td>\n",
       "      <td>9.0000</td>\n",
       "    </tr>\n",
       "    <tr>\n",
       "      <th>Fare</th>\n",
       "      <td>1308.0</td>\n",
       "      <td>33.295479</td>\n",
       "      <td>51.758668</td>\n",
       "      <td>0.00</td>\n",
       "      <td>7.8958</td>\n",
       "      <td>14.4542</td>\n",
       "      <td>31.275</td>\n",
       "      <td>512.3292</td>\n",
       "    </tr>\n",
       "  </tbody>\n",
       "</table>\n",
       "</div>"
      ],
      "text/plain": [
       "              count        mean         std   min       25%       50%  \\\n",
       "PassengerId  1309.0  655.000000  378.020061  1.00  328.0000  655.0000   \n",
       "Survived      891.0    0.383838    0.486592  0.00    0.0000    0.0000   \n",
       "Pclass       1309.0    2.294882    0.837836  1.00    2.0000    3.0000   \n",
       "Age          1046.0   29.881138   14.413493  0.17   21.0000   28.0000   \n",
       "SibSp        1309.0    0.498854    1.041658  0.00    0.0000    0.0000   \n",
       "Parch        1309.0    0.385027    0.865560  0.00    0.0000    0.0000   \n",
       "Fare         1308.0   33.295479   51.758668  0.00    7.8958   14.4542   \n",
       "\n",
       "                 75%        max  \n",
       "PassengerId  982.000  1309.0000  \n",
       "Survived       1.000     1.0000  \n",
       "Pclass         3.000     3.0000  \n",
       "Age           39.000    80.0000  \n",
       "SibSp          1.000     8.0000  \n",
       "Parch          0.000     9.0000  \n",
       "Fare          31.275   512.3292  "
      ]
     },
     "execution_count": 9,
     "metadata": {},
     "output_type": "execute_result"
    }
   ],
   "source": [
    "df[numerical_features].describe().T"
   ]
  },
  {
   "cell_type": "markdown",
   "id": "4767ea7a-89e5-40b8-be85-4efcacf7318d",
   "metadata": {},
   "source": [
    "## Missing Values"
   ]
  },
  {
   "cell_type": "code",
   "execution_count": 10,
   "id": "6e5e8c8f-b244-4ede-99f4-68fa3cbb18c3",
   "metadata": {
    "tags": []
   },
   "outputs": [
    {
     "data": {
      "text/plain": [
       "PassengerId       0\n",
       "Survived        418\n",
       "Pclass            0\n",
       "Name              0\n",
       "Sex               0\n",
       "Age             263\n",
       "SibSp             0\n",
       "Parch             0\n",
       "Ticket            0\n",
       "Fare              1\n",
       "Cabin          1014\n",
       "Embarked          2\n",
       "dtype: int64"
      ]
     },
     "execution_count": 10,
     "metadata": {},
     "output_type": "execute_result"
    }
   ],
   "source": [
    "df.isnull().sum()"
   ]
  },
  {
   "cell_type": "markdown",
   "id": "c1655311-20e3-47e4-b3b5-fe07d3c9cf94",
   "metadata": {},
   "source": [
    "# 3. Data Preprocessing"
   ]
  },
  {
   "cell_type": "markdown",
   "id": "76776a97-0f87-4627-b921-22a5eaa64eac",
   "metadata": {},
   "source": [
    "**I will create some new features, some of them for better visualization or exploratory data analysis, some of them is for better models, dont worry if i dont drop them initially, before models, i will prepare dataset for the model**"
   ]
  },
  {
   "cell_type": "code",
   "execution_count": 11,
   "id": "88ff1143-c4a3-400f-964c-eae1150b5fb5",
   "metadata": {
    "tags": []
   },
   "outputs": [],
   "source": [
    "# we can easily decide to drop PassengerId, since it doesnt add value to our model\n",
    "# Also ticket number also have 929 unique values, it will be very hard to gain inferences, though it can slightly represents family relations of duplicate tickets\n",
    "df.drop(columns=['PassengerId', 'Ticket'], inplace=True)"
   ]
  },
  {
   "cell_type": "code",
   "execution_count": 12,
   "id": "439cc056-618f-44a5-a7af-80c6ef3fd420",
   "metadata": {
    "tags": []
   },
   "outputs": [],
   "source": [
    "# fill Embarked with the most requent observation\n",
    "df['Embarked'].fillna(df['Embarked'].mode()[0], inplace=True)"
   ]
  },
  {
   "cell_type": "code",
   "execution_count": 13,
   "id": "6c219ed1-9e2a-4ce3-afff-c6f43a79652c",
   "metadata": {
    "tags": []
   },
   "outputs": [
    {
     "data": {
      "text/plain": [
       "Pclass\n",
       "1    60.0000\n",
       "2    15.0458\n",
       "3     8.0500\n",
       "Name: Fare, dtype: float64"
      ]
     },
     "execution_count": 13,
     "metadata": {},
     "output_type": "execute_result"
    }
   ],
   "source": [
    "# fill Fare with Class median fare\n",
    "df.groupby('Pclass')['Fare'].median()"
   ]
  },
  {
   "cell_type": "code",
   "execution_count": 14,
   "id": "9cfb549f-3997-455f-85d9-ffc171a25cda",
   "metadata": {
    "tags": []
   },
   "outputs": [],
   "source": [
    "df['Fare'].fillna(8.0, inplace=True)"
   ]
  },
  {
   "cell_type": "markdown",
   "id": "be7cd33d-8ccb-4709-9a5d-5bf63368a4e0",
   "metadata": {},
   "source": [
    "## Names"
   ]
  },
  {
   "cell_type": "markdown",
   "id": "8a9d1f2c-b33a-474a-a9cb-10d56733d79d",
   "metadata": {},
   "source": [
    "__Name feature is of course too varying. We can extract the titles from here, we will use it to fill nan values in age variable, also some Special Titles may have high survival rates. Also, surnames can be extracted here to build a connection with other family members__  \n",
    "\n",
    "__I run the models only with my new 'title column' and the results was shockingly good an average of 0.79 Accuracy without hyperparamtre tuning, While the age alone is around 0.63, fares 0.68__"
   ]
  },
  {
   "cell_type": "code",
   "execution_count": 15,
   "id": "36a6063a-5be9-4287-b92a-032fc4c51d15",
   "metadata": {
    "tags": []
   },
   "outputs": [],
   "source": [
    "title_mapping = {\n",
    "    'Mr.': 'Mr.',\n",
    "    'Mrs.': 'Mrs.',\n",
    "    'Miss.': 'Miss',\n",
    "    'Ms.': 'Miss',\n",
    "    'Master.': 'Master.',\n",
    "    'Mlle.': 'Miss',\n",
    "    'Mme.': 'Miss',\n",
    "    'Dr.': 'Special_title',\n",
    "    'Sir': 'Special_title',\n",
    "    'Col.': 'Special_title',\n",
    "    'Capt.': 'Special_title',\n",
    "    'Don.': 'Special_title',\n",
    "    'Major.': 'Special_title',\n",
    "    'Jonkheer.': 'Special_title',\n",
    "    'Rev.': 'Special_title',\n",
    "    'Countess.': 'Special_title',\n",
    "    'Lady.': 'Special_title',\n",
    "}"
   ]
  },
  {
   "cell_type": "code",
   "execution_count": 16,
   "id": "2ca098bd-b770-4881-aa95-2d9a047bbb97",
   "metadata": {
    "tags": []
   },
   "outputs": [
    {
     "data": {
      "text/plain": [
       "Mr.              757\n",
       "Miss             265\n",
       "Mrs.             197\n",
       "Master.           61\n",
       "Special_title     28\n",
       "Name: Title, dtype: int64"
      ]
     },
     "execution_count": 16,
     "metadata": {},
     "output_type": "execute_result"
    }
   ],
   "source": [
    "# Extract title from name\n",
    "df['Title'] = df['Name'].apply(lambda name: next((title_mapping[title] for title in title_mapping if title in name), None))\n",
    "\n",
    "# Drop Name\n",
    "df.drop(columns= ['Name'], inplace=True)\n",
    "\n",
    "# Print the value counts\n",
    "df['Title'].value_counts()"
   ]
  },
  {
   "cell_type": "markdown",
   "id": "fa5f840e-6eb0-45d2-984c-08769f5ed346",
   "metadata": {},
   "source": [
    "## Age"
   ]
  },
  {
   "cell_type": "code",
   "execution_count": 17,
   "id": "b3b93261-c40f-4d3f-b36d-421e603fcf8f",
   "metadata": {},
   "outputs": [],
   "source": [
    "# Fill Nan valuess according to their Titles, which also represents their age group in a degree\n",
    "median_age_titles = df.groupby('Title')['Age'].transform('median').round(0)\n",
    "\n",
    "# Fill missing Age values with the calculated medians\n",
    "df['Age'] = df['Age'].fillna(median_age_titles)"
   ]
  },
  {
   "cell_type": "markdown",
   "id": "e352d83d-4c9a-495e-bbda-eaeb55faf280",
   "metadata": {},
   "source": [
    "__I want to apply discretization to age feature. Lets try to decide by inspiring from kdeplots and general age categories from domain__"
   ]
  },
  {
   "cell_type": "code",
   "execution_count": 18,
   "id": "5cd1f86f-ea08-42ef-9eb5-4a3b4405847a",
   "metadata": {
    "tags": []
   },
   "outputs": [
    {
     "data": {
      "image/png": "[encoded data removed]",
      "text/plain": [
       "<Figure size 1500x400 with 1 Axes>"
      ]
     },
     "metadata": {},
     "output_type": "display_data"
    }
   ],
   "source": [
    "fig = plt.figure(figsize=(15,4))\n",
    "sns.kdeplot(data=df_train2, x='Age', hue='Survived', common_norm=True, fill=True )\n",
    "plt.xlim(0, 80)\n",
    "plt.grid()\n",
    "plt.show()"
   ]
  },
  {
   "cell_type": "code",
   "execution_count": 19,
   "id": "0a205f5b-1cb5-410c-b787-4e2f10f4f9aa",
   "metadata": {
    "tags": []
   },
   "outputs": [],
   "source": [
    "age_bins = [0, 12, 20, 30, 40, 50, 100]  \n",
    "age_labels = ['Child', 'Teen', 'Young_Adult', 'Middle_Age', 'Senior_Adult', 'Old']\n",
    "\n",
    "# Create the 'Age_Category' column using pd.cut\n",
    "df['Age_Category'] = pd.cut(df['Age'], bins=age_bins, labels=age_labels, right=False)\n",
    "\n",
    "# Drop Age column\n",
    "df.drop(columns=['Age'], inplace=True)"
   ]
  },
  {
   "cell_type": "code",
   "execution_count": 20,
   "id": "04b21663-0527-4f56-a00f-f3b18a29fae0",
   "metadata": {
    "tags": []
   },
   "outputs": [
    {
     "data": {
      "text/plain": [
       "2    571\n",
       "3    259\n",
       "4    136\n",
       "1    134\n",
       "5    110\n",
       "0     99\n",
       "Name: Age_Cat_Label, dtype: int64"
      ]
     },
     "execution_count": 20,
     "metadata": {},
     "output_type": "execute_result"
    }
   ],
   "source": [
    "# Before data splitting test-train it is good to have numeric age as well\n",
    "age_cat_order = ['Child', 'Teen', 'Young_Adult', 'Middle_Age', 'Senior_Adult', 'Old']\n",
    "age_label_encoder = LabelEncoder()\n",
    "age_label_encoder.classes_ = age_cat_order\n",
    "df['Age_Cat_Label'] = age_label_encoder.transform(df['Age_Category'])\n",
    "df['Age_Cat_Label'].value_counts()"
   ]
  },
  {
   "cell_type": "markdown",
   "id": "a7b0a0c8-ae30-4b6c-b0c4-7fc9e162915f",
   "metadata": {},
   "source": [
    "**I runned the model with only age feature alone, binned and label encoded with bins, the performance is better in almost all models**"
   ]
  },
  {
   "cell_type": "markdown",
   "id": "48f56dd5-7c07-4145-8e48-a10e36be04ac",
   "metadata": {},
   "source": [
    "## Cabin No"
   ]
  },
  {
   "cell_type": "markdown",
   "id": "c407531e-e61e-41e2-bed5-5c21fc48ed56",
   "metadata": {},
   "source": [
    "<p align=\"center\">\n",
    "  <img src=\"data/titanic_plan.png\" width=\"300\" height=\"300\">\n",
    "</p>"
   ]
  },
  {
   "cell_type": "markdown",
   "id": "7ef73f85-5f23-4796-ab3b-bb447b969492",
   "metadata": {},
   "source": [
    "We will try to extract first letters from Cabin No as Decks:\n",
    "[click for detailed plan](data/titanic_plan.png)   ( [image source](https://www.scmp.com/infographics/article/1633333/infographic-titanic) )"
   ]
  },
  {
   "cell_type": "code",
   "execution_count": 21,
   "id": "af7deb59-1112-4f7f-ab74-38d2016dfcda",
   "metadata": {
    "tags": []
   },
   "outputs": [],
   "source": [
    "df['Cabin'].fillna('No_Cabin', inplace=True)"
   ]
  },
  {
   "cell_type": "code",
   "execution_count": 22,
   "id": "bb51d0ff-9636-4970-95b2-b95a8536067c",
   "metadata": {
    "tags": []
   },
   "outputs": [],
   "source": [
    "# Fill missing values, by No_cabin value\n",
    "def extract_cabins(cabin):\n",
    "    if cabin == 'No_Cabin':\n",
    "        deck = 'No_Cabin'\n",
    "    else:    \n",
    "        deck = cabin[0]\n",
    "    return deck\n",
    "\n",
    "df['Deck'] = df['Cabin'].apply(extract_cabins)"
   ]
  },
  {
   "cell_type": "code",
   "execution_count": 23,
   "id": "4b707262-424b-4256-a855-eec505260670",
   "metadata": {
    "tags": []
   },
   "outputs": [
    {
     "data": {
      "text/plain": [
       "No_Cabin    1014\n",
       "C             94\n",
       "B             65\n",
       "D             46\n",
       "E             41\n",
       "A             22\n",
       "F             21\n",
       "G              5\n",
       "T              1\n",
       "Name: Deck, dtype: int64"
      ]
     },
     "execution_count": 23,
     "metadata": {},
     "output_type": "execute_result"
    }
   ],
   "source": [
    "df['Deck'].value_counts()"
   ]
  },
  {
   "cell_type": "code",
   "execution_count": 24,
   "id": "89ab75af-7bb4-427a-8b2c-a2a7ec3385fa",
   "metadata": {
    "tags": []
   },
   "outputs": [
    {
     "data": {
      "text/html": [
       "<div>\n",
       "<style scoped>\n",
       "    .dataframe tbody tr th:only-of-type {\n",
       "        vertical-align: middle;\n",
       "    }\n",
       "\n",
       "    .dataframe tbody tr th {\n",
       "        vertical-align: top;\n",
       "    }\n",
       "\n",
       "    .dataframe thead th {\n",
       "        text-align: right;\n",
       "    }\n",
       "</style>\n",
       "<table border=\"1\" class=\"dataframe\">\n",
       "  <thead>\n",
       "    <tr style=\"text-align: right;\">\n",
       "      <th></th>\n",
       "      <th></th>\n",
       "      <th>Fare</th>\n",
       "    </tr>\n",
       "    <tr>\n",
       "      <th>Pclass</th>\n",
       "      <th>Deck</th>\n",
       "      <th></th>\n",
       "    </tr>\n",
       "  </thead>\n",
       "  <tbody>\n",
       "    <tr>\n",
       "      <th rowspan=\"7\" valign=\"top\">1</th>\n",
       "      <th>A</th>\n",
       "      <td>22</td>\n",
       "    </tr>\n",
       "    <tr>\n",
       "      <th>B</th>\n",
       "      <td>65</td>\n",
       "    </tr>\n",
       "    <tr>\n",
       "      <th>C</th>\n",
       "      <td>94</td>\n",
       "    </tr>\n",
       "    <tr>\n",
       "      <th>D</th>\n",
       "      <td>40</td>\n",
       "    </tr>\n",
       "    <tr>\n",
       "      <th>E</th>\n",
       "      <td>34</td>\n",
       "    </tr>\n",
       "    <tr>\n",
       "      <th>No_Cabin</th>\n",
       "      <td>67</td>\n",
       "    </tr>\n",
       "    <tr>\n",
       "      <th>T</th>\n",
       "      <td>1</td>\n",
       "    </tr>\n",
       "    <tr>\n",
       "      <th rowspan=\"4\" valign=\"top\">2</th>\n",
       "      <th>D</th>\n",
       "      <td>6</td>\n",
       "    </tr>\n",
       "    <tr>\n",
       "      <th>E</th>\n",
       "      <td>4</td>\n",
       "    </tr>\n",
       "    <tr>\n",
       "      <th>F</th>\n",
       "      <td>13</td>\n",
       "    </tr>\n",
       "    <tr>\n",
       "      <th>No_Cabin</th>\n",
       "      <td>254</td>\n",
       "    </tr>\n",
       "    <tr>\n",
       "      <th rowspan=\"4\" valign=\"top\">3</th>\n",
       "      <th>E</th>\n",
       "      <td>3</td>\n",
       "    </tr>\n",
       "    <tr>\n",
       "      <th>F</th>\n",
       "      <td>8</td>\n",
       "    </tr>\n",
       "    <tr>\n",
       "      <th>G</th>\n",
       "      <td>5</td>\n",
       "    </tr>\n",
       "    <tr>\n",
       "      <th>No_Cabin</th>\n",
       "      <td>693</td>\n",
       "    </tr>\n",
       "  </tbody>\n",
       "</table>\n",
       "</div>"
      ],
      "text/plain": [
       "                 Fare\n",
       "Pclass Deck          \n",
       "1      A           22\n",
       "       B           65\n",
       "       C           94\n",
       "       D           40\n",
       "       E           34\n",
       "       No_Cabin    67\n",
       "       T            1\n",
       "2      D            6\n",
       "       E            4\n",
       "       F           13\n",
       "       No_Cabin   254\n",
       "3      E            3\n",
       "       F            8\n",
       "       G            5\n",
       "       No_Cabin   693"
      ]
     },
     "execution_count": 24,
     "metadata": {},
     "output_type": "execute_result"
    }
   ],
   "source": [
    "qty_deck_class = pd.DataFrame(df.groupby(['Pclass', 'Deck'])['Fare'].count())\n",
    "qty_deck_class"
   ]
  },
  {
   "cell_type": "markdown",
   "id": "6afe9f0f-db81-4e4c-8fd5-364a1ef6f91c",
   "metadata": {},
   "source": [
    "**It will be very misleading to continue those no cabin values according to other values such as Pclass and Fare**\n",
    "**There is a very big number to be filled, altough we have the plan, it is not giving a full picture but just an estimation**\n",
    "**Moreover it will be turning into a Pclass, so better to remove now**"
   ]
  },
  {
   "cell_type": "code",
   "execution_count": 25,
   "id": "b729557f-bc20-4da9-a045-c4fe6709f2df",
   "metadata": {},
   "outputs": [],
   "source": [
    "df.drop(columns=['Cabin', 'Deck'], inplace=True)"
   ]
  },
  {
   "cell_type": "markdown",
   "id": "d096314e-27bc-43d1-a08c-3b2a7117a7a7",
   "metadata": {
    "tags": []
   },
   "source": [
    "## Family"
   ]
  },
  {
   "cell_type": "markdown",
   "id": "6f9c5c02-44bd-4f89-9b66-8abfab530d09",
   "metadata": {},
   "source": [
    "**I will create two new columns:**  \n",
    "- Sibsb: number of siblings or spouse traveling with   \n",
    "- Parch: number of parents or childs traveling with  \n",
    "- Family: number of family members travelling with\n",
    "- Is_Alone: whether passenger is travelling alone or not"
   ]
  },
  {
   "cell_type": "code",
   "execution_count": 26,
   "id": "d4881417-a8cb-49d8-b328-8a8ac1350128",
   "metadata": {
    "tags": []
   },
   "outputs": [],
   "source": [
    "df['Family'] = df['Parch'] + df['SibSp'] + 1"
   ]
  },
  {
   "cell_type": "code",
   "execution_count": 27,
   "id": "d397475f-95e6-4490-8159-4e047c3234a8",
   "metadata": {
    "tags": []
   },
   "outputs": [],
   "source": [
    "df['Is_Alone'] = (df['Family'] == 1).astype(int)"
   ]
  },
  {
   "cell_type": "markdown",
   "id": "d85c7231-6f00-48a9-8142-19b302ce2e77",
   "metadata": {},
   "source": [
    "## Check for Outliers"
   ]
  },
  {
   "cell_type": "code",
   "execution_count": 28,
   "id": "43d25bdc-4713-4abf-9d55-581d6dc2f592",
   "metadata": {
    "tags": []
   },
   "outputs": [
    {
     "data": {
      "text/html": [
       "<div>\n",
       "<style scoped>\n",
       "    .dataframe tbody tr th:only-of-type {\n",
       "        vertical-align: middle;\n",
       "    }\n",
       "\n",
       "    .dataframe tbody tr th {\n",
       "        vertical-align: top;\n",
       "    }\n",
       "\n",
       "    .dataframe thead th {\n",
       "        text-align: right;\n",
       "    }\n",
       "</style>\n",
       "<table border=\"1\" class=\"dataframe\">\n",
       "  <thead>\n",
       "    <tr style=\"text-align: right;\">\n",
       "      <th></th>\n",
       "      <th>Survived</th>\n",
       "      <th>Pclass</th>\n",
       "      <th>Sex</th>\n",
       "      <th>SibSp</th>\n",
       "      <th>Parch</th>\n",
       "      <th>Fare</th>\n",
       "      <th>Embarked</th>\n",
       "      <th>Title</th>\n",
       "      <th>Age_Category</th>\n",
       "      <th>Age_Cat_Label</th>\n",
       "      <th>Family</th>\n",
       "      <th>Is_Alone</th>\n",
       "    </tr>\n",
       "  </thead>\n",
       "  <tbody>\n",
       "    <tr>\n",
       "      <th>603</th>\n",
       "      <td>0.0</td>\n",
       "      <td>3</td>\n",
       "      <td>male</td>\n",
       "      <td>0</td>\n",
       "      <td>0</td>\n",
       "      <td>8.0500</td>\n",
       "      <td>S</td>\n",
       "      <td>Mr.</td>\n",
       "      <td>Senior_Adult</td>\n",
       "      <td>4</td>\n",
       "      <td>1</td>\n",
       "      <td>1</td>\n",
       "    </tr>\n",
       "    <tr>\n",
       "      <th>678</th>\n",
       "      <td>0.0</td>\n",
       "      <td>3</td>\n",
       "      <td>female</td>\n",
       "      <td>1</td>\n",
       "      <td>6</td>\n",
       "      <td>46.9000</td>\n",
       "      <td>S</td>\n",
       "      <td>Mrs.</td>\n",
       "      <td>Senior_Adult</td>\n",
       "      <td>4</td>\n",
       "      <td>8</td>\n",
       "      <td>0</td>\n",
       "    </tr>\n",
       "    <tr>\n",
       "      <th>233</th>\n",
       "      <td>1.0</td>\n",
       "      <td>3</td>\n",
       "      <td>female</td>\n",
       "      <td>4</td>\n",
       "      <td>2</td>\n",
       "      <td>31.3875</td>\n",
       "      <td>S</td>\n",
       "      <td>Miss</td>\n",
       "      <td>Child</td>\n",
       "      <td>0</td>\n",
       "      <td>7</td>\n",
       "      <td>0</td>\n",
       "    </tr>\n",
       "  </tbody>\n",
       "</table>\n",
       "</div>"
      ],
      "text/plain": [
       "     Survived  Pclass     Sex  SibSp  Parch     Fare Embarked Title  \\\n",
       "603       0.0       3    male      0      0   8.0500        S   Mr.   \n",
       "678       0.0       3  female      1      6  46.9000        S  Mrs.   \n",
       "233       1.0       3  female      4      2  31.3875        S  Miss   \n",
       "\n",
       "     Age_Category  Age_Cat_Label  Family  Is_Alone  \n",
       "603  Senior_Adult              4       1         1  \n",
       "678  Senior_Adult              4       8         0  \n",
       "233         Child              0       7         0  "
      ]
     },
     "execution_count": 28,
     "metadata": {},
     "output_type": "execute_result"
    }
   ],
   "source": [
    "df.sample(3)"
   ]
  },
  {
   "cell_type": "code",
   "execution_count": 29,
   "id": "789fee41-1362-471d-88f4-9e86231fef70",
   "metadata": {
    "tags": []
   },
   "outputs": [
    {
     "data": {
      "text/plain": [
       "1     790\n",
       "2     235\n",
       "3     159\n",
       "4      43\n",
       "6      25\n",
       "5      22\n",
       "7      16\n",
       "11     11\n",
       "8       8\n",
       "Name: Family, dtype: int64"
      ]
     },
     "execution_count": 29,
     "metadata": {},
     "output_type": "execute_result"
    }
   ],
   "source": [
    "# there is no outliers issue with family\n",
    "df['Family'].value_counts()"
   ]
  },
  {
   "cell_type": "markdown",
   "id": "f7073ab2-8138-4b60-b937-9154e38dd95b",
   "metadata": {},
   "source": [
    "### Fare"
   ]
  },
  {
   "cell_type": "code",
   "execution_count": 30,
   "id": "06997fd7-1bef-47fc-991f-14464f55777f",
   "metadata": {
    "tags": []
   },
   "outputs": [
    {
     "data": {
      "image/png": "[encoded data removed]",
      "text/plain": [
       "<Figure size 640x480 with 1 Axes>"
      ]
     },
     "metadata": {},
     "output_type": "display_data"
    }
   ],
   "source": [
    "# Lets check Fare, it seems like we have a problem with outliers\n",
    "sns.boxplot(df['Fare'], whis=3);"
   ]
  },
  {
   "cell_type": "code",
   "execution_count": 31,
   "id": "92c0f064-2c46-4e9a-9ff8-bb3e9617215c",
   "metadata": {
    "tags": []
   },
   "outputs": [
    {
     "data": {
      "text/html": [
       "<div>\n",
       "<style scoped>\n",
       "    .dataframe tbody tr th:only-of-type {\n",
       "        vertical-align: middle;\n",
       "    }\n",
       "\n",
       "    .dataframe tbody tr th {\n",
       "        vertical-align: top;\n",
       "    }\n",
       "\n",
       "    .dataframe thead th {\n",
       "        text-align: right;\n",
       "    }\n",
       "</style>\n",
       "<table border=\"1\" class=\"dataframe\">\n",
       "  <thead>\n",
       "    <tr style=\"text-align: right;\">\n",
       "      <th></th>\n",
       "      <th>Survived</th>\n",
       "      <th>Pclass</th>\n",
       "      <th>Sex</th>\n",
       "      <th>SibSp</th>\n",
       "      <th>Parch</th>\n",
       "      <th>Fare</th>\n",
       "      <th>Embarked</th>\n",
       "      <th>Title</th>\n",
       "      <th>Age_Category</th>\n",
       "      <th>Age_Cat_Label</th>\n",
       "      <th>Family</th>\n",
       "      <th>Is_Alone</th>\n",
       "    </tr>\n",
       "  </thead>\n",
       "  <tbody>\n",
       "    <tr>\n",
       "      <th>27</th>\n",
       "      <td>0.0</td>\n",
       "      <td>1</td>\n",
       "      <td>male</td>\n",
       "      <td>3</td>\n",
       "      <td>2</td>\n",
       "      <td>263.0000</td>\n",
       "      <td>S</td>\n",
       "      <td>Mr.</td>\n",
       "      <td>Teen</td>\n",
       "      <td>1</td>\n",
       "      <td>6</td>\n",
       "      <td>0</td>\n",
       "    </tr>\n",
       "    <tr>\n",
       "      <th>88</th>\n",
       "      <td>1.0</td>\n",
       "      <td>1</td>\n",
       "      <td>female</td>\n",
       "      <td>3</td>\n",
       "      <td>2</td>\n",
       "      <td>263.0000</td>\n",
       "      <td>S</td>\n",
       "      <td>Miss</td>\n",
       "      <td>Young_Adult</td>\n",
       "      <td>2</td>\n",
       "      <td>6</td>\n",
       "      <td>0</td>\n",
       "    </tr>\n",
       "    <tr>\n",
       "      <th>258</th>\n",
       "      <td>1.0</td>\n",
       "      <td>1</td>\n",
       "      <td>female</td>\n",
       "      <td>0</td>\n",
       "      <td>0</td>\n",
       "      <td>512.3292</td>\n",
       "      <td>C</td>\n",
       "      <td>Miss</td>\n",
       "      <td>Middle_Age</td>\n",
       "      <td>3</td>\n",
       "      <td>1</td>\n",
       "      <td>1</td>\n",
       "    </tr>\n",
       "    <tr>\n",
       "      <th>311</th>\n",
       "      <td>1.0</td>\n",
       "      <td>1</td>\n",
       "      <td>female</td>\n",
       "      <td>2</td>\n",
       "      <td>2</td>\n",
       "      <td>262.3750</td>\n",
       "      <td>C</td>\n",
       "      <td>Miss</td>\n",
       "      <td>Teen</td>\n",
       "      <td>1</td>\n",
       "      <td>5</td>\n",
       "      <td>0</td>\n",
       "    </tr>\n",
       "    <tr>\n",
       "      <th>341</th>\n",
       "      <td>1.0</td>\n",
       "      <td>1</td>\n",
       "      <td>female</td>\n",
       "      <td>3</td>\n",
       "      <td>2</td>\n",
       "      <td>263.0000</td>\n",
       "      <td>S</td>\n",
       "      <td>Miss</td>\n",
       "      <td>Young_Adult</td>\n",
       "      <td>2</td>\n",
       "      <td>6</td>\n",
       "      <td>0</td>\n",
       "    </tr>\n",
       "    <tr>\n",
       "      <th>438</th>\n",
       "      <td>0.0</td>\n",
       "      <td>1</td>\n",
       "      <td>male</td>\n",
       "      <td>1</td>\n",
       "      <td>4</td>\n",
       "      <td>263.0000</td>\n",
       "      <td>S</td>\n",
       "      <td>Mr.</td>\n",
       "      <td>Old</td>\n",
       "      <td>5</td>\n",
       "      <td>6</td>\n",
       "      <td>0</td>\n",
       "    </tr>\n",
       "    <tr>\n",
       "      <th>679</th>\n",
       "      <td>1.0</td>\n",
       "      <td>1</td>\n",
       "      <td>male</td>\n",
       "      <td>0</td>\n",
       "      <td>1</td>\n",
       "      <td>512.3292</td>\n",
       "      <td>C</td>\n",
       "      <td>Mr.</td>\n",
       "      <td>Middle_Age</td>\n",
       "      <td>3</td>\n",
       "      <td>2</td>\n",
       "      <td>0</td>\n",
       "    </tr>\n",
       "    <tr>\n",
       "      <th>737</th>\n",
       "      <td>1.0</td>\n",
       "      <td>1</td>\n",
       "      <td>male</td>\n",
       "      <td>0</td>\n",
       "      <td>0</td>\n",
       "      <td>512.3292</td>\n",
       "      <td>C</td>\n",
       "      <td>Mr.</td>\n",
       "      <td>Middle_Age</td>\n",
       "      <td>3</td>\n",
       "      <td>1</td>\n",
       "      <td>1</td>\n",
       "    </tr>\n",
       "    <tr>\n",
       "      <th>742</th>\n",
       "      <td>1.0</td>\n",
       "      <td>1</td>\n",
       "      <td>female</td>\n",
       "      <td>2</td>\n",
       "      <td>2</td>\n",
       "      <td>262.3750</td>\n",
       "      <td>C</td>\n",
       "      <td>Miss</td>\n",
       "      <td>Young_Adult</td>\n",
       "      <td>2</td>\n",
       "      <td>5</td>\n",
       "      <td>0</td>\n",
       "    </tr>\n",
       "    <tr>\n",
       "      <th>24</th>\n",
       "      <td>NaN</td>\n",
       "      <td>1</td>\n",
       "      <td>female</td>\n",
       "      <td>1</td>\n",
       "      <td>3</td>\n",
       "      <td>262.3750</td>\n",
       "      <td>C</td>\n",
       "      <td>Mrs.</td>\n",
       "      <td>Senior_Adult</td>\n",
       "      <td>4</td>\n",
       "      <td>5</td>\n",
       "      <td>0</td>\n",
       "    </tr>\n",
       "    <tr>\n",
       "      <th>53</th>\n",
       "      <td>NaN</td>\n",
       "      <td>1</td>\n",
       "      <td>female</td>\n",
       "      <td>3</td>\n",
       "      <td>2</td>\n",
       "      <td>263.0000</td>\n",
       "      <td>S</td>\n",
       "      <td>Miss</td>\n",
       "      <td>Young_Adult</td>\n",
       "      <td>2</td>\n",
       "      <td>6</td>\n",
       "      <td>0</td>\n",
       "    </tr>\n",
       "    <tr>\n",
       "      <th>59</th>\n",
       "      <td>NaN</td>\n",
       "      <td>1</td>\n",
       "      <td>female</td>\n",
       "      <td>0</td>\n",
       "      <td>0</td>\n",
       "      <td>262.3750</td>\n",
       "      <td>C</td>\n",
       "      <td>Miss</td>\n",
       "      <td>Middle_Age</td>\n",
       "      <td>3</td>\n",
       "      <td>1</td>\n",
       "      <td>1</td>\n",
       "    </tr>\n",
       "    <tr>\n",
       "      <th>64</th>\n",
       "      <td>NaN</td>\n",
       "      <td>1</td>\n",
       "      <td>male</td>\n",
       "      <td>2</td>\n",
       "      <td>2</td>\n",
       "      <td>262.3750</td>\n",
       "      <td>C</td>\n",
       "      <td>Master.</td>\n",
       "      <td>Teen</td>\n",
       "      <td>1</td>\n",
       "      <td>5</td>\n",
       "      <td>0</td>\n",
       "    </tr>\n",
       "    <tr>\n",
       "      <th>69</th>\n",
       "      <td>NaN</td>\n",
       "      <td>1</td>\n",
       "      <td>female</td>\n",
       "      <td>1</td>\n",
       "      <td>4</td>\n",
       "      <td>263.0000</td>\n",
       "      <td>S</td>\n",
       "      <td>Mrs.</td>\n",
       "      <td>Old</td>\n",
       "      <td>5</td>\n",
       "      <td>6</td>\n",
       "      <td>0</td>\n",
       "    </tr>\n",
       "    <tr>\n",
       "      <th>142</th>\n",
       "      <td>NaN</td>\n",
       "      <td>1</td>\n",
       "      <td>male</td>\n",
       "      <td>1</td>\n",
       "      <td>3</td>\n",
       "      <td>262.3750</td>\n",
       "      <td>C</td>\n",
       "      <td>Mr.</td>\n",
       "      <td>Old</td>\n",
       "      <td>5</td>\n",
       "      <td>5</td>\n",
       "      <td>0</td>\n",
       "    </tr>\n",
       "    <tr>\n",
       "      <th>343</th>\n",
       "      <td>NaN</td>\n",
       "      <td>1</td>\n",
       "      <td>female</td>\n",
       "      <td>0</td>\n",
       "      <td>1</td>\n",
       "      <td>512.3292</td>\n",
       "      <td>C</td>\n",
       "      <td>Mrs.</td>\n",
       "      <td>Old</td>\n",
       "      <td>5</td>\n",
       "      <td>2</td>\n",
       "      <td>0</td>\n",
       "    </tr>\n",
       "    <tr>\n",
       "      <th>375</th>\n",
       "      <td>NaN</td>\n",
       "      <td>1</td>\n",
       "      <td>female</td>\n",
       "      <td>0</td>\n",
       "      <td>0</td>\n",
       "      <td>262.3750</td>\n",
       "      <td>C</td>\n",
       "      <td>Miss</td>\n",
       "      <td>Senior_Adult</td>\n",
       "      <td>4</td>\n",
       "      <td>1</td>\n",
       "      <td>1</td>\n",
       "    </tr>\n",
       "  </tbody>\n",
       "</table>\n",
       "</div>"
      ],
      "text/plain": [
       "     Survived  Pclass     Sex  SibSp  Parch      Fare Embarked    Title  \\\n",
       "27        0.0       1    male      3      2  263.0000        S      Mr.   \n",
       "88        1.0       1  female      3      2  263.0000        S     Miss   \n",
       "258       1.0       1  female      0      0  512.3292        C     Miss   \n",
       "311       1.0       1  female      2      2  262.3750        C     Miss   \n",
       "341       1.0       1  female      3      2  263.0000        S     Miss   \n",
       "438       0.0       1    male      1      4  263.0000        S      Mr.   \n",
       "679       1.0       1    male      0      1  512.3292        C      Mr.   \n",
       "737       1.0       1    male      0      0  512.3292        C      Mr.   \n",
       "742       1.0       1  female      2      2  262.3750        C     Miss   \n",
       "24        NaN       1  female      1      3  262.3750        C     Mrs.   \n",
       "53        NaN       1  female      3      2  263.0000        S     Miss   \n",
       "59        NaN       1  female      0      0  262.3750        C     Miss   \n",
       "64        NaN       1    male      2      2  262.3750        C  Master.   \n",
       "69        NaN       1  female      1      4  263.0000        S     Mrs.   \n",
       "142       NaN       1    male      1      3  262.3750        C      Mr.   \n",
       "343       NaN       1  female      0      1  512.3292        C     Mrs.   \n",
       "375       NaN       1  female      0      0  262.3750        C     Miss   \n",
       "\n",
       "     Age_Category  Age_Cat_Label  Family  Is_Alone  \n",
       "27           Teen              1       6         0  \n",
       "88    Young_Adult              2       6         0  \n",
       "258    Middle_Age              3       1         1  \n",
       "311          Teen              1       5         0  \n",
       "341   Young_Adult              2       6         0  \n",
       "438           Old              5       6         0  \n",
       "679    Middle_Age              3       2         0  \n",
       "737    Middle_Age              3       1         1  \n",
       "742   Young_Adult              2       5         0  \n",
       "24   Senior_Adult              4       5         0  \n",
       "53    Young_Adult              2       6         0  \n",
       "59     Middle_Age              3       1         1  \n",
       "64           Teen              1       5         0  \n",
       "69            Old              5       6         0  \n",
       "142           Old              5       5         0  \n",
       "343           Old              5       2         0  \n",
       "375  Senior_Adult              4       1         1  "
      ]
     },
     "execution_count": 31,
     "metadata": {},
     "output_type": "execute_result"
    }
   ],
   "source": [
    "#lets try to observe outliers because i dont want to drop any observation unless neccessary\n",
    "df[df['Fare']>250]"
   ]
  },
  {
   "cell_type": "code",
   "execution_count": 32,
   "id": "bc11fb49-b2f7-4dd7-bb2e-a5bcd5a9d749",
   "metadata": {
    "tags": []
   },
   "outputs": [
    {
     "name": "stdout",
     "output_type": "stream",
     "text": [
      "17  Passengers have 0 ticket fare\n",
      "\n"
     ]
    },
    {
     "data": {
      "text/html": [
       "<div>\n",
       "<style scoped>\n",
       "    .dataframe tbody tr th:only-of-type {\n",
       "        vertical-align: middle;\n",
       "    }\n",
       "\n",
       "    .dataframe tbody tr th {\n",
       "        vertical-align: top;\n",
       "    }\n",
       "\n",
       "    .dataframe thead th {\n",
       "        text-align: right;\n",
       "    }\n",
       "</style>\n",
       "<table border=\"1\" class=\"dataframe\">\n",
       "  <thead>\n",
       "    <tr style=\"text-align: right;\">\n",
       "      <th></th>\n",
       "      <th>Survived</th>\n",
       "      <th>Pclass</th>\n",
       "      <th>Sex</th>\n",
       "      <th>SibSp</th>\n",
       "      <th>Parch</th>\n",
       "      <th>Fare</th>\n",
       "      <th>Embarked</th>\n",
       "      <th>Title</th>\n",
       "      <th>Age_Category</th>\n",
       "      <th>Age_Cat_Label</th>\n",
       "      <th>Family</th>\n",
       "      <th>Is_Alone</th>\n",
       "    </tr>\n",
       "  </thead>\n",
       "  <tbody>\n",
       "    <tr>\n",
       "      <th>179</th>\n",
       "      <td>0.0</td>\n",
       "      <td>3</td>\n",
       "      <td>male</td>\n",
       "      <td>0</td>\n",
       "      <td>0</td>\n",
       "      <td>0.0</td>\n",
       "      <td>S</td>\n",
       "      <td>Mr.</td>\n",
       "      <td>Middle_Age</td>\n",
       "      <td>3</td>\n",
       "      <td>1</td>\n",
       "      <td>1</td>\n",
       "    </tr>\n",
       "    <tr>\n",
       "      <th>263</th>\n",
       "      <td>0.0</td>\n",
       "      <td>1</td>\n",
       "      <td>male</td>\n",
       "      <td>0</td>\n",
       "      <td>0</td>\n",
       "      <td>0.0</td>\n",
       "      <td>S</td>\n",
       "      <td>Mr.</td>\n",
       "      <td>Senior_Adult</td>\n",
       "      <td>4</td>\n",
       "      <td>1</td>\n",
       "      <td>1</td>\n",
       "    </tr>\n",
       "    <tr>\n",
       "      <th>271</th>\n",
       "      <td>1.0</td>\n",
       "      <td>3</td>\n",
       "      <td>male</td>\n",
       "      <td>0</td>\n",
       "      <td>0</td>\n",
       "      <td>0.0</td>\n",
       "      <td>S</td>\n",
       "      <td>Mr.</td>\n",
       "      <td>Young_Adult</td>\n",
       "      <td>2</td>\n",
       "      <td>1</td>\n",
       "      <td>1</td>\n",
       "    </tr>\n",
       "    <tr>\n",
       "      <th>277</th>\n",
       "      <td>0.0</td>\n",
       "      <td>2</td>\n",
       "      <td>male</td>\n",
       "      <td>0</td>\n",
       "      <td>0</td>\n",
       "      <td>0.0</td>\n",
       "      <td>S</td>\n",
       "      <td>Mr.</td>\n",
       "      <td>Young_Adult</td>\n",
       "      <td>2</td>\n",
       "      <td>1</td>\n",
       "      <td>1</td>\n",
       "    </tr>\n",
       "    <tr>\n",
       "      <th>302</th>\n",
       "      <td>0.0</td>\n",
       "      <td>3</td>\n",
       "      <td>male</td>\n",
       "      <td>0</td>\n",
       "      <td>0</td>\n",
       "      <td>0.0</td>\n",
       "      <td>S</td>\n",
       "      <td>Mr.</td>\n",
       "      <td>Teen</td>\n",
       "      <td>1</td>\n",
       "      <td>1</td>\n",
       "      <td>1</td>\n",
       "    </tr>\n",
       "    <tr>\n",
       "      <th>413</th>\n",
       "      <td>0.0</td>\n",
       "      <td>2</td>\n",
       "      <td>male</td>\n",
       "      <td>0</td>\n",
       "      <td>0</td>\n",
       "      <td>0.0</td>\n",
       "      <td>S</td>\n",
       "      <td>Mr.</td>\n",
       "      <td>Young_Adult</td>\n",
       "      <td>2</td>\n",
       "      <td>1</td>\n",
       "      <td>1</td>\n",
       "    </tr>\n",
       "    <tr>\n",
       "      <th>466</th>\n",
       "      <td>0.0</td>\n",
       "      <td>2</td>\n",
       "      <td>male</td>\n",
       "      <td>0</td>\n",
       "      <td>0</td>\n",
       "      <td>0.0</td>\n",
       "      <td>S</td>\n",
       "      <td>Mr.</td>\n",
       "      <td>Young_Adult</td>\n",
       "      <td>2</td>\n",
       "      <td>1</td>\n",
       "      <td>1</td>\n",
       "    </tr>\n",
       "    <tr>\n",
       "      <th>481</th>\n",
       "      <td>0.0</td>\n",
       "      <td>2</td>\n",
       "      <td>male</td>\n",
       "      <td>0</td>\n",
       "      <td>0</td>\n",
       "      <td>0.0</td>\n",
       "      <td>S</td>\n",
       "      <td>Mr.</td>\n",
       "      <td>Young_Adult</td>\n",
       "      <td>2</td>\n",
       "      <td>1</td>\n",
       "      <td>1</td>\n",
       "    </tr>\n",
       "    <tr>\n",
       "      <th>597</th>\n",
       "      <td>0.0</td>\n",
       "      <td>3</td>\n",
       "      <td>male</td>\n",
       "      <td>0</td>\n",
       "      <td>0</td>\n",
       "      <td>0.0</td>\n",
       "      <td>S</td>\n",
       "      <td>Mr.</td>\n",
       "      <td>Senior_Adult</td>\n",
       "      <td>4</td>\n",
       "      <td>1</td>\n",
       "      <td>1</td>\n",
       "    </tr>\n",
       "    <tr>\n",
       "      <th>633</th>\n",
       "      <td>0.0</td>\n",
       "      <td>1</td>\n",
       "      <td>male</td>\n",
       "      <td>0</td>\n",
       "      <td>0</td>\n",
       "      <td>0.0</td>\n",
       "      <td>S</td>\n",
       "      <td>Mr.</td>\n",
       "      <td>Young_Adult</td>\n",
       "      <td>2</td>\n",
       "      <td>1</td>\n",
       "      <td>1</td>\n",
       "    </tr>\n",
       "    <tr>\n",
       "      <th>674</th>\n",
       "      <td>0.0</td>\n",
       "      <td>2</td>\n",
       "      <td>male</td>\n",
       "      <td>0</td>\n",
       "      <td>0</td>\n",
       "      <td>0.0</td>\n",
       "      <td>S</td>\n",
       "      <td>Mr.</td>\n",
       "      <td>Young_Adult</td>\n",
       "      <td>2</td>\n",
       "      <td>1</td>\n",
       "      <td>1</td>\n",
       "    </tr>\n",
       "    <tr>\n",
       "      <th>732</th>\n",
       "      <td>0.0</td>\n",
       "      <td>2</td>\n",
       "      <td>male</td>\n",
       "      <td>0</td>\n",
       "      <td>0</td>\n",
       "      <td>0.0</td>\n",
       "      <td>S</td>\n",
       "      <td>Mr.</td>\n",
       "      <td>Young_Adult</td>\n",
       "      <td>2</td>\n",
       "      <td>1</td>\n",
       "      <td>1</td>\n",
       "    </tr>\n",
       "    <tr>\n",
       "      <th>806</th>\n",
       "      <td>0.0</td>\n",
       "      <td>1</td>\n",
       "      <td>male</td>\n",
       "      <td>0</td>\n",
       "      <td>0</td>\n",
       "      <td>0.0</td>\n",
       "      <td>S</td>\n",
       "      <td>Mr.</td>\n",
       "      <td>Middle_Age</td>\n",
       "      <td>3</td>\n",
       "      <td>1</td>\n",
       "      <td>1</td>\n",
       "    </tr>\n",
       "    <tr>\n",
       "      <th>815</th>\n",
       "      <td>0.0</td>\n",
       "      <td>1</td>\n",
       "      <td>male</td>\n",
       "      <td>0</td>\n",
       "      <td>0</td>\n",
       "      <td>0.0</td>\n",
       "      <td>S</td>\n",
       "      <td>Mr.</td>\n",
       "      <td>Young_Adult</td>\n",
       "      <td>2</td>\n",
       "      <td>1</td>\n",
       "      <td>1</td>\n",
       "    </tr>\n",
       "    <tr>\n",
       "      <th>822</th>\n",
       "      <td>0.0</td>\n",
       "      <td>1</td>\n",
       "      <td>male</td>\n",
       "      <td>0</td>\n",
       "      <td>0</td>\n",
       "      <td>0.0</td>\n",
       "      <td>S</td>\n",
       "      <td>Special_title</td>\n",
       "      <td>Middle_Age</td>\n",
       "      <td>3</td>\n",
       "      <td>1</td>\n",
       "      <td>1</td>\n",
       "    </tr>\n",
       "    <tr>\n",
       "      <th>266</th>\n",
       "      <td>NaN</td>\n",
       "      <td>1</td>\n",
       "      <td>male</td>\n",
       "      <td>0</td>\n",
       "      <td>0</td>\n",
       "      <td>0.0</td>\n",
       "      <td>S</td>\n",
       "      <td>Mr.</td>\n",
       "      <td>Young_Adult</td>\n",
       "      <td>2</td>\n",
       "      <td>1</td>\n",
       "      <td>1</td>\n",
       "    </tr>\n",
       "    <tr>\n",
       "      <th>372</th>\n",
       "      <td>NaN</td>\n",
       "      <td>1</td>\n",
       "      <td>male</td>\n",
       "      <td>0</td>\n",
       "      <td>0</td>\n",
       "      <td>0.0</td>\n",
       "      <td>S</td>\n",
       "      <td>Mr.</td>\n",
       "      <td>Senior_Adult</td>\n",
       "      <td>4</td>\n",
       "      <td>1</td>\n",
       "      <td>1</td>\n",
       "    </tr>\n",
       "  </tbody>\n",
       "</table>\n",
       "</div>"
      ],
      "text/plain": [
       "     Survived  Pclass   Sex  SibSp  Parch  Fare Embarked          Title  \\\n",
       "179       0.0       3  male      0      0   0.0        S            Mr.   \n",
       "263       0.0       1  male      0      0   0.0        S            Mr.   \n",
       "271       1.0       3  male      0      0   0.0        S            Mr.   \n",
       "277       0.0       2  male      0      0   0.0        S            Mr.   \n",
       "302       0.0       3  male      0      0   0.0        S            Mr.   \n",
       "413       0.0       2  male      0      0   0.0        S            Mr.   \n",
       "466       0.0       2  male      0      0   0.0        S            Mr.   \n",
       "481       0.0       2  male      0      0   0.0        S            Mr.   \n",
       "597       0.0       3  male      0      0   0.0        S            Mr.   \n",
       "633       0.0       1  male      0      0   0.0        S            Mr.   \n",
       "674       0.0       2  male      0      0   0.0        S            Mr.   \n",
       "732       0.0       2  male      0      0   0.0        S            Mr.   \n",
       "806       0.0       1  male      0      0   0.0        S            Mr.   \n",
       "815       0.0       1  male      0      0   0.0        S            Mr.   \n",
       "822       0.0       1  male      0      0   0.0        S  Special_title   \n",
       "266       NaN       1  male      0      0   0.0        S            Mr.   \n",
       "372       NaN       1  male      0      0   0.0        S            Mr.   \n",
       "\n",
       "     Age_Category  Age_Cat_Label  Family  Is_Alone  \n",
       "179    Middle_Age              3       1         1  \n",
       "263  Senior_Adult              4       1         1  \n",
       "271   Young_Adult              2       1         1  \n",
       "277   Young_Adult              2       1         1  \n",
       "302          Teen              1       1         1  \n",
       "413   Young_Adult              2       1         1  \n",
       "466   Young_Adult              2       1         1  \n",
       "481   Young_Adult              2       1         1  \n",
       "597  Senior_Adult              4       1         1  \n",
       "633   Young_Adult              2       1         1  \n",
       "674   Young_Adult              2       1         1  \n",
       "732   Young_Adult              2       1         1  \n",
       "806    Middle_Age              3       1         1  \n",
       "815   Young_Adult              2       1         1  \n",
       "822    Middle_Age              3       1         1  \n",
       "266   Young_Adult              2       1         1  \n",
       "372  Senior_Adult              4       1         1  "
      ]
     },
     "execution_count": 32,
     "metadata": {},
     "output_type": "execute_result"
    }
   ],
   "source": [
    "# and there are some 0 in tickets\n",
    "\n",
    "print(len(df[df['Fare']<1]), ' Passengers have 0 ticket fare' '\\n')\n",
    "df[df['Fare']<1]"
   ]
  },
  {
   "cell_type": "code",
   "execution_count": 33,
   "id": "c130d138-ccf1-40fa-a794-7b015d30aa43",
   "metadata": {
    "tags": []
   },
   "outputs": [],
   "source": [
    "# As its seen 4 observations paid much higher than nearest max ticket prices for similar rooms.\n",
    "# So i will change these ticket prices just around %10 higher than the closes max ticket price=280.0\n",
    "df.loc[df['Fare'] > 300, 'Fare'] = 280.0"
   ]
  },
  {
   "cell_type": "code",
   "execution_count": 34,
   "id": "9559c29c-ae34-4cf6-b014-9c60f37f26e6",
   "metadata": {
    "tags": []
   },
   "outputs": [
    {
     "data": {
      "text/plain": [
       "Pclass\n",
       "1    25.5875\n",
       "2     9.6875\n",
       "3     6.2375\n",
       "Name: Fare, dtype: float64"
      ]
     },
     "execution_count": 34,
     "metadata": {},
     "output_type": "execute_result"
    }
   ],
   "source": [
    "# Also there are 17 zero ticket prices - I will assign them to the minimum ticket prices of each class\n",
    "min_tick_price_pclass = df[df['Fare']>5].groupby('Pclass')['Fare'].min()\n",
    "min_tick_price_pclass"
   ]
  },
  {
   "cell_type": "code",
   "execution_count": 35,
   "id": "5366c551-ff59-4f74-84a8-d011c1deb700",
   "metadata": {
    "tags": []
   },
   "outputs": [],
   "source": [
    "for i in [1, 2, 3]:\n",
    "    condition = (df['Pclass'] == i) & (df['Fare'] == 0)\n",
    "    df.loc[condition, 'Fare'] = min_tick_price_pclass[i]"
   ]
  },
  {
   "cell_type": "code",
   "execution_count": 36,
   "id": "a7d73aed-eeb5-4bf2-b6f0-725593d3d191",
   "metadata": {
    "tags": []
   },
   "outputs": [
    {
     "data": {
      "text/html": [
       "<div>\n",
       "<style scoped>\n",
       "    .dataframe tbody tr th:only-of-type {\n",
       "        vertical-align: middle;\n",
       "    }\n",
       "\n",
       "    .dataframe tbody tr th {\n",
       "        vertical-align: top;\n",
       "    }\n",
       "\n",
       "    .dataframe thead th {\n",
       "        text-align: right;\n",
       "    }\n",
       "</style>\n",
       "<table border=\"1\" class=\"dataframe\">\n",
       "  <thead>\n",
       "    <tr style=\"text-align: right;\">\n",
       "      <th></th>\n",
       "      <th>Survived</th>\n",
       "      <th>Pclass</th>\n",
       "      <th>Sex</th>\n",
       "      <th>SibSp</th>\n",
       "      <th>Parch</th>\n",
       "      <th>Fare</th>\n",
       "      <th>Embarked</th>\n",
       "      <th>Title</th>\n",
       "      <th>Age_Category</th>\n",
       "      <th>Age_Cat_Label</th>\n",
       "      <th>Family</th>\n",
       "      <th>Is_Alone</th>\n",
       "    </tr>\n",
       "  </thead>\n",
       "  <tbody>\n",
       "  </tbody>\n",
       "</table>\n",
       "</div>"
      ],
      "text/plain": [
       "Empty DataFrame\n",
       "Columns: [Survived, Pclass, Sex, SibSp, Parch, Fare, Embarked, Title, Age_Category, Age_Cat_Label, Family, Is_Alone]\n",
       "Index: []"
      ]
     },
     "execution_count": 36,
     "metadata": {},
     "output_type": "execute_result"
    }
   ],
   "source": [
    "# Fine all of them cleaned\n",
    "df[  (df['Fare']<1) |  (df['Fare']>300) ]"
   ]
  },
  {
   "cell_type": "markdown",
   "id": "a8cf3134-a4da-4842-a4eb-1e66ce037b47",
   "metadata": {},
   "source": [
    "**Better to create Fare Bins in our dataset, also add to the model, may help dealing overfitting, in case of overfitting**"
   ]
  },
  {
   "cell_type": "code",
   "execution_count": 37,
   "id": "fb3a2b6b-d3a9-4e93-af7e-aac05d28ad32",
   "metadata": {
    "tags": []
   },
   "outputs": [
    {
     "data": {
      "text/plain": [
       "3    263\n",
       "4    263\n",
       "1    262\n",
       "2    262\n",
       "5    259\n",
       "Name: Fare_Binned, dtype: int64"
      ]
     },
     "execution_count": 37,
     "metadata": {},
     "output_type": "execute_result"
    }
   ],
   "source": [
    "df['Fare_Binned'] = pd.qcut(df['Fare'], q=5, labels=False, precision=3)\n",
    "df['Fare_Binned'] = df['Fare_Binned']+1\n",
    "df['Fare_Binned'].value_counts()"
   ]
  },
  {
   "cell_type": "code",
   "execution_count": 38,
   "id": "193ecd11-4c9d-47e2-adde-d834a59ce17c",
   "metadata": {
    "tags": []
   },
   "outputs": [
    {
     "data": {
      "text/plain": [
       "Fare_Binned\n",
       "1     7.7271\n",
       "2     8.0500\n",
       "3    14.5000\n",
       "4    27.4458\n",
       "5    78.2667\n",
       "Name: Fare, dtype: float64"
      ]
     },
     "execution_count": 38,
     "metadata": {},
     "output_type": "execute_result"
    }
   ],
   "source": [
    "df.groupby('Fare_Binned')['Fare'].median()"
   ]
  },
  {
   "cell_type": "markdown",
   "id": "f4f4d95a-7a20-4088-9c7e-81ad12882673",
   "metadata": {},
   "source": [
    "## Data splitting"
   ]
  },
  {
   "cell_type": "markdown",
   "id": "a44edeb5-0e75-41ce-be83-b0d112d3bc3b",
   "metadata": {},
   "source": [
    "**Since we almost finished preprocessing, now we can divide the data again, and continue for more insights with EDA and visualizations**"
   ]
  },
  {
   "cell_type": "code",
   "execution_count": 39,
   "id": "59d08efa-ad22-4bf2-ad5d-e5266f1cc290",
   "metadata": {
    "tags": []
   },
   "outputs": [
    {
     "name": "stdout",
     "output_type": "stream",
     "text": [
      "The last INCLUDED index of df_train will be 890\n"
     ]
    }
   ],
   "source": [
    "idx_split = len(df_train2)\n",
    "print(f\"The last INCLUDED index of df_train will be {idx_split-1}\")\n",
    "\n",
    "df_train = df.iloc[:idx_split]\n",
    "df_test = df.iloc[idx_split:].drop(columns=['Survived'])"
   ]
  },
  {
   "cell_type": "code",
   "execution_count": 40,
   "id": "7e54bdeb-cc8b-4f00-a3ec-fb464a516a85",
   "metadata": {
    "tags": []
   },
   "outputs": [
    {
     "data": {
      "text/html": [
       "<div>\n",
       "<style scoped>\n",
       "    .dataframe tbody tr th:only-of-type {\n",
       "        vertical-align: middle;\n",
       "    }\n",
       "\n",
       "    .dataframe tbody tr th {\n",
       "        vertical-align: top;\n",
       "    }\n",
       "\n",
       "    .dataframe thead th {\n",
       "        text-align: right;\n",
       "    }\n",
       "</style>\n",
       "<table border=\"1\" class=\"dataframe\">\n",
       "  <thead>\n",
       "    <tr style=\"text-align: right;\">\n",
       "      <th></th>\n",
       "      <th>Survived</th>\n",
       "      <th>Pclass</th>\n",
       "      <th>Sex</th>\n",
       "      <th>SibSp</th>\n",
       "      <th>Parch</th>\n",
       "      <th>Fare</th>\n",
       "      <th>Embarked</th>\n",
       "      <th>Title</th>\n",
       "      <th>Age_Category</th>\n",
       "      <th>Age_Cat_Label</th>\n",
       "      <th>Family</th>\n",
       "      <th>Is_Alone</th>\n",
       "      <th>Fare_Binned</th>\n",
       "    </tr>\n",
       "  </thead>\n",
       "  <tbody>\n",
       "    <tr>\n",
       "      <th>889</th>\n",
       "      <td>1.0</td>\n",
       "      <td>1</td>\n",
       "      <td>male</td>\n",
       "      <td>0</td>\n",
       "      <td>0</td>\n",
       "      <td>30.00</td>\n",
       "      <td>C</td>\n",
       "      <td>Mr.</td>\n",
       "      <td>Young_Adult</td>\n",
       "      <td>2</td>\n",
       "      <td>1</td>\n",
       "      <td>1</td>\n",
       "      <td>4</td>\n",
       "    </tr>\n",
       "    <tr>\n",
       "      <th>890</th>\n",
       "      <td>0.0</td>\n",
       "      <td>3</td>\n",
       "      <td>male</td>\n",
       "      <td>0</td>\n",
       "      <td>0</td>\n",
       "      <td>7.75</td>\n",
       "      <td>Q</td>\n",
       "      <td>Mr.</td>\n",
       "      <td>Middle_Age</td>\n",
       "      <td>3</td>\n",
       "      <td>1</td>\n",
       "      <td>1</td>\n",
       "      <td>1</td>\n",
       "    </tr>\n",
       "  </tbody>\n",
       "</table>\n",
       "</div>"
      ],
      "text/plain": [
       "     Survived  Pclass   Sex  SibSp  Parch   Fare Embarked Title Age_Category  \\\n",
       "889       1.0       1  male      0      0  30.00        C   Mr.  Young_Adult   \n",
       "890       0.0       3  male      0      0   7.75        Q   Mr.   Middle_Age   \n",
       "\n",
       "     Age_Cat_Label  Family  Is_Alone  Fare_Binned  \n",
       "889              2       1         1            4  \n",
       "890              3       1         1            1  "
      ]
     },
     "execution_count": 40,
     "metadata": {},
     "output_type": "execute_result"
    }
   ],
   "source": [
    "df_train.tail(2)"
   ]
  },
  {
   "cell_type": "code",
   "execution_count": 41,
   "id": "c734652b-4c27-495f-9356-717af301305e",
   "metadata": {
    "tags": []
   },
   "outputs": [
    {
     "data": {
      "text/html": [
       "<div>\n",
       "<style scoped>\n",
       "    .dataframe tbody tr th:only-of-type {\n",
       "        vertical-align: middle;\n",
       "    }\n",
       "\n",
       "    .dataframe tbody tr th {\n",
       "        vertical-align: top;\n",
       "    }\n",
       "\n",
       "    .dataframe thead th {\n",
       "        text-align: right;\n",
       "    }\n",
       "</style>\n",
       "<table border=\"1\" class=\"dataframe\">\n",
       "  <thead>\n",
       "    <tr style=\"text-align: right;\">\n",
       "      <th></th>\n",
       "      <th>Pclass</th>\n",
       "      <th>Sex</th>\n",
       "      <th>SibSp</th>\n",
       "      <th>Parch</th>\n",
       "      <th>Fare</th>\n",
       "      <th>Embarked</th>\n",
       "      <th>Title</th>\n",
       "      <th>Age_Category</th>\n",
       "      <th>Age_Cat_Label</th>\n",
       "      <th>Family</th>\n",
       "      <th>Is_Alone</th>\n",
       "      <th>Fare_Binned</th>\n",
       "    </tr>\n",
       "  </thead>\n",
       "  <tbody>\n",
       "    <tr>\n",
       "      <th>0</th>\n",
       "      <td>3</td>\n",
       "      <td>male</td>\n",
       "      <td>0</td>\n",
       "      <td>0</td>\n",
       "      <td>7.8292</td>\n",
       "      <td>Q</td>\n",
       "      <td>Mr.</td>\n",
       "      <td>Middle_Age</td>\n",
       "      <td>3</td>\n",
       "      <td>1</td>\n",
       "      <td>1</td>\n",
       "      <td>1</td>\n",
       "    </tr>\n",
       "    <tr>\n",
       "      <th>1</th>\n",
       "      <td>3</td>\n",
       "      <td>female</td>\n",
       "      <td>1</td>\n",
       "      <td>0</td>\n",
       "      <td>7.0000</td>\n",
       "      <td>S</td>\n",
       "      <td>Mrs.</td>\n",
       "      <td>Senior_Adult</td>\n",
       "      <td>4</td>\n",
       "      <td>2</td>\n",
       "      <td>0</td>\n",
       "      <td>1</td>\n",
       "    </tr>\n",
       "  </tbody>\n",
       "</table>\n",
       "</div>"
      ],
      "text/plain": [
       "   Pclass     Sex  SibSp  Parch    Fare Embarked Title  Age_Category  \\\n",
       "0       3    male      0      0  7.8292        Q   Mr.    Middle_Age   \n",
       "1       3  female      1      0  7.0000        S  Mrs.  Senior_Adult   \n",
       "\n",
       "   Age_Cat_Label  Family  Is_Alone  Fare_Binned  \n",
       "0              3       1         1            1  \n",
       "1              4       2         0            1  "
      ]
     },
     "execution_count": 41,
     "metadata": {},
     "output_type": "execute_result"
    }
   ],
   "source": [
    "df_test.head(2)"
   ]
  },
  {
   "cell_type": "code",
   "execution_count": 42,
   "id": "974de96c-9fd0-45a7-8ab1-a8b1049b1d81",
   "metadata": {
    "tags": []
   },
   "outputs": [
    {
     "name": "stdout",
     "output_type": "stream",
     "text": [
      "Train datasets are equal length = True\n",
      "Test datasets are equal length = True\n"
     ]
    }
   ],
   "source": [
    "# Lets check whether the splitting and preprocessing is correct\n",
    "print(f\"Train datasets are equal length = {len(df_train2) == len(df_train)}\")\n",
    "print(f\"Test datasets are equal length = {len(df_test2) == len(df_test)}\")"
   ]
  },
  {
   "cell_type": "markdown",
   "id": "0662e8ca-24f9-4daa-b5a2-2c191c5041dd",
   "metadata": {},
   "source": [
    "# 4. Exploratory data analysis and visualizations"
   ]
  },
  {
   "cell_type": "markdown",
   "id": "1f4fabc5-4530-4cd1-afb3-f27ff9654b2e",
   "metadata": {},
   "source": [
    "## Additional Preparation to EDA"
   ]
  },
  {
   "cell_type": "code",
   "execution_count": 43,
   "id": "a139d3eb-5c8f-4e55-8585-b882f1cce11e",
   "metadata": {
    "tags": []
   },
   "outputs": [
    {
     "name": "stdout",
     "output_type": "stream",
     "text": [
      "Index(['Sex', 'Embarked', 'Title', 'Age_Category'], dtype='object')\n",
      "Index(['Survived', 'Pclass', 'SibSp', 'Parch', 'Fare', 'Age_Cat_Label',\n",
      "       'Family', 'Is_Alone', 'Fare_Binned'],\n",
      "      dtype='object')\n"
     ]
    }
   ],
   "source": [
    "categorical_features = df_train.select_dtypes(include=['object', 'category']).columns\n",
    "numerical_features = df_train.select_dtypes(include='number').columns\n",
    "\n",
    "print(categorical_features)\n",
    "print(numerical_features)"
   ]
  },
  {
   "cell_type": "markdown",
   "id": "7100a4f9-b52c-47a7-b378-461bb2f782ac",
   "metadata": {},
   "source": [
    "**I will label encode 3 categorical variables for better Exploratory data Analysis especially correlations**"
   ]
  },
  {
   "cell_type": "code",
   "execution_count": 44,
   "id": "d281d401-d990-4b71-ba95-981e92e7a292",
   "metadata": {
    "tags": []
   },
   "outputs": [
    {
     "data": {
      "text/html": [
       "<div>\n",
       "<style scoped>\n",
       "    .dataframe tbody tr th:only-of-type {\n",
       "        vertical-align: middle;\n",
       "    }\n",
       "\n",
       "    .dataframe tbody tr th {\n",
       "        vertical-align: top;\n",
       "    }\n",
       "\n",
       "    .dataframe thead th {\n",
       "        text-align: right;\n",
       "    }\n",
       "</style>\n",
       "<table border=\"1\" class=\"dataframe\">\n",
       "  <thead>\n",
       "    <tr style=\"text-align: right;\">\n",
       "      <th></th>\n",
       "      <th>Survived</th>\n",
       "      <th>Pclass</th>\n",
       "      <th>Sex</th>\n",
       "      <th>SibSp</th>\n",
       "      <th>Parch</th>\n",
       "      <th>Fare</th>\n",
       "      <th>Embarked</th>\n",
       "      <th>Title</th>\n",
       "      <th>Age_Category</th>\n",
       "      <th>Age_Cat_Label</th>\n",
       "      <th>Family</th>\n",
       "      <th>Is_Alone</th>\n",
       "      <th>Fare_Binned</th>\n",
       "      <th>Sex</th>\n",
       "      <th>Embarked</th>\n",
       "      <th>Title</th>\n",
       "    </tr>\n",
       "  </thead>\n",
       "  <tbody>\n",
       "    <tr>\n",
       "      <th>145</th>\n",
       "      <td>0.0</td>\n",
       "      <td>2</td>\n",
       "      <td>male</td>\n",
       "      <td>1</td>\n",
       "      <td>1</td>\n",
       "      <td>36.750</td>\n",
       "      <td>S</td>\n",
       "      <td>Mr.</td>\n",
       "      <td>Teen</td>\n",
       "      <td>1</td>\n",
       "      <td>3</td>\n",
       "      <td>0</td>\n",
       "      <td>4</td>\n",
       "      <td>1</td>\n",
       "      <td>2</td>\n",
       "      <td>2</td>\n",
       "    </tr>\n",
       "    <tr>\n",
       "      <th>278</th>\n",
       "      <td>0.0</td>\n",
       "      <td>3</td>\n",
       "      <td>male</td>\n",
       "      <td>4</td>\n",
       "      <td>1</td>\n",
       "      <td>29.125</td>\n",
       "      <td>Q</td>\n",
       "      <td>Master.</td>\n",
       "      <td>Child</td>\n",
       "      <td>0</td>\n",
       "      <td>6</td>\n",
       "      <td>0</td>\n",
       "      <td>4</td>\n",
       "      <td>1</td>\n",
       "      <td>1</td>\n",
       "      <td>0</td>\n",
       "    </tr>\n",
       "    <tr>\n",
       "      <th>264</th>\n",
       "      <td>0.0</td>\n",
       "      <td>3</td>\n",
       "      <td>female</td>\n",
       "      <td>0</td>\n",
       "      <td>0</td>\n",
       "      <td>7.750</td>\n",
       "      <td>Q</td>\n",
       "      <td>Miss</td>\n",
       "      <td>Young_Adult</td>\n",
       "      <td>2</td>\n",
       "      <td>1</td>\n",
       "      <td>1</td>\n",
       "      <td>1</td>\n",
       "      <td>0</td>\n",
       "      <td>1</td>\n",
       "      <td>1</td>\n",
       "    </tr>\n",
       "  </tbody>\n",
       "</table>\n",
       "</div>"
      ],
      "text/plain": [
       "     Survived  Pclass     Sex  SibSp  Parch    Fare  Embarked    Title  \\\n",
       "145       0.0       2    male      1      1  36.750         S      Mr.   \n",
       "278       0.0       3    male      4      1  29.125         Q  Master.   \n",
       "264       0.0       3  female      0      0   7.750         Q     Miss   \n",
       "\n",
       "    Age_Category  Age_Cat_Label  Family  Is_Alone  Fare_Binned  Sex  Embarked  \\\n",
       "145         Teen              1       3         0            4    1         2   \n",
       "278        Child              0       6         0            4    1         1   \n",
       "264  Young_Adult              2       1         1            1    0         1   \n",
       "\n",
       "     Title  \n",
       "145      2  \n",
       "278      0  \n",
       "264      1  "
      ]
     },
     "execution_count": 44,
     "metadata": {},
     "output_type": "execute_result"
    }
   ],
   "source": [
    "label_encoder_eda = LabelEncoder()\n",
    "df_encoded_eda = df_train[['Sex', 'Embarked', 'Title']].apply(label_encoder_eda.fit_transform)\n",
    "df_corr_labeled = pd.concat([df_train, df_encoded_eda], axis=1)\n",
    "df_corr_labeled.sample(3)"
   ]
  },
  {
   "cell_type": "markdown",
   "id": "56e89244-4d96-465b-aeb0-c9e6d47dece2",
   "metadata": {},
   "source": [
    "## Frequencies & Distributions"
   ]
  },
  {
   "cell_type": "code",
   "execution_count": 45,
   "id": "da6fce53-55fe-4544-9c0c-56cad57a2e54",
   "metadata": {
    "tags": []
   },
   "outputs": [
    {
     "data": {
      "image/png": "[encoded data removed]",
      "text/plain": [
       "<Figure size 640x480 with 1 Axes>"
      ]
     },
     "metadata": {},
     "output_type": "display_data"
    }
   ],
   "source": [
    "survived_map = {0: '0-Died', 1: '1-Survived'}\n",
    "sns.countplot(df_train['Survived'].map(survived_map));"
   ]
  },
  {
   "cell_type": "code",
   "execution_count": 46,
   "id": "86d170e8-2a7d-455c-8dab-30e8f8f1ce10",
   "metadata": {
    "tags": []
   },
   "outputs": [
    {
     "data": {
      "image/png": "[encoded data removed]",
      "text/plain": [
       "<Figure size 1200x800 with 8 Axes>"
      ]
     },
     "metadata": {},
     "output_type": "display_data"
    }
   ],
   "source": [
    "countplot_columns = list(categorical_features)\n",
    "countplot_columns.extend(['Pclass', 'Family', 'Is_Alone' ])\n",
    "plot_qty = len(countplot_columns)\n",
    "\n",
    "colors = sns.color_palette('Set2', len(countplot_columns))\n",
    "fig, axes = plt.subplots(2, 4, figsize=(12, 8))\n",
    "\n",
    "for i, ax in enumerate(axes.flatten()):\n",
    "    if i < plot_qty:  # Only plot for the valid subplots\n",
    "        col = countplot_columns[i]\n",
    "        val_cnt = df_train[col].value_counts()\n",
    "        sns.barplot(x=val_cnt.index, y=val_cnt.values, ax=ax, palette=colors)\n",
    "        ax.set_title(f\"Frequencies of {col} feature\")\n",
    "        ax.set_xticklabels(ax.get_xticklabels(), rotation=45)\n",
    "    else:\n",
    "        ax.axis('off')  # Hide the unused subplot areas\n",
    "\n",
    "plt.tight_layout()\n",
    "plt.show()"
   ]
  },
  {
   "cell_type": "code",
   "execution_count": 47,
   "id": "a2190a96-b71c-42c7-ab9b-0a87160b21dc",
   "metadata": {
    "tags": []
   },
   "outputs": [
    {
     "data": {
      "image/png": "[encoded data removed]",
      "text/plain": [
       "<Figure size 640x480 with 1 Axes>"
      ]
     },
     "metadata": {},
     "output_type": "display_data"
    }
   ],
   "source": [
    "sns.histplot(df_train['Fare'], bins=20);"
   ]
  },
  {
   "cell_type": "markdown",
   "id": "0096b11d-5999-42ed-aecb-690bb54a8c93",
   "metadata": {},
   "source": [
    "## Correlations"
   ]
  },
  {
   "cell_type": "code",
   "execution_count": 48,
   "id": "15771ac0-e73a-42f1-8e60-b6453e1a9fa6",
   "metadata": {
    "tags": []
   },
   "outputs": [
    {
     "data": {
      "image/png": "[encoded data removed]",
      "text/plain": [
       "<Figure size 1000x600 with 2 Axes>"
      ]
     },
     "metadata": {},
     "output_type": "display_data"
    }
   ],
   "source": [
    "target_column = 'Survived'\n",
    "corr_matrix = df_corr_labeled.corr()\n",
    "corr_with_target = corr_matrix[target_column].apply(np.abs).sort_values(ascending=False)\n",
    "\n",
    "plt.figure(figsize=(10, 6))\n",
    "sns.heatmap(corr_with_target.to_frame(), annot=True, cmap='coolwarm', cbar=True, vmin=-1, vmax=1)\n",
    "plt.title(f'Features Correlations with {target_column}')\n",
    "plt.show()"
   ]
  },
  {
   "cell_type": "markdown",
   "id": "57bd1d05-d102-4ab0-b970-2458c9b40434",
   "metadata": {
    "tags": []
   },
   "source": [
    "**Lest underline some inferences:**  \n",
    "* It is shocking for me to have such an almost ZERO correlation between age and survival, but this is mainly because of genders. Since males from all ages apart from childs are having high unsirvival rate, while womens contrary. So this mutual contradiction erases the correlation, i think  \n",
    "* not surprisingly, gender is the most prominent factor with 0.54 correlation coefficient with survival rate  \n",
    "* Pclass is comind the second, which means that some decks or cabins had better direction to the rescue boats, or some people might had beed discriminated against others  \n",
    "* Thicket fares is the third factor, similarly to Pclass,  \n",
    "* And lastly we can say a very light correlation lies between travelling alone and survival rate "
   ]
  },
  {
   "cell_type": "markdown",
   "id": "6f7121c9-a6db-446d-b160-c4a6b1bcdabb",
   "metadata": {},
   "source": [
    "**Multicollinearity?**"
   ]
  },
  {
   "cell_type": "code",
   "execution_count": 49,
   "id": "4566e11b-3883-4d2b-a771-aff0021615a2",
   "metadata": {
    "tags": []
   },
   "outputs": [],
   "source": [
    "def color_red(val):\n",
    "    if val > 0.85 and val < 0.99:\n",
    "        color = 'red'\n",
    "    elif val >= 1:\n",
    "        color = 'blue'\n",
    "    else:\n",
    "        color = 'black'\n",
    "    return f'color: {color}'"
   ]
  },
  {
   "cell_type": "code",
   "execution_count": 50,
   "id": "c450a4cc-904e-46e6-85af-8fcdc051e481",
   "metadata": {
    "tags": []
   },
   "outputs": [
    {
     "data": {
      "text/html": [
       "<style type=\"text/css\">\n",
       "#T_0c701_row0_col0, #T_0c701_row1_col1, #T_0c701_row2_col2, #T_0c701_row3_col3, #T_0c701_row4_col4, #T_0c701_row5_col5, #T_0c701_row6_col6, #T_0c701_row7_col7, #T_0c701_row8_col8, #T_0c701_row9_col9, #T_0c701_row10_col10, #T_0c701_row11_col11 {\n",
       "  color: blue;\n",
       "}\n",
       "#T_0c701_row0_col1, #T_0c701_row0_col2, #T_0c701_row0_col3, #T_0c701_row0_col4, #T_0c701_row0_col5, #T_0c701_row0_col6, #T_0c701_row0_col7, #T_0c701_row0_col8, #T_0c701_row0_col9, #T_0c701_row0_col10, #T_0c701_row0_col11, #T_0c701_row1_col0, #T_0c701_row1_col2, #T_0c701_row1_col3, #T_0c701_row1_col4, #T_0c701_row1_col5, #T_0c701_row1_col6, #T_0c701_row1_col7, #T_0c701_row1_col8, #T_0c701_row1_col9, #T_0c701_row1_col10, #T_0c701_row1_col11, #T_0c701_row2_col0, #T_0c701_row2_col1, #T_0c701_row2_col3, #T_0c701_row2_col4, #T_0c701_row2_col5, #T_0c701_row2_col7, #T_0c701_row2_col8, #T_0c701_row2_col9, #T_0c701_row2_col10, #T_0c701_row2_col11, #T_0c701_row3_col0, #T_0c701_row3_col1, #T_0c701_row3_col2, #T_0c701_row3_col4, #T_0c701_row3_col5, #T_0c701_row3_col6, #T_0c701_row3_col7, #T_0c701_row3_col8, #T_0c701_row3_col9, #T_0c701_row3_col10, #T_0c701_row3_col11, #T_0c701_row4_col0, #T_0c701_row4_col1, #T_0c701_row4_col2, #T_0c701_row4_col3, #T_0c701_row4_col5, #T_0c701_row4_col6, #T_0c701_row4_col7, #T_0c701_row4_col8, #T_0c701_row4_col9, #T_0c701_row4_col10, #T_0c701_row4_col11, #T_0c701_row5_col0, #T_0c701_row5_col1, #T_0c701_row5_col2, #T_0c701_row5_col3, #T_0c701_row5_col4, #T_0c701_row5_col6, #T_0c701_row5_col7, #T_0c701_row5_col8, #T_0c701_row5_col9, #T_0c701_row5_col10, #T_0c701_row5_col11, #T_0c701_row6_col0, #T_0c701_row6_col1, #T_0c701_row6_col3, #T_0c701_row6_col4, #T_0c701_row6_col5, #T_0c701_row6_col7, #T_0c701_row6_col8, #T_0c701_row6_col9, #T_0c701_row6_col10, #T_0c701_row6_col11, #T_0c701_row7_col0, #T_0c701_row7_col1, #T_0c701_row7_col2, #T_0c701_row7_col3, #T_0c701_row7_col4, #T_0c701_row7_col5, #T_0c701_row7_col6, #T_0c701_row7_col8, #T_0c701_row7_col9, #T_0c701_row7_col10, #T_0c701_row7_col11, #T_0c701_row8_col0, #T_0c701_row8_col1, #T_0c701_row8_col2, #T_0c701_row8_col3, #T_0c701_row8_col4, #T_0c701_row8_col5, #T_0c701_row8_col6, #T_0c701_row8_col7, #T_0c701_row8_col9, #T_0c701_row8_col10, #T_0c701_row8_col11, #T_0c701_row9_col0, #T_0c701_row9_col1, #T_0c701_row9_col2, #T_0c701_row9_col3, #T_0c701_row9_col4, #T_0c701_row9_col5, #T_0c701_row9_col6, #T_0c701_row9_col7, #T_0c701_row9_col8, #T_0c701_row9_col10, #T_0c701_row9_col11, #T_0c701_row10_col0, #T_0c701_row10_col1, #T_0c701_row10_col2, #T_0c701_row10_col3, #T_0c701_row10_col4, #T_0c701_row10_col5, #T_0c701_row10_col6, #T_0c701_row10_col7, #T_0c701_row10_col8, #T_0c701_row10_col9, #T_0c701_row10_col11, #T_0c701_row11_col0, #T_0c701_row11_col1, #T_0c701_row11_col2, #T_0c701_row11_col3, #T_0c701_row11_col4, #T_0c701_row11_col5, #T_0c701_row11_col6, #T_0c701_row11_col7, #T_0c701_row11_col8, #T_0c701_row11_col9, #T_0c701_row11_col10 {\n",
       "  color: black;\n",
       "}\n",
       "#T_0c701_row2_col6, #T_0c701_row6_col2 {\n",
       "  color: red;\n",
       "}\n",
       "</style>\n",
       "<table id=\"T_0c701\">\n",
       "  <thead>\n",
       "    <tr>\n",
       "      <th class=\"blank level0\" >&nbsp;</th>\n",
       "      <th id=\"T_0c701_level0_col0\" class=\"col_heading level0 col0\" >Survived</th>\n",
       "      <th id=\"T_0c701_level0_col1\" class=\"col_heading level0 col1\" >Pclass</th>\n",
       "      <th id=\"T_0c701_level0_col2\" class=\"col_heading level0 col2\" >SibSp</th>\n",
       "      <th id=\"T_0c701_level0_col3\" class=\"col_heading level0 col3\" >Parch</th>\n",
       "      <th id=\"T_0c701_level0_col4\" class=\"col_heading level0 col4\" >Fare</th>\n",
       "      <th id=\"T_0c701_level0_col5\" class=\"col_heading level0 col5\" >Age_Cat_Label</th>\n",
       "      <th id=\"T_0c701_level0_col6\" class=\"col_heading level0 col6\" >Family</th>\n",
       "      <th id=\"T_0c701_level0_col7\" class=\"col_heading level0 col7\" >Is_Alone</th>\n",
       "      <th id=\"T_0c701_level0_col8\" class=\"col_heading level0 col8\" >Fare_Binned</th>\n",
       "      <th id=\"T_0c701_level0_col9\" class=\"col_heading level0 col9\" >Sex</th>\n",
       "      <th id=\"T_0c701_level0_col10\" class=\"col_heading level0 col10\" >Embarked</th>\n",
       "      <th id=\"T_0c701_level0_col11\" class=\"col_heading level0 col11\" >Title</th>\n",
       "    </tr>\n",
       "  </thead>\n",
       "  <tbody>\n",
       "    <tr>\n",
       "      <th id=\"T_0c701_level0_row0\" class=\"row_heading level0 row0\" >Survived</th>\n",
       "      <td id=\"T_0c701_row0_col0\" class=\"data row0 col0\" >1.000000</td>\n",
       "      <td id=\"T_0c701_row0_col1\" class=\"data row0 col1\" >-0.338481</td>\n",
       "      <td id=\"T_0c701_row0_col2\" class=\"data row0 col2\" >-0.035322</td>\n",
       "      <td id=\"T_0c701_row0_col3\" class=\"data row0 col3\" >0.081629</td>\n",
       "      <td id=\"T_0c701_row0_col4\" class=\"data row0 col4\" >0.267456</td>\n",
       "      <td id=\"T_0c701_row0_col5\" class=\"data row0 col5\" >-0.033913</td>\n",
       "      <td id=\"T_0c701_row0_col6\" class=\"data row0 col6\" >0.016639</td>\n",
       "      <td id=\"T_0c701_row0_col7\" class=\"data row0 col7\" >-0.203367</td>\n",
       "      <td id=\"T_0c701_row0_col8\" class=\"data row0 col8\" >0.305532</td>\n",
       "      <td id=\"T_0c701_row0_col9\" class=\"data row0 col9\" >-0.543351</td>\n",
       "      <td id=\"T_0c701_row0_col10\" class=\"data row0 col10\" >-0.167675</td>\n",
       "      <td id=\"T_0c701_row0_col11\" class=\"data row0 col11\" >-0.074812</td>\n",
       "    </tr>\n",
       "    <tr>\n",
       "      <th id=\"T_0c701_level0_row1\" class=\"row_heading level0 row1\" >Pclass</th>\n",
       "      <td id=\"T_0c701_row1_col0\" class=\"data row1 col0\" >-0.338481</td>\n",
       "      <td id=\"T_0c701_row1_col1\" class=\"data row1 col1\" >1.000000</td>\n",
       "      <td id=\"T_0c701_row1_col2\" class=\"data row1 col2\" >0.083081</td>\n",
       "      <td id=\"T_0c701_row1_col3\" class=\"data row1 col3\" >0.018443</td>\n",
       "      <td id=\"T_0c701_row1_col4\" class=\"data row1 col4\" >-0.605384</td>\n",
       "      <td id=\"T_0c701_row1_col5\" class=\"data row1 col5\" >-0.348179</td>\n",
       "      <td id=\"T_0c701_row1_col6\" class=\"data row1 col6\" >0.065997</td>\n",
       "      <td id=\"T_0c701_row1_col7\" class=\"data row1 col7\" >0.135207</td>\n",
       "      <td id=\"T_0c701_row1_col8\" class=\"data row1 col8\" >-0.735838</td>\n",
       "      <td id=\"T_0c701_row1_col9\" class=\"data row1 col9\" >0.131900</td>\n",
       "      <td id=\"T_0c701_row1_col10\" class=\"data row1 col10\" >0.162098</td>\n",
       "      <td id=\"T_0c701_row1_col11\" class=\"data row1 col11\" >-0.176783</td>\n",
       "    </tr>\n",
       "    <tr>\n",
       "      <th id=\"T_0c701_level0_row2\" class=\"row_heading level0 row2\" >SibSp</th>\n",
       "      <td id=\"T_0c701_row2_col0\" class=\"data row2 col0\" >-0.035322</td>\n",
       "      <td id=\"T_0c701_row2_col1\" class=\"data row2 col1\" >0.083081</td>\n",
       "      <td id=\"T_0c701_row2_col2\" class=\"data row2 col2\" >1.000000</td>\n",
       "      <td id=\"T_0c701_row2_col3\" class=\"data row2 col3\" >0.414838</td>\n",
       "      <td id=\"T_0c701_row2_col4\" class=\"data row2 col4\" >0.188532</td>\n",
       "      <td id=\"T_0c701_row2_col5\" class=\"data row2 col5\" >-0.256955</td>\n",
       "      <td id=\"T_0c701_row2_col6\" class=\"data row2 col6\" >0.890712</td>\n",
       "      <td id=\"T_0c701_row2_col7\" class=\"data row2 col7\" >-0.584471</td>\n",
       "      <td id=\"T_0c701_row2_col8\" class=\"data row2 col8\" >0.351858</td>\n",
       "      <td id=\"T_0c701_row2_col9\" class=\"data row2 col9\" >-0.114631</td>\n",
       "      <td id=\"T_0c701_row2_col10\" class=\"data row2 col10\" >0.068230</td>\n",
       "      <td id=\"T_0c701_row2_col11\" class=\"data row2 col11\" >-0.208541</td>\n",
       "    </tr>\n",
       "    <tr>\n",
       "      <th id=\"T_0c701_level0_row3\" class=\"row_heading level0 row3\" >Parch</th>\n",
       "      <td id=\"T_0c701_row3_col0\" class=\"data row3 col0\" >0.081629</td>\n",
       "      <td id=\"T_0c701_row3_col1\" class=\"data row3 col1\" >0.018443</td>\n",
       "      <td id=\"T_0c701_row3_col2\" class=\"data row3 col2\" >0.414838</td>\n",
       "      <td id=\"T_0c701_row3_col3\" class=\"data row3 col3\" >1.000000</td>\n",
       "      <td id=\"T_0c701_row3_col4\" class=\"data row3 col4\" >0.245765</td>\n",
       "      <td id=\"T_0c701_row3_col5\" class=\"data row3 col5\" >-0.181809</td>\n",
       "      <td id=\"T_0c701_row3_col6\" class=\"data row3 col6\" >0.783111</td>\n",
       "      <td id=\"T_0c701_row3_col7\" class=\"data row3 col7\" >-0.583398</td>\n",
       "      <td id=\"T_0c701_row3_col8\" class=\"data row3 col8\" >0.340103</td>\n",
       "      <td id=\"T_0c701_row3_col9\" class=\"data row3 col9\" >-0.245489</td>\n",
       "      <td id=\"T_0c701_row3_col10\" class=\"data row3 col10\" >0.039798</td>\n",
       "      <td id=\"T_0c701_row3_col11\" class=\"data row3 col11\" >-0.116282</td>\n",
       "    </tr>\n",
       "    <tr>\n",
       "      <th id=\"T_0c701_level0_row4\" class=\"row_heading level0 row4\" >Fare</th>\n",
       "      <td id=\"T_0c701_row4_col0\" class=\"data row4 col0\" >0.267456</td>\n",
       "      <td id=\"T_0c701_row4_col1\" class=\"data row4 col1\" >-0.605384</td>\n",
       "      <td id=\"T_0c701_row4_col2\" class=\"data row4 col2\" >0.188532</td>\n",
       "      <td id=\"T_0c701_row4_col3\" class=\"data row4 col3\" >0.245765</td>\n",
       "      <td id=\"T_0c701_row4_col4\" class=\"data row4 col4\" >1.000000</td>\n",
       "      <td id=\"T_0c701_row4_col5\" class=\"data row4 col5\" >0.111554</td>\n",
       "      <td id=\"T_0c701_row4_col6\" class=\"data row4 col6\" >0.251636</td>\n",
       "      <td id=\"T_0c701_row4_col7\" class=\"data row4 col7\" >-0.308787</td>\n",
       "      <td id=\"T_0c701_row4_col8\" class=\"data row4 col8\" >0.658737</td>\n",
       "      <td id=\"T_0c701_row4_col9\" class=\"data row4 col9\" >-0.205208</td>\n",
       "      <td id=\"T_0c701_row4_col10\" class=\"data row4 col10\" >-0.218803</td>\n",
       "      <td id=\"T_0c701_row4_col11\" class=\"data row4 col11\" >-0.010018</td>\n",
       "    </tr>\n",
       "    <tr>\n",
       "      <th id=\"T_0c701_level0_row5\" class=\"row_heading level0 row5\" >Age_Cat_Label</th>\n",
       "      <td id=\"T_0c701_row5_col0\" class=\"data row5 col0\" >-0.033913</td>\n",
       "      <td id=\"T_0c701_row5_col1\" class=\"data row5 col1\" >-0.348179</td>\n",
       "      <td id=\"T_0c701_row5_col2\" class=\"data row5 col2\" >-0.256955</td>\n",
       "      <td id=\"T_0c701_row5_col3\" class=\"data row5 col3\" >-0.181809</td>\n",
       "      <td id=\"T_0c701_row5_col4\" class=\"data row5 col4\" >0.111554</td>\n",
       "      <td id=\"T_0c701_row5_col5\" class=\"data row5 col5\" >1.000000</td>\n",
       "      <td id=\"T_0c701_row5_col6\" class=\"data row5 col6\" >-0.266449</td>\n",
       "      <td id=\"T_0c701_row5_col7\" class=\"data row5 col7\" >0.158531</td>\n",
       "      <td id=\"T_0c701_row5_col8\" class=\"data row5 col8\" >0.133666</td>\n",
       "      <td id=\"T_0c701_row5_col9\" class=\"data row5 col9\" >0.040262</td>\n",
       "      <td id=\"T_0c701_row5_col10\" class=\"data row5 col10\" >-0.018424</td>\n",
       "      <td id=\"T_0c701_row5_col11\" class=\"data row5 col11\" >0.511942</td>\n",
       "    </tr>\n",
       "    <tr>\n",
       "      <th id=\"T_0c701_level0_row6\" class=\"row_heading level0 row6\" >Family</th>\n",
       "      <td id=\"T_0c701_row6_col0\" class=\"data row6 col0\" >0.016639</td>\n",
       "      <td id=\"T_0c701_row6_col1\" class=\"data row6 col1\" >0.065997</td>\n",
       "      <td id=\"T_0c701_row6_col2\" class=\"data row6 col2\" >0.890712</td>\n",
       "      <td id=\"T_0c701_row6_col3\" class=\"data row6 col3\" >0.783111</td>\n",
       "      <td id=\"T_0c701_row6_col4\" class=\"data row6 col4\" >0.251636</td>\n",
       "      <td id=\"T_0c701_row6_col5\" class=\"data row6 col5\" >-0.266449</td>\n",
       "      <td id=\"T_0c701_row6_col6\" class=\"data row6 col6\" >1.000000</td>\n",
       "      <td id=\"T_0c701_row6_col7\" class=\"data row6 col7\" >-0.690922</td>\n",
       "      <td id=\"T_0c701_row6_col8\" class=\"data row6 col8\" >0.410392</td>\n",
       "      <td id=\"T_0c701_row6_col9\" class=\"data row6 col9\" >-0.200988</td>\n",
       "      <td id=\"T_0c701_row6_col10\" class=\"data row6 col10\" >0.066516</td>\n",
       "      <td id=\"T_0c701_row6_col11\" class=\"data row6 col11\" >-0.200623</td>\n",
       "    </tr>\n",
       "    <tr>\n",
       "      <th id=\"T_0c701_level0_row7\" class=\"row_heading level0 row7\" >Is_Alone</th>\n",
       "      <td id=\"T_0c701_row7_col0\" class=\"data row7 col0\" >-0.203367</td>\n",
       "      <td id=\"T_0c701_row7_col1\" class=\"data row7 col1\" >0.135207</td>\n",
       "      <td id=\"T_0c701_row7_col2\" class=\"data row7 col2\" >-0.584471</td>\n",
       "      <td id=\"T_0c701_row7_col3\" class=\"data row7 col3\" >-0.583398</td>\n",
       "      <td id=\"T_0c701_row7_col4\" class=\"data row7 col4\" >-0.308787</td>\n",
       "      <td id=\"T_0c701_row7_col5\" class=\"data row7 col5\" >0.158531</td>\n",
       "      <td id=\"T_0c701_row7_col6\" class=\"data row7 col6\" >-0.690922</td>\n",
       "      <td id=\"T_0c701_row7_col7\" class=\"data row7 col7\" >1.000000</td>\n",
       "      <td id=\"T_0c701_row7_col8\" class=\"data row7 col8\" >-0.508914</td>\n",
       "      <td id=\"T_0c701_row7_col9\" class=\"data row7 col9\" >0.303646</td>\n",
       "      <td id=\"T_0c701_row7_col10\" class=\"data row7 col10\" >0.063532</td>\n",
       "      <td id=\"T_0c701_row7_col11\" class=\"data row7 col11\" >0.015303</td>\n",
       "    </tr>\n",
       "    <tr>\n",
       "      <th id=\"T_0c701_level0_row8\" class=\"row_heading level0 row8\" >Fare_Binned</th>\n",
       "      <td id=\"T_0c701_row8_col0\" class=\"data row8 col0\" >0.305532</td>\n",
       "      <td id=\"T_0c701_row8_col1\" class=\"data row8 col1\" >-0.735838</td>\n",
       "      <td id=\"T_0c701_row8_col2\" class=\"data row8 col2\" >0.351858</td>\n",
       "      <td id=\"T_0c701_row8_col3\" class=\"data row8 col3\" >0.340103</td>\n",
       "      <td id=\"T_0c701_row8_col4\" class=\"data row8 col4\" >0.658737</td>\n",
       "      <td id=\"T_0c701_row8_col5\" class=\"data row8 col5\" >0.133666</td>\n",
       "      <td id=\"T_0c701_row8_col6\" class=\"data row8 col6\" >0.410392</td>\n",
       "      <td id=\"T_0c701_row8_col7\" class=\"data row8 col7\" >-0.508914</td>\n",
       "      <td id=\"T_0c701_row8_col8\" class=\"data row8 col8\" >1.000000</td>\n",
       "      <td id=\"T_0c701_row8_col9\" class=\"data row8 col9\" >-0.230423</td>\n",
       "      <td id=\"T_0c701_row8_col10\" class=\"data row8 col10\" >-0.099185</td>\n",
       "      <td id=\"T_0c701_row8_col11\" class=\"data row8 col11\" >0.053390</td>\n",
       "    </tr>\n",
       "    <tr>\n",
       "      <th id=\"T_0c701_level0_row9\" class=\"row_heading level0 row9\" >Sex</th>\n",
       "      <td id=\"T_0c701_row9_col0\" class=\"data row9 col0\" >-0.543351</td>\n",
       "      <td id=\"T_0c701_row9_col1\" class=\"data row9 col1\" >0.131900</td>\n",
       "      <td id=\"T_0c701_row9_col2\" class=\"data row9 col2\" >-0.114631</td>\n",
       "      <td id=\"T_0c701_row9_col3\" class=\"data row9 col3\" >-0.245489</td>\n",
       "      <td id=\"T_0c701_row9_col4\" class=\"data row9 col4\" >-0.205208</td>\n",
       "      <td id=\"T_0c701_row9_col5\" class=\"data row9 col5\" >0.040262</td>\n",
       "      <td id=\"T_0c701_row9_col6\" class=\"data row9 col6\" >-0.200988</td>\n",
       "      <td id=\"T_0c701_row9_col7\" class=\"data row9 col7\" >0.303646</td>\n",
       "      <td id=\"T_0c701_row9_col8\" class=\"data row9 col8\" >-0.230423</td>\n",
       "      <td id=\"T_0c701_row9_col9\" class=\"data row9 col9\" >1.000000</td>\n",
       "      <td id=\"T_0c701_row9_col10\" class=\"data row9 col10\" >0.108262</td>\n",
       "      <td id=\"T_0c701_row9_col11\" class=\"data row9 col11\" >0.064185</td>\n",
       "    </tr>\n",
       "    <tr>\n",
       "      <th id=\"T_0c701_level0_row10\" class=\"row_heading level0 row10\" >Embarked</th>\n",
       "      <td id=\"T_0c701_row10_col0\" class=\"data row10 col0\" >-0.167675</td>\n",
       "      <td id=\"T_0c701_row10_col1\" class=\"data row10 col1\" >0.162098</td>\n",
       "      <td id=\"T_0c701_row10_col2\" class=\"data row10 col2\" >0.068230</td>\n",
       "      <td id=\"T_0c701_row10_col3\" class=\"data row10 col3\" >0.039798</td>\n",
       "      <td id=\"T_0c701_row10_col4\" class=\"data row10 col4\" >-0.218803</td>\n",
       "      <td id=\"T_0c701_row10_col5\" class=\"data row10 col5\" >-0.018424</td>\n",
       "      <td id=\"T_0c701_row10_col6\" class=\"data row10 col6\" >0.066516</td>\n",
       "      <td id=\"T_0c701_row10_col7\" class=\"data row10 col7\" >0.063532</td>\n",
       "      <td id=\"T_0c701_row10_col8\" class=\"data row10 col8\" >-0.099185</td>\n",
       "      <td id=\"T_0c701_row10_col9\" class=\"data row10 col9\" >0.108262</td>\n",
       "      <td id=\"T_0c701_row10_col10\" class=\"data row10 col10\" >1.000000</td>\n",
       "      <td id=\"T_0c701_row10_col11\" class=\"data row10 col11\" >0.010744</td>\n",
       "    </tr>\n",
       "    <tr>\n",
       "      <th id=\"T_0c701_level0_row11\" class=\"row_heading level0 row11\" >Title</th>\n",
       "      <td id=\"T_0c701_row11_col0\" class=\"data row11 col0\" >-0.074812</td>\n",
       "      <td id=\"T_0c701_row11_col1\" class=\"data row11 col1\" >-0.176783</td>\n",
       "      <td id=\"T_0c701_row11_col2\" class=\"data row11 col2\" >-0.208541</td>\n",
       "      <td id=\"T_0c701_row11_col3\" class=\"data row11 col3\" >-0.116282</td>\n",
       "      <td id=\"T_0c701_row11_col4\" class=\"data row11 col4\" >-0.010018</td>\n",
       "      <td id=\"T_0c701_row11_col5\" class=\"data row11 col5\" >0.511942</td>\n",
       "      <td id=\"T_0c701_row11_col6\" class=\"data row11 col6\" >-0.200623</td>\n",
       "      <td id=\"T_0c701_row11_col7\" class=\"data row11 col7\" >0.015303</td>\n",
       "      <td id=\"T_0c701_row11_col8\" class=\"data row11 col8\" >0.053390</td>\n",
       "      <td id=\"T_0c701_row11_col9\" class=\"data row11 col9\" >0.064185</td>\n",
       "      <td id=\"T_0c701_row11_col10\" class=\"data row11 col10\" >0.010744</td>\n",
       "      <td id=\"T_0c701_row11_col11\" class=\"data row11 col11\" >1.000000</td>\n",
       "    </tr>\n",
       "  </tbody>\n",
       "</table>\n"
      ],
      "text/plain": [
       "<pandas.io.formats.style.Styler at 0x20c5690ed10>"
      ]
     },
     "execution_count": 50,
     "metadata": {},
     "output_type": "execute_result"
    }
   ],
   "source": [
    "df_corr_labeled.corr().style.applymap(color_red)"
   ]
  },
  {
   "cell_type": "markdown",
   "id": "8a0b2a92-f8c5-4f7f-a055-c926816c3fe9",
   "metadata": {},
   "source": [
    "**As clearly expected, SibSp-Parch-Family, may have a multicollinearity since they are linked together, However it is on the edge, so i decide to continue as like this, also i will try to run the models with dropping**"
   ]
  },
  {
   "cell_type": "markdown",
   "id": "8bbceba2-b479-4a4d-8aeb-50107fd728ba",
   "metadata": {},
   "source": [
    "## Inferences and Questions?"
   ]
  },
  {
   "cell_type": "markdown",
   "id": "37af33d2-c819-4ed5-af20-1f9e1e85e5ff",
   "metadata": {
    "tags": []
   },
   "source": [
    "### Gender and Survival Rate"
   ]
  },
  {
   "cell_type": "code",
   "execution_count": 51,
   "id": "a72b8e95-1da2-402d-9e02-309b91f06eee",
   "metadata": {},
   "outputs": [
    {
     "data": {
      "image/png": "[encoded data removed]",
      "text/plain": [
       "<Figure size 500x400 with 1 Axes>"
      ]
     },
     "metadata": {},
     "output_type": "display_data"
    }
   ],
   "source": [
    "survival_ratio_gender = df_train.groupby('Sex')['Survived'].mean()\n",
    "\n",
    "# Visualize the survival ratio with labels\n",
    "plt.figure(figsize=(5, 4))\n",
    "sns.barplot(x=survival_ratio_gender.index, y=survival_ratio_gender.values, palette='Set1')\n",
    "plt.title('Survival Ratio by Gender')\n",
    "plt.xlabel('Survived')\n",
    "plt.ylabel('Survival Ratio Ratio')\n",
    "plt.ylim(0,1)\n",
    "\n",
    "for index, value in enumerate(survival_ratio_gender):\n",
    "    plt.text(index, value, f'{value:.2f}', ha='center', va='bottom')\n",
    "    \n",
    "plt.show()"
   ]
  },
  {
   "cell_type": "markdown",
   "id": "bc4e751a-7655-450a-bfc3-7853351fead2",
   "metadata": {
    "tags": []
   },
   "source": [
    "**Females seem to have almost 4 times higher possibility to survive than males**"
   ]
  },
  {
   "cell_type": "markdown",
   "id": "ae24bae7-887c-4b3b-a706-a3a98ea2ef6c",
   "metadata": {},
   "source": [
    "### Survival Rates by Class"
   ]
  },
  {
   "cell_type": "code",
   "execution_count": 52,
   "id": "a9549120-12d2-4731-bfac-456aa00b0f24",
   "metadata": {
    "tags": []
   },
   "outputs": [
    {
     "data": {
      "image/png": "[encoded data removed]",
      "text/plain": [
       "<Figure size 500x400 with 1 Axes>"
      ]
     },
     "metadata": {},
     "output_type": "display_data"
    }
   ],
   "source": [
    "survival_ratio_pclass = df_train.groupby('Pclass')['Survived'].mean()\n",
    "\n",
    "# Visualize the survival ratio with labels\n",
    "plt.figure(figsize=(5, 4))\n",
    "sns.barplot(x=survival_ratio_pclass.index, y=survival_ratio_pclass.values, palette='Set1')\n",
    "plt.title('Survival Ratio by Class')\n",
    "plt.xlabel('Survived')\n",
    "plt.ylabel('Survival Ratio')\n",
    "plt.ylim(0,1)\n",
    "\n",
    "for index, value in enumerate(survival_ratio_pclass):\n",
    "    plt.text(index, value, f'{value:.2f}', ha='center', va='bottom')\n",
    "    \n",
    "plt.show()"
   ]
  },
  {
   "cell_type": "markdown",
   "id": "9a82cf88-ace1-498b-a817-9f326368dc7e",
   "metadata": {},
   "source": [
    "**As expected, higher class has a higher survival rate. 1st class travellers are 3 times high possible to survive than 3rd class passengers**"
   ]
  },
  {
   "cell_type": "markdown",
   "id": "6da4bbff-c9b3-4e86-9008-0d0db605fa1f",
   "metadata": {},
   "source": [
    "### Travel Alone vs. Family Travellers"
   ]
  },
  {
   "cell_type": "code",
   "execution_count": 53,
   "id": "c2e93306-d25d-47d0-aa85-d5e5d23ca25e",
   "metadata": {
    "tags": []
   },
   "outputs": [
    {
     "data": {
      "image/png": "[encoded data removed]",
      "text/plain": [
       "<Figure size 500x400 with 1 Axes>"
      ]
     },
     "metadata": {},
     "output_type": "display_data"
    }
   ],
   "source": [
    "survival_ratio_family = df_train.groupby('Family')['Survived'].mean()\n",
    "\n",
    "# Visualize the survival ratio with labels\n",
    "plt.figure(figsize=(5, 4))\n",
    "sns.barplot(x=survival_ratio_family.index, y=survival_ratio_family.values, palette='Set1')\n",
    "plt.title('Survival Ratio by family')\n",
    "plt.xlabel('Survived')\n",
    "plt.ylabel('Survival Ratio by Family Members')\n",
    "plt.ylim(0,1)\n",
    "\n",
    "for index, value in enumerate(survival_ratio_family):\n",
    "    plt.text(index, value, f'{value:.2f}', ha='center', va='bottom')\n",
    "    \n",
    "plt.show()"
   ]
  },
  {
   "cell_type": "markdown",
   "id": "77cfa2c6-de6f-4c06-8c87-c76a3c09cb3b",
   "metadata": {},
   "source": [
    "### Survival and Age"
   ]
  },
  {
   "cell_type": "code",
   "execution_count": 54,
   "id": "525b16c6-74d0-4138-bd00-e008ebcf6742",
   "metadata": {
    "tags": []
   },
   "outputs": [
    {
     "data": {
      "image/png": "[encoded data removed]",
      "text/plain": [
       "<Figure size 500x400 with 1 Axes>"
      ]
     },
     "metadata": {},
     "output_type": "display_data"
    }
   ],
   "source": [
    "survival_ratio_age = df_train.groupby('Age_Category')['Survived'].mean()\n",
    "\n",
    "# Visualize the survival ratio with labels\n",
    "plt.figure(figsize=(5, 4))\n",
    "sns.barplot(x=survival_ratio_age.index, y=survival_ratio_age.values, palette='Set1')\n",
    "plt.title('Survival Ratio by age')\n",
    "plt.xticks(rotation=45)\n",
    "plt.xlabel('Survived')\n",
    "plt.ylabel('Survival Ratio by age categories')\n",
    "plt.ylim(0,1)\n",
    "\n",
    "for index, value in enumerate(survival_ratio_age):\n",
    "    plt.text(index, value, f'{value:.2f}', ha='center', va='bottom')\n",
    "    \n",
    "plt.show()"
   ]
  },
  {
   "cell_type": "markdown",
   "id": "e63fc654-7db6-4dda-a68b-c032d6608d11",
   "metadata": {},
   "source": [
    "### Ticket Fares and Survival"
   ]
  },
  {
   "cell_type": "code",
   "execution_count": 55,
   "id": "caf8f56b-85ca-49d9-9135-0be1ea94e713",
   "metadata": {
    "tags": []
   },
   "outputs": [
    {
     "data": {
      "image/png": "[encoded data removed]",
      "text/plain": [
       "<Figure size 1500x400 with 1 Axes>"
      ]
     },
     "metadata": {},
     "output_type": "display_data"
    }
   ],
   "source": [
    "fig = plt.figure(figsize=(15,4))\n",
    "sns.kdeplot(data=df_train, x='Fare', hue='Survived', common_norm=True, fill=True )  \n",
    "plt.xlim(0, 300)\n",
    "plt.grid()\n",
    "plt.show()"
   ]
  },
  {
   "cell_type": "markdown",
   "id": "f426298b-1a1b-4168-937a-86c8be981153",
   "metadata": {},
   "source": [
    "**After 40 dollars, survival possibility surpass dying possibility**"
   ]
  },
  {
   "cell_type": "code",
   "execution_count": 56,
   "id": "5dee3d3b-974b-43c8-a78f-370ff8bcc1ed",
   "metadata": {
    "tags": []
   },
   "outputs": [
    {
     "data": {
      "image/png": "[encoded data removed]",
      "text/plain": [
       "<Figure size 1200x400 with 1 Axes>"
      ]
     },
     "metadata": {},
     "output_type": "display_data"
    }
   ],
   "source": [
    "fig = plt.figure(figsize=(12,4))\n",
    "sns.boxplot(data=df_train, x='Fare', y='Survived', orient='h')\n",
    "plt.title('Ticket Fares vs Survival')\n",
    "plt.show()"
   ]
  },
  {
   "cell_type": "markdown",
   "id": "34851735-2302-469b-9169-dda674b72ba1",
   "metadata": {},
   "source": [
    "- **75% of the passengers who died, has a ticket price of 25 or less**  \n",
    "- **On the other hand, half of the passengers who survived, paid more than this 25 amount**  \n",
    "- **Its obvious that as the fare increase, survival rate increa as well**"
   ]
  },
  {
   "cell_type": "code",
   "execution_count": 57,
   "id": "1c71d4b3-3ae5-4535-a63f-558b0dbdcc54",
   "metadata": {
    "tags": []
   },
   "outputs": [
    {
     "data": {
      "image/png": "[encoded data removed]",
      "text/plain": [
       "<Figure size 500x400 with 1 Axes>"
      ]
     },
     "metadata": {},
     "output_type": "display_data"
    }
   ],
   "source": [
    "survival_ratio_fare_bins = df_train.groupby('Fare_Binned')['Survived'].mean()\n",
    "\n",
    "# Visualize the survival ratio with labels\n",
    "plt.figure(figsize=(5, 4))\n",
    "sns.barplot(x=survival_ratio_fare_bins.index, y=survival_ratio_fare_bins.values, palette='Set1')\n",
    "plt.title('Survival Ratio by Fare Bins')\n",
    "plt.xticks(rotation=45)\n",
    "plt.xlabel('Survived')\n",
    "plt.ylabel('Survival Ratio by fare Bins')\n",
    "plt.ylim(0,1)\n",
    "\n",
    "for index, value in enumerate(survival_ratio_fare_bins):\n",
    "    plt.text(index, value, f'{value:.2f}', ha='center', va='bottom')\n",
    "    \n",
    "plt.show()"
   ]
  },
  {
   "cell_type": "markdown",
   "id": "c72684fa-fa05-4c52-b081-3145dfedf2cb",
   "metadata": {},
   "source": [
    "### Titles and Survivals"
   ]
  },
  {
   "cell_type": "code",
   "execution_count": 58,
   "id": "0dbd2453-228e-4a9c-8e2d-4b2a9128f55b",
   "metadata": {
    "tags": []
   },
   "outputs": [
    {
     "data": {
      "image/png": "[encoded data removed]",
      "text/plain": [
       "<Figure size 500x400 with 1 Axes>"
      ]
     },
     "metadata": {},
     "output_type": "display_data"
    }
   ],
   "source": [
    "survival_ratio_title = df_train.groupby('Title')['Survived'].mean()\n",
    "\n",
    "# Visualize the survival ratio with labels\n",
    "plt.figure(figsize=(5, 4))\n",
    "sns.barplot(x=survival_ratio_title.index, y=survival_ratio_title.values, palette='Set1')\n",
    "plt.title('Survival Ratio by title')\n",
    "plt.xticks(rotation=45)\n",
    "plt.xlabel('Survived')\n",
    "plt.ylabel('Survival Ratio by title categories')\n",
    "plt.ylim(0,1)\n",
    "\n",
    "for index, value in enumerate(survival_ratio_title):\n",
    "    plt.text(index, value, f'{value:.2f}', ha='center', va='bottom')\n",
    "    \n",
    "plt.show()"
   ]
  },
  {
   "cell_type": "code",
   "execution_count": 59,
   "id": "4ce65585-ae3b-4e29-9385-a532daa51d99",
   "metadata": {
    "tags": []
   },
   "outputs": [
    {
     "data": {
      "image/png": "[encoded data removed]",
      "text/plain": [
       "<Figure size 500x400 with 1 Axes>"
      ]
     },
     "metadata": {},
     "output_type": "display_data"
    }
   ],
   "source": [
    "survival_ratio_special_title = df_train[df_train['Title']=='Special_title'].groupby('Sex')['Survived'].mean()\n",
    "\n",
    "# Visualize the survival ratio with labels\n",
    "plt.figure(figsize=(5, 4))\n",
    "sns.barplot(x=survival_ratio_special_title.index, y=survival_ratio_special_title.values, palette='Set1')\n",
    "plt.title('Survival Ratio by Special title and Gender')\n",
    "plt.xticks(rotation=45)\n",
    "plt.xlabel('Survived')\n",
    "plt.ylabel('Survival Ratio by title categories and Gender')\n",
    "\n",
    "\n",
    "for index, value in enumerate(survival_ratio_special_title):\n",
    "    plt.text(index, value, f'{value:.2f}', ha='center', va='bottom')\n",
    "    \n",
    "plt.show()"
   ]
  },
  {
   "cell_type": "markdown",
   "id": "663e651c-c318-4c28-8007-fb7681558815",
   "metadata": {},
   "source": [
    "### Genders, Age and Survival"
   ]
  },
  {
   "cell_type": "code",
   "execution_count": 60,
   "id": "686eca59-8e5f-4f26-ab0c-976edd2cde08",
   "metadata": {
    "tags": []
   },
   "outputs": [
    {
     "data": {
      "image/png": "[encoded data removed]",
      "text/plain": [
       "<Figure size 640x480 with 1 Axes>"
      ]
     },
     "metadata": {},
     "output_type": "display_data"
    }
   ],
   "source": [
    "survival_ratio_gender_pclass = df_train.groupby(['Sex', 'Age_Category'])['Survived'].mean()\n",
    "\n",
    "sns.barplot(data=df_train, x='Age_Category', y='Survived', hue='Sex', ci=None)\n",
    "plt.grid()\n",
    "plt.show()"
   ]
  },
  {
   "cell_type": "markdown",
   "id": "da4232cc-cb84-4b0d-a2a0-8f51ac18602d",
   "metadata": {},
   "source": [
    "* Child survival rates are almost identical no matter the genders  \n",
    "* All other age groups: Females have far higher survival rates\n",
    "* Males having special titles such as Colonel, Sir etc have almost 70% higher survival rates. (Normally its around %17 for a second and first class travelling male but its %25 for special titles)"
   ]
  },
  {
   "cell_type": "markdown",
   "id": "7c9c4f25-b9aa-4d4e-8171-3eb271fe66fc",
   "metadata": {
    "tags": []
   },
   "source": [
    "### Gender, Classes and Survival"
   ]
  },
  {
   "cell_type": "code",
   "execution_count": 61,
   "id": "140035cd-b5fb-459c-af11-a2c0057fd080",
   "metadata": {
    "tags": []
   },
   "outputs": [
    {
     "data": {
      "image/png": "[encoded data removed]",
      "text/plain": [
       "<Figure size 640x480 with 1 Axes>"
      ]
     },
     "metadata": {},
     "output_type": "display_data"
    }
   ],
   "source": [
    "survival_ratio_gender_pclass = df_train.groupby(['Sex', 'Pclass'])['Survived'].mean()\n",
    "\n",
    "sns.barplot(data=df_train, x='Pclass', y='Survived', hue='Sex', ci=None)\n",
    "plt.grid()\n",
    "plt.show()"
   ]
  },
  {
   "cell_type": "markdown",
   "id": "5400fd39-ce17-40c4-9550-244862a957a3",
   "metadata": {},
   "source": [
    "**Female passengers traveling first and Second class have a survival rate of ove 90%**  \n",
    "**whereas Males on second and Third Class is around 16%**"
   ]
  },
  {
   "cell_type": "markdown",
   "id": "dbda4149-3ed2-4694-b478-d51877279093",
   "metadata": {
    "tags": []
   },
   "source": [
    "# 5. Model Building"
   ]
  },
  {
   "cell_type": "markdown",
   "id": "d6405787-8129-4592-bc85-9d0767ef7b30",
   "metadata": {},
   "source": [
    "## Data Encoding"
   ]
  },
  {
   "cell_type": "code",
   "execution_count": 62,
   "id": "e0839c1b-bcca-4ac2-ae68-d50859238385",
   "metadata": {
    "tags": []
   },
   "outputs": [],
   "source": [
    "# This was staying for better visualization and EDA\n",
    "df_train.drop(columns=['Age_Category', 'Fare', 'Parch'], inplace=True)\n",
    "df_test.drop(columns=['Age_Category', 'Fare', 'Parch'], inplace=True)"
   ]
  },
  {
   "cell_type": "code",
   "execution_count": 63,
   "id": "208f5061-f3c9-4dbd-a15f-f5513621eb2c",
   "metadata": {
    "tags": []
   },
   "outputs": [
    {
     "data": {
      "text/plain": [
       "Index(['Sex', 'Embarked', 'Title'], dtype='object')"
      ]
     },
     "execution_count": 63,
     "metadata": {},
     "output_type": "execute_result"
    }
   ],
   "source": [
    "categorical_features = df_train.select_dtypes(include=['object', 'category']).columns\n",
    "categorical_features"
   ]
  },
  {
   "cell_type": "code",
   "execution_count": 64,
   "id": "dbe3a6ca-a2d1-43b2-9fc0-94d936bdb710",
   "metadata": {
    "tags": []
   },
   "outputs": [
    {
     "name": "stdout",
     "output_type": "stream",
     "text": [
      "(891, 13)\n",
      "(891,)\n",
      "(418, 13)\n"
     ]
    }
   ],
   "source": [
    "dummies_df_train = pd.get_dummies(df_train, categorical_features, drop_first=True)\n",
    "dummies_df_test = pd.get_dummies(df_test, categorical_features, drop_first=True)\n",
    "\n",
    "X = dummies_df_train.drop(columns=['Survived'])\n",
    "y = df_train['Survived']\n",
    "X_validation = dummies_df_test.copy()\n",
    "\n",
    "print(X.shape)\n",
    "print(y.shape)\n",
    "print(X_validation.shape)"
   ]
  },
  {
   "cell_type": "code",
   "execution_count": 65,
   "id": "0dfcadbf-b0f1-49cd-a961-b0ffe9fcc4ee",
   "metadata": {
    "tags": []
   },
   "outputs": [
    {
     "data": {
      "text/html": [
       "<div>\n",
       "<style scoped>\n",
       "    .dataframe tbody tr th:only-of-type {\n",
       "        vertical-align: middle;\n",
       "    }\n",
       "\n",
       "    .dataframe tbody tr th {\n",
       "        vertical-align: top;\n",
       "    }\n",
       "\n",
       "    .dataframe thead th {\n",
       "        text-align: right;\n",
       "    }\n",
       "</style>\n",
       "<table border=\"1\" class=\"dataframe\">\n",
       "  <thead>\n",
       "    <tr style=\"text-align: right;\">\n",
       "      <th></th>\n",
       "      <th>Pclass</th>\n",
       "      <th>SibSp</th>\n",
       "      <th>Age_Cat_Label</th>\n",
       "      <th>Family</th>\n",
       "      <th>Is_Alone</th>\n",
       "      <th>Fare_Binned</th>\n",
       "      <th>Sex_male</th>\n",
       "      <th>Embarked_Q</th>\n",
       "      <th>Embarked_S</th>\n",
       "      <th>Title_Miss</th>\n",
       "      <th>Title_Mr.</th>\n",
       "      <th>Title_Mrs.</th>\n",
       "      <th>Title_Special_title</th>\n",
       "    </tr>\n",
       "  </thead>\n",
       "  <tbody>\n",
       "    <tr>\n",
       "      <th>558</th>\n",
       "      <td>1</td>\n",
       "      <td>1</td>\n",
       "      <td>3</td>\n",
       "      <td>3</td>\n",
       "      <td>0</td>\n",
       "      <td>5</td>\n",
       "      <td>0</td>\n",
       "      <td>0</td>\n",
       "      <td>1</td>\n",
       "      <td>0</td>\n",
       "      <td>0</td>\n",
       "      <td>1</td>\n",
       "      <td>0</td>\n",
       "    </tr>\n",
       "    <tr>\n",
       "      <th>582</th>\n",
       "      <td>2</td>\n",
       "      <td>0</td>\n",
       "      <td>5</td>\n",
       "      <td>1</td>\n",
       "      <td>1</td>\n",
       "      <td>4</td>\n",
       "      <td>1</td>\n",
       "      <td>0</td>\n",
       "      <td>1</td>\n",
       "      <td>0</td>\n",
       "      <td>1</td>\n",
       "      <td>0</td>\n",
       "      <td>0</td>\n",
       "    </tr>\n",
       "    <tr>\n",
       "      <th>208</th>\n",
       "      <td>3</td>\n",
       "      <td>0</td>\n",
       "      <td>1</td>\n",
       "      <td>1</td>\n",
       "      <td>1</td>\n",
       "      <td>1</td>\n",
       "      <td>0</td>\n",
       "      <td>1</td>\n",
       "      <td>0</td>\n",
       "      <td>1</td>\n",
       "      <td>0</td>\n",
       "      <td>0</td>\n",
       "      <td>0</td>\n",
       "    </tr>\n",
       "  </tbody>\n",
       "</table>\n",
       "</div>"
      ],
      "text/plain": [
       "     Pclass  SibSp  Age_Cat_Label  Family  Is_Alone  Fare_Binned  Sex_male  \\\n",
       "558       1      1              3       3         0            5         0   \n",
       "582       2      0              5       1         1            4         1   \n",
       "208       3      0              1       1         1            1         0   \n",
       "\n",
       "     Embarked_Q  Embarked_S  Title_Miss  Title_Mr.  Title_Mrs.  \\\n",
       "558           0           1           0          0           1   \n",
       "582           0           1           0          1           0   \n",
       "208           1           0           1          0           0   \n",
       "\n",
       "     Title_Special_title  \n",
       "558                    0  \n",
       "582                    0  \n",
       "208                    0  "
      ]
     },
     "execution_count": 65,
     "metadata": {},
     "output_type": "execute_result"
    }
   ],
   "source": [
    "X.sample(3)"
   ]
  },
  {
   "cell_type": "code",
   "execution_count": 66,
   "id": "99a53d52-0452-4272-852e-65366f1387cc",
   "metadata": {
    "tags": []
   },
   "outputs": [
    {
     "data": {
      "text/html": [
       "<div>\n",
       "<style scoped>\n",
       "    .dataframe tbody tr th:only-of-type {\n",
       "        vertical-align: middle;\n",
       "    }\n",
       "\n",
       "    .dataframe tbody tr th {\n",
       "        vertical-align: top;\n",
       "    }\n",
       "\n",
       "    .dataframe thead th {\n",
       "        text-align: right;\n",
       "    }\n",
       "</style>\n",
       "<table border=\"1\" class=\"dataframe\">\n",
       "  <thead>\n",
       "    <tr style=\"text-align: right;\">\n",
       "      <th></th>\n",
       "      <th>Pclass</th>\n",
       "      <th>SibSp</th>\n",
       "      <th>Age_Cat_Label</th>\n",
       "      <th>Family</th>\n",
       "      <th>Is_Alone</th>\n",
       "      <th>Fare_Binned</th>\n",
       "      <th>Sex_male</th>\n",
       "      <th>Embarked_Q</th>\n",
       "      <th>Embarked_S</th>\n",
       "      <th>Title_Miss</th>\n",
       "      <th>Title_Mr.</th>\n",
       "      <th>Title_Mrs.</th>\n",
       "      <th>Title_Special_title</th>\n",
       "    </tr>\n",
       "  </thead>\n",
       "  <tbody>\n",
       "    <tr>\n",
       "      <th>14</th>\n",
       "      <td>1</td>\n",
       "      <td>1</td>\n",
       "      <td>4</td>\n",
       "      <td>2</td>\n",
       "      <td>0</td>\n",
       "      <td>5</td>\n",
       "      <td>0</td>\n",
       "      <td>0</td>\n",
       "      <td>1</td>\n",
       "      <td>0</td>\n",
       "      <td>0</td>\n",
       "      <td>1</td>\n",
       "      <td>0</td>\n",
       "    </tr>\n",
       "    <tr>\n",
       "      <th>125</th>\n",
       "      <td>3</td>\n",
       "      <td>0</td>\n",
       "      <td>1</td>\n",
       "      <td>2</td>\n",
       "      <td>0</td>\n",
       "      <td>3</td>\n",
       "      <td>0</td>\n",
       "      <td>0</td>\n",
       "      <td>1</td>\n",
       "      <td>1</td>\n",
       "      <td>0</td>\n",
       "      <td>0</td>\n",
       "      <td>0</td>\n",
       "    </tr>\n",
       "    <tr>\n",
       "      <th>292</th>\n",
       "      <td>3</td>\n",
       "      <td>0</td>\n",
       "      <td>2</td>\n",
       "      <td>1</td>\n",
       "      <td>1</td>\n",
       "      <td>1</td>\n",
       "      <td>1</td>\n",
       "      <td>0</td>\n",
       "      <td>0</td>\n",
       "      <td>0</td>\n",
       "      <td>1</td>\n",
       "      <td>0</td>\n",
       "      <td>0</td>\n",
       "    </tr>\n",
       "  </tbody>\n",
       "</table>\n",
       "</div>"
      ],
      "text/plain": [
       "     Pclass  SibSp  Age_Cat_Label  Family  Is_Alone  Fare_Binned  Sex_male  \\\n",
       "14        1      1              4       2         0            5         0   \n",
       "125       3      0              1       2         0            3         0   \n",
       "292       3      0              2       1         1            1         1   \n",
       "\n",
       "     Embarked_Q  Embarked_S  Title_Miss  Title_Mr.  Title_Mrs.  \\\n",
       "14            0           1           0          0           1   \n",
       "125           0           1           1          0           0   \n",
       "292           0           0           0          1           0   \n",
       "\n",
       "     Title_Special_title  \n",
       "14                     0  \n",
       "125                    0  \n",
       "292                    0  "
      ]
     },
     "execution_count": 66,
     "metadata": {},
     "output_type": "execute_result"
    }
   ],
   "source": [
    "X_validation.sample(3)"
   ]
  },
  {
   "cell_type": "code",
   "execution_count": 67,
   "id": "54ffb37b-5667-4a9d-bde6-bd102b21b68e",
   "metadata": {
    "tags": []
   },
   "outputs": [
    {
     "data": {
      "text/plain": [
       "157    0.0\n",
       "656    0.0\n",
       "881    0.0\n",
       "Name: Survived, dtype: float64"
      ]
     },
     "execution_count": 67,
     "metadata": {},
     "output_type": "execute_result"
    }
   ],
   "source": [
    "y.sample(3)"
   ]
  },
  {
   "cell_type": "markdown",
   "id": "87a69e27-4b43-4255-9100-fe6aa599af17",
   "metadata": {},
   "source": [
    "## Train | Test Split"
   ]
  },
  {
   "cell_type": "code",
   "execution_count": 68,
   "id": "bc456ab8-9263-4e5e-95af-8c3a56939391",
   "metadata": {
    "tags": []
   },
   "outputs": [],
   "source": [
    "X_train, X_test, y_train, y_test = train_test_split(X, y, test_size=0.2, random_state=42)"
   ]
  },
  {
   "cell_type": "markdown",
   "id": "3272e96f-695b-4715-9e3f-9c3fc89ecf3a",
   "metadata": {},
   "source": [
    "## Scaling"
   ]
  },
  {
   "cell_type": "code",
   "execution_count": 69,
   "id": "a4e35ac9-3f30-4b1d-af36-ebb5cab0aff7",
   "metadata": {
    "tags": []
   },
   "outputs": [],
   "source": [
    "scaler = StandardScaler()\n",
    "X_train_scaled = scaler.fit_transform(X_train)\n",
    "X_test_scaled = scaler.transform(X_test)\n",
    "X_validation_scaled = scaler.transform(X_validation)"
   ]
  },
  {
   "cell_type": "markdown",
   "id": "033e383b-158d-4c3a-b619-01fdc11117d5",
   "metadata": {},
   "source": [
    "## Model Runs"
   ]
  },
  {
   "cell_type": "code",
   "execution_count": 70,
   "id": "ba8cc0cf-cde1-40bb-a6e3-d94c97384ea7",
   "metadata": {},
   "outputs": [],
   "source": [
    "algorithms = [\n",
    "    LogisticRegression(),\n",
    "    DecisionTreeClassifier(random_state=42),\n",
    "    ExtraTreeClassifier(random_state=42),\n",
    "    RandomForestClassifier(random_state=42),\n",
    "    XGBClassifier(random_state=42),\n",
    "    GradientBoostingClassifier(random_state=42),\n",
    "    SVC(random_state=42),\n",
    "    KNeighborsClassifier()\n",
    "]"
   ]
  },
  {
   "cell_type": "code",
   "execution_count": 71,
   "id": "0116d4db-9933-4ee6-9d15-e831c4c06a7f",
   "metadata": {},
   "outputs": [
    {
     "data": {
      "text/html": [
       "<div>\n",
       "<style scoped>\n",
       "    .dataframe tbody tr th:only-of-type {\n",
       "        vertical-align: middle;\n",
       "    }\n",
       "\n",
       "    .dataframe tbody tr th {\n",
       "        vertical-align: top;\n",
       "    }\n",
       "\n",
       "    .dataframe thead th {\n",
       "        text-align: right;\n",
       "    }\n",
       "</style>\n",
       "<table border=\"1\" class=\"dataframe\">\n",
       "  <thead>\n",
       "    <tr style=\"text-align: right;\">\n",
       "      <th></th>\n",
       "      <th>Algorithm</th>\n",
       "      <th>Train_Accuracy</th>\n",
       "      <th>Test_Accuracy</th>\n",
       "    </tr>\n",
       "  </thead>\n",
       "  <tbody>\n",
       "    <tr>\n",
       "      <th>0</th>\n",
       "      <td>RandomForestClassifier</td>\n",
       "      <td>0.904494</td>\n",
       "      <td>0.826816</td>\n",
       "    </tr>\n",
       "    <tr>\n",
       "      <th>1</th>\n",
       "      <td>XGBClassifier</td>\n",
       "      <td>0.901685</td>\n",
       "      <td>0.826816</td>\n",
       "    </tr>\n",
       "    <tr>\n",
       "      <th>2</th>\n",
       "      <td>DecisionTreeClassifier</td>\n",
       "      <td>0.904494</td>\n",
       "      <td>0.821229</td>\n",
       "    </tr>\n",
       "    <tr>\n",
       "      <th>3</th>\n",
       "      <td>GradientBoostingClassifier</td>\n",
       "      <td>0.867978</td>\n",
       "      <td>0.821229</td>\n",
       "    </tr>\n",
       "    <tr>\n",
       "      <th>4</th>\n",
       "      <td>LogisticRegression</td>\n",
       "      <td>0.832865</td>\n",
       "      <td>0.815642</td>\n",
       "    </tr>\n",
       "    <tr>\n",
       "      <th>5</th>\n",
       "      <td>SVC</td>\n",
       "      <td>0.846910</td>\n",
       "      <td>0.810056</td>\n",
       "    </tr>\n",
       "    <tr>\n",
       "      <th>7</th>\n",
       "      <td>KNeighborsClassifier</td>\n",
       "      <td>0.855337</td>\n",
       "      <td>0.804469</td>\n",
       "    </tr>\n",
       "    <tr>\n",
       "      <th>6</th>\n",
       "      <td>ExtraTreeClassifier</td>\n",
       "      <td>0.904494</td>\n",
       "      <td>0.793296</td>\n",
       "    </tr>\n",
       "  </tbody>\n",
       "</table>\n",
       "</div>"
      ],
      "text/plain": [
       "                    Algorithm  Train_Accuracy  Test_Accuracy\n",
       "0      RandomForestClassifier        0.904494       0.826816\n",
       "1               XGBClassifier        0.901685       0.826816\n",
       "2      DecisionTreeClassifier        0.904494       0.821229\n",
       "3  GradientBoostingClassifier        0.867978       0.821229\n",
       "4          LogisticRegression        0.832865       0.815642\n",
       "5                         SVC        0.846910       0.810056\n",
       "7        KNeighborsClassifier        0.855337       0.804469\n",
       "6         ExtraTreeClassifier        0.904494       0.793296"
      ]
     },
     "execution_count": 71,
     "metadata": {},
     "output_type": "execute_result"
    }
   ],
   "source": [
    "model_scores = pd.DataFrame(columns=['Algorithm', 'Train_Accuracy', 'Test_Accuracy'])\n",
    "\n",
    "for algorithm in algorithms:\n",
    "    \n",
    "    algorithm_score = {}\n",
    "    algorithm_name = algorithm.__class__.__name__\n",
    "    \n",
    "    model = algorithm\n",
    "    model.fit(X_train_scaled, y_train)\n",
    "    \n",
    "    y_pred = model.predict(X_test_scaled)\n",
    "    y_train_pred = model.predict(X_train_scaled)\n",
    "    \n",
    "    accuracy_test = accuracy_score(y_test, y_pred)\n",
    "    accuracy_train = accuracy_score(y_train, y_train_pred)\n",
    "    \n",
    "    algorithm_score['Algorithm'] = algorithm_name\n",
    "    algorithm_score['Train_Accuracy'] = accuracy_train\n",
    "    algorithm_score['Test_Accuracy'] = accuracy_test\n",
    "    \n",
    "    model_scores = model_scores.append(algorithm_score, ignore_index=True)\n",
    "    model_scores = model_scores.sort_values(by='Test_Accuracy', ascending=False)\n",
    "\n",
    "model_scores    "
   ]
  },
  {
   "cell_type": "markdown",
   "id": "9ffb0490-9c16-4947-b3fb-c38f514f8c85",
   "metadata": {},
   "source": [
    "## Learning curve"
   ]
  },
  {
   "cell_type": "code",
   "execution_count": 72,
   "id": "5d983359-d6e7-41fb-8f0b-bd0a522c7c9d",
   "metadata": {
    "tags": []
   },
   "outputs": [],
   "source": [
    "def plot_learning_curve(estimator, X, y, title, ylim=None, cv=None,\n",
    "                        n_jobs=None, train_sizes=np.linspace(.1, 1.0, 5)):\n",
    "    \"\"\"\n",
    "    Generate a simple plot of the test and training learning curve.\n",
    "\n",
    "    Parameters:\n",
    "    - estimator: The machine learning model (classifier or regressor)\n",
    "    - X: The feature matrix\n",
    "    - y: The target vector\n",
    "    - title: Title of the plot\n",
    "    - ylim: Tuple (min, max) to define the y-axis limits\n",
    "    - cv: Cross-validation iterator or an integer (number of splits)\n",
    "    - n_jobs: Number of CPU cores to use for parallel computation (set to -1 to use all available cores)\n",
    "    - train_sizes: Relative or absolute numbers of training examples that will be used to generate the learning curve\n",
    "    \"\"\"\n",
    "    plt.figure(figsize=(10, 6))\n",
    "    plt.title(title)\n",
    "    if ylim is not None:\n",
    "        plt.ylim(*ylim)\n",
    "    plt.xlabel(\"Training examples\")\n",
    "    plt.ylabel(\"Score\")\n",
    "\n",
    "    train_sizes, train_scores, test_scores = learning_curve(\n",
    "        estimator, X, y, cv=cv, n_jobs=n_jobs, train_sizes=train_sizes)\n",
    "\n",
    "    train_scores_mean = np.mean(train_scores, axis=1)\n",
    "    train_scores_std = np.std(train_scores, axis=1)\n",
    "    test_scores_mean = np.mean(test_scores, axis=1)\n",
    "    test_scores_std = np.std(test_scores, axis=1)\n",
    "\n",
    "    plt.grid()\n",
    "\n",
    "    plt.fill_between(train_sizes, train_scores_mean - train_scores_std,\n",
    "                     train_scores_mean + train_scores_std, alpha=0.1,\n",
    "                     color=\"r\")\n",
    "    plt.fill_between(train_sizes, test_scores_mean - test_scores_std,\n",
    "                     test_scores_mean + test_scores_std, alpha=0.1, color=\"g\")\n",
    "    plt.plot(train_sizes, train_scores_mean, 'o-', color=\"r\",\n",
    "             label=\"Training score\")\n",
    "    plt.plot(train_sizes, test_scores_mean, 'o-', color=\"g\",\n",
    "             label=\"Cross-validation score\")\n",
    "\n",
    "    plt.legend(loc=\"best\")\n",
    "    return plt"
   ]
  },
  {
   "cell_type": "code",
   "execution_count": 73,
   "id": "3b07a1ca-7a78-456f-a7ee-da640136f202",
   "metadata": {
    "tags": []
   },
   "outputs": [
    {
     "data": {
      "image/png": "[encoded data removed]",
      "text/plain": [
       "<Figure size 1000x600 with 1 Axes>"
      ]
     },
     "metadata": {},
     "output_type": "display_data"
    }
   ],
   "source": [
    "# Plot learning curve\n",
    "\n",
    "estimator = algorithms[0]\n",
    "plot_learning_curve(estimator, X_train_scaled, y_train, title=\"Learning Curve\", ylim=(0.7, 1.01), cv=5, n_jobs=-1)\n",
    "plt.show()"
   ]
  },
  {
   "cell_type": "markdown",
   "id": "8614f974-042d-4f42-b62f-926cbb6e5236",
   "metadata": {},
   "source": [
    "## Feature Importances"
   ]
  },
  {
   "cell_type": "code",
   "execution_count": 74,
   "id": "79be55df-6ce8-4317-a66a-78513cbfb585",
   "metadata": {
    "tags": []
   },
   "outputs": [
    {
     "data": {
      "text/html": [
       "<style type=\"text/css\">\n",
       "#T_a26c4_row0_col0, #T_a26c4_row0_col1, #T_a26c4_row0_col3, #T_a26c4_row0_col4, #T_a26c4_row0_col5, #T_a26c4_row0_col6, #T_a26c4_row0_col7, #T_a26c4_row1_col6, #T_a26c4_row1_col7, #T_a26c4_row2_col1, #T_a26c4_row2_col2, #T_a26c4_row2_col3, #T_a26c4_row2_col6, #T_a26c4_row2_col7, #T_a26c4_row3_col0, #T_a26c4_row3_col1, #T_a26c4_row3_col2, #T_a26c4_row3_col4, #T_a26c4_row3_col5, #T_a26c4_row3_col6, #T_a26c4_row3_col7, #T_a26c4_row4_col6, #T_a26c4_row4_col7, #T_a26c4_row5_col1, #T_a26c4_row5_col2, #T_a26c4_row5_col3, #T_a26c4_row5_col4, #T_a26c4_row5_col5, #T_a26c4_row6_col0, #T_a26c4_row6_col2, #T_a26c4_row6_col3, #T_a26c4_row9_col0, #T_a26c4_row9_col2, #T_a26c4_row10_col0, #T_a26c4_row10_col1, #T_a26c4_row10_col3, #T_a26c4_row10_col4, #T_a26c4_row10_col5, #T_a26c4_row12_col4, #T_a26c4_row12_col5 {\n",
       "  background-color: lightblue;\n",
       "}\n",
       "</style>\n",
       "<table id=\"T_a26c4\">\n",
       "  <thead>\n",
       "    <tr>\n",
       "      <th class=\"blank level0\" >&nbsp;</th>\n",
       "      <th id=\"T_a26c4_level0_col0\" class=\"col_heading level0 col0\" >LogisticRegression</th>\n",
       "      <th id=\"T_a26c4_level0_col1\" class=\"col_heading level0 col1\" >DecisionTreeClassifier</th>\n",
       "      <th id=\"T_a26c4_level0_col2\" class=\"col_heading level0 col2\" >ExtraTreeClassifier</th>\n",
       "      <th id=\"T_a26c4_level0_col3\" class=\"col_heading level0 col3\" >RandomForestClassifier</th>\n",
       "      <th id=\"T_a26c4_level0_col4\" class=\"col_heading level0 col4\" >XGBClassifier</th>\n",
       "      <th id=\"T_a26c4_level0_col5\" class=\"col_heading level0 col5\" >GradientBoostingClassifier</th>\n",
       "      <th id=\"T_a26c4_level0_col6\" class=\"col_heading level0 col6\" >SVC</th>\n",
       "      <th id=\"T_a26c4_level0_col7\" class=\"col_heading level0 col7\" >KNeighborsClassifier</th>\n",
       "    </tr>\n",
       "  </thead>\n",
       "  <tbody>\n",
       "    <tr>\n",
       "      <th id=\"T_a26c4_level0_row0\" class=\"row_heading level0 row0\" >Pclass</th>\n",
       "      <td id=\"T_a26c4_row0_col0\" class=\"data row0 col0\" >0.746722</td>\n",
       "      <td id=\"T_a26c4_row0_col1\" class=\"data row0 col1\" >0.154792</td>\n",
       "      <td id=\"T_a26c4_row0_col2\" class=\"data row0 col2\" >0.068669</td>\n",
       "      <td id=\"T_a26c4_row0_col3\" class=\"data row0 col3\" >0.110253</td>\n",
       "      <td id=\"T_a26c4_row0_col4\" class=\"data row0 col4\" >0.073039</td>\n",
       "      <td id=\"T_a26c4_row0_col5\" class=\"data row0 col5\" >0.176189</td>\n",
       "      <td id=\"T_a26c4_row0_col6\" class=\"data row0 col6\" >nan</td>\n",
       "      <td id=\"T_a26c4_row0_col7\" class=\"data row0 col7\" >nan</td>\n",
       "    </tr>\n",
       "    <tr>\n",
       "      <th id=\"T_a26c4_level0_row1\" class=\"row_heading level0 row1\" >SibSp</th>\n",
       "      <td id=\"T_a26c4_row1_col0\" class=\"data row1 col0\" >0.189538</td>\n",
       "      <td id=\"T_a26c4_row1_col1\" class=\"data row1 col1\" >0.027873</td>\n",
       "      <td id=\"T_a26c4_row1_col2\" class=\"data row1 col2\" >0.079285</td>\n",
       "      <td id=\"T_a26c4_row1_col3\" class=\"data row1 col3\" >0.058833</td>\n",
       "      <td id=\"T_a26c4_row1_col4\" class=\"data row1 col4\" >0.019130</td>\n",
       "      <td id=\"T_a26c4_row1_col5\" class=\"data row1 col5\" >0.020318</td>\n",
       "      <td id=\"T_a26c4_row1_col6\" class=\"data row1 col6\" >nan</td>\n",
       "      <td id=\"T_a26c4_row1_col7\" class=\"data row1 col7\" >nan</td>\n",
       "    </tr>\n",
       "    <tr>\n",
       "      <th id=\"T_a26c4_level0_row2\" class=\"row_heading level0 row2\" >Age_Cat_Label</th>\n",
       "      <td id=\"T_a26c4_row2_col0\" class=\"data row2 col0\" >0.222255</td>\n",
       "      <td id=\"T_a26c4_row2_col1\" class=\"data row2 col1\" >0.112619</td>\n",
       "      <td id=\"T_a26c4_row2_col2\" class=\"data row2 col2\" >0.105841</td>\n",
       "      <td id=\"T_a26c4_row2_col3\" class=\"data row2 col3\" >0.130435</td>\n",
       "      <td id=\"T_a26c4_row2_col4\" class=\"data row2 col4\" >0.020370</td>\n",
       "      <td id=\"T_a26c4_row2_col5\" class=\"data row2 col5\" >0.031016</td>\n",
       "      <td id=\"T_a26c4_row2_col6\" class=\"data row2 col6\" >nan</td>\n",
       "      <td id=\"T_a26c4_row2_col7\" class=\"data row2 col7\" >nan</td>\n",
       "    </tr>\n",
       "    <tr>\n",
       "      <th id=\"T_a26c4_level0_row3\" class=\"row_heading level0 row3\" >Family</th>\n",
       "      <td id=\"T_a26c4_row3_col0\" class=\"data row3 col0\" >0.672276</td>\n",
       "      <td id=\"T_a26c4_row3_col1\" class=\"data row3 col1\" >0.096349</td>\n",
       "      <td id=\"T_a26c4_row3_col2\" class=\"data row3 col2\" >0.103293</td>\n",
       "      <td id=\"T_a26c4_row3_col3\" class=\"data row3 col3\" >0.087385</td>\n",
       "      <td id=\"T_a26c4_row3_col4\" class=\"data row3 col4\" >0.042040</td>\n",
       "      <td id=\"T_a26c4_row3_col5\" class=\"data row3 col5\" >0.077788</td>\n",
       "      <td id=\"T_a26c4_row3_col6\" class=\"data row3 col6\" >nan</td>\n",
       "      <td id=\"T_a26c4_row3_col7\" class=\"data row3 col7\" >nan</td>\n",
       "    </tr>\n",
       "    <tr>\n",
       "      <th id=\"T_a26c4_level0_row4\" class=\"row_heading level0 row4\" >Is_Alone</th>\n",
       "      <td id=\"T_a26c4_row4_col0\" class=\"data row4 col0\" >0.151042</td>\n",
       "      <td id=\"T_a26c4_row4_col1\" class=\"data row4 col1\" >0.009234</td>\n",
       "      <td id=\"T_a26c4_row4_col2\" class=\"data row4 col2\" >0.012417</td>\n",
       "      <td id=\"T_a26c4_row4_col3\" class=\"data row4 col3\" >0.013487</td>\n",
       "      <td id=\"T_a26c4_row4_col4\" class=\"data row4 col4\" >0.000000</td>\n",
       "      <td id=\"T_a26c4_row4_col5\" class=\"data row4 col5\" >0.001283</td>\n",
       "      <td id=\"T_a26c4_row4_col6\" class=\"data row4 col6\" >nan</td>\n",
       "      <td id=\"T_a26c4_row4_col7\" class=\"data row4 col7\" >nan</td>\n",
       "    </tr>\n",
       "    <tr>\n",
       "      <th id=\"T_a26c4_level0_row5\" class=\"row_heading level0 row5\" >Fare_Binned</th>\n",
       "      <td id=\"T_a26c4_row5_col0\" class=\"data row5 col0\" >0.097313</td>\n",
       "      <td id=\"T_a26c4_row5_col1\" class=\"data row5 col1\" >0.064347</td>\n",
       "      <td id=\"T_a26c4_row5_col2\" class=\"data row5 col2\" >0.104608</td>\n",
       "      <td id=\"T_a26c4_row5_col3\" class=\"data row5 col3\" >0.119863</td>\n",
       "      <td id=\"T_a26c4_row5_col4\" class=\"data row5 col4\" >0.026546</td>\n",
       "      <td id=\"T_a26c4_row5_col5\" class=\"data row5 col5\" >0.073737</td>\n",
       "      <td id=\"T_a26c4_row5_col6\" class=\"data row5 col6\" >nan</td>\n",
       "      <td id=\"T_a26c4_row5_col7\" class=\"data row5 col7\" >nan</td>\n",
       "    </tr>\n",
       "    <tr>\n",
       "      <th id=\"T_a26c4_level0_row6\" class=\"row_heading level0 row6\" >Sex_male</th>\n",
       "      <td id=\"T_a26c4_row6_col0\" class=\"data row6 col0\" >0.538009</td>\n",
       "      <td id=\"T_a26c4_row6_col1\" class=\"data row6 col1\" >0.005996</td>\n",
       "      <td id=\"T_a26c4_row6_col2\" class=\"data row6 col2\" >0.286614</td>\n",
       "      <td id=\"T_a26c4_row6_col3\" class=\"data row6 col3\" >0.166161</td>\n",
       "      <td id=\"T_a26c4_row6_col4\" class=\"data row6 col4\" >0.016062</td>\n",
       "      <td id=\"T_a26c4_row6_col5\" class=\"data row6 col5\" >0.014311</td>\n",
       "      <td id=\"T_a26c4_row6_col6\" class=\"data row6 col6\" >nan</td>\n",
       "      <td id=\"T_a26c4_row6_col7\" class=\"data row6 col7\" >nan</td>\n",
       "    </tr>\n",
       "    <tr>\n",
       "      <th id=\"T_a26c4_level0_row7\" class=\"row_heading level0 row7\" >Embarked_Q</th>\n",
       "      <td id=\"T_a26c4_row7_col0\" class=\"data row7 col0\" >0.071107</td>\n",
       "      <td id=\"T_a26c4_row7_col1\" class=\"data row7 col1\" >0.009667</td>\n",
       "      <td id=\"T_a26c4_row7_col2\" class=\"data row7 col2\" >0.008483</td>\n",
       "      <td id=\"T_a26c4_row7_col3\" class=\"data row7 col3\" >0.015740</td>\n",
       "      <td id=\"T_a26c4_row7_col4\" class=\"data row7 col4\" >0.013850</td>\n",
       "      <td id=\"T_a26c4_row7_col5\" class=\"data row7 col5\" >0.001953</td>\n",
       "      <td id=\"T_a26c4_row7_col6\" class=\"data row7 col6\" >nan</td>\n",
       "      <td id=\"T_a26c4_row7_col7\" class=\"data row7 col7\" >nan</td>\n",
       "    </tr>\n",
       "    <tr>\n",
       "      <th id=\"T_a26c4_level0_row8\" class=\"row_heading level0 row8\" >Embarked_S</th>\n",
       "      <td id=\"T_a26c4_row8_col0\" class=\"data row8 col0\" >0.248593</td>\n",
       "      <td id=\"T_a26c4_row8_col1\" class=\"data row8 col1\" >0.035147</td>\n",
       "      <td id=\"T_a26c4_row8_col2\" class=\"data row8 col2\" >0.051770</td>\n",
       "      <td id=\"T_a26c4_row8_col3\" class=\"data row8 col3\" >0.041765</td>\n",
       "      <td id=\"T_a26c4_row8_col4\" class=\"data row8 col4\" >0.024646</td>\n",
       "      <td id=\"T_a26c4_row8_col5\" class=\"data row8 col5\" >0.015338</td>\n",
       "      <td id=\"T_a26c4_row8_col6\" class=\"data row8 col6\" >nan</td>\n",
       "      <td id=\"T_a26c4_row8_col7\" class=\"data row8 col7\" >nan</td>\n",
       "    </tr>\n",
       "    <tr>\n",
       "      <th id=\"T_a26c4_level0_row9\" class=\"row_heading level0 row9\" >Title_Miss</th>\n",
       "      <td id=\"T_a26c4_row9_col0\" class=\"data row9 col0\" >0.583208</td>\n",
       "      <td id=\"T_a26c4_row9_col1\" class=\"data row9 col1\" >0.006986</td>\n",
       "      <td id=\"T_a26c4_row9_col2\" class=\"data row9 col2\" >0.136723</td>\n",
       "      <td id=\"T_a26c4_row9_col3\" class=\"data row9 col3\" >0.036372</td>\n",
       "      <td id=\"T_a26c4_row9_col4\" class=\"data row9 col4\" >0.020732</td>\n",
       "      <td id=\"T_a26c4_row9_col5\" class=\"data row9 col5\" >0.001680</td>\n",
       "      <td id=\"T_a26c4_row9_col6\" class=\"data row9 col6\" >nan</td>\n",
       "      <td id=\"T_a26c4_row9_col7\" class=\"data row9 col7\" >nan</td>\n",
       "    </tr>\n",
       "    <tr>\n",
       "      <th id=\"T_a26c4_level0_row10\" class=\"row_heading level0 row10\" >Title_Mr.</th>\n",
       "      <td id=\"T_a26c4_row10_col0\" class=\"data row10 col0\" >1.550072</td>\n",
       "      <td id=\"T_a26c4_row10_col1\" class=\"data row10 col1\" >0.416941</td>\n",
       "      <td id=\"T_a26c4_row10_col2\" class=\"data row10 col2\" >0.033113</td>\n",
       "      <td id=\"T_a26c4_row10_col3\" class=\"data row10 col3\" >0.172606</td>\n",
       "      <td id=\"T_a26c4_row10_col4\" class=\"data row10 col4\" >0.601780</td>\n",
       "      <td id=\"T_a26c4_row10_col5\" class=\"data row10 col5\" >0.514124</td>\n",
       "      <td id=\"T_a26c4_row10_col6\" class=\"data row10 col6\" >nan</td>\n",
       "      <td id=\"T_a26c4_row10_col7\" class=\"data row10 col7\" >nan</td>\n",
       "    </tr>\n",
       "    <tr>\n",
       "      <th id=\"T_a26c4_level0_row11\" class=\"row_heading level0 row11\" >Title_Mrs.</th>\n",
       "      <td id=\"T_a26c4_row11_col0\" class=\"data row11 col0\" >0.152885</td>\n",
       "      <td id=\"T_a26c4_row11_col1\" class=\"data row11 col1\" >0.012818</td>\n",
       "      <td id=\"T_a26c4_row11_col2\" class=\"data row11 col2\" >0.000000</td>\n",
       "      <td id=\"T_a26c4_row11_col3\" class=\"data row11 col3\" >0.037060</td>\n",
       "      <td id=\"T_a26c4_row11_col4\" class=\"data row11 col4\" >0.018390</td>\n",
       "      <td id=\"T_a26c4_row11_col5\" class=\"data row11 col5\" >0.006286</td>\n",
       "      <td id=\"T_a26c4_row11_col6\" class=\"data row11 col6\" >nan</td>\n",
       "      <td id=\"T_a26c4_row11_col7\" class=\"data row11 col7\" >nan</td>\n",
       "    </tr>\n",
       "    <tr>\n",
       "      <th id=\"T_a26c4_level0_row12\" class=\"row_heading level0 row12\" >Title_Special_title</th>\n",
       "      <td id=\"T_a26c4_row12_col0\" class=\"data row12 col0\" >0.429034</td>\n",
       "      <td id=\"T_a26c4_row12_col1\" class=\"data row12 col1\" >0.047231</td>\n",
       "      <td id=\"T_a26c4_row12_col2\" class=\"data row12 col2\" >0.009183</td>\n",
       "      <td id=\"T_a26c4_row12_col3\" class=\"data row12 col3\" >0.010040</td>\n",
       "      <td id=\"T_a26c4_row12_col4\" class=\"data row12 col4\" >0.123415</td>\n",
       "      <td id=\"T_a26c4_row12_col5\" class=\"data row12 col5\" >0.065978</td>\n",
       "      <td id=\"T_a26c4_row12_col6\" class=\"data row12 col6\" >nan</td>\n",
       "      <td id=\"T_a26c4_row12_col7\" class=\"data row12 col7\" >nan</td>\n",
       "    </tr>\n",
       "  </tbody>\n",
       "</table>\n"
      ],
      "text/plain": [
       "<pandas.io.formats.style.Styler at 0x20c56faa920>"
      ]
     },
     "execution_count": 74,
     "metadata": {},
     "output_type": "execute_result"
    }
   ],
   "source": [
    "# Create a DataFrame to store feature importances\n",
    "feature_importance_df = pd.DataFrame(index=X.columns)\n",
    "\n",
    "# Iterate over each algorithm\n",
    "for algorithm in algorithms:\n",
    "    # Train the model\n",
    "    algorithm.fit(X_train_scaled, y_train)\n",
    "\n",
    "    # Extract feature importances if available\n",
    "    if hasattr(algorithm, 'feature_importances_'):\n",
    "        feature_importances = algorithm.feature_importances_\n",
    "    elif hasattr(algorithm, 'coef_'):\n",
    "        # If it's a linear model, use the coefficients as feature importances\n",
    "        feature_importances = algorithm.coef_[0]\n",
    "    else:\n",
    "        # If the model doesn't have feature importances, set to NaN\n",
    "        feature_importances = [float('nan')] * len(X.columns)\n",
    "\n",
    "    # Store feature importances in the DataFrame\n",
    "    feature_importance_df[str(algorithm.__class__.__name__)] = np.abs(feature_importances)\n",
    "\n",
    "# Define a function to highlight the top 5 absolute values in each column\n",
    "def highlight_top_5_absolute(s):\n",
    "    top_5_indices = np.abs(s).nlargest(5).index\n",
    "    is_top_5 = s.index.isin(top_5_indices)\n",
    "    return ['background-color: lightblue' if v else '' for v in is_top_5]\n",
    "\n",
    "# Apply the style to the DataFrame\n",
    "styled_df = feature_importance_df.style.apply(highlight_top_5_absolute)\n",
    "\n",
    "# Display the styled DataFrame\n",
    "styled_df"
   ]
  },
  {
   "cell_type": "markdown",
   "id": "6aedfdda-c866-46c9-9720-c998836c9250",
   "metadata": {},
   "source": [
    "**Can we say that we can EXCLUDE:**  \n",
    "- Embarked  \n",
    "- Is Alone\n",
    "- SibSp"
   ]
  },
  {
   "cell_type": "markdown",
   "id": "23cbc012-ef36-4e8c-8e67-2c45fc784e5a",
   "metadata": {},
   "source": [
    "## ReRun the Models"
   ]
  },
  {
   "cell_type": "code",
   "execution_count": 75,
   "id": "0abaef35-9758-4394-aa18-3a14b9a2d997",
   "metadata": {
    "tags": []
   },
   "outputs": [
    {
     "data": {
      "text/html": [
       "<div>\n",
       "<style scoped>\n",
       "    .dataframe tbody tr th:only-of-type {\n",
       "        vertical-align: middle;\n",
       "    }\n",
       "\n",
       "    .dataframe tbody tr th {\n",
       "        vertical-align: top;\n",
       "    }\n",
       "\n",
       "    .dataframe thead th {\n",
       "        text-align: right;\n",
       "    }\n",
       "</style>\n",
       "<table border=\"1\" class=\"dataframe\">\n",
       "  <thead>\n",
       "    <tr style=\"text-align: right;\">\n",
       "      <th></th>\n",
       "      <th>Survived</th>\n",
       "      <th>Pclass</th>\n",
       "      <th>Sex</th>\n",
       "      <th>SibSp</th>\n",
       "      <th>Embarked</th>\n",
       "      <th>Title</th>\n",
       "      <th>Age_Cat_Label</th>\n",
       "      <th>Family</th>\n",
       "      <th>Is_Alone</th>\n",
       "      <th>Fare_Binned</th>\n",
       "    </tr>\n",
       "  </thead>\n",
       "  <tbody>\n",
       "    <tr>\n",
       "      <th>310</th>\n",
       "      <td>1.0</td>\n",
       "      <td>1</td>\n",
       "      <td>female</td>\n",
       "      <td>0</td>\n",
       "      <td>C</td>\n",
       "      <td>Miss</td>\n",
       "      <td>2</td>\n",
       "      <td>1</td>\n",
       "      <td>1</td>\n",
       "      <td>5</td>\n",
       "    </tr>\n",
       "  </tbody>\n",
       "</table>\n",
       "</div>"
      ],
      "text/plain": [
       "     Survived  Pclass     Sex  SibSp Embarked Title  Age_Cat_Label  Family  \\\n",
       "310       1.0       1  female      0        C  Miss              2       1   \n",
       "\n",
       "     Is_Alone  Fare_Binned  \n",
       "310         1            5  "
      ]
     },
     "execution_count": 75,
     "metadata": {},
     "output_type": "execute_result"
    }
   ],
   "source": [
    "df_train.sample()"
   ]
  },
  {
   "cell_type": "code",
   "execution_count": 76,
   "id": "3e74890f-9859-4365-9d17-33bf28d69697",
   "metadata": {
    "tags": []
   },
   "outputs": [
    {
     "name": "stdout",
     "output_type": "stream",
     "text": [
      "(891, 9)\n",
      "(891,)\n",
      "(418, 9)\n"
     ]
    }
   ],
   "source": [
    "# This was staying for better visualization and EDA\n",
    "df_train.drop(columns=['Embarked', 'Is_Alone', 'SibSp'], inplace=True)\n",
    "df_test.drop(columns=['Embarked', 'Is_Alone', 'SibSp'], inplace=True)\n",
    "\n",
    "categorical_features = df_train.select_dtypes(include=['object', 'category']).columns\n",
    "\n",
    "dummies_df_train = pd.get_dummies(df_train, categorical_features, drop_first=True)\n",
    "dummies_df_test = pd.get_dummies(df_test, categorical_features, drop_first=True)\n",
    "\n",
    "X = dummies_df_train.drop(columns=['Survived'])\n",
    "y = df_train['Survived']\n",
    "X_validation = dummies_df_test.copy()\n",
    "\n",
    "print(X.shape)\n",
    "print(y.shape)\n",
    "print(X_validation.shape)\n",
    "\n",
    "X_train, X_test, y_train, y_test = train_test_split(X, y, test_size=0.2, random_state=42)\n",
    "\n",
    "scaler = StandardScaler()\n",
    "X_train_scaled = scaler.fit_transform(X_train)\n",
    "X_test_scaled = scaler.transform(X_test)\n",
    "X_validation_scaled = scaler.transform(X_validation)"
   ]
  },
  {
   "cell_type": "code",
   "execution_count": 77,
   "id": "d434905a-98a7-4bc5-9db2-a00f5ba614b8",
   "metadata": {
    "tags": []
   },
   "outputs": [],
   "source": [
    "model_scores_2 = pd.DataFrame(columns=['Algorithm', 'Train_Accuracy_2', 'Test_Accuracy_2'])\n",
    "\n",
    "for algorithm in algorithms:\n",
    "    \n",
    "    algorithm_score = {}\n",
    "    algorithm_name = algorithm.__class__.__name__\n",
    "    \n",
    "    model = algorithm\n",
    "    model.fit(X_train_scaled, y_train)\n",
    "    \n",
    "    y_pred = model.predict(X_test_scaled)\n",
    "    y_train_pred = model.predict(X_train_scaled)\n",
    "    \n",
    "    accuracy_test = accuracy_score(y_test, y_pred)\n",
    "    accuracy_train = accuracy_score(y_train, y_train_pred)\n",
    "    \n",
    "    algorithm_score['Algorithm'] = algorithm_name\n",
    "    algorithm_score['Train_Accuracy_2'] = accuracy_train\n",
    "    algorithm_score['Test_Accuracy_2'] = accuracy_test\n",
    "    \n",
    "    model_scores_2 = model_scores_2.append(algorithm_score, ignore_index=True)\n",
    "    model_scores_2 = model_scores_2.sort_values(by='Test_Accuracy_2', ascending=False)"
   ]
  },
  {
   "cell_type": "code",
   "execution_count": 78,
   "id": "582942f6-dc45-4f8e-87df-7ddf54a50245",
   "metadata": {
    "tags": []
   },
   "outputs": [
    {
     "data": {
      "text/html": [
       "<div>\n",
       "<style scoped>\n",
       "    .dataframe tbody tr th:only-of-type {\n",
       "        vertical-align: middle;\n",
       "    }\n",
       "\n",
       "    .dataframe tbody tr th {\n",
       "        vertical-align: top;\n",
       "    }\n",
       "\n",
       "    .dataframe thead th {\n",
       "        text-align: right;\n",
       "    }\n",
       "</style>\n",
       "<table border=\"1\" class=\"dataframe\">\n",
       "  <thead>\n",
       "    <tr style=\"text-align: right;\">\n",
       "      <th></th>\n",
       "      <th>Pclass</th>\n",
       "      <th>Age_Cat_Label</th>\n",
       "      <th>Family</th>\n",
       "      <th>Fare_Binned</th>\n",
       "      <th>Sex_male</th>\n",
       "      <th>Title_Miss</th>\n",
       "      <th>Title_Mr.</th>\n",
       "      <th>Title_Mrs.</th>\n",
       "      <th>Title_Special_title</th>\n",
       "    </tr>\n",
       "  </thead>\n",
       "  <tbody>\n",
       "    <tr>\n",
       "      <th>331</th>\n",
       "      <td>1</td>\n",
       "      <td>4</td>\n",
       "      <td>1</td>\n",
       "      <td>4</td>\n",
       "      <td>1</td>\n",
       "      <td>0</td>\n",
       "      <td>1</td>\n",
       "      <td>0</td>\n",
       "      <td>0</td>\n",
       "    </tr>\n",
       "    <tr>\n",
       "      <th>733</th>\n",
       "      <td>2</td>\n",
       "      <td>2</td>\n",
       "      <td>1</td>\n",
       "      <td>3</td>\n",
       "      <td>1</td>\n",
       "      <td>0</td>\n",
       "      <td>1</td>\n",
       "      <td>0</td>\n",
       "      <td>0</td>\n",
       "    </tr>\n",
       "    <tr>\n",
       "      <th>382</th>\n",
       "      <td>3</td>\n",
       "      <td>3</td>\n",
       "      <td>1</td>\n",
       "      <td>2</td>\n",
       "      <td>1</td>\n",
       "      <td>0</td>\n",
       "      <td>1</td>\n",
       "      <td>0</td>\n",
       "      <td>0</td>\n",
       "    </tr>\n",
       "    <tr>\n",
       "      <th>704</th>\n",
       "      <td>3</td>\n",
       "      <td>2</td>\n",
       "      <td>2</td>\n",
       "      <td>1</td>\n",
       "      <td>1</td>\n",
       "      <td>0</td>\n",
       "      <td>1</td>\n",
       "      <td>0</td>\n",
       "      <td>0</td>\n",
       "    </tr>\n",
       "    <tr>\n",
       "      <th>813</th>\n",
       "      <td>3</td>\n",
       "      <td>0</td>\n",
       "      <td>7</td>\n",
       "      <td>4</td>\n",
       "      <td>0</td>\n",
       "      <td>1</td>\n",
       "      <td>0</td>\n",
       "      <td>0</td>\n",
       "      <td>0</td>\n",
       "    </tr>\n",
       "    <tr>\n",
       "      <th>...</th>\n",
       "      <td>...</td>\n",
       "      <td>...</td>\n",
       "      <td>...</td>\n",
       "      <td>...</td>\n",
       "      <td>...</td>\n",
       "      <td>...</td>\n",
       "      <td>...</td>\n",
       "      <td>...</td>\n",
       "      <td>...</td>\n",
       "    </tr>\n",
       "    <tr>\n",
       "      <th>106</th>\n",
       "      <td>3</td>\n",
       "      <td>2</td>\n",
       "      <td>1</td>\n",
       "      <td>1</td>\n",
       "      <td>0</td>\n",
       "      <td>1</td>\n",
       "      <td>0</td>\n",
       "      <td>0</td>\n",
       "      <td>0</td>\n",
       "    </tr>\n",
       "    <tr>\n",
       "      <th>270</th>\n",
       "      <td>1</td>\n",
       "      <td>2</td>\n",
       "      <td>1</td>\n",
       "      <td>4</td>\n",
       "      <td>1</td>\n",
       "      <td>0</td>\n",
       "      <td>1</td>\n",
       "      <td>0</td>\n",
       "      <td>0</td>\n",
       "    </tr>\n",
       "    <tr>\n",
       "      <th>860</th>\n",
       "      <td>3</td>\n",
       "      <td>4</td>\n",
       "      <td>3</td>\n",
       "      <td>3</td>\n",
       "      <td>1</td>\n",
       "      <td>0</td>\n",
       "      <td>1</td>\n",
       "      <td>0</td>\n",
       "      <td>0</td>\n",
       "    </tr>\n",
       "    <tr>\n",
       "      <th>435</th>\n",
       "      <td>1</td>\n",
       "      <td>1</td>\n",
       "      <td>4</td>\n",
       "      <td>5</td>\n",
       "      <td>0</td>\n",
       "      <td>1</td>\n",
       "      <td>0</td>\n",
       "      <td>0</td>\n",
       "      <td>0</td>\n",
       "    </tr>\n",
       "    <tr>\n",
       "      <th>102</th>\n",
       "      <td>1</td>\n",
       "      <td>2</td>\n",
       "      <td>2</td>\n",
       "      <td>5</td>\n",
       "      <td>1</td>\n",
       "      <td>0</td>\n",
       "      <td>1</td>\n",
       "      <td>0</td>\n",
       "      <td>0</td>\n",
       "    </tr>\n",
       "  </tbody>\n",
       "</table>\n",
       "<p>712 rows × 9 columns</p>\n",
       "</div>"
      ],
      "text/plain": [
       "     Pclass  Age_Cat_Label  Family  Fare_Binned  Sex_male  Title_Miss  \\\n",
       "331       1              4       1            4         1           0   \n",
       "733       2              2       1            3         1           0   \n",
       "382       3              3       1            2         1           0   \n",
       "704       3              2       2            1         1           0   \n",
       "813       3              0       7            4         0           1   \n",
       "..      ...            ...     ...          ...       ...         ...   \n",
       "106       3              2       1            1         0           1   \n",
       "270       1              2       1            4         1           0   \n",
       "860       3              4       3            3         1           0   \n",
       "435       1              1       4            5         0           1   \n",
       "102       1              2       2            5         1           0   \n",
       "\n",
       "     Title_Mr.  Title_Mrs.  Title_Special_title  \n",
       "331          1           0                    0  \n",
       "733          1           0                    0  \n",
       "382          1           0                    0  \n",
       "704          1           0                    0  \n",
       "813          0           0                    0  \n",
       "..         ...         ...                  ...  \n",
       "106          0           0                    0  \n",
       "270          1           0                    0  \n",
       "860          1           0                    0  \n",
       "435          0           0                    0  \n",
       "102          1           0                    0  \n",
       "\n",
       "[712 rows x 9 columns]"
      ]
     },
     "execution_count": 78,
     "metadata": {},
     "output_type": "execute_result"
    }
   ],
   "source": [
    "X_train"
   ]
  },
  {
   "cell_type": "code",
   "execution_count": 79,
   "id": "6094ec8d-62d2-4420-ad7e-c7b6ba7936f9",
   "metadata": {
    "tags": []
   },
   "outputs": [
    {
     "data": {
      "text/html": [
       "<div>\n",
       "<style scoped>\n",
       "    .dataframe tbody tr th:only-of-type {\n",
       "        vertical-align: middle;\n",
       "    }\n",
       "\n",
       "    .dataframe tbody tr th {\n",
       "        vertical-align: top;\n",
       "    }\n",
       "\n",
       "    .dataframe thead th {\n",
       "        text-align: right;\n",
       "    }\n",
       "</style>\n",
       "<table border=\"1\" class=\"dataframe\">\n",
       "  <thead>\n",
       "    <tr style=\"text-align: right;\">\n",
       "      <th></th>\n",
       "      <th>Algorithm</th>\n",
       "      <th>Train_Accuracy</th>\n",
       "      <th>Test_Accuracy</th>\n",
       "      <th>Algorithm</th>\n",
       "      <th>Train_Accuracy_2</th>\n",
       "      <th>Test_Accuracy_2</th>\n",
       "    </tr>\n",
       "  </thead>\n",
       "  <tbody>\n",
       "    <tr>\n",
       "      <th>0</th>\n",
       "      <td>RandomForestClassifier</td>\n",
       "      <td>0.904494</td>\n",
       "      <td>0.826816</td>\n",
       "      <td>ExtraTreeClassifier</td>\n",
       "      <td>0.884831</td>\n",
       "      <td>0.832402</td>\n",
       "    </tr>\n",
       "    <tr>\n",
       "      <th>1</th>\n",
       "      <td>XGBClassifier</td>\n",
       "      <td>0.901685</td>\n",
       "      <td>0.826816</td>\n",
       "      <td>RandomForestClassifier</td>\n",
       "      <td>0.884831</td>\n",
       "      <td>0.832402</td>\n",
       "    </tr>\n",
       "    <tr>\n",
       "      <th>2</th>\n",
       "      <td>DecisionTreeClassifier</td>\n",
       "      <td>0.904494</td>\n",
       "      <td>0.821229</td>\n",
       "      <td>DecisionTreeClassifier</td>\n",
       "      <td>0.884831</td>\n",
       "      <td>0.826816</td>\n",
       "    </tr>\n",
       "    <tr>\n",
       "      <th>3</th>\n",
       "      <td>GradientBoostingClassifier</td>\n",
       "      <td>0.867978</td>\n",
       "      <td>0.821229</td>\n",
       "      <td>SVC</td>\n",
       "      <td>0.834270</td>\n",
       "      <td>0.826816</td>\n",
       "    </tr>\n",
       "    <tr>\n",
       "      <th>4</th>\n",
       "      <td>LogisticRegression</td>\n",
       "      <td>0.832865</td>\n",
       "      <td>0.815642</td>\n",
       "      <td>XGBClassifier</td>\n",
       "      <td>0.882022</td>\n",
       "      <td>0.821229</td>\n",
       "    </tr>\n",
       "    <tr>\n",
       "      <th>5</th>\n",
       "      <td>SVC</td>\n",
       "      <td>0.846910</td>\n",
       "      <td>0.810056</td>\n",
       "      <td>LogisticRegression</td>\n",
       "      <td>0.834270</td>\n",
       "      <td>0.815642</td>\n",
       "    </tr>\n",
       "    <tr>\n",
       "      <th>7</th>\n",
       "      <td>KNeighborsClassifier</td>\n",
       "      <td>0.855337</td>\n",
       "      <td>0.804469</td>\n",
       "      <td>KNeighborsClassifier</td>\n",
       "      <td>0.858146</td>\n",
       "      <td>0.815642</td>\n",
       "    </tr>\n",
       "    <tr>\n",
       "      <th>6</th>\n",
       "      <td>ExtraTreeClassifier</td>\n",
       "      <td>0.904494</td>\n",
       "      <td>0.793296</td>\n",
       "      <td>GradientBoostingClassifier</td>\n",
       "      <td>0.862360</td>\n",
       "      <td>0.810056</td>\n",
       "    </tr>\n",
       "  </tbody>\n",
       "</table>\n",
       "</div>"
      ],
      "text/plain": [
       "                    Algorithm  Train_Accuracy  Test_Accuracy  \\\n",
       "0      RandomForestClassifier        0.904494       0.826816   \n",
       "1               XGBClassifier        0.901685       0.826816   \n",
       "2      DecisionTreeClassifier        0.904494       0.821229   \n",
       "3  GradientBoostingClassifier        0.867978       0.821229   \n",
       "4          LogisticRegression        0.832865       0.815642   \n",
       "5                         SVC        0.846910       0.810056   \n",
       "7        KNeighborsClassifier        0.855337       0.804469   \n",
       "6         ExtraTreeClassifier        0.904494       0.793296   \n",
       "\n",
       "                    Algorithm  Train_Accuracy_2  Test_Accuracy_2  \n",
       "0         ExtraTreeClassifier          0.884831         0.832402  \n",
       "1      RandomForestClassifier          0.884831         0.832402  \n",
       "2      DecisionTreeClassifier          0.884831         0.826816  \n",
       "3                         SVC          0.834270         0.826816  \n",
       "4               XGBClassifier          0.882022         0.821229  \n",
       "5          LogisticRegression          0.834270         0.815642  \n",
       "7        KNeighborsClassifier          0.858146         0.815642  \n",
       "6  GradientBoostingClassifier          0.862360         0.810056  "
      ]
     },
     "execution_count": 79,
     "metadata": {},
     "output_type": "execute_result"
    }
   ],
   "source": [
    "# Lest compare the results with the previous scores, without feature selection\n",
    "pd.concat([model_scores, model_scores_2], axis=1)"
   ]
  },
  {
   "cell_type": "markdown",
   "id": "1f5711d2-9f7a-440f-8992-a13c14858a9f",
   "metadata": {},
   "source": [
    "**Amazing improvement, isnt it?**  \n",
    "- we increased simplicity by decreasing dimensions\n",
    "- we increased performance by better scores on test set\n",
    "- we decreased overfitting effects\n",
    "- we decreased the processing times, which is good before hyperparamtre tuning"
   ]
  },
  {
   "cell_type": "markdown",
   "id": "39206220-89f5-44da-9723-75d8d4d4c3fa",
   "metadata": {},
   "source": [
    "# 6. HyperParamtre Tuning"
   ]
  },
  {
   "cell_type": "code",
   "execution_count": 80,
   "id": "ef03dd07-8cd3-497c-b367-58c2d0568c41",
   "metadata": {
    "tags": []
   },
   "outputs": [],
   "source": [
    "hyperparameter_algorithms = [\n",
    "    XGBClassifier(random_state=42),\n",
    "    DecisionTreeClassifier(random_state=42),\n",
    "    RandomForestClassifier(random_state=42),\n",
    "    SVC(random_state=42)\n",
    "]"
   ]
  },
  {
   "cell_type": "code",
   "execution_count": 81,
   "id": "771406f1-e16f-41b1-a5fb-8b1f4686977c",
   "metadata": {
    "tags": []
   },
   "outputs": [
    {
     "name": "stdout",
     "output_type": "stream",
     "text": [
      "Tuning hyperparameters for XGBClassifier\n",
      "Model: XGBClassifier\n",
      "Best Hyperparameters: {'learning_rate': 0.01, 'max_depth': 3, 'n_estimators': 100}\n",
      "Accuracy on Test Set: 0.8156\n",
      "--------------------\n",
      "Tuning hyperparameters for DecisionTreeClassifier\n",
      "Model: DecisionTreeClassifier\n",
      "Best Hyperparameters: {'criterion': 'gini', 'max_depth': 7, 'min_samples_split': 2}\n",
      "Accuracy on Test Set: 0.8045\n",
      "--------------------\n",
      "Tuning hyperparameters for RandomForestClassifier\n",
      "Model: RandomForestClassifier\n",
      "Best Hyperparameters: {'bootstrap': True, 'max_depth': 7, 'n_estimators': 100}\n",
      "Accuracy on Test Set: 0.8268\n",
      "--------------------\n",
      "Tuning hyperparameters for SVC\n",
      "Model: SVC\n",
      "Best Hyperparameters: {'C': 10, 'gamma': 0.01, 'kernel': 'rbf'}\n",
      "Accuracy on Test Set: 0.8268\n",
      "--------------------\n"
     ]
    }
   ],
   "source": [
    "hyperparameter_ranges = {\n",
    "    'XGBClassifier': {\n",
    "        'n_estimators': [100, 200, 300],\n",
    "        'max_depth': [3, 5, 7],\n",
    "        'learning_rate': [0.1, 0.01, 0.001],\n",
    "    },\n",
    "    'DecisionTreeClassifier': {\n",
    "        'max_depth': [3, 5, 7],\n",
    "        'min_samples_split': [2, 5, 10],\n",
    "        'criterion': ['gini', 'entropy'],\n",
    "    },\n",
    "    'RandomForestClassifier': {\n",
    "        'n_estimators': [100, 200, 300],\n",
    "        'max_depth': [3, 5, 7],\n",
    "        'bootstrap': [True, False],\n",
    "    },\n",
    "    'SVC': {\n",
    "        'C': [0.1, 1, 10],\n",
    "        'kernel': ['rbf', 'linear'],\n",
    "        'gamma': [0.1, 0.01, 0.001],\n",
    "    }\n",
    "}\n",
    "\n",
    "for algorithm in hyperparameter_algorithms:\n",
    "    algorithm_name = algorithm.__class__.__name__\n",
    "    print(\"Tuning hyperparameters for\", algorithm_name)\n",
    "\n",
    "    grid_search = GridSearchCV(estimator=algorithm, param_grid=hyperparameter_ranges[algorithm_name], cv=5, n_jobs=-1, scoring='accuracy')\n",
    "    grid_search.fit(X_train_scaled, y_train)\n",
    "\n",
    "    # Get the best hyperparameters and the best model\n",
    "    best_params = grid_search.best_params_\n",
    "    best_model = grid_search.best_estimator_\n",
    "\n",
    "    # Evaluate the best model on the test set\n",
    "    accuracy = best_model.score(X_test_scaled, y_test)\n",
    "\n",
    "    print(f\"Model: {algorithm_name}\")\n",
    "    print(f\"Best Hyperparameters: {best_params}\")\n",
    "    print(f\"Accuracy on Test Set: {accuracy:.4f}\")\n",
    "    print(\"--------------------\")"
   ]
  },
  {
   "cell_type": "markdown",
   "id": "24ca0ff3-4a72-48ea-a92e-dc9e318899bd",
   "metadata": {
    "tags": []
   },
   "source": [
    "# 7. Submit Predictions"
   ]
  },
  {
   "cell_type": "code",
   "execution_count": 82,
   "id": "956d3752-419e-435c-91d8-e8be90094830",
   "metadata": {
    "tags": []
   },
   "outputs": [],
   "source": [
    "final_model_rf = RandomForestClassifier(\n",
    "        n_estimators = 100,\n",
    "        max_depth = 7,\n",
    "        bootstrap = True,\n",
    "        random_state = 42\n",
    ")"
   ]
  },
  {
   "cell_type": "code",
   "execution_count": 83,
   "id": "71341cfd-ed9c-4f2c-9ee3-e96a28e9a912",
   "metadata": {
    "tags": []
   },
   "outputs": [
    {
     "data": {
      "text/html": [
       "<style>#sk-container-id-1 {color: black;background-color: white;}#sk-container-id-1 pre{padding: 0;}#sk-container-id-1 div.sk-toggleable {background-color: white;}#sk-container-id-1 label.sk-toggleable__label {cursor: pointer;display: block;width: 100%;margin-bottom: 0;padding: 0.3em;box-sizing: border-box;text-align: center;}#sk-container-id-1 label.sk-toggleable__label-arrow:before {content: \"▸\";float: left;margin-right: 0.25em;color: #696969;}#sk-container-id-1 label.sk-toggleable__label-arrow:hover:before {color: black;}#sk-container-id-1 div.sk-estimator:hover label.sk-toggleable__label-arrow:before {color: black;}#sk-container-id-1 div.sk-toggleable__content {max-height: 0;max-width: 0;overflow: hidden;text-align: left;background-color: #f0f8ff;}#sk-container-id-1 div.sk-toggleable__content pre {margin: 0.2em;color: black;border-radius: 0.25em;background-color: #f0f8ff;}#sk-container-id-1 input.sk-toggleable__control:checked~div.sk-toggleable__content {max-height: 200px;max-width: 100%;overflow: auto;}#sk-container-id-1 input.sk-toggleable__control:checked~label.sk-toggleable__label-arrow:before {content: \"▾\";}#sk-container-id-1 div.sk-estimator input.sk-toggleable__control:checked~label.sk-toggleable__label {background-color: #d4ebff;}#sk-container-id-1 div.sk-label input.sk-toggleable__control:checked~label.sk-toggleable__label {background-color: #d4ebff;}#sk-container-id-1 input.sk-hidden--visually {border: 0;clip: rect(1px 1px 1px 1px);clip: rect(1px, 1px, 1px, 1px);height: 1px;margin: -1px;overflow: hidden;padding: 0;position: absolute;width: 1px;}#sk-container-id-1 div.sk-estimator {font-family: monospace;background-color: #f0f8ff;border: 1px dotted black;border-radius: 0.25em;box-sizing: border-box;margin-bottom: 0.5em;}#sk-container-id-1 div.sk-estimator:hover {background-color: #d4ebff;}#sk-container-id-1 div.sk-parallel-item::after {content: \"\";width: 100%;border-bottom: 1px solid gray;flex-grow: 1;}#sk-container-id-1 div.sk-label:hover label.sk-toggleable__label {background-color: #d4ebff;}#sk-container-id-1 div.sk-serial::before {content: \"\";position: absolute;border-left: 1px solid gray;box-sizing: border-box;top: 0;bottom: 0;left: 50%;z-index: 0;}#sk-container-id-1 div.sk-serial {display: flex;flex-direction: column;align-items: center;background-color: white;padding-right: 0.2em;padding-left: 0.2em;position: relative;}#sk-container-id-1 div.sk-item {position: relative;z-index: 1;}#sk-container-id-1 div.sk-parallel {display: flex;align-items: stretch;justify-content: center;background-color: white;position: relative;}#sk-container-id-1 div.sk-item::before, #sk-container-id-1 div.sk-parallel-item::before {content: \"\";position: absolute;border-left: 1px solid gray;box-sizing: border-box;top: 0;bottom: 0;left: 50%;z-index: -1;}#sk-container-id-1 div.sk-parallel-item {display: flex;flex-direction: column;z-index: 1;position: relative;background-color: white;}#sk-container-id-1 div.sk-parallel-item:first-child::after {align-self: flex-end;width: 50%;}#sk-container-id-1 div.sk-parallel-item:last-child::after {align-self: flex-start;width: 50%;}#sk-container-id-1 div.sk-parallel-item:only-child::after {width: 0;}#sk-container-id-1 div.sk-dashed-wrapped {border: 1px dashed gray;margin: 0 0.4em 0.5em 0.4em;box-sizing: border-box;padding-bottom: 0.4em;background-color: white;}#sk-container-id-1 div.sk-label label {font-family: monospace;font-weight: bold;display: inline-block;line-height: 1.2em;}#sk-container-id-1 div.sk-label-container {text-align: center;}#sk-container-id-1 div.sk-container {/* jupyter's `normalize.less` sets `[hidden] { display: none; }` but bootstrap.min.css set `[hidden] { display: none !important; }` so we also need the `!important` here to be able to override the default hidden behavior on the sphinx rendered scikit-learn.org. See: https://github.com/scikit-learn/scikit-learn/issues/21755 */display: inline-block !important;position: relative;}#sk-container-id-1 div.sk-text-repr-fallback {display: none;}</style><div id=\"sk-container-id-1\" class=\"sk-top-container\"><div class=\"sk-text-repr-fallback\"><pre>RandomForestClassifier(max_depth=7, random_state=42)</pre><b>In a Jupyter environment, please rerun this cell to show the HTML representation or trust the notebook. <br />On GitHub, the HTML representation is unable to render, please try loading this page with nbviewer.org.</b></div><div class=\"sk-container\" hidden><div class=\"sk-item\"><div class=\"sk-estimator sk-toggleable\"><input class=\"sk-toggleable__control sk-hidden--visually\" id=\"sk-estimator-id-1\" type=\"checkbox\" checked><label for=\"sk-estimator-id-1\" class=\"sk-toggleable__label sk-toggleable__label-arrow\">RandomForestClassifier</label><div class=\"sk-toggleable__content\"><pre>RandomForestClassifier(max_depth=7, random_state=42)</pre></div></div></div></div></div>"
      ],
      "text/plain": [
       "RandomForestClassifier(max_depth=7, random_state=42)"
      ]
     },
     "execution_count": 83,
     "metadata": {},
     "output_type": "execute_result"
    }
   ],
   "source": [
    "final_model_rf.fit(X_train_scaled, y_train)"
   ]
  },
  {
   "cell_type": "code",
   "execution_count": 84,
   "id": "0b4adf35-d727-4e36-be23-bbe7cc567353",
   "metadata": {
    "tags": []
   },
   "outputs": [],
   "source": [
    "current_time = datetime.now()\n",
    "formatted_time = current_time.strftime('%m_%d_%H_%M')"
   ]
  },
  {
   "cell_type": "code",
   "execution_count": 85,
   "id": "79f08a0a-52bb-44c1-bf98-d00bd531d422",
   "metadata": {
    "tags": []
   },
   "outputs": [],
   "source": [
    "y_pred_validation = final_model_rf.predict(X_validation_scaled)"
   ]
  },
  {
   "cell_type": "code",
   "execution_count": 86,
   "id": "60730f50-ae63-4a47-b227-519f46a3beff",
   "metadata": {
    "tags": []
   },
   "outputs": [],
   "source": [
    "submit_df = pd.DataFrame({'PassengerId': df_test2['PassengerId'], 'Survived': y_pred_validation})\n",
    "submit_df['Survived']  = submit_df['Survived'].astype(int)\n",
    "filepath = 'data/' + formatted_time + '.csv'"
   ]
  },
  {
   "cell_type": "markdown",
   "id": "d5c7962a-fa80-4f6b-a554-20999cf05156",
   "metadata": {},
   "source": [
    "submit_df.to_csv(filepath, index=False)"
   ]
  },
  {
   "cell_type": "code",
   "execution_count": 88,
   "id": "a20d9bb0-8d8e-4e48-914f-f1b8ff8663e0",
   "metadata": {
    "tags": []
   },
   "outputs": [
    {
     "data": {
      "text/html": [
       "<div>\n",
       "<style scoped>\n",
       "    .dataframe tbody tr th:only-of-type {\n",
       "        vertical-align: middle;\n",
       "    }\n",
       "\n",
       "    .dataframe tbody tr th {\n",
       "        vertical-align: top;\n",
       "    }\n",
       "\n",
       "    .dataframe thead th {\n",
       "        text-align: right;\n",
       "    }\n",
       "</style>\n",
       "<table border=\"1\" class=\"dataframe\">\n",
       "  <thead>\n",
       "    <tr style=\"text-align: right;\">\n",
       "      <th></th>\n",
       "      <th>PassengerId</th>\n",
       "      <th>Survived</th>\n",
       "    </tr>\n",
       "  </thead>\n",
       "  <tbody>\n",
       "    <tr>\n",
       "      <th>0</th>\n",
       "      <td>892</td>\n",
       "      <td>0</td>\n",
       "    </tr>\n",
       "    <tr>\n",
       "      <th>1</th>\n",
       "      <td>893</td>\n",
       "      <td>0</td>\n",
       "    </tr>\n",
       "    <tr>\n",
       "      <th>2</th>\n",
       "      <td>894</td>\n",
       "      <td>0</td>\n",
       "    </tr>\n",
       "    <tr>\n",
       "      <th>3</th>\n",
       "      <td>895</td>\n",
       "      <td>0</td>\n",
       "    </tr>\n",
       "    <tr>\n",
       "      <th>4</th>\n",
       "      <td>896</td>\n",
       "      <td>1</td>\n",
       "    </tr>\n",
       "  </tbody>\n",
       "</table>\n",
       "</div>"
      ],
      "text/plain": [
       "   PassengerId  Survived\n",
       "0          892         0\n",
       "1          893         0\n",
       "2          894         0\n",
       "3          895         0\n",
       "4          896         1"
      ]
     },
     "execution_count": 88,
     "metadata": {},
     "output_type": "execute_result"
    }
   ],
   "source": [
    "submit_df.head()"
   ]
  }
 ],
 "metadata": {
  "kernelspec": {
   "display_name": "Python 3 (ipykernel)",
   "language": "python",
   "name": "python3"
  },
  "language_info": {
   "codemirror_mode": {
    "name": "ipython",
    "version": 3
   },
   "file_extension": ".py",
   "mimetype": "text/x-python",
   "name": "python",
   "nbconvert_exporter": "python",
   "pygments_lexer": "ipython3",
   "version": "3.10.8"
  }
 },
 "nbformat": 4,
 "nbformat_minor": 5
}
