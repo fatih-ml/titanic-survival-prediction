{
 "cells": [
  {
   "cell_type": "markdown",
   "id": "177ffa3e-0b1a-4f0a-860d-8bf6ba7d6d09",
   "metadata": {},
   "source": [
    "<p align=\"center\">\n",
    "  <img src=\"data/TITANIC COVER.png\" width=\"1200\" height=\"500\">\n",
    "</p>"
   ]
  },
  {
   "cell_type": "markdown",
   "id": "56844844-c73f-4191-a117-67f4bd6e410c",
   "metadata": {},
   "source": [
    "# Titanic Survival Prediction"
   ]
  },
  {
   "cell_type": "markdown",
   "id": "664d34d1-b81d-4c70-9897-6aa9f4b73fa2",
   "metadata": {},
   "source": [
    "# 1. Introduction"
   ]
  },
  {
   "cell_type": "markdown",
   "id": "5c8a5439-02a5-4fb6-b751-65b389af1b25",
   "metadata": {},
   "source": [
    "* Brief overview of the Titanic survival competition at Kaggle.  \n",
    "* Purpose of studying this dataset and objective of this notebook, audiences\n",
    "* Methodology followed.  \n",
    "* Key findings and observations.  \n",
    "* Challenges, areas for potential improvements."
   ]
  },
  {
   "cell_type": "markdown",
   "id": "20255f1c-f9f3-48e3-b23c-467ddc75ff57",
   "metadata": {},
   "source": [
    "**Dataset**  \n",
    "[Kaggle Competition and dataset link](https://www.kaggle.com/c/titanic)\n",
    "\n",
    "**Contact**  \n",
    "Reachme for more or discussion from [Linkedin](https://www.linkedin.com/in/fatih-calik-469961237/), [Github](https://github.com/fatih-ml) or [Kaggle](https://www.kaggle.com/fatihkgg)"
   ]
  },
  {
   "cell_type": "markdown",
   "id": "34f4932a-cd62-452b-b724-1f72fb042772",
   "metadata": {},
   "source": [
    "# 2. Initial Data Exploration"
   ]
  },
  {
   "cell_type": "markdown",
   "id": "dd202be3-95aa-4ebe-8cc5-5c6060700e28",
   "metadata": {},
   "source": [
    "## Importing the dependencies"
   ]
  },
  {
   "cell_type": "code",
   "execution_count": 183,
   "id": "4110091f-64ec-41d7-8790-3da0d158428c",
   "metadata": {
    "tags": []
   },
   "outputs": [],
   "source": [
    "import pandas as pd\n",
    "import numpy as np\n",
    "import scipy.stats as stats\n",
    "import matplotlib.pyplot as plt\n",
    "import seaborn as sns\n",
    "import re\n",
    "import math\n",
    "import pickle\n",
    "from datetime import datetime\n",
    "\n",
    "import warnings\n",
    "warnings.filterwarnings('ignore')\n",
    "np.set_printoptions(suppress=True)\n",
    "pd.set_option('display.max_rows', 200)\n",
    "pd.set_option('display.max_columns', 200)"
   ]
  },
  {
   "cell_type": "code",
   "execution_count": 184,
   "id": "7c19420c-a64a-4214-a1dd-e0eeeacaa4b4",
   "metadata": {
    "tags": []
   },
   "outputs": [],
   "source": [
    "from sklearn.preprocessing import LabelEncoder, OneHotEncoder\n",
    "from sklearn.model_selection import train_test_split, GridSearchCV, cross_validate, cross_val_score\n",
    "from sklearn.pipeline import Pipeline\n",
    "from sklearn.neighbors import KNeighborsClassifier \n",
    "from sklearn.linear_model import LogisticRegression \n",
    "from sklearn.ensemble import GradientBoostingClassifier, RandomForestClassifier, AdaBoostClassifier, ExtraTreesClassifier \n",
    "from xgboost import XGBClassifier \n",
    "from lightgbm import LGBMClassifier\n",
    "from sklearn.svm import SVC\n",
    "from sklearn.preprocessing import StandardScaler\n",
    "from sklearn.metrics import accuracy_score, classification_report"
   ]
  },
  {
   "cell_type": "code",
   "execution_count": 185,
   "id": "c16f5b09-7c0e-45bf-96b6-c91be9eebea7",
   "metadata": {
    "tags": []
   },
   "outputs": [
    {
     "data": {
      "text/html": [
       "<div>\n",
       "<style scoped>\n",
       "    .dataframe tbody tr th:only-of-type {\n",
       "        vertical-align: middle;\n",
       "    }\n",
       "\n",
       "    .dataframe tbody tr th {\n",
       "        vertical-align: top;\n",
       "    }\n",
       "\n",
       "    .dataframe thead th {\n",
       "        text-align: right;\n",
       "    }\n",
       "</style>\n",
       "<table border=\"1\" class=\"dataframe\">\n",
       "  <thead>\n",
       "    <tr style=\"text-align: right;\">\n",
       "      <th></th>\n",
       "      <th>PassengerId</th>\n",
       "      <th>Survived</th>\n",
       "      <th>Pclass</th>\n",
       "      <th>Name</th>\n",
       "      <th>Sex</th>\n",
       "      <th>Age</th>\n",
       "      <th>SibSp</th>\n",
       "      <th>Parch</th>\n",
       "      <th>Ticket</th>\n",
       "      <th>Fare</th>\n",
       "      <th>Cabin</th>\n",
       "      <th>Embarked</th>\n",
       "    </tr>\n",
       "  </thead>\n",
       "  <tbody>\n",
       "    <tr>\n",
       "      <th>0</th>\n",
       "      <td>1</td>\n",
       "      <td>0</td>\n",
       "      <td>3</td>\n",
       "      <td>Braund, Mr. Owen Harris</td>\n",
       "      <td>male</td>\n",
       "      <td>22.0</td>\n",
       "      <td>1</td>\n",
       "      <td>0</td>\n",
       "      <td>A/5 21171</td>\n",
       "      <td>7.2500</td>\n",
       "      <td>NaN</td>\n",
       "      <td>S</td>\n",
       "    </tr>\n",
       "    <tr>\n",
       "      <th>1</th>\n",
       "      <td>2</td>\n",
       "      <td>1</td>\n",
       "      <td>1</td>\n",
       "      <td>Cumings, Mrs. John Bradley (Florence Briggs Th...</td>\n",
       "      <td>female</td>\n",
       "      <td>38.0</td>\n",
       "      <td>1</td>\n",
       "      <td>0</td>\n",
       "      <td>PC 17599</td>\n",
       "      <td>71.2833</td>\n",
       "      <td>C85</td>\n",
       "      <td>C</td>\n",
       "    </tr>\n",
       "    <tr>\n",
       "      <th>2</th>\n",
       "      <td>3</td>\n",
       "      <td>1</td>\n",
       "      <td>3</td>\n",
       "      <td>Heikkinen, Miss. Laina</td>\n",
       "      <td>female</td>\n",
       "      <td>26.0</td>\n",
       "      <td>0</td>\n",
       "      <td>0</td>\n",
       "      <td>STON/O2. 3101282</td>\n",
       "      <td>7.9250</td>\n",
       "      <td>NaN</td>\n",
       "      <td>S</td>\n",
       "    </tr>\n",
       "    <tr>\n",
       "      <th>3</th>\n",
       "      <td>4</td>\n",
       "      <td>1</td>\n",
       "      <td>1</td>\n",
       "      <td>Futrelle, Mrs. Jacques Heath (Lily May Peel)</td>\n",
       "      <td>female</td>\n",
       "      <td>35.0</td>\n",
       "      <td>1</td>\n",
       "      <td>0</td>\n",
       "      <td>113803</td>\n",
       "      <td>53.1000</td>\n",
       "      <td>C123</td>\n",
       "      <td>S</td>\n",
       "    </tr>\n",
       "    <tr>\n",
       "      <th>4</th>\n",
       "      <td>5</td>\n",
       "      <td>0</td>\n",
       "      <td>3</td>\n",
       "      <td>Allen, Mr. William Henry</td>\n",
       "      <td>male</td>\n",
       "      <td>35.0</td>\n",
       "      <td>0</td>\n",
       "      <td>0</td>\n",
       "      <td>373450</td>\n",
       "      <td>8.0500</td>\n",
       "      <td>NaN</td>\n",
       "      <td>S</td>\n",
       "    </tr>\n",
       "  </tbody>\n",
       "</table>\n",
       "</div>"
      ],
      "text/plain": [
       "   PassengerId  Survived  Pclass  \\\n",
       "0            1         0       3   \n",
       "1            2         1       1   \n",
       "2            3         1       3   \n",
       "3            4         1       1   \n",
       "4            5         0       3   \n",
       "\n",
       "                                                Name     Sex   Age  SibSp  \\\n",
       "0                            Braund, Mr. Owen Harris    male  22.0      1   \n",
       "1  Cumings, Mrs. John Bradley (Florence Briggs Th...  female  38.0      1   \n",
       "2                             Heikkinen, Miss. Laina  female  26.0      0   \n",
       "3       Futrelle, Mrs. Jacques Heath (Lily May Peel)  female  35.0      1   \n",
       "4                           Allen, Mr. William Henry    male  35.0      0   \n",
       "\n",
       "   Parch            Ticket     Fare Cabin Embarked  \n",
       "0      0         A/5 21171   7.2500   NaN        S  \n",
       "1      0          PC 17599  71.2833   C85        C  \n",
       "2      0  STON/O2. 3101282   7.9250   NaN        S  \n",
       "3      0            113803  53.1000  C123        S  \n",
       "4      0            373450   8.0500   NaN        S  "
      ]
     },
     "execution_count": 185,
     "metadata": {},
     "output_type": "execute_result"
    }
   ],
   "source": [
    "df_train2 = pd.read_csv('data/train.csv')\n",
    "df_test2 = pd.read_csv('data/test.csv')\n",
    "df_train2.head()"
   ]
  },
  {
   "cell_type": "markdown",
   "id": "1c5b30c8-e196-462e-8337-e0bff3c6548d",
   "metadata": {},
   "source": [
    "## Prepare Datasets & First Observations"
   ]
  },
  {
   "cell_type": "code",
   "execution_count": 186,
   "id": "2902e4dd-50fd-41f6-85c8-5c7f5035e3b9",
   "metadata": {
    "tags": []
   },
   "outputs": [
    {
     "name": "stdout",
     "output_type": "stream",
     "text": [
      "(891, 12)\n",
      "(418, 11)\n"
     ]
    }
   ],
   "source": [
    "print(df_train2.shape)\n",
    "print(df_test2.shape)"
   ]
  },
  {
   "cell_type": "code",
   "execution_count": 187,
   "id": "b410fbad-5c94-4afa-9d23-7dbf411ca9c1",
   "metadata": {
    "tags": []
   },
   "outputs": [],
   "source": [
    "df = pd.concat([df_train2, df_test2], axis=0)"
   ]
  },
  {
   "cell_type": "code",
   "execution_count": 188,
   "id": "34e3a5e0-f1e1-4097-a4af-5be131eccefe",
   "metadata": {
    "tags": []
   },
   "outputs": [
    {
     "name": "stdout",
     "output_type": "stream",
     "text": [
      "<class 'pandas.core.frame.DataFrame'>\n",
      "Int64Index: 1309 entries, 0 to 417\n",
      "Data columns (total 12 columns):\n",
      " #   Column       Non-Null Count  Dtype  \n",
      "---  ------       --------------  -----  \n",
      " 0   PassengerId  1309 non-null   int64  \n",
      " 1   Survived     891 non-null    float64\n",
      " 2   Pclass       1309 non-null   int64  \n",
      " 3   Name         1309 non-null   object \n",
      " 4   Sex          1309 non-null   object \n",
      " 5   Age          1046 non-null   float64\n",
      " 6   SibSp        1309 non-null   int64  \n",
      " 7   Parch        1309 non-null   int64  \n",
      " 8   Ticket       1309 non-null   object \n",
      " 9   Fare         1308 non-null   float64\n",
      " 10  Cabin        295 non-null    object \n",
      " 11  Embarked     1307 non-null   object \n",
      "dtypes: float64(3), int64(4), object(5)\n",
      "memory usage: 132.9+ KB\n"
     ]
    }
   ],
   "source": [
    "df.info()"
   ]
  },
  {
   "cell_type": "code",
   "execution_count": 189,
   "id": "4accb448-63fa-4521-9f49-3ea5fc8d5d4d",
   "metadata": {
    "tags": []
   },
   "outputs": [],
   "source": [
    "categorical_features = df.select_dtypes(include=['object', 'category']).columns\n",
    "numerical_features = df.select_dtypes(include='number').columns"
   ]
  },
  {
   "cell_type": "code",
   "execution_count": 190,
   "id": "b7ff0223-1a90-470c-94ec-ca97d620799a",
   "metadata": {},
   "outputs": [
    {
     "data": {
      "text/html": [
       "<div>\n",
       "<style scoped>\n",
       "    .dataframe tbody tr th:only-of-type {\n",
       "        vertical-align: middle;\n",
       "    }\n",
       "\n",
       "    .dataframe tbody tr th {\n",
       "        vertical-align: top;\n",
       "    }\n",
       "\n",
       "    .dataframe thead th {\n",
       "        text-align: right;\n",
       "    }\n",
       "</style>\n",
       "<table border=\"1\" class=\"dataframe\">\n",
       "  <thead>\n",
       "    <tr style=\"text-align: right;\">\n",
       "      <th></th>\n",
       "      <th>count</th>\n",
       "      <th>unique</th>\n",
       "      <th>top</th>\n",
       "      <th>freq</th>\n",
       "    </tr>\n",
       "  </thead>\n",
       "  <tbody>\n",
       "    <tr>\n",
       "      <th>Name</th>\n",
       "      <td>1309</td>\n",
       "      <td>1307</td>\n",
       "      <td>Connolly, Miss. Kate</td>\n",
       "      <td>2</td>\n",
       "    </tr>\n",
       "    <tr>\n",
       "      <th>Sex</th>\n",
       "      <td>1309</td>\n",
       "      <td>2</td>\n",
       "      <td>male</td>\n",
       "      <td>843</td>\n",
       "    </tr>\n",
       "    <tr>\n",
       "      <th>Ticket</th>\n",
       "      <td>1309</td>\n",
       "      <td>929</td>\n",
       "      <td>CA. 2343</td>\n",
       "      <td>11</td>\n",
       "    </tr>\n",
       "    <tr>\n",
       "      <th>Cabin</th>\n",
       "      <td>295</td>\n",
       "      <td>186</td>\n",
       "      <td>C23 C25 C27</td>\n",
       "      <td>6</td>\n",
       "    </tr>\n",
       "    <tr>\n",
       "      <th>Embarked</th>\n",
       "      <td>1307</td>\n",
       "      <td>3</td>\n",
       "      <td>S</td>\n",
       "      <td>914</td>\n",
       "    </tr>\n",
       "  </tbody>\n",
       "</table>\n",
       "</div>"
      ],
      "text/plain": [
       "         count unique                   top freq\n",
       "Name      1309   1307  Connolly, Miss. Kate    2\n",
       "Sex       1309      2                  male  843\n",
       "Ticket    1309    929              CA. 2343   11\n",
       "Cabin      295    186           C23 C25 C27    6\n",
       "Embarked  1307      3                     S  914"
      ]
     },
     "execution_count": 190,
     "metadata": {},
     "output_type": "execute_result"
    }
   ],
   "source": [
    "df[categorical_features].describe().T"
   ]
  },
  {
   "cell_type": "code",
   "execution_count": 191,
   "id": "b0217b7c-a0e7-405a-a8e3-b4e9a34b7288",
   "metadata": {
    "tags": []
   },
   "outputs": [
    {
     "data": {
      "text/html": [
       "<div>\n",
       "<style scoped>\n",
       "    .dataframe tbody tr th:only-of-type {\n",
       "        vertical-align: middle;\n",
       "    }\n",
       "\n",
       "    .dataframe tbody tr th {\n",
       "        vertical-align: top;\n",
       "    }\n",
       "\n",
       "    .dataframe thead th {\n",
       "        text-align: right;\n",
       "    }\n",
       "</style>\n",
       "<table border=\"1\" class=\"dataframe\">\n",
       "  <thead>\n",
       "    <tr style=\"text-align: right;\">\n",
       "      <th></th>\n",
       "      <th>count</th>\n",
       "      <th>mean</th>\n",
       "      <th>std</th>\n",
       "      <th>min</th>\n",
       "      <th>25%</th>\n",
       "      <th>50%</th>\n",
       "      <th>75%</th>\n",
       "      <th>max</th>\n",
       "    </tr>\n",
       "  </thead>\n",
       "  <tbody>\n",
       "    <tr>\n",
       "      <th>PassengerId</th>\n",
       "      <td>1309.0</td>\n",
       "      <td>655.000000</td>\n",
       "      <td>378.020061</td>\n",
       "      <td>1.00</td>\n",
       "      <td>328.0000</td>\n",
       "      <td>655.0000</td>\n",
       "      <td>982.000</td>\n",
       "      <td>1309.0000</td>\n",
       "    </tr>\n",
       "    <tr>\n",
       "      <th>Survived</th>\n",
       "      <td>891.0</td>\n",
       "      <td>0.383838</td>\n",
       "      <td>0.486592</td>\n",
       "      <td>0.00</td>\n",
       "      <td>0.0000</td>\n",
       "      <td>0.0000</td>\n",
       "      <td>1.000</td>\n",
       "      <td>1.0000</td>\n",
       "    </tr>\n",
       "    <tr>\n",
       "      <th>Pclass</th>\n",
       "      <td>1309.0</td>\n",
       "      <td>2.294882</td>\n",
       "      <td>0.837836</td>\n",
       "      <td>1.00</td>\n",
       "      <td>2.0000</td>\n",
       "      <td>3.0000</td>\n",
       "      <td>3.000</td>\n",
       "      <td>3.0000</td>\n",
       "    </tr>\n",
       "    <tr>\n",
       "      <th>Age</th>\n",
       "      <td>1046.0</td>\n",
       "      <td>29.881138</td>\n",
       "      <td>14.413493</td>\n",
       "      <td>0.17</td>\n",
       "      <td>21.0000</td>\n",
       "      <td>28.0000</td>\n",
       "      <td>39.000</td>\n",
       "      <td>80.0000</td>\n",
       "    </tr>\n",
       "    <tr>\n",
       "      <th>SibSp</th>\n",
       "      <td>1309.0</td>\n",
       "      <td>0.498854</td>\n",
       "      <td>1.041658</td>\n",
       "      <td>0.00</td>\n",
       "      <td>0.0000</td>\n",
       "      <td>0.0000</td>\n",
       "      <td>1.000</td>\n",
       "      <td>8.0000</td>\n",
       "    </tr>\n",
       "    <tr>\n",
       "      <th>Parch</th>\n",
       "      <td>1309.0</td>\n",
       "      <td>0.385027</td>\n",
       "      <td>0.865560</td>\n",
       "      <td>0.00</td>\n",
       "      <td>0.0000</td>\n",
       "      <td>0.0000</td>\n",
       "      <td>0.000</td>\n",
       "      <td>9.0000</td>\n",
       "    </tr>\n",
       "    <tr>\n",
       "      <th>Fare</th>\n",
       "      <td>1308.0</td>\n",
       "      <td>33.295479</td>\n",
       "      <td>51.758668</td>\n",
       "      <td>0.00</td>\n",
       "      <td>7.8958</td>\n",
       "      <td>14.4542</td>\n",
       "      <td>31.275</td>\n",
       "      <td>512.3292</td>\n",
       "    </tr>\n",
       "  </tbody>\n",
       "</table>\n",
       "</div>"
      ],
      "text/plain": [
       "              count        mean         std   min       25%       50%  \\\n",
       "PassengerId  1309.0  655.000000  378.020061  1.00  328.0000  655.0000   \n",
       "Survived      891.0    0.383838    0.486592  0.00    0.0000    0.0000   \n",
       "Pclass       1309.0    2.294882    0.837836  1.00    2.0000    3.0000   \n",
       "Age          1046.0   29.881138   14.413493  0.17   21.0000   28.0000   \n",
       "SibSp        1309.0    0.498854    1.041658  0.00    0.0000    0.0000   \n",
       "Parch        1309.0    0.385027    0.865560  0.00    0.0000    0.0000   \n",
       "Fare         1308.0   33.295479   51.758668  0.00    7.8958   14.4542   \n",
       "\n",
       "                 75%        max  \n",
       "PassengerId  982.000  1309.0000  \n",
       "Survived       1.000     1.0000  \n",
       "Pclass         3.000     3.0000  \n",
       "Age           39.000    80.0000  \n",
       "SibSp          1.000     8.0000  \n",
       "Parch          0.000     9.0000  \n",
       "Fare          31.275   512.3292  "
      ]
     },
     "execution_count": 191,
     "metadata": {},
     "output_type": "execute_result"
    }
   ],
   "source": [
    "df[numerical_features].describe().T"
   ]
  },
  {
   "cell_type": "markdown",
   "id": "4767ea7a-89e5-40b8-be85-4efcacf7318d",
   "metadata": {},
   "source": [
    "## Missing Values"
   ]
  },
  {
   "cell_type": "code",
   "execution_count": 192,
   "id": "6e5e8c8f-b244-4ede-99f4-68fa3cbb18c3",
   "metadata": {
    "tags": []
   },
   "outputs": [
    {
     "data": {
      "text/plain": [
       "PassengerId       0\n",
       "Survived        418\n",
       "Pclass            0\n",
       "Name              0\n",
       "Sex               0\n",
       "Age             263\n",
       "SibSp             0\n",
       "Parch             0\n",
       "Ticket            0\n",
       "Fare              1\n",
       "Cabin          1014\n",
       "Embarked          2\n",
       "dtype: int64"
      ]
     },
     "execution_count": 192,
     "metadata": {},
     "output_type": "execute_result"
    }
   ],
   "source": [
    "df.isnull().sum()"
   ]
  },
  {
   "cell_type": "markdown",
   "id": "c1655311-20e3-47e4-b3b5-fe07d3c9cf94",
   "metadata": {},
   "source": [
    "# 3. Data Preprocessing"
   ]
  },
  {
   "cell_type": "code",
   "execution_count": 193,
   "id": "88ff1143-c4a3-400f-964c-eae1150b5fb5",
   "metadata": {
    "tags": []
   },
   "outputs": [],
   "source": [
    "# we can easily decide to drop PassengerId, since it doesnt add value to our model\n",
    "df.drop(columns=['PassengerId'], inplace=True)"
   ]
  },
  {
   "cell_type": "code",
   "execution_count": 194,
   "id": "439cc056-618f-44a5-a7af-80c6ef3fd420",
   "metadata": {
    "tags": []
   },
   "outputs": [],
   "source": [
    "# fill Embarked with the most requent observation\n",
    "df['Embarked'].fillna(df['Embarked'].mode()[0], inplace=True)"
   ]
  },
  {
   "cell_type": "code",
   "execution_count": 195,
   "id": "6c219ed1-9e2a-4ce3-afff-c6f43a79652c",
   "metadata": {
    "tags": []
   },
   "outputs": [
    {
     "data": {
      "text/plain": [
       "Pclass\n",
       "1    60.0000\n",
       "2    15.0458\n",
       "3     8.0500\n",
       "Name: Fare, dtype: float64"
      ]
     },
     "execution_count": 195,
     "metadata": {},
     "output_type": "execute_result"
    }
   ],
   "source": [
    "df.groupby('Pclass')['Fare'].median()"
   ]
  },
  {
   "cell_type": "code",
   "execution_count": 196,
   "id": "9cfb549f-3997-455f-85d9-ffc171a25cda",
   "metadata": {
    "tags": []
   },
   "outputs": [],
   "source": [
    "df['Fare'].fillna(8.0, inplace=True)"
   ]
  },
  {
   "cell_type": "markdown",
   "id": "be7cd33d-8ccb-4709-9a5d-5bf63368a4e0",
   "metadata": {},
   "source": [
    "## Names"
   ]
  },
  {
   "cell_type": "markdown",
   "id": "8a9d1f2c-b33a-474a-a9cb-10d56733d79d",
   "metadata": {},
   "source": [
    "__Name feature is of course too varying. We can extract the titles from here, we will use it to fill nan values in age variable, also some Special Titles may have high survival rates. Also, surnames can be extracted here to build a connection with other family members__  \n",
    "\n",
    "__I run the models only with my new 'title column' and the results was shockingly good an average of 0.79 Accuracy without hyperparamtre tuning, While the age alone is around 0.63, fares 0.68__"
   ]
  },
  {
   "cell_type": "code",
   "execution_count": 197,
   "id": "36a6063a-5be9-4287-b92a-032fc4c51d15",
   "metadata": {
    "tags": []
   },
   "outputs": [],
   "source": [
    "title_mapping = {\n",
    "    'Mr.': 'Mr.',\n",
    "    'Mrs.': 'Mrs.',\n",
    "    'Miss.': 'Miss',\n",
    "    'Ms.': 'Miss',\n",
    "    'Master.': 'Master.',\n",
    "    'Mlle.': 'Miss',\n",
    "    'Mme.': 'Miss',\n",
    "    'Dr.': 'Special_title',\n",
    "    'Sir': 'Special_title',\n",
    "    'Col.': 'Special_title',\n",
    "    'Capt.': 'Special_title',\n",
    "    'Don.': 'Special_title',\n",
    "    'Major.': 'Special_title',\n",
    "    'Jonkheer.': 'Special_title',\n",
    "    'Rev.': 'Special_title',\n",
    "    'Countess.': 'Special_title',\n",
    "    'Lady.': 'Special_title',\n",
    "}"
   ]
  },
  {
   "cell_type": "code",
   "execution_count": 198,
   "id": "2ca098bd-b770-4881-aa95-2d9a047bbb97",
   "metadata": {
    "tags": []
   },
   "outputs": [
    {
     "data": {
      "text/plain": [
       "Mr.              757\n",
       "Miss             265\n",
       "Mrs.             197\n",
       "Master.           61\n",
       "Special_title     28\n",
       "Name: Title, dtype: int64"
      ]
     },
     "execution_count": 198,
     "metadata": {},
     "output_type": "execute_result"
    }
   ],
   "source": [
    "# Extract title from name\n",
    "df['Title'] = df['Name'].apply(lambda name: next((title_mapping[title] for title in title_mapping if title in name), None))\n",
    "\n",
    "# Drop Name\n",
    "df.drop(columns= ['Name'], inplace=True)\n",
    "\n",
    "# Print the value counts\n",
    "df['Title'].value_counts()"
   ]
  },
  {
   "cell_type": "markdown",
   "id": "fa5f840e-6eb0-45d2-984c-08769f5ed346",
   "metadata": {},
   "source": [
    "## Age"
   ]
  },
  {
   "cell_type": "code",
   "execution_count": 199,
   "id": "b3b93261-c40f-4d3f-b36d-421e603fcf8f",
   "metadata": {},
   "outputs": [],
   "source": [
    "# Fill Nan valuess according to their Titles, which also represents their age group in a degree\n",
    "median_age_titles = df.groupby('Title')['Age'].transform('median').round(0)\n",
    "\n",
    "# Fill missing Age values with the calculated medians\n",
    "df['Age'] = df['Age'].fillna(median_age_titles)"
   ]
  },
  {
   "cell_type": "markdown",
   "id": "e352d83d-4c9a-495e-bbda-eaeb55faf280",
   "metadata": {},
   "source": [
    "__I want to apply discretization to age feature. Lets try to decide by inspiring from kdeplots and general age categories from domain__"
   ]
  },
  {
   "cell_type": "code",
   "execution_count": 200,
   "id": "5cd1f86f-ea08-42ef-9eb5-4a3b4405847a",
   "metadata": {
    "tags": []
   },
   "outputs": [
    {
     "data": {
      "image/png": "[encoded data removed]",
      "text/plain": [
       "<Figure size 1500x400 with 1 Axes>"
      ]
     },
     "metadata": {},
     "output_type": "display_data"
    }
   ],
   "source": [
    "fig = plt.figure(figsize=(15,4))\n",
    "sns.kdeplot(data=df_train2, x='Age', hue='Survived', common_norm=True, fill=True )\n",
    "plt.xlim(0, 80)\n",
    "plt.grid()\n",
    "plt.show()"
   ]
  },
  {
   "cell_type": "code",
   "execution_count": 201,
   "id": "0a205f5b-1cb5-410c-b787-4e2f10f4f9aa",
   "metadata": {
    "tags": []
   },
   "outputs": [],
   "source": [
    "age_bins = [0, 12, 20, 30, 40, 50, 100]  \n",
    "age_labels = ['Child', 'Teen', 'Young_Adult', 'Middle_Age', 'Senior_Adult', 'Old']\n",
    "\n",
    "# Create the 'Age_Category' column using pd.cut\n",
    "df['Age_Category'] = pd.cut(df['Age'], bins=age_bins, labels=age_labels, right=False)\n",
    "\n",
    "# Drop Age column\n",
    "df.drop(columns=['Age'], inplace=True)"
   ]
  },
  {
   "cell_type": "code",
   "execution_count": 202,
   "id": "04b21663-0527-4f56-a00f-f3b18a29fae0",
   "metadata": {
    "tags": []
   },
   "outputs": [
    {
     "data": {
      "text/plain": [
       "2    571\n",
       "3    259\n",
       "4    136\n",
       "1    134\n",
       "5    110\n",
       "0     99\n",
       "Name: Age_Cat_Label, dtype: int64"
      ]
     },
     "execution_count": 202,
     "metadata": {},
     "output_type": "execute_result"
    }
   ],
   "source": [
    "# Before data splitting test-train it is good to have numeric age as well\n",
    "age_cat_order = ['Child', 'Teen', 'Young_Adult', 'Middle_Age', 'Senior_Adult', 'Old']\n",
    "age_label_encoder = LabelEncoder()\n",
    "age_label_encoder.classes_ = age_cat_order\n",
    "df['Age_Cat_Label'] = age_label_encoder.transform(df['Age_Category'])\n",
    "df.Age_Cat_Label.value_counts()"
   ]
  },
  {
   "cell_type": "markdown",
   "id": "a7b0a0c8-ae30-4b6c-b0c4-7fc9e162915f",
   "metadata": {},
   "source": [
    "**I runned the model with only age feature alone, binned and label encoded with bins, the performance is better in almost all models**"
   ]
  },
  {
   "cell_type": "markdown",
   "id": "48f56dd5-7c07-4145-8e48-a10e36be04ac",
   "metadata": {},
   "source": [
    "## Cabin No"
   ]
  },
  {
   "cell_type": "markdown",
   "id": "c407531e-e61e-41e2-bed5-5c21fc48ed56",
   "metadata": {},
   "source": [
    "<p align=\"center\">\n",
    "  <img src=\"data/titanic_plan.png\" width=\"300\" height=\"300\">\n",
    "</p>"
   ]
  },
  {
   "cell_type": "markdown",
   "id": "7ef73f85-5f23-4796-ab3b-bb447b969492",
   "metadata": {},
   "source": [
    "We will try to extract first letters from Cabin No as Decks:\n",
    "[click for detailed plan](data/titanic_plan.png)   ( [image source](https://www.scmp.com/infographics/article/1633333/infographic-titanic) )"
   ]
  },
  {
   "cell_type": "code",
   "execution_count": 203,
   "id": "af7deb59-1112-4f7f-ab74-38d2016dfcda",
   "metadata": {
    "tags": []
   },
   "outputs": [],
   "source": [
    "df['Cabin'].fillna('No_Cabin', inplace=True)"
   ]
  },
  {
   "cell_type": "code",
   "execution_count": 204,
   "id": "bb51d0ff-9636-4970-95b2-b95a8536067c",
   "metadata": {
    "tags": []
   },
   "outputs": [],
   "source": [
    "# Fill missing values, by No_cabin value\n",
    "def extract_cabins(cabin):\n",
    "    if cabin == 'No_Cabin':\n",
    "        deck = 'No_Cabin'\n",
    "    else:    \n",
    "        deck = cabin[0]\n",
    "    return deck\n",
    "\n",
    "df['Deck'] = df['Cabin'].apply(extract_cabins)"
   ]
  },
  {
   "cell_type": "code",
   "execution_count": 205,
   "id": "4b707262-424b-4256-a855-eec505260670",
   "metadata": {
    "tags": []
   },
   "outputs": [
    {
     "data": {
      "text/plain": [
       "No_Cabin    1014\n",
       "C             94\n",
       "B             65\n",
       "D             46\n",
       "E             41\n",
       "A             22\n",
       "F             21\n",
       "G              5\n",
       "T              1\n",
       "Name: Deck, dtype: int64"
      ]
     },
     "execution_count": 205,
     "metadata": {},
     "output_type": "execute_result"
    }
   ],
   "source": [
    "df['Deck'].value_counts()"
   ]
  },
  {
   "cell_type": "code",
   "execution_count": 206,
   "id": "89ab75af-7bb4-427a-8b2c-a2a7ec3385fa",
   "metadata": {
    "tags": []
   },
   "outputs": [
    {
     "data": {
      "text/html": [
       "<div>\n",
       "<style scoped>\n",
       "    .dataframe tbody tr th:only-of-type {\n",
       "        vertical-align: middle;\n",
       "    }\n",
       "\n",
       "    .dataframe tbody tr th {\n",
       "        vertical-align: top;\n",
       "    }\n",
       "\n",
       "    .dataframe thead th {\n",
       "        text-align: right;\n",
       "    }\n",
       "</style>\n",
       "<table border=\"1\" class=\"dataframe\">\n",
       "  <thead>\n",
       "    <tr style=\"text-align: right;\">\n",
       "      <th></th>\n",
       "      <th></th>\n",
       "      <th>Fare</th>\n",
       "    </tr>\n",
       "    <tr>\n",
       "      <th>Pclass</th>\n",
       "      <th>Deck</th>\n",
       "      <th></th>\n",
       "    </tr>\n",
       "  </thead>\n",
       "  <tbody>\n",
       "    <tr>\n",
       "      <th rowspan=\"7\" valign=\"top\">1</th>\n",
       "      <th>A</th>\n",
       "      <td>22</td>\n",
       "    </tr>\n",
       "    <tr>\n",
       "      <th>B</th>\n",
       "      <td>65</td>\n",
       "    </tr>\n",
       "    <tr>\n",
       "      <th>C</th>\n",
       "      <td>94</td>\n",
       "    </tr>\n",
       "    <tr>\n",
       "      <th>D</th>\n",
       "      <td>40</td>\n",
       "    </tr>\n",
       "    <tr>\n",
       "      <th>E</th>\n",
       "      <td>34</td>\n",
       "    </tr>\n",
       "    <tr>\n",
       "      <th>No_Cabin</th>\n",
       "      <td>67</td>\n",
       "    </tr>\n",
       "    <tr>\n",
       "      <th>T</th>\n",
       "      <td>1</td>\n",
       "    </tr>\n",
       "    <tr>\n",
       "      <th rowspan=\"4\" valign=\"top\">2</th>\n",
       "      <th>D</th>\n",
       "      <td>6</td>\n",
       "    </tr>\n",
       "    <tr>\n",
       "      <th>E</th>\n",
       "      <td>4</td>\n",
       "    </tr>\n",
       "    <tr>\n",
       "      <th>F</th>\n",
       "      <td>13</td>\n",
       "    </tr>\n",
       "    <tr>\n",
       "      <th>No_Cabin</th>\n",
       "      <td>254</td>\n",
       "    </tr>\n",
       "    <tr>\n",
       "      <th rowspan=\"4\" valign=\"top\">3</th>\n",
       "      <th>E</th>\n",
       "      <td>3</td>\n",
       "    </tr>\n",
       "    <tr>\n",
       "      <th>F</th>\n",
       "      <td>8</td>\n",
       "    </tr>\n",
       "    <tr>\n",
       "      <th>G</th>\n",
       "      <td>5</td>\n",
       "    </tr>\n",
       "    <tr>\n",
       "      <th>No_Cabin</th>\n",
       "      <td>693</td>\n",
       "    </tr>\n",
       "  </tbody>\n",
       "</table>\n",
       "</div>"
      ],
      "text/plain": [
       "                 Fare\n",
       "Pclass Deck          \n",
       "1      A           22\n",
       "       B           65\n",
       "       C           94\n",
       "       D           40\n",
       "       E           34\n",
       "       No_Cabin    67\n",
       "       T            1\n",
       "2      D            6\n",
       "       E            4\n",
       "       F           13\n",
       "       No_Cabin   254\n",
       "3      E            3\n",
       "       F            8\n",
       "       G            5\n",
       "       No_Cabin   693"
      ]
     },
     "execution_count": 206,
     "metadata": {},
     "output_type": "execute_result"
    }
   ],
   "source": [
    "median_prices_deck_class = pd.DataFrame(df.groupby(['Pclass', 'Deck'])['Fare'].count())\n",
    "median_prices_deck_class"
   ]
  },
  {
   "cell_type": "markdown",
   "id": "6afe9f0f-db81-4e4c-8fd5-364a1ef6f91c",
   "metadata": {},
   "source": [
    "**It will be very misleading to continue those no cabin values according to other values such as Pclass and Fare**\n",
    "**There is a very big number to be filled, altough we have the plan, it is not giving a full picture but just an estimation**\n",
    "**Moreover it will be turning into a Pclass, so better to remove now**"
   ]
  },
  {
   "cell_type": "code",
   "execution_count": 207,
   "id": "b729557f-bc20-4da9-a045-c4fe6709f2df",
   "metadata": {},
   "outputs": [],
   "source": [
    "df.drop(columns=['Cabin', 'Deck'], inplace=True)"
   ]
  },
  {
   "cell_type": "markdown",
   "id": "d096314e-27bc-43d1-a08c-3b2a7117a7a7",
   "metadata": {
    "tags": []
   },
   "source": [
    "## Family"
   ]
  },
  {
   "cell_type": "code",
   "execution_count": 208,
   "id": "d4881417-a8cb-49d8-b328-8a8ac1350128",
   "metadata": {
    "tags": []
   },
   "outputs": [],
   "source": [
    "df['Family'] = df['Parch'] + df['SibSp'] + 1"
   ]
  },
  {
   "cell_type": "code",
   "execution_count": 209,
   "id": "3864e409-1407-4ac9-9d94-d2ca8ca8820d",
   "metadata": {
    "tags": []
   },
   "outputs": [],
   "source": [
    "df.drop(columns=['Parch', 'SibSp'], inplace=True)"
   ]
  },
  {
   "cell_type": "markdown",
   "id": "44b0d329-179c-46f5-9316-398612fc102c",
   "metadata": {},
   "source": [
    "## Ticket"
   ]
  },
  {
   "cell_type": "markdown",
   "id": "d23007d4-9261-491a-9dc0-e297293f4429",
   "metadata": {},
   "source": [
    "Currently i will drop Ticket Column, since it will not add too much value to my model, however, it can be studied further, to make an connection with family members with duplicate ticket numbers"
   ]
  },
  {
   "cell_type": "code",
   "execution_count": 210,
   "id": "20db4517-d41d-4606-bedb-7aa1bf73a240",
   "metadata": {},
   "outputs": [],
   "source": [
    "df.drop(columns=['Ticket'], inplace=True)"
   ]
  },
  {
   "cell_type": "markdown",
   "id": "d85c7231-6f00-48a9-8142-19b302ce2e77",
   "metadata": {},
   "source": [
    "## Check for Outliers"
   ]
  },
  {
   "cell_type": "code",
   "execution_count": 211,
   "id": "43d25bdc-4713-4abf-9d55-581d6dc2f592",
   "metadata": {
    "tags": []
   },
   "outputs": [
    {
     "data": {
      "text/html": [
       "<div>\n",
       "<style scoped>\n",
       "    .dataframe tbody tr th:only-of-type {\n",
       "        vertical-align: middle;\n",
       "    }\n",
       "\n",
       "    .dataframe tbody tr th {\n",
       "        vertical-align: top;\n",
       "    }\n",
       "\n",
       "    .dataframe thead th {\n",
       "        text-align: right;\n",
       "    }\n",
       "</style>\n",
       "<table border=\"1\" class=\"dataframe\">\n",
       "  <thead>\n",
       "    <tr style=\"text-align: right;\">\n",
       "      <th></th>\n",
       "      <th>Survived</th>\n",
       "      <th>Pclass</th>\n",
       "      <th>Sex</th>\n",
       "      <th>Fare</th>\n",
       "      <th>Embarked</th>\n",
       "      <th>Title</th>\n",
       "      <th>Age_Category</th>\n",
       "      <th>Age_Cat_Label</th>\n",
       "      <th>Family</th>\n",
       "    </tr>\n",
       "  </thead>\n",
       "  <tbody>\n",
       "    <tr>\n",
       "      <th>501</th>\n",
       "      <td>0.0</td>\n",
       "      <td>3</td>\n",
       "      <td>female</td>\n",
       "      <td>7.7500</td>\n",
       "      <td>Q</td>\n",
       "      <td>Miss</td>\n",
       "      <td>Young_Adult</td>\n",
       "      <td>2</td>\n",
       "      <td>1</td>\n",
       "    </tr>\n",
       "    <tr>\n",
       "      <th>164</th>\n",
       "      <td>0.0</td>\n",
       "      <td>3</td>\n",
       "      <td>male</td>\n",
       "      <td>39.6875</td>\n",
       "      <td>S</td>\n",
       "      <td>Master.</td>\n",
       "      <td>Child</td>\n",
       "      <td>0</td>\n",
       "      <td>6</td>\n",
       "    </tr>\n",
       "    <tr>\n",
       "      <th>373</th>\n",
       "      <td>NaN</td>\n",
       "      <td>2</td>\n",
       "      <td>male</td>\n",
       "      <td>13.0000</td>\n",
       "      <td>S</td>\n",
       "      <td>Mr.</td>\n",
       "      <td>Senior_Adult</td>\n",
       "      <td>4</td>\n",
       "      <td>1</td>\n",
       "    </tr>\n",
       "  </tbody>\n",
       "</table>\n",
       "</div>"
      ],
      "text/plain": [
       "     Survived  Pclass     Sex     Fare Embarked    Title  Age_Category  \\\n",
       "501       0.0       3  female   7.7500        Q     Miss   Young_Adult   \n",
       "164       0.0       3    male  39.6875        S  Master.         Child   \n",
       "373       NaN       2    male  13.0000        S      Mr.  Senior_Adult   \n",
       "\n",
       "     Age_Cat_Label  Family  \n",
       "501              2       1  \n",
       "164              0       6  \n",
       "373              4       1  "
      ]
     },
     "execution_count": 211,
     "metadata": {},
     "output_type": "execute_result"
    }
   ],
   "source": [
    "df.sample(3)"
   ]
  },
  {
   "cell_type": "code",
   "execution_count": 212,
   "id": "789fee41-1362-471d-88f4-9e86231fef70",
   "metadata": {
    "tags": []
   },
   "outputs": [
    {
     "data": {
      "text/plain": [
       "1     790\n",
       "2     235\n",
       "3     159\n",
       "4      43\n",
       "6      25\n",
       "5      22\n",
       "7      16\n",
       "11     11\n",
       "8       8\n",
       "Name: Family, dtype: int64"
      ]
     },
     "execution_count": 212,
     "metadata": {},
     "output_type": "execute_result"
    }
   ],
   "source": [
    "df['Family'].value_counts()"
   ]
  },
  {
   "cell_type": "code",
   "execution_count": 213,
   "id": "06997fd7-1bef-47fc-991f-14464f55777f",
   "metadata": {
    "tags": []
   },
   "outputs": [
    {
     "data": {
      "image/png": "[encoded data removed]",
      "text/plain": [
       "<Figure size 640x480 with 1 Axes>"
      ]
     },
     "metadata": {},
     "output_type": "display_data"
    }
   ],
   "source": [
    "sns.boxplot(df['Fare'], whis=3);"
   ]
  },
  {
   "cell_type": "code",
   "execution_count": 214,
   "id": "92c0f064-2c46-4e9a-9ff8-bb3e9617215c",
   "metadata": {
    "tags": []
   },
   "outputs": [
    {
     "data": {
      "text/html": [
       "<div>\n",
       "<style scoped>\n",
       "    .dataframe tbody tr th:only-of-type {\n",
       "        vertical-align: middle;\n",
       "    }\n",
       "\n",
       "    .dataframe tbody tr th {\n",
       "        vertical-align: top;\n",
       "    }\n",
       "\n",
       "    .dataframe thead th {\n",
       "        text-align: right;\n",
       "    }\n",
       "</style>\n",
       "<table border=\"1\" class=\"dataframe\">\n",
       "  <thead>\n",
       "    <tr style=\"text-align: right;\">\n",
       "      <th></th>\n",
       "      <th>Survived</th>\n",
       "      <th>Pclass</th>\n",
       "      <th>Sex</th>\n",
       "      <th>Fare</th>\n",
       "      <th>Embarked</th>\n",
       "      <th>Title</th>\n",
       "      <th>Age_Category</th>\n",
       "      <th>Age_Cat_Label</th>\n",
       "      <th>Family</th>\n",
       "    </tr>\n",
       "  </thead>\n",
       "  <tbody>\n",
       "    <tr>\n",
       "      <th>27</th>\n",
       "      <td>0.0</td>\n",
       "      <td>1</td>\n",
       "      <td>male</td>\n",
       "      <td>263.0000</td>\n",
       "      <td>S</td>\n",
       "      <td>Mr.</td>\n",
       "      <td>Teen</td>\n",
       "      <td>1</td>\n",
       "      <td>6</td>\n",
       "    </tr>\n",
       "    <tr>\n",
       "      <th>88</th>\n",
       "      <td>1.0</td>\n",
       "      <td>1</td>\n",
       "      <td>female</td>\n",
       "      <td>263.0000</td>\n",
       "      <td>S</td>\n",
       "      <td>Miss</td>\n",
       "      <td>Young_Adult</td>\n",
       "      <td>2</td>\n",
       "      <td>6</td>\n",
       "    </tr>\n",
       "    <tr>\n",
       "      <th>258</th>\n",
       "      <td>1.0</td>\n",
       "      <td>1</td>\n",
       "      <td>female</td>\n",
       "      <td>512.3292</td>\n",
       "      <td>C</td>\n",
       "      <td>Miss</td>\n",
       "      <td>Middle_Age</td>\n",
       "      <td>3</td>\n",
       "      <td>1</td>\n",
       "    </tr>\n",
       "    <tr>\n",
       "      <th>311</th>\n",
       "      <td>1.0</td>\n",
       "      <td>1</td>\n",
       "      <td>female</td>\n",
       "      <td>262.3750</td>\n",
       "      <td>C</td>\n",
       "      <td>Miss</td>\n",
       "      <td>Teen</td>\n",
       "      <td>1</td>\n",
       "      <td>5</td>\n",
       "    </tr>\n",
       "    <tr>\n",
       "      <th>341</th>\n",
       "      <td>1.0</td>\n",
       "      <td>1</td>\n",
       "      <td>female</td>\n",
       "      <td>263.0000</td>\n",
       "      <td>S</td>\n",
       "      <td>Miss</td>\n",
       "      <td>Young_Adult</td>\n",
       "      <td>2</td>\n",
       "      <td>6</td>\n",
       "    </tr>\n",
       "    <tr>\n",
       "      <th>438</th>\n",
       "      <td>0.0</td>\n",
       "      <td>1</td>\n",
       "      <td>male</td>\n",
       "      <td>263.0000</td>\n",
       "      <td>S</td>\n",
       "      <td>Mr.</td>\n",
       "      <td>Old</td>\n",
       "      <td>5</td>\n",
       "      <td>6</td>\n",
       "    </tr>\n",
       "    <tr>\n",
       "      <th>679</th>\n",
       "      <td>1.0</td>\n",
       "      <td>1</td>\n",
       "      <td>male</td>\n",
       "      <td>512.3292</td>\n",
       "      <td>C</td>\n",
       "      <td>Mr.</td>\n",
       "      <td>Middle_Age</td>\n",
       "      <td>3</td>\n",
       "      <td>2</td>\n",
       "    </tr>\n",
       "    <tr>\n",
       "      <th>737</th>\n",
       "      <td>1.0</td>\n",
       "      <td>1</td>\n",
       "      <td>male</td>\n",
       "      <td>512.3292</td>\n",
       "      <td>C</td>\n",
       "      <td>Mr.</td>\n",
       "      <td>Middle_Age</td>\n",
       "      <td>3</td>\n",
       "      <td>1</td>\n",
       "    </tr>\n",
       "    <tr>\n",
       "      <th>742</th>\n",
       "      <td>1.0</td>\n",
       "      <td>1</td>\n",
       "      <td>female</td>\n",
       "      <td>262.3750</td>\n",
       "      <td>C</td>\n",
       "      <td>Miss</td>\n",
       "      <td>Young_Adult</td>\n",
       "      <td>2</td>\n",
       "      <td>5</td>\n",
       "    </tr>\n",
       "    <tr>\n",
       "      <th>24</th>\n",
       "      <td>NaN</td>\n",
       "      <td>1</td>\n",
       "      <td>female</td>\n",
       "      <td>262.3750</td>\n",
       "      <td>C</td>\n",
       "      <td>Mrs.</td>\n",
       "      <td>Senior_Adult</td>\n",
       "      <td>4</td>\n",
       "      <td>5</td>\n",
       "    </tr>\n",
       "    <tr>\n",
       "      <th>53</th>\n",
       "      <td>NaN</td>\n",
       "      <td>1</td>\n",
       "      <td>female</td>\n",
       "      <td>263.0000</td>\n",
       "      <td>S</td>\n",
       "      <td>Miss</td>\n",
       "      <td>Young_Adult</td>\n",
       "      <td>2</td>\n",
       "      <td>6</td>\n",
       "    </tr>\n",
       "    <tr>\n",
       "      <th>59</th>\n",
       "      <td>NaN</td>\n",
       "      <td>1</td>\n",
       "      <td>female</td>\n",
       "      <td>262.3750</td>\n",
       "      <td>C</td>\n",
       "      <td>Miss</td>\n",
       "      <td>Middle_Age</td>\n",
       "      <td>3</td>\n",
       "      <td>1</td>\n",
       "    </tr>\n",
       "    <tr>\n",
       "      <th>64</th>\n",
       "      <td>NaN</td>\n",
       "      <td>1</td>\n",
       "      <td>male</td>\n",
       "      <td>262.3750</td>\n",
       "      <td>C</td>\n",
       "      <td>Master.</td>\n",
       "      <td>Teen</td>\n",
       "      <td>1</td>\n",
       "      <td>5</td>\n",
       "    </tr>\n",
       "    <tr>\n",
       "      <th>69</th>\n",
       "      <td>NaN</td>\n",
       "      <td>1</td>\n",
       "      <td>female</td>\n",
       "      <td>263.0000</td>\n",
       "      <td>S</td>\n",
       "      <td>Mrs.</td>\n",
       "      <td>Old</td>\n",
       "      <td>5</td>\n",
       "      <td>6</td>\n",
       "    </tr>\n",
       "    <tr>\n",
       "      <th>142</th>\n",
       "      <td>NaN</td>\n",
       "      <td>1</td>\n",
       "      <td>male</td>\n",
       "      <td>262.3750</td>\n",
       "      <td>C</td>\n",
       "      <td>Mr.</td>\n",
       "      <td>Old</td>\n",
       "      <td>5</td>\n",
       "      <td>5</td>\n",
       "    </tr>\n",
       "    <tr>\n",
       "      <th>343</th>\n",
       "      <td>NaN</td>\n",
       "      <td>1</td>\n",
       "      <td>female</td>\n",
       "      <td>512.3292</td>\n",
       "      <td>C</td>\n",
       "      <td>Mrs.</td>\n",
       "      <td>Old</td>\n",
       "      <td>5</td>\n",
       "      <td>2</td>\n",
       "    </tr>\n",
       "    <tr>\n",
       "      <th>375</th>\n",
       "      <td>NaN</td>\n",
       "      <td>1</td>\n",
       "      <td>female</td>\n",
       "      <td>262.3750</td>\n",
       "      <td>C</td>\n",
       "      <td>Miss</td>\n",
       "      <td>Senior_Adult</td>\n",
       "      <td>4</td>\n",
       "      <td>1</td>\n",
       "    </tr>\n",
       "  </tbody>\n",
       "</table>\n",
       "</div>"
      ],
      "text/plain": [
       "     Survived  Pclass     Sex      Fare Embarked    Title  Age_Category  \\\n",
       "27        0.0       1    male  263.0000        S      Mr.          Teen   \n",
       "88        1.0       1  female  263.0000        S     Miss   Young_Adult   \n",
       "258       1.0       1  female  512.3292        C     Miss    Middle_Age   \n",
       "311       1.0       1  female  262.3750        C     Miss          Teen   \n",
       "341       1.0       1  female  263.0000        S     Miss   Young_Adult   \n",
       "438       0.0       1    male  263.0000        S      Mr.           Old   \n",
       "679       1.0       1    male  512.3292        C      Mr.    Middle_Age   \n",
       "737       1.0       1    male  512.3292        C      Mr.    Middle_Age   \n",
       "742       1.0       1  female  262.3750        C     Miss   Young_Adult   \n",
       "24        NaN       1  female  262.3750        C     Mrs.  Senior_Adult   \n",
       "53        NaN       1  female  263.0000        S     Miss   Young_Adult   \n",
       "59        NaN       1  female  262.3750        C     Miss    Middle_Age   \n",
       "64        NaN       1    male  262.3750        C  Master.          Teen   \n",
       "69        NaN       1  female  263.0000        S     Mrs.           Old   \n",
       "142       NaN       1    male  262.3750        C      Mr.           Old   \n",
       "343       NaN       1  female  512.3292        C     Mrs.           Old   \n",
       "375       NaN       1  female  262.3750        C     Miss  Senior_Adult   \n",
       "\n",
       "     Age_Cat_Label  Family  \n",
       "27               1       6  \n",
       "88               2       6  \n",
       "258              3       1  \n",
       "311              1       5  \n",
       "341              2       6  \n",
       "438              5       6  \n",
       "679              3       2  \n",
       "737              3       1  \n",
       "742              2       5  \n",
       "24               4       5  \n",
       "53               2       6  \n",
       "59               3       1  \n",
       "64               1       5  \n",
       "69               5       6  \n",
       "142              5       5  \n",
       "343              5       2  \n",
       "375              4       1  "
      ]
     },
     "execution_count": 214,
     "metadata": {},
     "output_type": "execute_result"
    }
   ],
   "source": [
    "#There are some outliers, lets try to observe them because i dont want to drop any observation unless neccessary\n",
    "df[df['Fare']>250]"
   ]
  },
  {
   "cell_type": "code",
   "execution_count": 215,
   "id": "bc11fb49-b2f7-4dd7-bb2e-a5bcd5a9d749",
   "metadata": {
    "tags": []
   },
   "outputs": [
    {
     "name": "stdout",
     "output_type": "stream",
     "text": [
      "17  Passengers have 0 ticket fare\n",
      "\n"
     ]
    },
    {
     "data": {
      "text/html": [
       "<div>\n",
       "<style scoped>\n",
       "    .dataframe tbody tr th:only-of-type {\n",
       "        vertical-align: middle;\n",
       "    }\n",
       "\n",
       "    .dataframe tbody tr th {\n",
       "        vertical-align: top;\n",
       "    }\n",
       "\n",
       "    .dataframe thead th {\n",
       "        text-align: right;\n",
       "    }\n",
       "</style>\n",
       "<table border=\"1\" class=\"dataframe\">\n",
       "  <thead>\n",
       "    <tr style=\"text-align: right;\">\n",
       "      <th></th>\n",
       "      <th>Survived</th>\n",
       "      <th>Pclass</th>\n",
       "      <th>Sex</th>\n",
       "      <th>Fare</th>\n",
       "      <th>Embarked</th>\n",
       "      <th>Title</th>\n",
       "      <th>Age_Category</th>\n",
       "      <th>Age_Cat_Label</th>\n",
       "      <th>Family</th>\n",
       "    </tr>\n",
       "  </thead>\n",
       "  <tbody>\n",
       "    <tr>\n",
       "      <th>179</th>\n",
       "      <td>0.0</td>\n",
       "      <td>3</td>\n",
       "      <td>male</td>\n",
       "      <td>0.0</td>\n",
       "      <td>S</td>\n",
       "      <td>Mr.</td>\n",
       "      <td>Middle_Age</td>\n",
       "      <td>3</td>\n",
       "      <td>1</td>\n",
       "    </tr>\n",
       "    <tr>\n",
       "      <th>263</th>\n",
       "      <td>0.0</td>\n",
       "      <td>1</td>\n",
       "      <td>male</td>\n",
       "      <td>0.0</td>\n",
       "      <td>S</td>\n",
       "      <td>Mr.</td>\n",
       "      <td>Senior_Adult</td>\n",
       "      <td>4</td>\n",
       "      <td>1</td>\n",
       "    </tr>\n",
       "    <tr>\n",
       "      <th>271</th>\n",
       "      <td>1.0</td>\n",
       "      <td>3</td>\n",
       "      <td>male</td>\n",
       "      <td>0.0</td>\n",
       "      <td>S</td>\n",
       "      <td>Mr.</td>\n",
       "      <td>Young_Adult</td>\n",
       "      <td>2</td>\n",
       "      <td>1</td>\n",
       "    </tr>\n",
       "    <tr>\n",
       "      <th>277</th>\n",
       "      <td>0.0</td>\n",
       "      <td>2</td>\n",
       "      <td>male</td>\n",
       "      <td>0.0</td>\n",
       "      <td>S</td>\n",
       "      <td>Mr.</td>\n",
       "      <td>Young_Adult</td>\n",
       "      <td>2</td>\n",
       "      <td>1</td>\n",
       "    </tr>\n",
       "    <tr>\n",
       "      <th>302</th>\n",
       "      <td>0.0</td>\n",
       "      <td>3</td>\n",
       "      <td>male</td>\n",
       "      <td>0.0</td>\n",
       "      <td>S</td>\n",
       "      <td>Mr.</td>\n",
       "      <td>Teen</td>\n",
       "      <td>1</td>\n",
       "      <td>1</td>\n",
       "    </tr>\n",
       "    <tr>\n",
       "      <th>413</th>\n",
       "      <td>0.0</td>\n",
       "      <td>2</td>\n",
       "      <td>male</td>\n",
       "      <td>0.0</td>\n",
       "      <td>S</td>\n",
       "      <td>Mr.</td>\n",
       "      <td>Young_Adult</td>\n",
       "      <td>2</td>\n",
       "      <td>1</td>\n",
       "    </tr>\n",
       "    <tr>\n",
       "      <th>466</th>\n",
       "      <td>0.0</td>\n",
       "      <td>2</td>\n",
       "      <td>male</td>\n",
       "      <td>0.0</td>\n",
       "      <td>S</td>\n",
       "      <td>Mr.</td>\n",
       "      <td>Young_Adult</td>\n",
       "      <td>2</td>\n",
       "      <td>1</td>\n",
       "    </tr>\n",
       "    <tr>\n",
       "      <th>481</th>\n",
       "      <td>0.0</td>\n",
       "      <td>2</td>\n",
       "      <td>male</td>\n",
       "      <td>0.0</td>\n",
       "      <td>S</td>\n",
       "      <td>Mr.</td>\n",
       "      <td>Young_Adult</td>\n",
       "      <td>2</td>\n",
       "      <td>1</td>\n",
       "    </tr>\n",
       "    <tr>\n",
       "      <th>597</th>\n",
       "      <td>0.0</td>\n",
       "      <td>3</td>\n",
       "      <td>male</td>\n",
       "      <td>0.0</td>\n",
       "      <td>S</td>\n",
       "      <td>Mr.</td>\n",
       "      <td>Senior_Adult</td>\n",
       "      <td>4</td>\n",
       "      <td>1</td>\n",
       "    </tr>\n",
       "    <tr>\n",
       "      <th>633</th>\n",
       "      <td>0.0</td>\n",
       "      <td>1</td>\n",
       "      <td>male</td>\n",
       "      <td>0.0</td>\n",
       "      <td>S</td>\n",
       "      <td>Mr.</td>\n",
       "      <td>Young_Adult</td>\n",
       "      <td>2</td>\n",
       "      <td>1</td>\n",
       "    </tr>\n",
       "    <tr>\n",
       "      <th>674</th>\n",
       "      <td>0.0</td>\n",
       "      <td>2</td>\n",
       "      <td>male</td>\n",
       "      <td>0.0</td>\n",
       "      <td>S</td>\n",
       "      <td>Mr.</td>\n",
       "      <td>Young_Adult</td>\n",
       "      <td>2</td>\n",
       "      <td>1</td>\n",
       "    </tr>\n",
       "    <tr>\n",
       "      <th>732</th>\n",
       "      <td>0.0</td>\n",
       "      <td>2</td>\n",
       "      <td>male</td>\n",
       "      <td>0.0</td>\n",
       "      <td>S</td>\n",
       "      <td>Mr.</td>\n",
       "      <td>Young_Adult</td>\n",
       "      <td>2</td>\n",
       "      <td>1</td>\n",
       "    </tr>\n",
       "    <tr>\n",
       "      <th>806</th>\n",
       "      <td>0.0</td>\n",
       "      <td>1</td>\n",
       "      <td>male</td>\n",
       "      <td>0.0</td>\n",
       "      <td>S</td>\n",
       "      <td>Mr.</td>\n",
       "      <td>Middle_Age</td>\n",
       "      <td>3</td>\n",
       "      <td>1</td>\n",
       "    </tr>\n",
       "    <tr>\n",
       "      <th>815</th>\n",
       "      <td>0.0</td>\n",
       "      <td>1</td>\n",
       "      <td>male</td>\n",
       "      <td>0.0</td>\n",
       "      <td>S</td>\n",
       "      <td>Mr.</td>\n",
       "      <td>Young_Adult</td>\n",
       "      <td>2</td>\n",
       "      <td>1</td>\n",
       "    </tr>\n",
       "    <tr>\n",
       "      <th>822</th>\n",
       "      <td>0.0</td>\n",
       "      <td>1</td>\n",
       "      <td>male</td>\n",
       "      <td>0.0</td>\n",
       "      <td>S</td>\n",
       "      <td>Special_title</td>\n",
       "      <td>Middle_Age</td>\n",
       "      <td>3</td>\n",
       "      <td>1</td>\n",
       "    </tr>\n",
       "    <tr>\n",
       "      <th>266</th>\n",
       "      <td>NaN</td>\n",
       "      <td>1</td>\n",
       "      <td>male</td>\n",
       "      <td>0.0</td>\n",
       "      <td>S</td>\n",
       "      <td>Mr.</td>\n",
       "      <td>Young_Adult</td>\n",
       "      <td>2</td>\n",
       "      <td>1</td>\n",
       "    </tr>\n",
       "    <tr>\n",
       "      <th>372</th>\n",
       "      <td>NaN</td>\n",
       "      <td>1</td>\n",
       "      <td>male</td>\n",
       "      <td>0.0</td>\n",
       "      <td>S</td>\n",
       "      <td>Mr.</td>\n",
       "      <td>Senior_Adult</td>\n",
       "      <td>4</td>\n",
       "      <td>1</td>\n",
       "    </tr>\n",
       "  </tbody>\n",
       "</table>\n",
       "</div>"
      ],
      "text/plain": [
       "     Survived  Pclass   Sex  Fare Embarked          Title  Age_Category  \\\n",
       "179       0.0       3  male   0.0        S            Mr.    Middle_Age   \n",
       "263       0.0       1  male   0.0        S            Mr.  Senior_Adult   \n",
       "271       1.0       3  male   0.0        S            Mr.   Young_Adult   \n",
       "277       0.0       2  male   0.0        S            Mr.   Young_Adult   \n",
       "302       0.0       3  male   0.0        S            Mr.          Teen   \n",
       "413       0.0       2  male   0.0        S            Mr.   Young_Adult   \n",
       "466       0.0       2  male   0.0        S            Mr.   Young_Adult   \n",
       "481       0.0       2  male   0.0        S            Mr.   Young_Adult   \n",
       "597       0.0       3  male   0.0        S            Mr.  Senior_Adult   \n",
       "633       0.0       1  male   0.0        S            Mr.   Young_Adult   \n",
       "674       0.0       2  male   0.0        S            Mr.   Young_Adult   \n",
       "732       0.0       2  male   0.0        S            Mr.   Young_Adult   \n",
       "806       0.0       1  male   0.0        S            Mr.    Middle_Age   \n",
       "815       0.0       1  male   0.0        S            Mr.   Young_Adult   \n",
       "822       0.0       1  male   0.0        S  Special_title    Middle_Age   \n",
       "266       NaN       1  male   0.0        S            Mr.   Young_Adult   \n",
       "372       NaN       1  male   0.0        S            Mr.  Senior_Adult   \n",
       "\n",
       "     Age_Cat_Label  Family  \n",
       "179              3       1  \n",
       "263              4       1  \n",
       "271              2       1  \n",
       "277              2       1  \n",
       "302              1       1  \n",
       "413              2       1  \n",
       "466              2       1  \n",
       "481              2       1  \n",
       "597              4       1  \n",
       "633              2       1  \n",
       "674              2       1  \n",
       "732              2       1  \n",
       "806              3       1  \n",
       "815              2       1  \n",
       "822              3       1  \n",
       "266              2       1  \n",
       "372              4       1  "
      ]
     },
     "execution_count": 215,
     "metadata": {},
     "output_type": "execute_result"
    }
   ],
   "source": [
    "# and there are some 0 in tickets\n",
    "\n",
    "print(len(df[df['Fare']<1]), ' Passengers have 0 ticket fare' '\\n')\n",
    "df[df['Fare']<1]"
   ]
  },
  {
   "cell_type": "code",
   "execution_count": 216,
   "id": "c130d138-ccf1-40fa-a794-7b015d30aa43",
   "metadata": {
    "tags": []
   },
   "outputs": [],
   "source": [
    "# As its seen 4 observations paid much higher than nearest max ticket prices for similar rooms.\n",
    "# So i will change these ticket prices just around %10 higher than the closes max ticket price=280.0\n",
    "df.loc[df['Fare'] > 300, 'Fare'] = 280.0"
   ]
  },
  {
   "cell_type": "code",
   "execution_count": 217,
   "id": "9559c29c-ae34-4cf6-b014-9c60f37f26e6",
   "metadata": {
    "tags": []
   },
   "outputs": [
    {
     "data": {
      "text/plain": [
       "Pclass\n",
       "1    25.5875\n",
       "2     9.6875\n",
       "3     6.2375\n",
       "Name: Fare, dtype: float64"
      ]
     },
     "execution_count": 217,
     "metadata": {},
     "output_type": "execute_result"
    }
   ],
   "source": [
    "# Also there are 17 zero ticket prices - I will assign them to the minimum ticket prices of each class\n",
    "min_tick_price_pclass = df[df['Fare']>5].groupby('Pclass')['Fare'].min()\n",
    "min_tick_price_pclass"
   ]
  },
  {
   "cell_type": "code",
   "execution_count": 218,
   "id": "5366c551-ff59-4f74-84a8-d011c1deb700",
   "metadata": {
    "tags": []
   },
   "outputs": [],
   "source": [
    "for i in [1, 2, 3]:\n",
    "    condition = (df['Pclass'] == i) & (df['Fare'] == 0)\n",
    "    df.loc[condition, 'Fare'] = min_tick_price_pclass[i]"
   ]
  },
  {
   "cell_type": "code",
   "execution_count": 219,
   "id": "a7d73aed-eeb5-4bf2-b6f0-725593d3d191",
   "metadata": {
    "tags": []
   },
   "outputs": [
    {
     "data": {
      "text/html": [
       "<div>\n",
       "<style scoped>\n",
       "    .dataframe tbody tr th:only-of-type {\n",
       "        vertical-align: middle;\n",
       "    }\n",
       "\n",
       "    .dataframe tbody tr th {\n",
       "        vertical-align: top;\n",
       "    }\n",
       "\n",
       "    .dataframe thead th {\n",
       "        text-align: right;\n",
       "    }\n",
       "</style>\n",
       "<table border=\"1\" class=\"dataframe\">\n",
       "  <thead>\n",
       "    <tr style=\"text-align: right;\">\n",
       "      <th></th>\n",
       "      <th>Survived</th>\n",
       "      <th>Pclass</th>\n",
       "      <th>Sex</th>\n",
       "      <th>Fare</th>\n",
       "      <th>Embarked</th>\n",
       "      <th>Title</th>\n",
       "      <th>Age_Category</th>\n",
       "      <th>Age_Cat_Label</th>\n",
       "      <th>Family</th>\n",
       "    </tr>\n",
       "  </thead>\n",
       "  <tbody>\n",
       "  </tbody>\n",
       "</table>\n",
       "</div>"
      ],
      "text/plain": [
       "Empty DataFrame\n",
       "Columns: [Survived, Pclass, Sex, Fare, Embarked, Title, Age_Category, Age_Cat_Label, Family]\n",
       "Index: []"
      ]
     },
     "execution_count": 219,
     "metadata": {},
     "output_type": "execute_result"
    }
   ],
   "source": [
    "# Fine all of them cleaned\n",
    "df[  (df['Fare']<1) |  (df['Fare']>300) ]"
   ]
  },
  {
   "cell_type": "code",
   "execution_count": 220,
   "id": "3a8aed36-1ea4-4516-acb6-c8d242e8cee2",
   "metadata": {
    "tags": []
   },
   "outputs": [
    {
     "data": {
      "text/html": [
       "<div>\n",
       "<style scoped>\n",
       "    .dataframe tbody tr th:only-of-type {\n",
       "        vertical-align: middle;\n",
       "    }\n",
       "\n",
       "    .dataframe tbody tr th {\n",
       "        vertical-align: top;\n",
       "    }\n",
       "\n",
       "    .dataframe thead th {\n",
       "        text-align: right;\n",
       "    }\n",
       "</style>\n",
       "<table border=\"1\" class=\"dataframe\">\n",
       "  <thead>\n",
       "    <tr style=\"text-align: right;\">\n",
       "      <th></th>\n",
       "      <th>Survived</th>\n",
       "      <th>Pclass</th>\n",
       "      <th>Sex</th>\n",
       "      <th>Fare</th>\n",
       "      <th>Embarked</th>\n",
       "      <th>Title</th>\n",
       "      <th>Age_Category</th>\n",
       "      <th>Age_Cat_Label</th>\n",
       "      <th>Family</th>\n",
       "    </tr>\n",
       "  </thead>\n",
       "  <tbody>\n",
       "    <tr>\n",
       "      <th>874</th>\n",
       "      <td>1.0</td>\n",
       "      <td>2</td>\n",
       "      <td>female</td>\n",
       "      <td>24.0</td>\n",
       "      <td>C</td>\n",
       "      <td>Mrs.</td>\n",
       "      <td>Young_Adult</td>\n",
       "      <td>2</td>\n",
       "      <td>2</td>\n",
       "    </tr>\n",
       "    <tr>\n",
       "      <th>288</th>\n",
       "      <td>1.0</td>\n",
       "      <td>2</td>\n",
       "      <td>male</td>\n",
       "      <td>13.0</td>\n",
       "      <td>S</td>\n",
       "      <td>Mr.</td>\n",
       "      <td>Senior_Adult</td>\n",
       "      <td>4</td>\n",
       "      <td>1</td>\n",
       "    </tr>\n",
       "    <tr>\n",
       "      <th>378</th>\n",
       "      <td>NaN</td>\n",
       "      <td>1</td>\n",
       "      <td>male</td>\n",
       "      <td>50.0</td>\n",
       "      <td>S</td>\n",
       "      <td>Mr.</td>\n",
       "      <td>Old</td>\n",
       "      <td>5</td>\n",
       "      <td>1</td>\n",
       "    </tr>\n",
       "  </tbody>\n",
       "</table>\n",
       "</div>"
      ],
      "text/plain": [
       "     Survived  Pclass     Sex  Fare Embarked Title  Age_Category  \\\n",
       "874       1.0       2  female  24.0        C  Mrs.   Young_Adult   \n",
       "288       1.0       2    male  13.0        S   Mr.  Senior_Adult   \n",
       "378       NaN       1    male  50.0        S   Mr.           Old   \n",
       "\n",
       "     Age_Cat_Label  Family  \n",
       "874              2       2  \n",
       "288              4       1  \n",
       "378              5       1  "
      ]
     },
     "execution_count": 220,
     "metadata": {},
     "output_type": "execute_result"
    }
   ],
   "source": [
    "df.sample(3)"
   ]
  },
  {
   "cell_type": "markdown",
   "id": "f4f4d95a-7a20-4088-9c7e-81ad12882673",
   "metadata": {},
   "source": [
    "## Data splitting"
   ]
  },
  {
   "cell_type": "markdown",
   "id": "a44edeb5-0e75-41ce-be83-b0d112d3bc3b",
   "metadata": {},
   "source": [
    "**Since we almost finished preprocessing, now we can divide the data again, and continue for more insights with EDA and visualizations**"
   ]
  },
  {
   "cell_type": "code",
   "execution_count": 221,
   "id": "59d08efa-ad22-4bf2-ad5d-e5266f1cc290",
   "metadata": {
    "tags": []
   },
   "outputs": [
    {
     "name": "stdout",
     "output_type": "stream",
     "text": [
      "The last INCLUDED index of df_train will be 890\n"
     ]
    }
   ],
   "source": [
    "idx_split = len(df_train2)\n",
    "print(f\"The last INCLUDED index of df_train will be {idx_split-1}\")\n",
    "\n",
    "df_train = df.iloc[:idx_split]\n",
    "df_test = df.iloc[idx_split:].drop(columns=['Survived'])"
   ]
  },
  {
   "cell_type": "code",
   "execution_count": 222,
   "id": "7e54bdeb-cc8b-4f00-a3ec-fb464a516a85",
   "metadata": {
    "tags": []
   },
   "outputs": [
    {
     "data": {
      "text/html": [
       "<div>\n",
       "<style scoped>\n",
       "    .dataframe tbody tr th:only-of-type {\n",
       "        vertical-align: middle;\n",
       "    }\n",
       "\n",
       "    .dataframe tbody tr th {\n",
       "        vertical-align: top;\n",
       "    }\n",
       "\n",
       "    .dataframe thead th {\n",
       "        text-align: right;\n",
       "    }\n",
       "</style>\n",
       "<table border=\"1\" class=\"dataframe\">\n",
       "  <thead>\n",
       "    <tr style=\"text-align: right;\">\n",
       "      <th></th>\n",
       "      <th>Survived</th>\n",
       "      <th>Pclass</th>\n",
       "      <th>Sex</th>\n",
       "      <th>Fare</th>\n",
       "      <th>Embarked</th>\n",
       "      <th>Title</th>\n",
       "      <th>Age_Category</th>\n",
       "      <th>Age_Cat_Label</th>\n",
       "      <th>Family</th>\n",
       "    </tr>\n",
       "  </thead>\n",
       "  <tbody>\n",
       "    <tr>\n",
       "      <th>889</th>\n",
       "      <td>1.0</td>\n",
       "      <td>1</td>\n",
       "      <td>male</td>\n",
       "      <td>30.00</td>\n",
       "      <td>C</td>\n",
       "      <td>Mr.</td>\n",
       "      <td>Young_Adult</td>\n",
       "      <td>2</td>\n",
       "      <td>1</td>\n",
       "    </tr>\n",
       "    <tr>\n",
       "      <th>890</th>\n",
       "      <td>0.0</td>\n",
       "      <td>3</td>\n",
       "      <td>male</td>\n",
       "      <td>7.75</td>\n",
       "      <td>Q</td>\n",
       "      <td>Mr.</td>\n",
       "      <td>Middle_Age</td>\n",
       "      <td>3</td>\n",
       "      <td>1</td>\n",
       "    </tr>\n",
       "  </tbody>\n",
       "</table>\n",
       "</div>"
      ],
      "text/plain": [
       "     Survived  Pclass   Sex   Fare Embarked Title Age_Category  Age_Cat_Label  \\\n",
       "889       1.0       1  male  30.00        C   Mr.  Young_Adult              2   \n",
       "890       0.0       3  male   7.75        Q   Mr.   Middle_Age              3   \n",
       "\n",
       "     Family  \n",
       "889       1  \n",
       "890       1  "
      ]
     },
     "execution_count": 222,
     "metadata": {},
     "output_type": "execute_result"
    }
   ],
   "source": [
    "df_train.tail(2)"
   ]
  },
  {
   "cell_type": "code",
   "execution_count": 223,
   "id": "c734652b-4c27-495f-9356-717af301305e",
   "metadata": {
    "tags": []
   },
   "outputs": [
    {
     "data": {
      "text/html": [
       "<div>\n",
       "<style scoped>\n",
       "    .dataframe tbody tr th:only-of-type {\n",
       "        vertical-align: middle;\n",
       "    }\n",
       "\n",
       "    .dataframe tbody tr th {\n",
       "        vertical-align: top;\n",
       "    }\n",
       "\n",
       "    .dataframe thead th {\n",
       "        text-align: right;\n",
       "    }\n",
       "</style>\n",
       "<table border=\"1\" class=\"dataframe\">\n",
       "  <thead>\n",
       "    <tr style=\"text-align: right;\">\n",
       "      <th></th>\n",
       "      <th>Pclass</th>\n",
       "      <th>Sex</th>\n",
       "      <th>Fare</th>\n",
       "      <th>Embarked</th>\n",
       "      <th>Title</th>\n",
       "      <th>Age_Category</th>\n",
       "      <th>Age_Cat_Label</th>\n",
       "      <th>Family</th>\n",
       "    </tr>\n",
       "  </thead>\n",
       "  <tbody>\n",
       "    <tr>\n",
       "      <th>0</th>\n",
       "      <td>3</td>\n",
       "      <td>male</td>\n",
       "      <td>7.8292</td>\n",
       "      <td>Q</td>\n",
       "      <td>Mr.</td>\n",
       "      <td>Middle_Age</td>\n",
       "      <td>3</td>\n",
       "      <td>1</td>\n",
       "    </tr>\n",
       "    <tr>\n",
       "      <th>1</th>\n",
       "      <td>3</td>\n",
       "      <td>female</td>\n",
       "      <td>7.0000</td>\n",
       "      <td>S</td>\n",
       "      <td>Mrs.</td>\n",
       "      <td>Senior_Adult</td>\n",
       "      <td>4</td>\n",
       "      <td>2</td>\n",
       "    </tr>\n",
       "  </tbody>\n",
       "</table>\n",
       "</div>"
      ],
      "text/plain": [
       "   Pclass     Sex    Fare Embarked Title  Age_Category  Age_Cat_Label  Family\n",
       "0       3    male  7.8292        Q   Mr.    Middle_Age              3       1\n",
       "1       3  female  7.0000        S  Mrs.  Senior_Adult              4       2"
      ]
     },
     "execution_count": 223,
     "metadata": {},
     "output_type": "execute_result"
    }
   ],
   "source": [
    "df_test.head(2)"
   ]
  },
  {
   "cell_type": "code",
   "execution_count": 224,
   "id": "974de96c-9fd0-45a7-8ab1-a8b1049b1d81",
   "metadata": {
    "tags": []
   },
   "outputs": [
    {
     "name": "stdout",
     "output_type": "stream",
     "text": [
      "Train datasets are equal length = True\n",
      "Test datasets are equal length = True\n"
     ]
    }
   ],
   "source": [
    "# Lets check whether the observations are correct\n",
    "print(f\"Train datasets are equal length = {len(df_train2) == len(df_train)}\")\n",
    "print(f\"Test datasets are equal length = {len(df_test2) == len(df_test)}\")"
   ]
  },
  {
   "cell_type": "markdown",
   "id": "0662e8ca-24f9-4daa-b5a2-2c191c5041dd",
   "metadata": {},
   "source": [
    "# 4. Exploratory data analysis and visualizations"
   ]
  },
  {
   "cell_type": "code",
   "execution_count": 225,
   "id": "a139d3eb-5c8f-4e55-8585-b882f1cce11e",
   "metadata": {
    "tags": []
   },
   "outputs": [],
   "source": [
    "categorical_features = df_train.select_dtypes(include=['object', 'category']).columns\n",
    "numerical_features = df_train.select_dtypes(include='number').columns"
   ]
  },
  {
   "cell_type": "markdown",
   "id": "56e89244-4d96-465b-aeb0-c9e6d47dece2",
   "metadata": {},
   "source": [
    "## Frequencies & Distributions"
   ]
  },
  {
   "cell_type": "code",
   "execution_count": 226,
   "id": "da6fce53-55fe-4544-9c0c-56cad57a2e54",
   "metadata": {
    "tags": []
   },
   "outputs": [
    {
     "data": {
      "image/png": "[encoded data removed]",
      "text/plain": [
       "<Figure size 640x480 with 1 Axes>"
      ]
     },
     "metadata": {},
     "output_type": "display_data"
    }
   ],
   "source": [
    "survived_map = {0: '0-Died', 1: '1-Survived'}\n",
    "sns.countplot(df_train['Survived'].map(survived_map));"
   ]
  },
  {
   "cell_type": "code",
   "execution_count": 227,
   "id": "86d170e8-2a7d-455c-8dab-30e8f8f1ce10",
   "metadata": {
    "tags": []
   },
   "outputs": [
    {
     "data": {
      "image/png": "[encoded data removed]",
      "text/plain": [
       "<Figure size 1000x800 with 6 Axes>"
      ]
     },
     "metadata": {},
     "output_type": "display_data"
    }
   ],
   "source": [
    "countplot_columns = list(categorical_features)\n",
    "countplot_columns.extend(['Pclass', 'Family'])\n",
    "\n",
    "colors = sns.color_palette('Set2', len(countplot_columns))\n",
    "fig, axes = plt.subplots(2, 3, figsize=(10, 8))\n",
    "\n",
    "for i, ax in enumerate(axes.flatten()):\n",
    "    col = countplot_columns[i]\n",
    "    val_cnt = df_train[col].value_counts()\n",
    "    sns.barplot(x=val_cnt.index, y=val_cnt.values, ax=ax, palette=colors)\n",
    "    ax.set_title(f\"Frequencies of {col} feature\")\n",
    "    ax.set_xticklabels(ax.get_xticklabels(), rotation=45)\n",
    "plt.tight_layout()\n",
    "plt.show()"
   ]
  },
  {
   "cell_type": "code",
   "execution_count": 228,
   "id": "a2190a96-b71c-42c7-ab9b-0a87160b21dc",
   "metadata": {
    "tags": []
   },
   "outputs": [
    {
     "data": {
      "image/png": "[encoded data removed]",
      "text/plain": [
       "<Figure size 640x480 with 1 Axes>"
      ]
     },
     "metadata": {},
     "output_type": "display_data"
    }
   ],
   "source": [
    "sns.histplot(df_train['Fare'], bins=20);"
   ]
  },
  {
   "cell_type": "markdown",
   "id": "0096b11d-5999-42ed-aecb-690bb54a8c93",
   "metadata": {},
   "source": [
    "## Correlations"
   ]
  },
  {
   "cell_type": "code",
   "execution_count": 229,
   "id": "15771ac0-e73a-42f1-8e60-b6453e1a9fa6",
   "metadata": {
    "tags": []
   },
   "outputs": [
    {
     "data": {
      "image/png": "[encoded data removed]",
      "text/plain": [
       "<Figure size 1000x600 with 2 Axes>"
      ]
     },
     "metadata": {},
     "output_type": "display_data"
    }
   ],
   "source": [
    "target_column = 'Survived'\n",
    "corr_matrix = df_train.corr()\n",
    "corr_with_target = corr_matrix[target_column].apply(np.abs).sort_values(ascending=False)\n",
    "\n",
    "plt.figure(figsize=(10, 6))\n",
    "sns.heatmap(corr_with_target.to_frame(), annot=True, cmap='coolwarm', cbar=True, vmin=-1, vmax=1)\n",
    "plt.title(f'Features Correlations with {target_column}')\n",
    "plt.show()"
   ]
  },
  {
   "cell_type": "markdown",
   "id": "57bd1d05-d102-4ab0-b970-2458c9b40434",
   "metadata": {
    "tags": []
   },
   "source": [
    "__It is shocking for me to have such an almost ZERO correlation between age and survival__"
   ]
  },
  {
   "cell_type": "code",
   "execution_count": 230,
   "id": "c450a4cc-904e-46e6-85af-8fcdc051e481",
   "metadata": {
    "tags": []
   },
   "outputs": [
    {
     "data": {
      "text/html": [
       "<div>\n",
       "<style scoped>\n",
       "    .dataframe tbody tr th:only-of-type {\n",
       "        vertical-align: middle;\n",
       "    }\n",
       "\n",
       "    .dataframe tbody tr th {\n",
       "        vertical-align: top;\n",
       "    }\n",
       "\n",
       "    .dataframe thead th {\n",
       "        text-align: right;\n",
       "    }\n",
       "</style>\n",
       "<table border=\"1\" class=\"dataframe\">\n",
       "  <thead>\n",
       "    <tr style=\"text-align: right;\">\n",
       "      <th></th>\n",
       "      <th>Survived</th>\n",
       "      <th>Pclass</th>\n",
       "      <th>Fare</th>\n",
       "      <th>Age_Cat_Label</th>\n",
       "      <th>Family</th>\n",
       "    </tr>\n",
       "  </thead>\n",
       "  <tbody>\n",
       "    <tr>\n",
       "      <th>Survived</th>\n",
       "      <td>1.000000</td>\n",
       "      <td>-0.338481</td>\n",
       "      <td>0.267456</td>\n",
       "      <td>-0.033913</td>\n",
       "      <td>0.016639</td>\n",
       "    </tr>\n",
       "    <tr>\n",
       "      <th>Pclass</th>\n",
       "      <td>-0.338481</td>\n",
       "      <td>1.000000</td>\n",
       "      <td>-0.605384</td>\n",
       "      <td>-0.348179</td>\n",
       "      <td>0.065997</td>\n",
       "    </tr>\n",
       "    <tr>\n",
       "      <th>Fare</th>\n",
       "      <td>0.267456</td>\n",
       "      <td>-0.605384</td>\n",
       "      <td>1.000000</td>\n",
       "      <td>0.111554</td>\n",
       "      <td>0.251636</td>\n",
       "    </tr>\n",
       "    <tr>\n",
       "      <th>Age_Cat_Label</th>\n",
       "      <td>-0.033913</td>\n",
       "      <td>-0.348179</td>\n",
       "      <td>0.111554</td>\n",
       "      <td>1.000000</td>\n",
       "      <td>-0.266449</td>\n",
       "    </tr>\n",
       "    <tr>\n",
       "      <th>Family</th>\n",
       "      <td>0.016639</td>\n",
       "      <td>0.065997</td>\n",
       "      <td>0.251636</td>\n",
       "      <td>-0.266449</td>\n",
       "      <td>1.000000</td>\n",
       "    </tr>\n",
       "  </tbody>\n",
       "</table>\n",
       "</div>"
      ],
      "text/plain": [
       "               Survived    Pclass      Fare  Age_Cat_Label    Family\n",
       "Survived       1.000000 -0.338481  0.267456      -0.033913  0.016639\n",
       "Pclass        -0.338481  1.000000 -0.605384      -0.348179  0.065997\n",
       "Fare           0.267456 -0.605384  1.000000       0.111554  0.251636\n",
       "Age_Cat_Label -0.033913 -0.348179  0.111554       1.000000 -0.266449\n",
       "Family         0.016639  0.065997  0.251636      -0.266449  1.000000"
      ]
     },
     "execution_count": 230,
     "metadata": {},
     "output_type": "execute_result"
    }
   ],
   "source": [
    "df_train.corr()"
   ]
  },
  {
   "cell_type": "markdown",
   "id": "8a0b2a92-f8c5-4f7f-a055-c926816c3fe9",
   "metadata": {},
   "source": [
    "**No multicollinearity issues**"
   ]
  },
  {
   "cell_type": "markdown",
   "id": "8bbceba2-b479-4a4d-8aeb-50107fd728ba",
   "metadata": {},
   "source": [
    "## Inferences and Questions"
   ]
  },
  {
   "cell_type": "markdown",
   "id": "37af33d2-c819-4ed5-af20-1f9e1e85e5ff",
   "metadata": {
    "tags": []
   },
   "source": [
    "### Gender and Survival Rate"
   ]
  },
  {
   "cell_type": "code",
   "execution_count": 231,
   "id": "a72b8e95-1da2-402d-9e02-309b91f06eee",
   "metadata": {},
   "outputs": [
    {
     "data": {
      "image/png": "[encoded data removed]",
      "text/plain": [
       "<Figure size 500x400 with 1 Axes>"
      ]
     },
     "metadata": {},
     "output_type": "display_data"
    }
   ],
   "source": [
    "survival_ratio_gender = df_train.groupby('Sex')['Survived'].mean()\n",
    "\n",
    "# Visualize the survival ratio with labels\n",
    "plt.figure(figsize=(5, 4))\n",
    "sns.barplot(x=survival_ratio_gender.index, y=survival_ratio_gender.values, palette='Set1')\n",
    "plt.title('Survival Ratio by Gender')\n",
    "plt.xlabel('Survived')\n",
    "plt.ylabel('Survival Ratio Ratio')\n",
    "plt.ylim(0,1)\n",
    "\n",
    "for index, value in enumerate(survival_ratio_gender):\n",
    "    plt.text(index, value, f'{value:.2f}', ha='center', va='bottom')\n",
    "    \n",
    "plt.show()"
   ]
  },
  {
   "cell_type": "markdown",
   "id": "bc4e751a-7655-450a-bfc3-7853351fead2",
   "metadata": {
    "tags": []
   },
   "source": [
    "**Females seem to have almost 4 times higher possibility to survive than males**"
   ]
  },
  {
   "cell_type": "markdown",
   "id": "ae24bae7-887c-4b3b-a706-a3a98ea2ef6c",
   "metadata": {},
   "source": [
    "### Survival Rates by Class"
   ]
  },
  {
   "cell_type": "code",
   "execution_count": 232,
   "id": "a9549120-12d2-4731-bfac-456aa00b0f24",
   "metadata": {
    "tags": []
   },
   "outputs": [
    {
     "data": {
      "image/png": "[encoded data removed]",
      "text/plain": [
       "<Figure size 500x400 with 1 Axes>"
      ]
     },
     "metadata": {},
     "output_type": "display_data"
    }
   ],
   "source": [
    "survival_ratio_pclass = df_train.groupby('Pclass')['Survived'].mean()\n",
    "\n",
    "# Visualize the survival ratio with labels\n",
    "plt.figure(figsize=(5, 4))\n",
    "sns.barplot(x=survival_ratio_pclass.index, y=survival_ratio_pclass.values, palette='Set1')\n",
    "plt.title('Survival Ratio by Class')\n",
    "plt.xlabel('Survived')\n",
    "plt.ylabel('Survival Ratio')\n",
    "plt.ylim(0,1)\n",
    "\n",
    "for index, value in enumerate(survival_ratio_pclass):\n",
    "    plt.text(index, value, f'{value:.2f}', ha='center', va='bottom')\n",
    "    \n",
    "plt.show()"
   ]
  },
  {
   "cell_type": "markdown",
   "id": "9a82cf88-ace1-498b-a817-9f326368dc7e",
   "metadata": {},
   "source": [
    "**As expected, higher class has a higher survival rate. 1st class travellers are 3 times high possible to survive than 3rd class passengers**"
   ]
  },
  {
   "cell_type": "markdown",
   "id": "6da4bbff-c9b3-4e86-9008-0d0db605fa1f",
   "metadata": {},
   "source": [
    "### Travel Alone vs. Family Travellers"
   ]
  },
  {
   "cell_type": "code",
   "execution_count": 233,
   "id": "c2e93306-d25d-47d0-aa85-d5e5d23ca25e",
   "metadata": {
    "tags": []
   },
   "outputs": [
    {
     "data": {
      "image/png": "[encoded data removed]",
      "text/plain": [
       "<Figure size 500x400 with 1 Axes>"
      ]
     },
     "metadata": {},
     "output_type": "display_data"
    }
   ],
   "source": [
    "survival_ratio_family = df_train.groupby('Family')['Survived'].mean()\n",
    "\n",
    "# Visualize the survival ratio with labels\n",
    "plt.figure(figsize=(5, 4))\n",
    "sns.barplot(x=survival_ratio_family.index, y=survival_ratio_family.values, palette='Set1')\n",
    "plt.title('Survival Ratio by family')\n",
    "plt.xlabel('Survived')\n",
    "plt.ylabel('Survival Ratio by Family Members')\n",
    "plt.ylim(0,1)\n",
    "\n",
    "for index, value in enumerate(survival_ratio_family):\n",
    "    plt.text(index, value, f'{value:.2f}', ha='center', va='bottom')\n",
    "    \n",
    "plt.show()"
   ]
  },
  {
   "cell_type": "markdown",
   "id": "77cfa2c6-de6f-4c06-8c87-c76a3c09cb3b",
   "metadata": {},
   "source": [
    "### Survival and Age"
   ]
  },
  {
   "cell_type": "code",
   "execution_count": 234,
   "id": "525b16c6-74d0-4138-bd00-e008ebcf6742",
   "metadata": {
    "tags": []
   },
   "outputs": [
    {
     "data": {
      "image/png": "[encoded data removed]",
      "text/plain": [
       "<Figure size 500x400 with 1 Axes>"
      ]
     },
     "metadata": {},
     "output_type": "display_data"
    }
   ],
   "source": [
    "survival_ratio_age = df_train.groupby('Age_Category')['Survived'].mean()\n",
    "\n",
    "# Visualize the survival ratio with labels\n",
    "plt.figure(figsize=(5, 4))\n",
    "sns.barplot(x=survival_ratio_age.index, y=survival_ratio_age.values, palette='Set1')\n",
    "plt.title('Survival Ratio by age')\n",
    "plt.xticks(rotation=45)\n",
    "plt.xlabel('Survived')\n",
    "plt.ylabel('Survival Ratio by age categories')\n",
    "plt.ylim(0,1)\n",
    "\n",
    "for index, value in enumerate(survival_ratio_age):\n",
    "    plt.text(index, value, f'{value:.2f}', ha='center', va='bottom')\n",
    "    \n",
    "plt.show()"
   ]
  },
  {
   "cell_type": "markdown",
   "id": "e63fc654-7db6-4dda-a68b-c032d6608d11",
   "metadata": {},
   "source": [
    "### Ticket Fares and Survival"
   ]
  },
  {
   "cell_type": "code",
   "execution_count": 235,
   "id": "caf8f56b-85ca-49d9-9135-0be1ea94e713",
   "metadata": {
    "tags": []
   },
   "outputs": [
    {
     "data": {
      "image/png": "[encoded data removed]",
      "text/plain": [
       "<Figure size 1500x400 with 1 Axes>"
      ]
     },
     "metadata": {},
     "output_type": "display_data"
    }
   ],
   "source": [
    "fig = plt.figure(figsize=(15,4))\n",
    "sns.kdeplot(data=df_train, x='Fare', hue='Survived', common_norm=True, fill=True )  \n",
    "plt.xlim(0, 300)\n",
    "plt.grid()\n",
    "plt.show()"
   ]
  },
  {
   "cell_type": "markdown",
   "id": "f426298b-1a1b-4168-937a-86c8be981153",
   "metadata": {},
   "source": [
    "**After 40 dollars, survival possibility surpass dying possibility**"
   ]
  },
  {
   "cell_type": "code",
   "execution_count": 236,
   "id": "5dee3d3b-974b-43c8-a78f-370ff8bcc1ed",
   "metadata": {
    "tags": []
   },
   "outputs": [
    {
     "data": {
      "image/png": "[encoded data removed]",
      "text/plain": [
       "<Figure size 1200x400 with 1 Axes>"
      ]
     },
     "metadata": {},
     "output_type": "display_data"
    }
   ],
   "source": [
    "fig = plt.figure(figsize=(12,4))\n",
    "sns.boxplot(data=df_train, x='Fare', y='Survived', orient='h')\n",
    "plt.title('Ticket Fares vs Survival')\n",
    "plt.show()"
   ]
  },
  {
   "cell_type": "markdown",
   "id": "34851735-2302-469b-9169-dda674b72ba1",
   "metadata": {},
   "source": [
    "**75% of the passengers who died, has a ticket price of 25 or less**  \n",
    "**On the other hand, half of the passengers who survived, paid more than this 25 amount**"
   ]
  },
  {
   "cell_type": "markdown",
   "id": "c72684fa-fa05-4c52-b081-3145dfedf2cb",
   "metadata": {},
   "source": [
    "### Titles and Survivals"
   ]
  },
  {
   "cell_type": "code",
   "execution_count": 237,
   "id": "0dbd2453-228e-4a9c-8e2d-4b2a9128f55b",
   "metadata": {
    "tags": []
   },
   "outputs": [
    {
     "data": {
      "image/png": "[encoded data removed]",
      "text/plain": [
       "<Figure size 500x400 with 1 Axes>"
      ]
     },
     "metadata": {},
     "output_type": "display_data"
    }
   ],
   "source": [
    "survival_ratio_title = df_train.groupby('Title')['Survived'].mean()\n",
    "\n",
    "# Visualize the survival ratio with labels\n",
    "plt.figure(figsize=(5, 4))\n",
    "sns.barplot(x=survival_ratio_title.index, y=survival_ratio_title.values, palette='Set1')\n",
    "plt.title('Survival Ratio by title')\n",
    "plt.xticks(rotation=45)\n",
    "plt.xlabel('Survived')\n",
    "plt.ylabel('Survival Ratio by title categories')\n",
    "plt.ylim(0,1)\n",
    "\n",
    "for index, value in enumerate(survival_ratio_title):\n",
    "    plt.text(index, value, f'{value:.2f}', ha='center', va='bottom')\n",
    "    \n",
    "plt.show()"
   ]
  },
  {
   "cell_type": "code",
   "execution_count": 238,
   "id": "4ce65585-ae3b-4e29-9385-a532daa51d99",
   "metadata": {
    "tags": []
   },
   "outputs": [
    {
     "data": {
      "image/png": "[encoded data removed]",
      "text/plain": [
       "<Figure size 500x400 with 1 Axes>"
      ]
     },
     "metadata": {},
     "output_type": "display_data"
    }
   ],
   "source": [
    "survival_ratio_special_title = df_train[df_train['Title']=='Special_title'].groupby('Sex')['Survived'].mean()\n",
    "\n",
    "# Visualize the survival ratio with labels\n",
    "plt.figure(figsize=(5, 4))\n",
    "sns.barplot(x=survival_ratio_special_title.index, y=survival_ratio_special_title.values, palette='Set1')\n",
    "plt.title('Survival Ratio by Special title and Gender')\n",
    "plt.xticks(rotation=45)\n",
    "plt.xlabel('Survived')\n",
    "plt.ylabel('Survival Ratio by title categories and Gender')\n",
    "\n",
    "\n",
    "for index, value in enumerate(survival_ratio_special_title):\n",
    "    plt.text(index, value, f'{value:.2f}', ha='center', va='bottom')\n",
    "    \n",
    "plt.show()"
   ]
  },
  {
   "cell_type": "markdown",
   "id": "663e651c-c318-4c28-8007-fb7681558815",
   "metadata": {},
   "source": [
    "### Genders, Age and Survival"
   ]
  },
  {
   "cell_type": "code",
   "execution_count": 239,
   "id": "686eca59-8e5f-4f26-ab0c-976edd2cde08",
   "metadata": {
    "tags": []
   },
   "outputs": [
    {
     "data": {
      "image/png": "[encoded data removed]",
      "text/plain": [
       "<Figure size 640x480 with 1 Axes>"
      ]
     },
     "metadata": {},
     "output_type": "display_data"
    }
   ],
   "source": [
    "survival_ratio_gender_pclass = df_train.groupby(['Sex', 'Age_Category'])['Survived'].mean()\n",
    "\n",
    "sns.barplot(data=df_train, x='Age_Category', y='Survived', hue='Sex', ci=None)\n",
    "plt.grid()\n",
    "plt.show()"
   ]
  },
  {
   "cell_type": "markdown",
   "id": "da4232cc-cb84-4b0d-a2a0-8f51ac18602d",
   "metadata": {},
   "source": [
    "* Child survival rates are almost identical no matter the genders  \n",
    "* All other age groups: Females have far higher survival rates\n",
    "* Males having special titles such as Colonel, Sir etc have almost 70% higher survival rates. (Normally its around %17 for a second and first class travelling male but its %25 for special titles)"
   ]
  },
  {
   "cell_type": "markdown",
   "id": "7c9c4f25-b9aa-4d4e-8171-3eb271fe66fc",
   "metadata": {
    "tags": []
   },
   "source": [
    "### Gender, Classes and Survival"
   ]
  },
  {
   "cell_type": "code",
   "execution_count": 240,
   "id": "140035cd-b5fb-459c-af11-a2c0057fd080",
   "metadata": {
    "tags": []
   },
   "outputs": [
    {
     "data": {
      "image/png": "[encoded data removed]",
      "text/plain": [
       "<Figure size 640x480 with 1 Axes>"
      ]
     },
     "metadata": {},
     "output_type": "display_data"
    }
   ],
   "source": [
    "survival_ratio_gender_pclass = df_train.groupby(['Sex', 'Pclass'])['Survived'].mean()\n",
    "\n",
    "sns.barplot(data=df_train, x='Pclass', y='Survived', hue='Sex', ci=None)\n",
    "plt.grid()\n",
    "plt.show()"
   ]
  },
  {
   "cell_type": "markdown",
   "id": "5400fd39-ce17-40c4-9550-244862a957a3",
   "metadata": {},
   "source": [
    "**Female passengers traveling first and Second class have a survival rate of ove 90%**  \n",
    "**whereas Males on second and Third Class is around 16%**"
   ]
  },
  {
   "cell_type": "markdown",
   "id": "dbda4149-3ed2-4694-b478-d51877279093",
   "metadata": {
    "tags": []
   },
   "source": [
    "# 5. Model Building"
   ]
  },
  {
   "cell_type": "markdown",
   "id": "d6405787-8129-4592-bc85-9d0767ef7b30",
   "metadata": {},
   "source": [
    "## Data Encoding"
   ]
  },
  {
   "cell_type": "code",
   "execution_count": 241,
   "id": "e0839c1b-bcca-4ac2-ae68-d50859238385",
   "metadata": {
    "tags": []
   },
   "outputs": [],
   "source": [
    "# This was staying for better visualization and EDA\n",
    "df_train.drop(columns=['Age_Category'], inplace=True)\n",
    "df_test.drop(columns=['Age_Category'], inplace=True)"
   ]
  },
  {
   "cell_type": "code",
   "execution_count": 242,
   "id": "208f5061-f3c9-4dbd-a15f-f5513621eb2c",
   "metadata": {
    "tags": []
   },
   "outputs": [
    {
     "data": {
      "text/plain": [
       "Index(['Sex', 'Embarked', 'Title'], dtype='object')"
      ]
     },
     "execution_count": 242,
     "metadata": {},
     "output_type": "execute_result"
    }
   ],
   "source": [
    "categorical_features = df_train.select_dtypes(include=['object', 'category']).columns\n",
    "categorical_features"
   ]
  },
  {
   "cell_type": "code",
   "execution_count": 243,
   "id": "dbe3a6ca-a2d1-43b2-9fc0-94d936bdb710",
   "metadata": {
    "tags": []
   },
   "outputs": [
    {
     "name": "stdout",
     "output_type": "stream",
     "text": [
      "(891, 11)\n",
      "(891,)\n",
      "(418, 11)\n"
     ]
    }
   ],
   "source": [
    "dummies_df_train = pd.get_dummies(df_train, categorical_features, drop_first=True)\n",
    "dummies_df_test = pd.get_dummies(df_test, categorical_features, drop_first=True)\n",
    "\n",
    "X = dummies_df_train.drop(columns=['Survived'])\n",
    "y = df_train['Survived']\n",
    "X_kaggle = dummies_df_test.copy()\n",
    "\n",
    "print(X.shape)\n",
    "print(y.shape)\n",
    "print(X_kaggle.shape)"
   ]
  },
  {
   "cell_type": "code",
   "execution_count": 244,
   "id": "0dfcadbf-b0f1-49cd-a961-b0ffe9fcc4ee",
   "metadata": {
    "tags": []
   },
   "outputs": [
    {
     "data": {
      "text/html": [
       "<div>\n",
       "<style scoped>\n",
       "    .dataframe tbody tr th:only-of-type {\n",
       "        vertical-align: middle;\n",
       "    }\n",
       "\n",
       "    .dataframe tbody tr th {\n",
       "        vertical-align: top;\n",
       "    }\n",
       "\n",
       "    .dataframe thead th {\n",
       "        text-align: right;\n",
       "    }\n",
       "</style>\n",
       "<table border=\"1\" class=\"dataframe\">\n",
       "  <thead>\n",
       "    <tr style=\"text-align: right;\">\n",
       "      <th></th>\n",
       "      <th>Pclass</th>\n",
       "      <th>Fare</th>\n",
       "      <th>Age_Cat_Label</th>\n",
       "      <th>Family</th>\n",
       "      <th>Sex_male</th>\n",
       "      <th>Embarked_Q</th>\n",
       "      <th>Embarked_S</th>\n",
       "      <th>Title_Miss</th>\n",
       "      <th>Title_Mr.</th>\n",
       "      <th>Title_Mrs.</th>\n",
       "      <th>Title_Special_title</th>\n",
       "    </tr>\n",
       "  </thead>\n",
       "  <tbody>\n",
       "    <tr>\n",
       "      <th>26</th>\n",
       "      <td>3</td>\n",
       "      <td>7.225</td>\n",
       "      <td>2</td>\n",
       "      <td>1</td>\n",
       "      <td>1</td>\n",
       "      <td>0</td>\n",
       "      <td>0</td>\n",
       "      <td>0</td>\n",
       "      <td>1</td>\n",
       "      <td>0</td>\n",
       "      <td>0</td>\n",
       "    </tr>\n",
       "    <tr>\n",
       "      <th>150</th>\n",
       "      <td>2</td>\n",
       "      <td>12.525</td>\n",
       "      <td>5</td>\n",
       "      <td>1</td>\n",
       "      <td>1</td>\n",
       "      <td>0</td>\n",
       "      <td>1</td>\n",
       "      <td>0</td>\n",
       "      <td>0</td>\n",
       "      <td>0</td>\n",
       "      <td>1</td>\n",
       "    </tr>\n",
       "    <tr>\n",
       "      <th>417</th>\n",
       "      <td>2</td>\n",
       "      <td>13.000</td>\n",
       "      <td>1</td>\n",
       "      <td>3</td>\n",
       "      <td>0</td>\n",
       "      <td>0</td>\n",
       "      <td>1</td>\n",
       "      <td>1</td>\n",
       "      <td>0</td>\n",
       "      <td>0</td>\n",
       "      <td>0</td>\n",
       "    </tr>\n",
       "  </tbody>\n",
       "</table>\n",
       "</div>"
      ],
      "text/plain": [
       "     Pclass    Fare  Age_Cat_Label  Family  Sex_male  Embarked_Q  Embarked_S  \\\n",
       "26        3   7.225              2       1         1           0           0   \n",
       "150       2  12.525              5       1         1           0           1   \n",
       "417       2  13.000              1       3         0           0           1   \n",
       "\n",
       "     Title_Miss  Title_Mr.  Title_Mrs.  Title_Special_title  \n",
       "26            0          1           0                    0  \n",
       "150           0          0           0                    1  \n",
       "417           1          0           0                    0  "
      ]
     },
     "execution_count": 244,
     "metadata": {},
     "output_type": "execute_result"
    }
   ],
   "source": [
    "X.sample(3)"
   ]
  },
  {
   "cell_type": "code",
   "execution_count": 245,
   "id": "99a53d52-0452-4272-852e-65366f1387cc",
   "metadata": {
    "tags": []
   },
   "outputs": [
    {
     "data": {
      "text/html": [
       "<div>\n",
       "<style scoped>\n",
       "    .dataframe tbody tr th:only-of-type {\n",
       "        vertical-align: middle;\n",
       "    }\n",
       "\n",
       "    .dataframe tbody tr th {\n",
       "        vertical-align: top;\n",
       "    }\n",
       "\n",
       "    .dataframe thead th {\n",
       "        text-align: right;\n",
       "    }\n",
       "</style>\n",
       "<table border=\"1\" class=\"dataframe\">\n",
       "  <thead>\n",
       "    <tr style=\"text-align: right;\">\n",
       "      <th></th>\n",
       "      <th>Pclass</th>\n",
       "      <th>Fare</th>\n",
       "      <th>Age_Cat_Label</th>\n",
       "      <th>Family</th>\n",
       "      <th>Sex_male</th>\n",
       "      <th>Embarked_Q</th>\n",
       "      <th>Embarked_S</th>\n",
       "      <th>Title_Miss</th>\n",
       "      <th>Title_Mr.</th>\n",
       "      <th>Title_Mrs.</th>\n",
       "      <th>Title_Special_title</th>\n",
       "    </tr>\n",
       "  </thead>\n",
       "  <tbody>\n",
       "    <tr>\n",
       "      <th>160</th>\n",
       "      <td>3</td>\n",
       "      <td>7.7333</td>\n",
       "      <td>2</td>\n",
       "      <td>1</td>\n",
       "      <td>0</td>\n",
       "      <td>1</td>\n",
       "      <td>0</td>\n",
       "      <td>1</td>\n",
       "      <td>0</td>\n",
       "      <td>0</td>\n",
       "      <td>0</td>\n",
       "    </tr>\n",
       "    <tr>\n",
       "      <th>311</th>\n",
       "      <td>3</td>\n",
       "      <td>7.2250</td>\n",
       "      <td>2</td>\n",
       "      <td>1</td>\n",
       "      <td>1</td>\n",
       "      <td>0</td>\n",
       "      <td>0</td>\n",
       "      <td>0</td>\n",
       "      <td>1</td>\n",
       "      <td>0</td>\n",
       "      <td>0</td>\n",
       "    </tr>\n",
       "    <tr>\n",
       "      <th>332</th>\n",
       "      <td>3</td>\n",
       "      <td>7.2250</td>\n",
       "      <td>2</td>\n",
       "      <td>1</td>\n",
       "      <td>1</td>\n",
       "      <td>0</td>\n",
       "      <td>0</td>\n",
       "      <td>0</td>\n",
       "      <td>1</td>\n",
       "      <td>0</td>\n",
       "      <td>0</td>\n",
       "    </tr>\n",
       "  </tbody>\n",
       "</table>\n",
       "</div>"
      ],
      "text/plain": [
       "     Pclass    Fare  Age_Cat_Label  Family  Sex_male  Embarked_Q  Embarked_S  \\\n",
       "160       3  7.7333              2       1         0           1           0   \n",
       "311       3  7.2250              2       1         1           0           0   \n",
       "332       3  7.2250              2       1         1           0           0   \n",
       "\n",
       "     Title_Miss  Title_Mr.  Title_Mrs.  Title_Special_title  \n",
       "160           1          0           0                    0  \n",
       "311           0          1           0                    0  \n",
       "332           0          1           0                    0  "
      ]
     },
     "execution_count": 245,
     "metadata": {},
     "output_type": "execute_result"
    }
   ],
   "source": [
    "X_kaggle.sample(3)"
   ]
  },
  {
   "cell_type": "code",
   "execution_count": 246,
   "id": "54ffb37b-5667-4a9d-bde6-bd102b21b68e",
   "metadata": {
    "tags": []
   },
   "outputs": [
    {
     "data": {
      "text/plain": [
       "579    1.0\n",
       "134    0.0\n",
       "199    0.0\n",
       "Name: Survived, dtype: float64"
      ]
     },
     "execution_count": 246,
     "metadata": {},
     "output_type": "execute_result"
    }
   ],
   "source": [
    "y.sample(3)"
   ]
  },
  {
   "cell_type": "markdown",
   "id": "87a69e27-4b43-4255-9100-fe6aa599af17",
   "metadata": {},
   "source": [
    "## Train | Test Split"
   ]
  },
  {
   "cell_type": "code",
   "execution_count": 247,
   "id": "bc456ab8-9263-4e5e-95af-8c3a56939391",
   "metadata": {
    "tags": []
   },
   "outputs": [],
   "source": [
    "X_train, X_test, y_train, y_test = train_test_split(X, y, test_size=0.2, random_state=42)"
   ]
  },
  {
   "cell_type": "markdown",
   "id": "3272e96f-695b-4715-9e3f-9c3fc89ecf3a",
   "metadata": {},
   "source": [
    "## Scaling"
   ]
  },
  {
   "cell_type": "code",
   "execution_count": 248,
   "id": "a4e35ac9-3f30-4b1d-af36-ebb5cab0aff7",
   "metadata": {
    "tags": []
   },
   "outputs": [],
   "source": [
    "scaler = StandardScaler()\n",
    "X_train_scaled = scaler.fit_transform(X_train)\n",
    "X_test_scaled = scaler.transform(X_test)\n",
    "X_kaggle_scaled = scaler.transform(X_kaggle)"
   ]
  },
  {
   "cell_type": "markdown",
   "id": "033e383b-158d-4c3a-b619-01fdc11117d5",
   "metadata": {},
   "source": [
    "## Model Runs"
   ]
  },
  {
   "cell_type": "code",
   "execution_count": 249,
   "id": "ba8cc0cf-cde1-40bb-a6e3-d94c97384ea7",
   "metadata": {},
   "outputs": [],
   "source": [
    "algorithms = [\n",
    "    LogisticRegression(),\n",
    "    RandomForestClassifier(random_state=42),\n",
    "    XGBClassifier(random_state=42),\n",
    "    GradientBoostingClassifier(random_state=42)\n",
    "]"
   ]
  },
  {
   "cell_type": "code",
   "execution_count": 250,
   "id": "0116d4db-9933-4ee6-9d15-e831c4c06a7f",
   "metadata": {},
   "outputs": [
    {
     "data": {
      "text/html": [
       "<div>\n",
       "<style scoped>\n",
       "    .dataframe tbody tr th:only-of-type {\n",
       "        vertical-align: middle;\n",
       "    }\n",
       "\n",
       "    .dataframe tbody tr th {\n",
       "        vertical-align: top;\n",
       "    }\n",
       "\n",
       "    .dataframe thead th {\n",
       "        text-align: right;\n",
       "    }\n",
       "</style>\n",
       "<table border=\"1\" class=\"dataframe\">\n",
       "  <thead>\n",
       "    <tr style=\"text-align: right;\">\n",
       "      <th></th>\n",
       "      <th>Algorithm</th>\n",
       "      <th>Train_Accuracy</th>\n",
       "      <th>Test_Accuracy</th>\n",
       "    </tr>\n",
       "  </thead>\n",
       "  <tbody>\n",
       "    <tr>\n",
       "      <th>0</th>\n",
       "      <td>RandomForestClassifier</td>\n",
       "      <td>0.952247</td>\n",
       "      <td>0.854749</td>\n",
       "    </tr>\n",
       "    <tr>\n",
       "      <th>1</th>\n",
       "      <td>XGBClassifier</td>\n",
       "      <td>0.942416</td>\n",
       "      <td>0.837989</td>\n",
       "    </tr>\n",
       "    <tr>\n",
       "      <th>3</th>\n",
       "      <td>GradientBoostingClassifier</td>\n",
       "      <td>0.901685</td>\n",
       "      <td>0.832402</td>\n",
       "    </tr>\n",
       "    <tr>\n",
       "      <th>2</th>\n",
       "      <td>LogisticRegression</td>\n",
       "      <td>0.834270</td>\n",
       "      <td>0.810056</td>\n",
       "    </tr>\n",
       "  </tbody>\n",
       "</table>\n",
       "</div>"
      ],
      "text/plain": [
       "                    Algorithm  Train_Accuracy  Test_Accuracy\n",
       "0      RandomForestClassifier        0.952247       0.854749\n",
       "1               XGBClassifier        0.942416       0.837989\n",
       "3  GradientBoostingClassifier        0.901685       0.832402\n",
       "2          LogisticRegression        0.834270       0.810056"
      ]
     },
     "execution_count": 250,
     "metadata": {},
     "output_type": "execute_result"
    }
   ],
   "source": [
    "model_scores = pd.DataFrame(columns=['Algorithm', 'Train_Accuracy', 'Test_Accuracy'])\n",
    "\n",
    "for algorithm in algorithms:\n",
    "    \n",
    "    algorithm_score = {}\n",
    "    algorithm_name = algorithm.__class__.__name__\n",
    "    \n",
    "    model = algorithm\n",
    "    model.fit(X_train_scaled, y_train)\n",
    "    \n",
    "    y_pred = model.predict(X_test_scaled)\n",
    "    y_train_pred = model.predict(X_train_scaled)\n",
    "    \n",
    "    accuracy_test = accuracy_score(y_test, y_pred)\n",
    "    accuracy_train = accuracy_score(y_train, y_train_pred)\n",
    "    \n",
    "    algorithm_score['Algorithm'] = algorithm_name\n",
    "    algorithm_score['Train_Accuracy'] = accuracy_train\n",
    "    algorithm_score['Test_Accuracy'] = accuracy_test\n",
    "    \n",
    "    model_scores = model_scores.append(algorithm_score, ignore_index=True)\n",
    "    model_scores = model_scores.sort_values(by='Test_Accuracy', ascending=False)\n",
    "\n",
    "model_scores    "
   ]
  },
  {
   "cell_type": "markdown",
   "id": "39206220-89f5-44da-9723-75d8d4d4c3fa",
   "metadata": {},
   "source": [
    "# 6. HyperParamtre Tuning"
   ]
  },
  {
   "cell_type": "markdown",
   "id": "2c706c1f-3643-4304-bfd5-4a116780a202",
   "metadata": {},
   "source": [
    "## XGBoost Params"
   ]
  },
  {
   "cell_type": "raw",
   "id": "64a3b0a4-fb87-4200-a6d8-af54636e5140",
   "metadata": {
    "tags": []
   },
   "source": [
    "# Create an XGBoost classifier\n",
    "xgb_model = XGBClassifier(random_state=42)\n",
    "\n",
    "# Define the hyperparameter grid\n",
    "param_grid = {\n",
    "    'learning_rate': [0.01, 0.1, 0.2],\n",
    "    'n_estimators': [100, 200, 300],\n",
    "    'max_depth': [3, 4, 5, 6]\n",
    "}\n",
    "\n",
    "# Create the GridSearchCV object\n",
    "grid_search = GridSearchCV(\n",
    "    estimator=xgb_model,\n",
    "    param_grid=param_grid,\n",
    "    scoring='accuracy',  # Use an appropriate metric for your problem\n",
    "    cv=5,  # 5-fold cross-validation\n",
    "    verbose=1,\n",
    "    n_jobs=-1,  # Use all available CPUs\n",
    ")\n",
    "\n",
    "# Fit the GridSearchCV object to the data\n",
    "grid_search.fit(X_train_scaled, y_train)\n",
    "\n",
    "# Print the best hyperparameters found\n",
    "print(\"Best Hyperparameters:\", grid_search.best_params_)\n",
    "\n",
    "# Get the best model\n",
    "best_model_xgb = grid_search.best_estimator_\n",
    "\n",
    "# Make predictions on the test set\n",
    "y_pred = best_model_xgb.predict(X_test_scaled)\n",
    "\n",
    "# Evaluate the performance of the best model\n",
    "accuracy = accuracy_score(y_test, y_pred)\n",
    "print(\"Accuracy on the test set:\", accuracy)"
   ]
  },
  {
   "cell_type": "markdown",
   "id": "097e64e5-c702-4c0c-bdc2-c85856916d73",
   "metadata": {},
   "source": [
    "## Logit Params"
   ]
  },
  {
   "cell_type": "raw",
   "id": "812fcf8c-8f53-4d51-8d1b-35af6227efda",
   "metadata": {
    "tags": []
   },
   "source": [
    "logreg_model = LogisticRegression()\n",
    "\n",
    "# Define the hyperparameter grid\n",
    "param_grid = {\n",
    "    'C': np.arange(1,100,50),\n",
    "    'penalty': ['l1', 'l2'],\n",
    "}\n",
    "\n",
    "# Create the GridSearchCV object\n",
    "grid_search = GridSearchCV(\n",
    "    estimator=logreg_model,\n",
    "    param_grid=param_grid,\n",
    "    scoring='accuracy',  # Use an appropriate metric for your problem\n",
    "    cv=5,  # 5-fold cross-validation\n",
    "    verbose=1,\n",
    "    n_jobs=-1,  # Use all available CPUs\n",
    ")\n",
    "\n",
    "# Fit the GridSearchCV object to the data\n",
    "grid_search.fit(X_train_scaled, y_train)\n",
    "\n",
    "# Print the best hyperparameters found\n",
    "print(\"Best Hyperparameters:\", grid_search.best_params_)\n",
    "\n",
    "# Get the best model\n",
    "best_model_logit = grid_search.best_estimator_\n",
    "\n",
    "# Make predictions on the test set\n",
    "y_pred = best_model_logit.predict(X_test_scaled)\n",
    "\n",
    "# Evaluate the performance of the best model\n",
    "accuracy = accuracy_score(y_test, y_pred)\n",
    "print(\"Accuracy on the test set:\", accuracy)"
   ]
  },
  {
   "cell_type": "markdown",
   "id": "df48221f-2404-457c-b5ed-537004db01d7",
   "metadata": {},
   "source": [
    "## RF Params"
   ]
  },
  {
   "cell_type": "raw",
   "id": "0a095b54-1717-4984-9c9b-836dbb1251de",
   "metadata": {},
   "source": [
    "rf_classifier = RandomForestClassifier(random_state=42)\n",
    "\n",
    "# Define the hyperparameter grid\n",
    "param_grid = {\n",
    "    'n_estimators': [50, 100, 150],\n",
    "    'max_depth': [None, 10, 20, 30],\n",
    "    'min_samples_split': [2, 5, 10],\n",
    "    'min_samples_leaf': [1, 2, 4]\n",
    "}\n",
    "\n",
    "# Create the GridSearchCV object\n",
    "grid_search = GridSearchCV(estimator=rf_classifier, param_grid=param_grid, cv=5, scoring='accuracy', n_jobs=-1)\n",
    "\n",
    "# Fit the model to the training data\n",
    "grid_search.fit(X_train_scaled, y_train)\n",
    "\n",
    "# Get the best hyperparameters\n",
    "best_params = grid_search.best_params_\n",
    "\n",
    "# Get the best model\n",
    "best_model_rf = grid_search.best_estimator_\n",
    "\n",
    "# Make predictions on the test set\n",
    "y_pred = best_model_rf.predict(X_test_scaled)\n",
    "\n",
    "# Evaluate the performance of the best model\n",
    "accuracy = accuracy_score(y_test, y_pred)\n",
    "print(\"Best Hyperparameters:\", best_params)\n",
    "print(\"Accuracy on the test set:\", accuracy)"
   ]
  },
  {
   "cell_type": "markdown",
   "id": "4a5c9861-a1ea-4f69-8f4e-3a830de78508",
   "metadata": {},
   "source": [
    "## GB Params"
   ]
  },
  {
   "cell_type": "code",
   "execution_count": 251,
   "id": "969e6f54-808c-4f5c-bc6e-dad0fa2ae318",
   "metadata": {
    "tags": []
   },
   "outputs": [
    {
     "name": "stdout",
     "output_type": "stream",
     "text": [
      "Best Hyperparameters: {'learning_rate': 0.1, 'max_depth': 3, 'min_samples_leaf': 1, 'min_samples_split': 10, 'n_estimators': 50}\n",
      "Accuracy on the test set: 0.8212290502793296\n"
     ]
    }
   ],
   "source": [
    "gb_classifier = GradientBoostingClassifier(random_state=42)\n",
    "\n",
    "# Define the hyperparameter grid\n",
    "param_grid = {\n",
    "    'n_estimators': [50, 100, 150],\n",
    "    'learning_rate': [0.01, 0.1, 0.2],\n",
    "    'max_depth': [3, 4, 5],\n",
    "    'min_samples_split': [2, 5, 10],\n",
    "    'min_samples_leaf': [1, 2, 4]\n",
    "}\n",
    "\n",
    "# Create the GridSearchCV object\n",
    "grid_search = GridSearchCV(estimator=gb_classifier, param_grid=param_grid, cv=5, scoring='accuracy', n_jobs=-1)\n",
    "\n",
    "# Fit the model to the training data\n",
    "grid_search.fit(X_train_scaled, y_train)\n",
    "\n",
    "# Get the best hyperparameters\n",
    "best_params = grid_search.best_params_\n",
    "\n",
    "# Get the best model\n",
    "best_model_gb = grid_search.best_estimator_\n",
    "\n",
    "# Make predictions on the test set\n",
    "y_pred = best_model_gb.predict(X_test_scaled)\n",
    "\n",
    "# Evaluate the performance of the best model\n",
    "accuracy = accuracy_score(y_test, y_pred)\n",
    "print(\"Best Hyperparameters:\", best_params)\n",
    "print(\"Accuracy on the test set:\", accuracy)"
   ]
  },
  {
   "cell_type": "markdown",
   "id": "92f6cf2b-22ee-4499-ba8c-eb9eb75527c1",
   "metadata": {},
   "source": [
    "# 8. Dive Deep? Prediction Analysis"
   ]
  },
  {
   "cell_type": "code",
   "execution_count": 252,
   "id": "09a91807-a6d3-4fe1-b5e5-6b8f56cd7cf0",
   "metadata": {
    "tags": []
   },
   "outputs": [],
   "source": [
    "y_pred_proba_gb = best_model_gb.predict_proba(X_test_scaled)"
   ]
  },
  {
   "cell_type": "code",
   "execution_count": 253,
   "id": "6655739a-6328-4daf-93ec-ffe0e41138f5",
   "metadata": {
    "tags": []
   },
   "outputs": [],
   "source": [
    "y_pred_gb = best_model_gb.predict(X_test_scaled)"
   ]
  },
  {
   "cell_type": "code",
   "execution_count": 254,
   "id": "27e708d4-11dc-4791-b89c-a6e3ac073536",
   "metadata": {
    "tags": []
   },
   "outputs": [],
   "source": [
    "pred_comp_df = pd.DataFrame()"
   ]
  },
  {
   "cell_type": "code",
   "execution_count": 255,
   "id": "1e7dfb26-e7d3-4b2e-8eb9-e7605ae77389",
   "metadata": {
    "tags": []
   },
   "outputs": [],
   "source": [
    "pred_comp_df[X_test.columns] = X_test\n",
    "pred_comp_df['Survived'] = y_test\n",
    "pred_comp_df['y_pred_gb'] = y_pred_gb\n",
    "pred_comp_df['y_pred_proba_GB'] = y_pred_proba_gb[:,-1]"
   ]
  },
  {
   "cell_type": "code",
   "execution_count": 256,
   "id": "4d370b42-4c86-435e-a8ac-6c598f450570",
   "metadata": {
    "tags": []
   },
   "outputs": [
    {
     "name": "stdout",
     "output_type": "stream",
     "text": [
      "Total False Predictions : 32\n"
     ]
    },
    {
     "data": {
      "text/html": [
       "<div>\n",
       "<style scoped>\n",
       "    .dataframe tbody tr th:only-of-type {\n",
       "        vertical-align: middle;\n",
       "    }\n",
       "\n",
       "    .dataframe tbody tr th {\n",
       "        vertical-align: top;\n",
       "    }\n",
       "\n",
       "    .dataframe thead th {\n",
       "        text-align: right;\n",
       "    }\n",
       "</style>\n",
       "<table border=\"1\" class=\"dataframe\">\n",
       "  <thead>\n",
       "    <tr style=\"text-align: right;\">\n",
       "      <th></th>\n",
       "      <th>Pclass</th>\n",
       "      <th>Fare</th>\n",
       "      <th>Age_Cat_Label</th>\n",
       "      <th>Family</th>\n",
       "      <th>Sex_male</th>\n",
       "      <th>Embarked_Q</th>\n",
       "      <th>Embarked_S</th>\n",
       "      <th>Title_Miss</th>\n",
       "      <th>Title_Mr.</th>\n",
       "      <th>Title_Mrs.</th>\n",
       "      <th>Title_Special_title</th>\n",
       "      <th>Survived</th>\n",
       "      <th>y_pred_gb</th>\n",
       "      <th>y_pred_proba_GB</th>\n",
       "    </tr>\n",
       "  </thead>\n",
       "  <tbody>\n",
       "    <tr>\n",
       "      <th>137</th>\n",
       "      <td>1</td>\n",
       "      <td>53.1000</td>\n",
       "      <td>3</td>\n",
       "      <td>2</td>\n",
       "      <td>1</td>\n",
       "      <td>0</td>\n",
       "      <td>1</td>\n",
       "      <td>0</td>\n",
       "      <td>1</td>\n",
       "      <td>0</td>\n",
       "      <td>0</td>\n",
       "      <td>0.0</td>\n",
       "      <td>1.0</td>\n",
       "      <td>0.582398</td>\n",
       "    </tr>\n",
       "    <tr>\n",
       "      <th>621</th>\n",
       "      <td>1</td>\n",
       "      <td>52.5542</td>\n",
       "      <td>4</td>\n",
       "      <td>2</td>\n",
       "      <td>1</td>\n",
       "      <td>0</td>\n",
       "      <td>1</td>\n",
       "      <td>0</td>\n",
       "      <td>1</td>\n",
       "      <td>0</td>\n",
       "      <td>0</td>\n",
       "      <td>1.0</td>\n",
       "      <td>0.0</td>\n",
       "      <td>0.495200</td>\n",
       "    </tr>\n",
       "    <tr>\n",
       "      <th>447</th>\n",
       "      <td>1</td>\n",
       "      <td>26.5500</td>\n",
       "      <td>3</td>\n",
       "      <td>1</td>\n",
       "      <td>1</td>\n",
       "      <td>0</td>\n",
       "      <td>1</td>\n",
       "      <td>0</td>\n",
       "      <td>1</td>\n",
       "      <td>0</td>\n",
       "      <td>0</td>\n",
       "      <td>1.0</td>\n",
       "      <td>0.0</td>\n",
       "      <td>0.333976</td>\n",
       "    </tr>\n",
       "    <tr>\n",
       "      <th>192</th>\n",
       "      <td>3</td>\n",
       "      <td>7.8542</td>\n",
       "      <td>1</td>\n",
       "      <td>2</td>\n",
       "      <td>0</td>\n",
       "      <td>0</td>\n",
       "      <td>1</td>\n",
       "      <td>1</td>\n",
       "      <td>0</td>\n",
       "      <td>0</td>\n",
       "      <td>0</td>\n",
       "      <td>1.0</td>\n",
       "      <td>0.0</td>\n",
       "      <td>0.467846</td>\n",
       "    </tr>\n",
       "    <tr>\n",
       "      <th>673</th>\n",
       "      <td>2</td>\n",
       "      <td>13.0000</td>\n",
       "      <td>3</td>\n",
       "      <td>1</td>\n",
       "      <td>1</td>\n",
       "      <td>0</td>\n",
       "      <td>1</td>\n",
       "      <td>0</td>\n",
       "      <td>1</td>\n",
       "      <td>0</td>\n",
       "      <td>0</td>\n",
       "      <td>1.0</td>\n",
       "      <td>0.0</td>\n",
       "      <td>0.125601</td>\n",
       "    </tr>\n",
       "    <tr>\n",
       "      <th>141</th>\n",
       "      <td>3</td>\n",
       "      <td>7.7500</td>\n",
       "      <td>2</td>\n",
       "      <td>1</td>\n",
       "      <td>0</td>\n",
       "      <td>0</td>\n",
       "      <td>1</td>\n",
       "      <td>1</td>\n",
       "      <td>0</td>\n",
       "      <td>0</td>\n",
       "      <td>0</td>\n",
       "      <td>1.0</td>\n",
       "      <td>0.0</td>\n",
       "      <td>0.467038</td>\n",
       "    </tr>\n",
       "    <tr>\n",
       "      <th>235</th>\n",
       "      <td>3</td>\n",
       "      <td>7.5500</td>\n",
       "      <td>2</td>\n",
       "      <td>1</td>\n",
       "      <td>0</td>\n",
       "      <td>0</td>\n",
       "      <td>1</td>\n",
       "      <td>1</td>\n",
       "      <td>0</td>\n",
       "      <td>0</td>\n",
       "      <td>0</td>\n",
       "      <td>0.0</td>\n",
       "      <td>1.0</td>\n",
       "      <td>0.727498</td>\n",
       "    </tr>\n",
       "    <tr>\n",
       "      <th>204</th>\n",
       "      <td>3</td>\n",
       "      <td>8.0500</td>\n",
       "      <td>1</td>\n",
       "      <td>1</td>\n",
       "      <td>1</td>\n",
       "      <td>0</td>\n",
       "      <td>1</td>\n",
       "      <td>0</td>\n",
       "      <td>1</td>\n",
       "      <td>0</td>\n",
       "      <td>0</td>\n",
       "      <td>1.0</td>\n",
       "      <td>0.0</td>\n",
       "      <td>0.110381</td>\n",
       "    </tr>\n",
       "    <tr>\n",
       "      <th>23</th>\n",
       "      <td>1</td>\n",
       "      <td>35.5000</td>\n",
       "      <td>2</td>\n",
       "      <td>1</td>\n",
       "      <td>1</td>\n",
       "      <td>0</td>\n",
       "      <td>1</td>\n",
       "      <td>0</td>\n",
       "      <td>1</td>\n",
       "      <td>0</td>\n",
       "      <td>0</td>\n",
       "      <td>1.0</td>\n",
       "      <td>0.0</td>\n",
       "      <td>0.277394</td>\n",
       "    </tr>\n",
       "    <tr>\n",
       "      <th>362</th>\n",
       "      <td>3</td>\n",
       "      <td>14.4542</td>\n",
       "      <td>4</td>\n",
       "      <td>2</td>\n",
       "      <td>0</td>\n",
       "      <td>0</td>\n",
       "      <td>0</td>\n",
       "      <td>0</td>\n",
       "      <td>0</td>\n",
       "      <td>1</td>\n",
       "      <td>0</td>\n",
       "      <td>0.0</td>\n",
       "      <td>1.0</td>\n",
       "      <td>0.561832</td>\n",
       "    </tr>\n",
       "    <tr>\n",
       "      <th>772</th>\n",
       "      <td>2</td>\n",
       "      <td>10.5000</td>\n",
       "      <td>5</td>\n",
       "      <td>1</td>\n",
       "      <td>0</td>\n",
       "      <td>0</td>\n",
       "      <td>1</td>\n",
       "      <td>0</td>\n",
       "      <td>0</td>\n",
       "      <td>1</td>\n",
       "      <td>0</td>\n",
       "      <td>0.0</td>\n",
       "      <td>1.0</td>\n",
       "      <td>0.923276</td>\n",
       "    </tr>\n",
       "    <tr>\n",
       "      <th>312</th>\n",
       "      <td>2</td>\n",
       "      <td>26.0000</td>\n",
       "      <td>2</td>\n",
       "      <td>3</td>\n",
       "      <td>0</td>\n",
       "      <td>0</td>\n",
       "      <td>1</td>\n",
       "      <td>0</td>\n",
       "      <td>0</td>\n",
       "      <td>1</td>\n",
       "      <td>0</td>\n",
       "      <td>0.0</td>\n",
       "      <td>1.0</td>\n",
       "      <td>0.939372</td>\n",
       "    </tr>\n",
       "    <tr>\n",
       "      <th>889</th>\n",
       "      <td>1</td>\n",
       "      <td>30.0000</td>\n",
       "      <td>2</td>\n",
       "      <td>1</td>\n",
       "      <td>1</td>\n",
       "      <td>0</td>\n",
       "      <td>0</td>\n",
       "      <td>0</td>\n",
       "      <td>1</td>\n",
       "      <td>0</td>\n",
       "      <td>0</td>\n",
       "      <td>1.0</td>\n",
       "      <td>0.0</td>\n",
       "      <td>0.384754</td>\n",
       "    </tr>\n",
       "    <tr>\n",
       "      <th>767</th>\n",
       "      <td>3</td>\n",
       "      <td>7.7500</td>\n",
       "      <td>3</td>\n",
       "      <td>1</td>\n",
       "      <td>0</td>\n",
       "      <td>1</td>\n",
       "      <td>0</td>\n",
       "      <td>1</td>\n",
       "      <td>0</td>\n",
       "      <td>0</td>\n",
       "      <td>0</td>\n",
       "      <td>0.0</td>\n",
       "      <td>1.0</td>\n",
       "      <td>0.585465</td>\n",
       "    </tr>\n",
       "    <tr>\n",
       "      <th>357</th>\n",
       "      <td>2</td>\n",
       "      <td>13.0000</td>\n",
       "      <td>3</td>\n",
       "      <td>1</td>\n",
       "      <td>0</td>\n",
       "      <td>0</td>\n",
       "      <td>1</td>\n",
       "      <td>1</td>\n",
       "      <td>0</td>\n",
       "      <td>0</td>\n",
       "      <td>0</td>\n",
       "      <td>0.0</td>\n",
       "      <td>1.0</td>\n",
       "      <td>0.871586</td>\n",
       "    </tr>\n",
       "    <tr>\n",
       "      <th>254</th>\n",
       "      <td>3</td>\n",
       "      <td>20.2125</td>\n",
       "      <td>4</td>\n",
       "      <td>3</td>\n",
       "      <td>0</td>\n",
       "      <td>0</td>\n",
       "      <td>1</td>\n",
       "      <td>0</td>\n",
       "      <td>0</td>\n",
       "      <td>1</td>\n",
       "      <td>0</td>\n",
       "      <td>0.0</td>\n",
       "      <td>1.0</td>\n",
       "      <td>0.673572</td>\n",
       "    </tr>\n",
       "    <tr>\n",
       "      <th>712</th>\n",
       "      <td>1</td>\n",
       "      <td>52.0000</td>\n",
       "      <td>4</td>\n",
       "      <td>2</td>\n",
       "      <td>1</td>\n",
       "      <td>0</td>\n",
       "      <td>1</td>\n",
       "      <td>0</td>\n",
       "      <td>1</td>\n",
       "      <td>0</td>\n",
       "      <td>0</td>\n",
       "      <td>1.0</td>\n",
       "      <td>0.0</td>\n",
       "      <td>0.154177</td>\n",
       "    </tr>\n",
       "    <tr>\n",
       "      <th>338</th>\n",
       "      <td>3</td>\n",
       "      <td>8.0500</td>\n",
       "      <td>4</td>\n",
       "      <td>1</td>\n",
       "      <td>1</td>\n",
       "      <td>0</td>\n",
       "      <td>1</td>\n",
       "      <td>0</td>\n",
       "      <td>1</td>\n",
       "      <td>0</td>\n",
       "      <td>0</td>\n",
       "      <td>1.0</td>\n",
       "      <td>0.0</td>\n",
       "      <td>0.113195</td>\n",
       "    </tr>\n",
       "    <tr>\n",
       "      <th>286</th>\n",
       "      <td>3</td>\n",
       "      <td>9.5000</td>\n",
       "      <td>3</td>\n",
       "      <td>1</td>\n",
       "      <td>1</td>\n",
       "      <td>0</td>\n",
       "      <td>1</td>\n",
       "      <td>0</td>\n",
       "      <td>1</td>\n",
       "      <td>0</td>\n",
       "      <td>0</td>\n",
       "      <td>1.0</td>\n",
       "      <td>0.0</td>\n",
       "      <td>0.122277</td>\n",
       "    </tr>\n",
       "    <tr>\n",
       "      <th>209</th>\n",
       "      <td>1</td>\n",
       "      <td>31.0000</td>\n",
       "      <td>4</td>\n",
       "      <td>1</td>\n",
       "      <td>1</td>\n",
       "      <td>0</td>\n",
       "      <td>0</td>\n",
       "      <td>0</td>\n",
       "      <td>1</td>\n",
       "      <td>0</td>\n",
       "      <td>0</td>\n",
       "      <td>1.0</td>\n",
       "      <td>0.0</td>\n",
       "      <td>0.228058</td>\n",
       "    </tr>\n",
       "    <tr>\n",
       "      <th>604</th>\n",
       "      <td>1</td>\n",
       "      <td>26.5500</td>\n",
       "      <td>3</td>\n",
       "      <td>1</td>\n",
       "      <td>1</td>\n",
       "      <td>0</td>\n",
       "      <td>0</td>\n",
       "      <td>0</td>\n",
       "      <td>1</td>\n",
       "      <td>0</td>\n",
       "      <td>0</td>\n",
       "      <td>1.0</td>\n",
       "      <td>0.0</td>\n",
       "      <td>0.295319</td>\n",
       "    </tr>\n",
       "    <tr>\n",
       "      <th>578</th>\n",
       "      <td>3</td>\n",
       "      <td>14.4583</td>\n",
       "      <td>3</td>\n",
       "      <td>2</td>\n",
       "      <td>0</td>\n",
       "      <td>0</td>\n",
       "      <td>0</td>\n",
       "      <td>0</td>\n",
       "      <td>0</td>\n",
       "      <td>1</td>\n",
       "      <td>0</td>\n",
       "      <td>0.0</td>\n",
       "      <td>1.0</td>\n",
       "      <td>0.561832</td>\n",
       "    </tr>\n",
       "    <tr>\n",
       "      <th>599</th>\n",
       "      <td>1</td>\n",
       "      <td>56.9292</td>\n",
       "      <td>4</td>\n",
       "      <td>2</td>\n",
       "      <td>1</td>\n",
       "      <td>0</td>\n",
       "      <td>0</td>\n",
       "      <td>0</td>\n",
       "      <td>0</td>\n",
       "      <td>0</td>\n",
       "      <td>1</td>\n",
       "      <td>1.0</td>\n",
       "      <td>0.0</td>\n",
       "      <td>0.487579</td>\n",
       "    </tr>\n",
       "    <tr>\n",
       "      <th>49</th>\n",
       "      <td>3</td>\n",
       "      <td>17.8000</td>\n",
       "      <td>1</td>\n",
       "      <td>2</td>\n",
       "      <td>0</td>\n",
       "      <td>0</td>\n",
       "      <td>1</td>\n",
       "      <td>0</td>\n",
       "      <td>0</td>\n",
       "      <td>1</td>\n",
       "      <td>0</td>\n",
       "      <td>0.0</td>\n",
       "      <td>1.0</td>\n",
       "      <td>0.674862</td>\n",
       "    </tr>\n",
       "    <tr>\n",
       "      <th>854</th>\n",
       "      <td>2</td>\n",
       "      <td>26.0000</td>\n",
       "      <td>4</td>\n",
       "      <td>2</td>\n",
       "      <td>0</td>\n",
       "      <td>0</td>\n",
       "      <td>1</td>\n",
       "      <td>0</td>\n",
       "      <td>0</td>\n",
       "      <td>1</td>\n",
       "      <td>0</td>\n",
       "      <td>0.0</td>\n",
       "      <td>1.0</td>\n",
       "      <td>0.939036</td>\n",
       "    </tr>\n",
       "    <tr>\n",
       "      <th>109</th>\n",
       "      <td>3</td>\n",
       "      <td>24.1500</td>\n",
       "      <td>2</td>\n",
       "      <td>2</td>\n",
       "      <td>0</td>\n",
       "      <td>1</td>\n",
       "      <td>0</td>\n",
       "      <td>1</td>\n",
       "      <td>0</td>\n",
       "      <td>0</td>\n",
       "      <td>0</td>\n",
       "      <td>1.0</td>\n",
       "      <td>0.0</td>\n",
       "      <td>0.472555</td>\n",
       "    </tr>\n",
       "    <tr>\n",
       "      <th>643</th>\n",
       "      <td>3</td>\n",
       "      <td>56.4958</td>\n",
       "      <td>2</td>\n",
       "      <td>1</td>\n",
       "      <td>1</td>\n",
       "      <td>0</td>\n",
       "      <td>1</td>\n",
       "      <td>0</td>\n",
       "      <td>1</td>\n",
       "      <td>0</td>\n",
       "      <td>0</td>\n",
       "      <td>1.0</td>\n",
       "      <td>0.0</td>\n",
       "      <td>0.468049</td>\n",
       "    </tr>\n",
       "    <tr>\n",
       "      <th>657</th>\n",
       "      <td>3</td>\n",
       "      <td>15.5000</td>\n",
       "      <td>3</td>\n",
       "      <td>3</td>\n",
       "      <td>0</td>\n",
       "      <td>1</td>\n",
       "      <td>0</td>\n",
       "      <td>0</td>\n",
       "      <td>0</td>\n",
       "      <td>1</td>\n",
       "      <td>0</td>\n",
       "      <td>0.0</td>\n",
       "      <td>1.0</td>\n",
       "      <td>0.778996</td>\n",
       "    </tr>\n",
       "    <tr>\n",
       "      <th>507</th>\n",
       "      <td>1</td>\n",
       "      <td>26.5500</td>\n",
       "      <td>2</td>\n",
       "      <td>1</td>\n",
       "      <td>1</td>\n",
       "      <td>0</td>\n",
       "      <td>1</td>\n",
       "      <td>0</td>\n",
       "      <td>1</td>\n",
       "      <td>0</td>\n",
       "      <td>0</td>\n",
       "      <td>1.0</td>\n",
       "      <td>0.0</td>\n",
       "      <td>0.319447</td>\n",
       "    </tr>\n",
       "    <tr>\n",
       "      <th>97</th>\n",
       "      <td>1</td>\n",
       "      <td>63.3583</td>\n",
       "      <td>2</td>\n",
       "      <td>2</td>\n",
       "      <td>1</td>\n",
       "      <td>0</td>\n",
       "      <td>0</td>\n",
       "      <td>0</td>\n",
       "      <td>1</td>\n",
       "      <td>0</td>\n",
       "      <td>0</td>\n",
       "      <td>1.0</td>\n",
       "      <td>0.0</td>\n",
       "      <td>0.402893</td>\n",
       "    </tr>\n",
       "    <tr>\n",
       "      <th>852</th>\n",
       "      <td>3</td>\n",
       "      <td>15.2458</td>\n",
       "      <td>0</td>\n",
       "      <td>3</td>\n",
       "      <td>0</td>\n",
       "      <td>0</td>\n",
       "      <td>0</td>\n",
       "      <td>1</td>\n",
       "      <td>0</td>\n",
       "      <td>0</td>\n",
       "      <td>0</td>\n",
       "      <td>0.0</td>\n",
       "      <td>1.0</td>\n",
       "      <td>0.717366</td>\n",
       "    </tr>\n",
       "    <tr>\n",
       "      <th>25</th>\n",
       "      <td>3</td>\n",
       "      <td>31.3875</td>\n",
       "      <td>3</td>\n",
       "      <td>7</td>\n",
       "      <td>0</td>\n",
       "      <td>0</td>\n",
       "      <td>1</td>\n",
       "      <td>0</td>\n",
       "      <td>0</td>\n",
       "      <td>1</td>\n",
       "      <td>0</td>\n",
       "      <td>1.0</td>\n",
       "      <td>0.0</td>\n",
       "      <td>0.255922</td>\n",
       "    </tr>\n",
       "  </tbody>\n",
       "</table>\n",
       "</div>"
      ],
      "text/plain": [
       "     Pclass     Fare  Age_Cat_Label  Family  Sex_male  Embarked_Q  Embarked_S  \\\n",
       "137       1  53.1000              3       2         1           0           1   \n",
       "621       1  52.5542              4       2         1           0           1   \n",
       "447       1  26.5500              3       1         1           0           1   \n",
       "192       3   7.8542              1       2         0           0           1   \n",
       "673       2  13.0000              3       1         1           0           1   \n",
       "141       3   7.7500              2       1         0           0           1   \n",
       "235       3   7.5500              2       1         0           0           1   \n",
       "204       3   8.0500              1       1         1           0           1   \n",
       "23        1  35.5000              2       1         1           0           1   \n",
       "362       3  14.4542              4       2         0           0           0   \n",
       "772       2  10.5000              5       1         0           0           1   \n",
       "312       2  26.0000              2       3         0           0           1   \n",
       "889       1  30.0000              2       1         1           0           0   \n",
       "767       3   7.7500              3       1         0           1           0   \n",
       "357       2  13.0000              3       1         0           0           1   \n",
       "254       3  20.2125              4       3         0           0           1   \n",
       "712       1  52.0000              4       2         1           0           1   \n",
       "338       3   8.0500              4       1         1           0           1   \n",
       "286       3   9.5000              3       1         1           0           1   \n",
       "209       1  31.0000              4       1         1           0           0   \n",
       "604       1  26.5500              3       1         1           0           0   \n",
       "578       3  14.4583              3       2         0           0           0   \n",
       "599       1  56.9292              4       2         1           0           0   \n",
       "49        3  17.8000              1       2         0           0           1   \n",
       "854       2  26.0000              4       2         0           0           1   \n",
       "109       3  24.1500              2       2         0           1           0   \n",
       "643       3  56.4958              2       1         1           0           1   \n",
       "657       3  15.5000              3       3         0           1           0   \n",
       "507       1  26.5500              2       1         1           0           1   \n",
       "97        1  63.3583              2       2         1           0           0   \n",
       "852       3  15.2458              0       3         0           0           0   \n",
       "25        3  31.3875              3       7         0           0           1   \n",
       "\n",
       "     Title_Miss  Title_Mr.  Title_Mrs.  Title_Special_title  Survived  \\\n",
       "137           0          1           0                    0       0.0   \n",
       "621           0          1           0                    0       1.0   \n",
       "447           0          1           0                    0       1.0   \n",
       "192           1          0           0                    0       1.0   \n",
       "673           0          1           0                    0       1.0   \n",
       "141           1          0           0                    0       1.0   \n",
       "235           1          0           0                    0       0.0   \n",
       "204           0          1           0                    0       1.0   \n",
       "23            0          1           0                    0       1.0   \n",
       "362           0          0           1                    0       0.0   \n",
       "772           0          0           1                    0       0.0   \n",
       "312           0          0           1                    0       0.0   \n",
       "889           0          1           0                    0       1.0   \n",
       "767           1          0           0                    0       0.0   \n",
       "357           1          0           0                    0       0.0   \n",
       "254           0          0           1                    0       0.0   \n",
       "712           0          1           0                    0       1.0   \n",
       "338           0          1           0                    0       1.0   \n",
       "286           0          1           0                    0       1.0   \n",
       "209           0          1           0                    0       1.0   \n",
       "604           0          1           0                    0       1.0   \n",
       "578           0          0           1                    0       0.0   \n",
       "599           0          0           0                    1       1.0   \n",
       "49            0          0           1                    0       0.0   \n",
       "854           0          0           1                    0       0.0   \n",
       "109           1          0           0                    0       1.0   \n",
       "643           0          1           0                    0       1.0   \n",
       "657           0          0           1                    0       0.0   \n",
       "507           0          1           0                    0       1.0   \n",
       "97            0          1           0                    0       1.0   \n",
       "852           1          0           0                    0       0.0   \n",
       "25            0          0           1                    0       1.0   \n",
       "\n",
       "     y_pred_gb  y_pred_proba_GB  \n",
       "137        1.0         0.582398  \n",
       "621        0.0         0.495200  \n",
       "447        0.0         0.333976  \n",
       "192        0.0         0.467846  \n",
       "673        0.0         0.125601  \n",
       "141        0.0         0.467038  \n",
       "235        1.0         0.727498  \n",
       "204        0.0         0.110381  \n",
       "23         0.0         0.277394  \n",
       "362        1.0         0.561832  \n",
       "772        1.0         0.923276  \n",
       "312        1.0         0.939372  \n",
       "889        0.0         0.384754  \n",
       "767        1.0         0.585465  \n",
       "357        1.0         0.871586  \n",
       "254        1.0         0.673572  \n",
       "712        0.0         0.154177  \n",
       "338        0.0         0.113195  \n",
       "286        0.0         0.122277  \n",
       "209        0.0         0.228058  \n",
       "604        0.0         0.295319  \n",
       "578        1.0         0.561832  \n",
       "599        0.0         0.487579  \n",
       "49         1.0         0.674862  \n",
       "854        1.0         0.939036  \n",
       "109        0.0         0.472555  \n",
       "643        0.0         0.468049  \n",
       "657        1.0         0.778996  \n",
       "507        0.0         0.319447  \n",
       "97         0.0         0.402893  \n",
       "852        1.0         0.717366  \n",
       "25         0.0         0.255922  "
      ]
     },
     "execution_count": 256,
     "metadata": {},
     "output_type": "execute_result"
    }
   ],
   "source": [
    "false_predictions = pred_comp_df['Survived'] != pred_comp_df['y_pred_gb']\n",
    "print(f\"Total False Predictions : {len(pred_comp_df[false_predictions])}\")\n",
    "pred_comp_df[false_predictions]"
   ]
  },
  {
   "cell_type": "markdown",
   "id": "24ca0ff3-4a72-48ea-a92e-dc9e318899bd",
   "metadata": {},
   "source": [
    "# 9. Submit Predictions"
   ]
  },
  {
   "cell_type": "code",
   "execution_count": 257,
   "id": "575c14a3-a2dc-40b5-8b67-ceaebe7a4b64",
   "metadata": {},
   "outputs": [],
   "source": [
    "models_to_submit = [\n",
    "    #best_model_logit,\n",
    "    #best_model_xgb,\n",
    "    best_model_gb,\n",
    "    #best_model_rf\n",
    "]"
   ]
  },
  {
   "cell_type": "code",
   "execution_count": 258,
   "id": "a2bfd982-5870-41a7-aab1-65c394f0b0d0",
   "metadata": {
    "tags": []
   },
   "outputs": [],
   "source": [
    "current_time = datetime.now()\n",
    "formatted_time = current_time.strftime('%m_%d_%H_%M')"
   ]
  },
  {
   "cell_type": "code",
   "execution_count": 259,
   "id": "97ec32f1-348c-4a3a-a606-bd701d336ca7",
   "metadata": {
    "tags": []
   },
   "outputs": [],
   "source": [
    "# Continue with fit X_train\n",
    "\n",
    "## Fit and Predict with each model each model\n",
    "for i, model in enumerate(models_to_submit):\n",
    "    #Extract time now\n",
    "    current_time = datetime.now()\n",
    "    formatted_time = current_time.strftime('%m_%d_%H_%M')\n",
    "    \n",
    "    # Extract model name 'str'\n",
    "    model_name = model.__class__.__name__\n",
    "    \n",
    "    # Final training the model with X_train_scaled, y_train\n",
    "    model.fit(X_train_scaled, y_train)\n",
    "    \n",
    "    # Real predictions to df : X_kaggle_scaled (scaled with X_train stats)\n",
    "    y_pred = model.predict(X_kaggle_scaled)\n",
    "    submit_df = pd.DataFrame({'PassengerId': df_test2['PassengerId'], 'Survived': y_pred})\n",
    "    \n",
    "    # save the file as csv\n",
    "    filepath = 'submissions/' + 'partial' + formatted_time + str(i) + '_' + model_name + '.csv'\n",
    "    submit_df.to_csv(filepath, index=False)"
   ]
  },
  {
   "cell_type": "raw",
   "id": "b7185781-9856-4f1b-b269-bce5e647f4b0",
   "metadata": {},
   "source": [
    "# continue with fit the whole X\n",
    "\n",
    "## Fit whole X to the scaler: a new scaler\n",
    "scaler_last = StandardScaler()\n",
    "X_scaled_whole = scaler_last.fit_transform(X)\n",
    "X_kaggle_scaled_whole = scaler_last.transform(X_kaggle)"
   ]
  },
  {
   "cell_type": "raw",
   "id": "75fe068c-cb1d-4553-bca4-3679fb93c97c",
   "metadata": {
    "tags": []
   },
   "source": [
    "# Continue with fit the whole X\n",
    "\n",
    "## Fit and Predict with each model each model\n",
    "for i, model in enumerate(models_to_submit):\n",
    "    #Extract time now\n",
    "    current_time = datetime.now()\n",
    "    formatted_time = current_time.strftime('%m_%d_%H_%M')\n",
    "    \n",
    "    # Extract model name 'str'\n",
    "    model_name = model.__class__.__name__\n",
    "    \n",
    "    # Final training the model with X_scaled_whole, y whole\n",
    "    model.fit(X_scaled_whole, y)\n",
    "    \n",
    "    # Real predictions to df : X_kaggle_scaled (scaled with X_train stats)\n",
    "    y_pred = model.predict(X_kaggle_scaled_whole)\n",
    "    submit_df = pd.DataFrame({'PassengerId': df_test2['PassengerId'], 'Survived': y_pred})\n",
    "    \n",
    "    # save the file as csv\n",
    "    filepath = 'submissions/' + 'whole' +  formatted_time + str(i) + '_' + model_name + '.csv'\n",
    "    submit_df.to_csv(filepath, index=False)"
   ]
  },
  {
   "cell_type": "code",
   "execution_count": null,
   "id": "9ab39379-9e7d-4a71-b9a5-8c5a4cfe3c47",
   "metadata": {},
   "outputs": [],
   "source": []
  }
 ],
 "metadata": {
  "kernelspec": {
   "display_name": "Python 3 (ipykernel)",
   "language": "python",
   "name": "python3"
  },
  "language_info": {
   "codemirror_mode": {
    "name": "ipython",
    "version": 3
   },
   "file_extension": ".py",
   "mimetype": "text/x-python",
   "name": "python",
   "nbconvert_exporter": "python",
   "pygments_lexer": "ipython3",
   "version": "3.10.8"
  }
 },
 "nbformat": 4,
 "nbformat_minor": 5
}
