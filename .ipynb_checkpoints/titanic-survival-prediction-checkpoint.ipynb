{
 "cells": [
  {
   "cell_type": "markdown",
   "id": "177ffa3e-0b1a-4f0a-860d-8bf6ba7d6d09",
   "metadata": {},
   "source": [
    "<p align=\"center\">\n",
    "  <img src=\"data/titanic.jpg\" width=\"700\" height=\"300\">\n",
    "</p>"
   ]
  },
  {
   "cell_type": "markdown",
   "id": "56844844-c73f-4191-a117-67f4bd6e410c",
   "metadata": {},
   "source": [
    "# Titanic Survival Prediction"
   ]
  },
  {
   "cell_type": "markdown",
   "id": "664d34d1-b81d-4c70-9897-6aa9f4b73fa2",
   "metadata": {},
   "source": [
    "# 1. Introduction"
   ]
  },
  {
   "cell_type": "markdown",
   "id": "5c8a5439-02a5-4fb6-b751-65b389af1b25",
   "metadata": {},
   "source": [
    "* Brief overview of the Titanic survival competition at Kaggle.  \n",
    "* Purpose of studying this dataset and objective of this notebook, audiences\n",
    "* Methodology followed.  \n",
    "* Key findings and observations.  \n",
    "* Challenges, areas for potential improvements."
   ]
  },
  {
   "cell_type": "markdown",
   "id": "20255f1c-f9f3-48e3-b23c-467ddc75ff57",
   "metadata": {},
   "source": [
    "**Dataset**  \n",
    "[Kaggle Competition and dataset link](https://www.kaggle.com/c/titanic)\n",
    "\n",
    "**Contact**  \n",
    "Reachme for more or discussion from [Linkedin](https://www.linkedin.com/in/fatih-calik-469961237/), [Github](https://github.com/fatih-ml) or [Kaggle](https://www.kaggle.com/fatihkgg)"
   ]
  },
  {
   "cell_type": "markdown",
   "id": "34f4932a-cd62-452b-b724-1f72fb042772",
   "metadata": {},
   "source": [
    "# 2. Initial Data Exploration and Preprocessing"
   ]
  },
  {
   "cell_type": "markdown",
   "id": "dd202be3-95aa-4ebe-8cc5-5c6060700e28",
   "metadata": {},
   "source": [
    "## Importing the dependencies"
   ]
  },
  {
   "cell_type": "code",
   "execution_count": 17,
   "id": "4110091f-64ec-41d7-8790-3da0d158428c",
   "metadata": {
    "tags": []
   },
   "outputs": [],
   "source": [
    "import pandas as pd\n",
    "import numpy as np\n",
    "import scipy.stats as stats\n",
    "import matplotlib.pyplot as plt\n",
    "import seaborn as sns\n",
    "import data.fatih_eda as fc\n",
    "import warnings\n",
    "warnings.filterwarnings('ignore')\n",
    "\n",
    "np.set_printoptions(suppress=True)"
   ]
  },
  {
   "cell_type": "code",
   "execution_count": 18,
   "id": "c16f5b09-7c0e-45bf-96b6-c91be9eebea7",
   "metadata": {
    "tags": []
   },
   "outputs": [
    {
     "data": {
      "text/html": [
       "<div>\n",
       "<style scoped>\n",
       "    .dataframe tbody tr th:only-of-type {\n",
       "        vertical-align: middle;\n",
       "    }\n",
       "\n",
       "    .dataframe tbody tr th {\n",
       "        vertical-align: top;\n",
       "    }\n",
       "\n",
       "    .dataframe thead th {\n",
       "        text-align: right;\n",
       "    }\n",
       "</style>\n",
       "<table border=\"1\" class=\"dataframe\">\n",
       "  <thead>\n",
       "    <tr style=\"text-align: right;\">\n",
       "      <th></th>\n",
       "      <th>PassengerId</th>\n",
       "      <th>Survived</th>\n",
       "      <th>Pclass</th>\n",
       "      <th>Name</th>\n",
       "      <th>Sex</th>\n",
       "      <th>Age</th>\n",
       "      <th>SibSp</th>\n",
       "      <th>Parch</th>\n",
       "      <th>Ticket</th>\n",
       "      <th>Fare</th>\n",
       "      <th>Cabin</th>\n",
       "      <th>Embarked</th>\n",
       "    </tr>\n",
       "  </thead>\n",
       "  <tbody>\n",
       "    <tr>\n",
       "      <th>0</th>\n",
       "      <td>1</td>\n",
       "      <td>0</td>\n",
       "      <td>3</td>\n",
       "      <td>Braund, Mr. Owen Harris</td>\n",
       "      <td>male</td>\n",
       "      <td>22.0</td>\n",
       "      <td>1</td>\n",
       "      <td>0</td>\n",
       "      <td>A/5 21171</td>\n",
       "      <td>7.2500</td>\n",
       "      <td>NaN</td>\n",
       "      <td>S</td>\n",
       "    </tr>\n",
       "    <tr>\n",
       "      <th>1</th>\n",
       "      <td>2</td>\n",
       "      <td>1</td>\n",
       "      <td>1</td>\n",
       "      <td>Cumings, Mrs. John Bradley (Florence Briggs Th...</td>\n",
       "      <td>female</td>\n",
       "      <td>38.0</td>\n",
       "      <td>1</td>\n",
       "      <td>0</td>\n",
       "      <td>PC 17599</td>\n",
       "      <td>71.2833</td>\n",
       "      <td>C85</td>\n",
       "      <td>C</td>\n",
       "    </tr>\n",
       "    <tr>\n",
       "      <th>2</th>\n",
       "      <td>3</td>\n",
       "      <td>1</td>\n",
       "      <td>3</td>\n",
       "      <td>Heikkinen, Miss. Laina</td>\n",
       "      <td>female</td>\n",
       "      <td>26.0</td>\n",
       "      <td>0</td>\n",
       "      <td>0</td>\n",
       "      <td>STON/O2. 3101282</td>\n",
       "      <td>7.9250</td>\n",
       "      <td>NaN</td>\n",
       "      <td>S</td>\n",
       "    </tr>\n",
       "    <tr>\n",
       "      <th>3</th>\n",
       "      <td>4</td>\n",
       "      <td>1</td>\n",
       "      <td>1</td>\n",
       "      <td>Futrelle, Mrs. Jacques Heath (Lily May Peel)</td>\n",
       "      <td>female</td>\n",
       "      <td>35.0</td>\n",
       "      <td>1</td>\n",
       "      <td>0</td>\n",
       "      <td>113803</td>\n",
       "      <td>53.1000</td>\n",
       "      <td>C123</td>\n",
       "      <td>S</td>\n",
       "    </tr>\n",
       "    <tr>\n",
       "      <th>4</th>\n",
       "      <td>5</td>\n",
       "      <td>0</td>\n",
       "      <td>3</td>\n",
       "      <td>Allen, Mr. William Henry</td>\n",
       "      <td>male</td>\n",
       "      <td>35.0</td>\n",
       "      <td>0</td>\n",
       "      <td>0</td>\n",
       "      <td>373450</td>\n",
       "      <td>8.0500</td>\n",
       "      <td>NaN</td>\n",
       "      <td>S</td>\n",
       "    </tr>\n",
       "  </tbody>\n",
       "</table>\n",
       "</div>"
      ],
      "text/plain": [
       "   PassengerId  Survived  Pclass  \\\n",
       "0            1         0       3   \n",
       "1            2         1       1   \n",
       "2            3         1       3   \n",
       "3            4         1       1   \n",
       "4            5         0       3   \n",
       "\n",
       "                                                Name     Sex   Age  SibSp  \\\n",
       "0                            Braund, Mr. Owen Harris    male  22.0      1   \n",
       "1  Cumings, Mrs. John Bradley (Florence Briggs Th...  female  38.0      1   \n",
       "2                             Heikkinen, Miss. Laina  female  26.0      0   \n",
       "3       Futrelle, Mrs. Jacques Heath (Lily May Peel)  female  35.0      1   \n",
       "4                           Allen, Mr. William Henry    male  35.0      0   \n",
       "\n",
       "   Parch            Ticket     Fare Cabin Embarked  \n",
       "0      0         A/5 21171   7.2500   NaN        S  \n",
       "1      0          PC 17599  71.2833   C85        C  \n",
       "2      0  STON/O2. 3101282   7.9250   NaN        S  \n",
       "3      0            113803  53.1000  C123        S  \n",
       "4      0            373450   8.0500   NaN        S  "
      ]
     },
     "execution_count": 18,
     "metadata": {},
     "output_type": "execute_result"
    }
   ],
   "source": [
    "df = pd.read_csv('data/train.csv')\n",
    "df.head()"
   ]
  },
  {
   "cell_type": "markdown",
   "id": "85e62729-abe8-4b99-8db2-79d5bf5eb34f",
   "metadata": {},
   "source": [
    "## First Observations"
   ]
  },
  {
   "cell_type": "code",
   "execution_count": 19,
   "id": "c2c7945e-119a-431f-a724-e2544bf883cb",
   "metadata": {
    "tags": []
   },
   "outputs": [
    {
     "data": {
      "text/plain": [
       "(891, 12)"
      ]
     },
     "execution_count": 19,
     "metadata": {},
     "output_type": "execute_result"
    }
   ],
   "source": [
    "df.shape"
   ]
  },
  {
   "cell_type": "code",
   "execution_count": 20,
   "id": "34e3a5e0-f1e1-4097-a4af-5be131eccefe",
   "metadata": {
    "tags": []
   },
   "outputs": [
    {
     "name": "stdout",
     "output_type": "stream",
     "text": [
      "<class 'pandas.core.frame.DataFrame'>\n",
      "RangeIndex: 891 entries, 0 to 890\n",
      "Data columns (total 12 columns):\n",
      " #   Column       Non-Null Count  Dtype  \n",
      "---  ------       --------------  -----  \n",
      " 0   PassengerId  891 non-null    int64  \n",
      " 1   Survived     891 non-null    int64  \n",
      " 2   Pclass       891 non-null    int64  \n",
      " 3   Name         891 non-null    object \n",
      " 4   Sex          891 non-null    object \n",
      " 5   Age          714 non-null    float64\n",
      " 6   SibSp        891 non-null    int64  \n",
      " 7   Parch        891 non-null    int64  \n",
      " 8   Ticket       891 non-null    object \n",
      " 9   Fare         891 non-null    float64\n",
      " 10  Cabin        204 non-null    object \n",
      " 11  Embarked     889 non-null    object \n",
      "dtypes: float64(2), int64(5), object(5)\n",
      "memory usage: 83.7+ KB\n"
     ]
    }
   ],
   "source": [
    "df.info()"
   ]
  },
  {
   "cell_type": "code",
   "execution_count": 21,
   "id": "4accb448-63fa-4521-9f49-3ea5fc8d5d4d",
   "metadata": {
    "tags": []
   },
   "outputs": [],
   "source": [
    "categorical_features = df.select_dtypes(include=['object', 'category']).columns\n",
    "numerical_features = df.select_dtypes(include='number').columns"
   ]
  },
  {
   "cell_type": "code",
   "execution_count": 22,
   "id": "b7ff0223-1a90-470c-94ec-ca97d620799a",
   "metadata": {},
   "outputs": [
    {
     "data": {
      "text/html": [
       "<div>\n",
       "<style scoped>\n",
       "    .dataframe tbody tr th:only-of-type {\n",
       "        vertical-align: middle;\n",
       "    }\n",
       "\n",
       "    .dataframe tbody tr th {\n",
       "        vertical-align: top;\n",
       "    }\n",
       "\n",
       "    .dataframe thead th {\n",
       "        text-align: right;\n",
       "    }\n",
       "</style>\n",
       "<table border=\"1\" class=\"dataframe\">\n",
       "  <thead>\n",
       "    <tr style=\"text-align: right;\">\n",
       "      <th></th>\n",
       "      <th>count</th>\n",
       "      <th>unique</th>\n",
       "      <th>top</th>\n",
       "      <th>freq</th>\n",
       "    </tr>\n",
       "  </thead>\n",
       "  <tbody>\n",
       "    <tr>\n",
       "      <th>Name</th>\n",
       "      <td>891</td>\n",
       "      <td>891</td>\n",
       "      <td>Braund, Mr. Owen Harris</td>\n",
       "      <td>1</td>\n",
       "    </tr>\n",
       "    <tr>\n",
       "      <th>Sex</th>\n",
       "      <td>891</td>\n",
       "      <td>2</td>\n",
       "      <td>male</td>\n",
       "      <td>577</td>\n",
       "    </tr>\n",
       "    <tr>\n",
       "      <th>Ticket</th>\n",
       "      <td>891</td>\n",
       "      <td>681</td>\n",
       "      <td>347082</td>\n",
       "      <td>7</td>\n",
       "    </tr>\n",
       "    <tr>\n",
       "      <th>Cabin</th>\n",
       "      <td>204</td>\n",
       "      <td>147</td>\n",
       "      <td>B96 B98</td>\n",
       "      <td>4</td>\n",
       "    </tr>\n",
       "    <tr>\n",
       "      <th>Embarked</th>\n",
       "      <td>889</td>\n",
       "      <td>3</td>\n",
       "      <td>S</td>\n",
       "      <td>644</td>\n",
       "    </tr>\n",
       "  </tbody>\n",
       "</table>\n",
       "</div>"
      ],
      "text/plain": [
       "         count unique                      top freq\n",
       "Name       891    891  Braund, Mr. Owen Harris    1\n",
       "Sex        891      2                     male  577\n",
       "Ticket     891    681                   347082    7\n",
       "Cabin      204    147                  B96 B98    4\n",
       "Embarked   889      3                        S  644"
      ]
     },
     "execution_count": 22,
     "metadata": {},
     "output_type": "execute_result"
    }
   ],
   "source": [
    "df[categorical_features].describe().T"
   ]
  },
  {
   "cell_type": "code",
   "execution_count": 23,
   "id": "b0217b7c-a0e7-405a-a8e3-b4e9a34b7288",
   "metadata": {
    "tags": []
   },
   "outputs": [
    {
     "data": {
      "text/html": [
       "<div>\n",
       "<style scoped>\n",
       "    .dataframe tbody tr th:only-of-type {\n",
       "        vertical-align: middle;\n",
       "    }\n",
       "\n",
       "    .dataframe tbody tr th {\n",
       "        vertical-align: top;\n",
       "    }\n",
       "\n",
       "    .dataframe thead th {\n",
       "        text-align: right;\n",
       "    }\n",
       "</style>\n",
       "<table border=\"1\" class=\"dataframe\">\n",
       "  <thead>\n",
       "    <tr style=\"text-align: right;\">\n",
       "      <th></th>\n",
       "      <th>count</th>\n",
       "      <th>mean</th>\n",
       "      <th>std</th>\n",
       "      <th>min</th>\n",
       "      <th>25%</th>\n",
       "      <th>50%</th>\n",
       "      <th>75%</th>\n",
       "      <th>max</th>\n",
       "    </tr>\n",
       "  </thead>\n",
       "  <tbody>\n",
       "    <tr>\n",
       "      <th>PassengerId</th>\n",
       "      <td>891.0</td>\n",
       "      <td>446.000000</td>\n",
       "      <td>257.353842</td>\n",
       "      <td>1.00</td>\n",
       "      <td>223.5000</td>\n",
       "      <td>446.0000</td>\n",
       "      <td>668.5</td>\n",
       "      <td>891.0000</td>\n",
       "    </tr>\n",
       "    <tr>\n",
       "      <th>Survived</th>\n",
       "      <td>891.0</td>\n",
       "      <td>0.383838</td>\n",
       "      <td>0.486592</td>\n",
       "      <td>0.00</td>\n",
       "      <td>0.0000</td>\n",
       "      <td>0.0000</td>\n",
       "      <td>1.0</td>\n",
       "      <td>1.0000</td>\n",
       "    </tr>\n",
       "    <tr>\n",
       "      <th>Pclass</th>\n",
       "      <td>891.0</td>\n",
       "      <td>2.308642</td>\n",
       "      <td>0.836071</td>\n",
       "      <td>1.00</td>\n",
       "      <td>2.0000</td>\n",
       "      <td>3.0000</td>\n",
       "      <td>3.0</td>\n",
       "      <td>3.0000</td>\n",
       "    </tr>\n",
       "    <tr>\n",
       "      <th>Age</th>\n",
       "      <td>714.0</td>\n",
       "      <td>29.699118</td>\n",
       "      <td>14.526497</td>\n",
       "      <td>0.42</td>\n",
       "      <td>20.1250</td>\n",
       "      <td>28.0000</td>\n",
       "      <td>38.0</td>\n",
       "      <td>80.0000</td>\n",
       "    </tr>\n",
       "    <tr>\n",
       "      <th>SibSp</th>\n",
       "      <td>891.0</td>\n",
       "      <td>0.523008</td>\n",
       "      <td>1.102743</td>\n",
       "      <td>0.00</td>\n",
       "      <td>0.0000</td>\n",
       "      <td>0.0000</td>\n",
       "      <td>1.0</td>\n",
       "      <td>8.0000</td>\n",
       "    </tr>\n",
       "    <tr>\n",
       "      <th>Parch</th>\n",
       "      <td>891.0</td>\n",
       "      <td>0.381594</td>\n",
       "      <td>0.806057</td>\n",
       "      <td>0.00</td>\n",
       "      <td>0.0000</td>\n",
       "      <td>0.0000</td>\n",
       "      <td>0.0</td>\n",
       "      <td>6.0000</td>\n",
       "    </tr>\n",
       "    <tr>\n",
       "      <th>Fare</th>\n",
       "      <td>891.0</td>\n",
       "      <td>32.204208</td>\n",
       "      <td>49.693429</td>\n",
       "      <td>0.00</td>\n",
       "      <td>7.9104</td>\n",
       "      <td>14.4542</td>\n",
       "      <td>31.0</td>\n",
       "      <td>512.3292</td>\n",
       "    </tr>\n",
       "  </tbody>\n",
       "</table>\n",
       "</div>"
      ],
      "text/plain": [
       "             count        mean         std   min       25%       50%    75%  \\\n",
       "PassengerId  891.0  446.000000  257.353842  1.00  223.5000  446.0000  668.5   \n",
       "Survived     891.0    0.383838    0.486592  0.00    0.0000    0.0000    1.0   \n",
       "Pclass       891.0    2.308642    0.836071  1.00    2.0000    3.0000    3.0   \n",
       "Age          714.0   29.699118   14.526497  0.42   20.1250   28.0000   38.0   \n",
       "SibSp        891.0    0.523008    1.102743  0.00    0.0000    0.0000    1.0   \n",
       "Parch        891.0    0.381594    0.806057  0.00    0.0000    0.0000    0.0   \n",
       "Fare         891.0   32.204208   49.693429  0.00    7.9104   14.4542   31.0   \n",
       "\n",
       "                  max  \n",
       "PassengerId  891.0000  \n",
       "Survived       1.0000  \n",
       "Pclass         3.0000  \n",
       "Age           80.0000  \n",
       "SibSp          8.0000  \n",
       "Parch          6.0000  \n",
       "Fare         512.3292  "
      ]
     },
     "execution_count": 23,
     "metadata": {},
     "output_type": "execute_result"
    }
   ],
   "source": [
    "df[numerical_features].describe().T"
   ]
  },
  {
   "cell_type": "markdown",
   "id": "20f22863-5e83-4ed2-abfe-574dd5d794a4",
   "metadata": {},
   "source": [
    "__Before diving into details with graphs and exploratory data analysis there is a must that:__  \n",
    "* Surely we need to drop PassengerID  \n",
    "\n",
    "__Additonally:__  \n",
    "* name, ticket, cabin features need preprocessing or dropping (we can understand this, from summary statistics)\n"
   ]
  },
  {
   "cell_type": "code",
   "execution_count": 24,
   "id": "449e88fb-47fa-4253-9646-64835938863d",
   "metadata": {
    "tags": []
   },
   "outputs": [],
   "source": [
    "df.drop(columns=['PassengerId'], inplace=True)"
   ]
  },
  {
   "cell_type": "raw",
   "id": "26e569a2-b333-485a-b027-bcded9ae097a",
   "metadata": {
    "tags": []
   },
   "source": [
    "# Drop for first Iteration - vanilla\n",
    "df.drop(columns=['Name', 'Ticket', 'Cabin'], inplace=True)"
   ]
  },
  {
   "cell_type": "raw",
   "id": "a1e7434b-4e6c-4463-aecf-7d11affac6b3",
   "metadata": {},
   "source": [
    "# Drop for second Iteration\n",
    "df.drop(columns=['Ticket', 'Cabin'], inplace=True)"
   ]
  },
  {
   "cell_type": "markdown",
   "id": "4767ea7a-89e5-40b8-be85-4efcacf7318d",
   "metadata": {},
   "source": [
    "## Missing Values"
   ]
  },
  {
   "cell_type": "code",
   "execution_count": 25,
   "id": "6e5e8c8f-b244-4ede-99f4-68fa3cbb18c3",
   "metadata": {
    "tags": []
   },
   "outputs": [
    {
     "data": {
      "text/plain": [
       "Survived      0\n",
       "Pclass        0\n",
       "Name          0\n",
       "Sex           0\n",
       "Age         177\n",
       "SibSp         0\n",
       "Parch         0\n",
       "Ticket        0\n",
       "Fare          0\n",
       "Cabin       687\n",
       "Embarked      2\n",
       "dtype: int64"
      ]
     },
     "execution_count": 25,
     "metadata": {},
     "output_type": "execute_result"
    }
   ],
   "source": [
    "df.isnull().sum()"
   ]
  },
  {
   "cell_type": "code",
   "execution_count": 26,
   "id": "e60562bf-5159-49cd-9e87-5e3d97b628bf",
   "metadata": {
    "tags": []
   },
   "outputs": [],
   "source": [
    "# convert age from str to int\n",
    "df['Age'] = df['Age'][df['Age'].isnull()==False].astype(int)\n",
    "\n",
    "# fillna for age with mean\n",
    "df['Age'].fillna(df['Age'].mean(), inplace=True)\n",
    "\n",
    "# fillna for Embarked with most frequent\n",
    "df['Embarked'].fillna('S', inplace=True)"
   ]
  },
  {
   "cell_type": "markdown",
   "id": "c1655311-20e3-47e4-b3b5-fe07d3c9cf94",
   "metadata": {},
   "source": [
    "# 3. Exploratory Data Analysis (EDA) and Feature Engineering"
   ]
  },
  {
   "cell_type": "markdown",
   "id": "f46468bd-f7db-43ce-8562-71c93adeb9bc",
   "metadata": {},
   "source": [
    "## Categorical Variables"
   ]
  },
  {
   "cell_type": "markdown",
   "id": "0f865d26-ac6a-4e09-b422-465d8c733576",
   "metadata": {},
   "source": [
    "**Names Transformer to Titles**"
   ]
  },
  {
   "cell_type": "code",
   "execution_count": 27,
   "id": "aa75bd22-4c87-4b42-8655-ad6b2539b153",
   "metadata": {
    "tags": []
   },
   "outputs": [
    {
     "name": "stdout",
     "output_type": "stream",
     "text": [
      "891  Unique values\n",
      "\n"
     ]
    },
    {
     "data": {
      "text/plain": [
       "613                Horgan, Mr. John\n",
       "108                 Rekic, Mr. Tido\n",
       "382              Tikkanen, Mr. Juho\n",
       "606               Karaic, Mr. Milan\n",
       "172    Johnson, Miss. Eleanor Ileen\n",
       "Name: Name, dtype: object"
      ]
     },
     "execution_count": 27,
     "metadata": {},
     "output_type": "execute_result"
    }
   ],
   "source": [
    "print(df['Name'].nunique(), ' Unique values\\n')\n",
    "df['Name'].sample(5)"
   ]
  },
  {
   "cell_type": "markdown",
   "id": "b2edf098-a52f-4866-baf8-2072c4647b94",
   "metadata": {},
   "source": [
    "**the structure of name column is: all of them have some sort of TITLES, therefore we can summarize them in a few only titles**"
   ]
  },
  {
   "cell_type": "code",
   "execution_count": 28,
   "id": "2f3aa4fc-846b-45f0-b7f0-2021043f03a6",
   "metadata": {},
   "outputs": [
    {
     "data": {
      "text/plain": [
       "Mr.              517\n",
       "Miss             186\n",
       "Mrs.             125\n",
       "Master.           40\n",
       "Special_title     23\n",
       "Name: Title, dtype: int64"
      ]
     },
     "execution_count": 28,
     "metadata": {},
     "output_type": "execute_result"
    }
   ],
   "source": [
    "# create title column\n",
    "df['Title'] = pd.Series()\n",
    "\n",
    "# we observed these titles with string manipulation methods\n",
    "titles = ['Mr.', 'Mrs.', 'Miss.',  'Ms.', 'Master.', 'Mlle.', 'Mme.']\n",
    "titles_special = ['Dr.', 'Sir', 'Col.', 'Capt.', 'Don.', 'Major.', 'Jonkheer.', 'Rev.', 'Countess.', 'Lady.']\n",
    "\n",
    "# fill titles column\n",
    "for i, name in enumerate(df.Name):    \n",
    "    for title_s in titles_special:\n",
    "        if title_s in name:\n",
    "            df['Title'].iloc[i] = title_s\n",
    "    for title in titles:\n",
    "        if title in name:\n",
    "            df['Title'].iloc[i] = title\n",
    "            \n",
    "# regrouping the titles\n",
    "for i, title in enumerate(df['Title']):\n",
    "    if title in titles_special:\n",
    "        df['Title'].iloc[i] = 'Special_title'\n",
    "    elif title in ['Ms.', 'Miss.', 'Mlle.', 'Mme.']:\n",
    "        df['Title'].iloc[i] = 'Miss'\n",
    "\n",
    "# drop name column\n",
    "df.drop(columns= ['Name'], inplace=True)\n",
    "df['Title'].value_counts()"
   ]
  },
  {
   "cell_type": "markdown",
   "id": "88ec1bd4-704d-4d57-9ecc-715884dcab4f",
   "metadata": {
    "tags": []
   },
   "source": [
    "**Ticket transformer to Decks**"
   ]
  },
  {
   "cell_type": "markdown",
   "id": "8953b76a-e269-4bee-9f6b-aa72d6ecdc07",
   "metadata": {},
   "source": [
    "Lets underestand the structure of ticket column"
   ]
  },
  {
   "cell_type": "code",
   "execution_count": 59,
   "id": "2796f1ab-0b0d-4e67-904b-c30e144f7396",
   "metadata": {
    "tags": []
   },
   "outputs": [
    {
     "name": "stdout",
     "output_type": "stream",
     "text": [
      "681  Unique values\n",
      "\n"
     ]
    }
   ],
   "source": [
    "print(df['Ticket'].nunique(), ' Unique values\\n')"
   ]
  },
  {
   "cell_type": "code",
   "execution_count": 60,
   "id": "12a7bef1-34fa-4b32-b2ce-a1917c51dc57",
   "metadata": {
    "tags": []
   },
   "outputs": [
    {
     "data": {
      "text/plain": [
       "439    C.A. 18723\n",
       "100        349245\n",
       "831         29106\n",
       "768        371110\n",
       "122        237736\n",
       "Name: Ticket, dtype: object"
      ]
     },
     "execution_count": 60,
     "metadata": {},
     "output_type": "execute_result"
    }
   ],
   "source": [
    "df['Ticket'].sample(5)"
   ]
  },
  {
   "cell_type": "code",
   "execution_count": 64,
   "id": "6f077670-e8ff-4aa9-bf68-6bdcd8d8a67a",
   "metadata": {
    "tags": []
   },
   "outputs": [],
   "source": [
    "ticket_no_only = {}\n",
    "deck_space_ticket = {}\n",
    "other = {}\n",
    "\n",
    "for i, ticket in enumerate(df['Ticket']):\n",
    "    if ticket.isdigit():\n",
    "        ticket_no_only[i] = int(ticket)\n",
    "    elif (' ' in ticket) and ticket[0].isalpha():\n",
    "        deck_space_ticket[i] = ticket\n",
    "    else:\n",
    "        other[i] = ticket"
   ]
  },
  {
   "cell_type": "markdown",
   "id": "efc1d7e0-b2a6-4fa8-8f2f-9a86c80c9aea",
   "metadata": {},
   "source": [
    "**I am planning to create two columns**:  \n",
    "1. Decks (if not possible assign No_deck)\n",
    "2. Ticket number (0 if not possible)"
   ]
  },
  {
   "cell_type": "code",
   "execution_count": 69,
   "id": "4119405e-aa18-4f78-b669-b984b42289fa",
   "metadata": {
    "tags": []
   },
   "outputs": [
    {
     "name": "stdout",
     "output_type": "stream",
     "text": [
      "113803\n",
      "373450\n",
      "330877\n",
      "17463\n",
      "349909\n",
      "347742\n",
      "237736\n",
      "113783\n",
      "347082\n",
      "350406\n",
      "248706\n",
      "382652\n",
      "244373\n",
      "345763\n",
      "2649\n",
      "239865\n",
      "248698\n",
      "330923\n",
      "113788\n",
      "349909\n",
      "347077\n",
      "2631\n",
      "19950\n",
      "330959\n",
      "349216\n",
      "335677\n",
      "113789\n",
      "2677\n",
      "345764\n",
      "2651\n",
      "7546\n",
      "11668\n",
      "349253\n",
      "330958\n",
      "370371\n",
      "14311\n",
      "2662\n",
      "349237\n",
      "3101295\n",
      "2926\n",
      "113509\n",
      "19947\n",
      "2697\n",
      "2669\n",
      "113572\n",
      "36973\n",
      "347088\n",
      "2661\n",
      "3101281\n",
      "315151\n",
      "2680\n",
      "1601\n",
      "348123\n",
      "349208\n",
      "374746\n",
      "248738\n",
      "364516\n",
      "345767\n",
      "345779\n",
      "330932\n",
      "113059\n",
      "3101278\n",
      "19950\n",
      "343275\n",
      "343276\n",
      "347466\n",
      "364500\n",
      "374910\n",
      "231919\n",
      "244367\n",
      "349245\n",
      "349215\n",
      "35281\n",
      "7540\n",
      "3101276\n",
      "349207\n",
      "343120\n",
      "312991\n",
      "349249\n",
      "371110\n",
      "110465\n",
      "2665\n",
      "324669\n",
      "4136\n",
      "2627\n",
      "370369\n",
      "11668\n",
      "347082\n",
      "237736\n",
      "27267\n",
      "35281\n",
      "2651\n",
      "370372\n",
      "2668\n",
      "347061\n",
      "349241\n",
      "228414\n",
      "11752\n",
      "113803\n",
      "7534\n",
      "2678\n",
      "347081\n",
      "365222\n",
      "231945\n",
      "350043\n",
      "230080\n",
      "244310\n",
      "113776\n",
      "35851\n",
      "315037\n",
      "371362\n",
      "347068\n",
      "315093\n",
      "3101295\n",
      "363291\n",
      "113505\n",
      "347088\n",
      "1601\n",
      "111240\n",
      "382652\n",
      "347742\n",
      "17764\n",
      "350404\n",
      "4133\n",
      "250653\n",
      "347077\n",
      "230136\n",
      "315153\n",
      "113767\n",
      "370365\n",
      "111428\n",
      "364849\n",
      "349247\n",
      "234604\n",
      "28424\n",
      "350046\n",
      "230080\n",
      "368703\n",
      "4579\n",
      "370370\n",
      "248747\n",
      "345770\n",
      "3101264\n",
      "2628\n",
      "347054\n",
      "3101278\n",
      "2699\n",
      "367231\n",
      "112277\n",
      "250646\n",
      "367229\n",
      "35273\n",
      "243847\n",
      "11813\n",
      "220367\n",
      "21440\n",
      "349234\n",
      "19943\n",
      "236171\n",
      "4133\n",
      "36973\n",
      "347067\n",
      "237442\n",
      "347077\n",
      "26707\n",
      "28665\n",
      "2665\n",
      "367230\n",
      "2694\n",
      "19928\n",
      "347071\n",
      "250649\n",
      "11751\n",
      "244252\n",
      "362316\n",
      "347054\n",
      "113514\n",
      "370129\n",
      "2650\n",
      "110152\n",
      "230433\n",
      "384461\n",
      "347077\n",
      "110413\n",
      "112059\n",
      "382649\n",
      "3101295\n",
      "347083\n",
      "113798\n",
      "250644\n",
      "370375\n",
      "13502\n",
      "347073\n",
      "239853\n",
      "382652\n",
      "336439\n",
      "347464\n",
      "345778\n",
      "113056\n",
      "349239\n",
      "345774\n",
      "349206\n",
      "237798\n",
      "370373\n",
      "19877\n",
      "11967\n",
      "349236\n",
      "349233\n",
      "2693\n",
      "113781\n",
      "19988\n",
      "9234\n",
      "367226\n",
      "226593\n",
      "113781\n",
      "17421\n",
      "11767\n",
      "250651\n",
      "349243\n",
      "347470\n",
      "244367\n",
      "29011\n",
      "36928\n",
      "16966\n",
      "349219\n",
      "234818\n",
      "248738\n",
      "345364\n",
      "28551\n",
      "363291\n",
      "111361\n",
      "367226\n",
      "113043\n",
      "345764\n",
      "349225\n",
      "113776\n",
      "16966\n",
      "7598\n",
      "113784\n",
      "230080\n",
      "19950\n",
      "248740\n",
      "244361\n",
      "229236\n",
      "248733\n",
      "31418\n",
      "386525\n",
      "315088\n",
      "7267\n",
      "113510\n",
      "2695\n",
      "349237\n",
      "2647\n",
      "345783\n",
      "113505\n",
      "237671\n",
      "330931\n",
      "330980\n",
      "347088\n",
      "2691\n",
      "370365\n",
      "110813\n",
      "2626\n",
      "14313\n",
      "11765\n",
      "3101267\n",
      "323951\n",
      "349909\n",
      "113503\n",
      "2648\n",
      "347069\n",
      "2653\n",
      "113789\n",
      "349227\n",
      "27849\n",
      "367655\n",
      "113760\n",
      "350034\n",
      "3101277\n",
      "35273\n",
      "350052\n",
      "350407\n",
      "28403\n",
      "244278\n",
      "240929\n",
      "341826\n",
      "4137\n",
      "315096\n",
      "28664\n",
      "347064\n",
      "29106\n",
      "312992\n",
      "4133\n",
      "349222\n",
      "394140\n",
      "19928\n",
      "239853\n",
      "343095\n",
      "28220\n",
      "250652\n",
      "28228\n",
      "345773\n",
      "349254\n",
      "315082\n",
      "347080\n",
      "370129\n",
      "2003\n",
      "250655\n",
      "364851\n",
      "110564\n",
      "376564\n",
      "13507\n",
      "113760\n",
      "29106\n",
      "19950\n",
      "345769\n",
      "347076\n",
      "230434\n",
      "65306\n",
      "33638\n",
      "250644\n",
      "113794\n",
      "2666\n",
      "113786\n",
      "65303\n",
      "113051\n",
      "17453\n",
      "349240\n",
      "13509\n",
      "17464\n",
      "371060\n",
      "19952\n",
      "364506\n",
      "111320\n",
      "234360\n",
      "239853\n",
      "113792\n",
      "36209\n",
      "2666\n",
      "323592\n",
      "315089\n",
      "7553\n",
      "110465\n",
      "31027\n",
      "3460\n",
      "350060\n",
      "3101298\n",
      "239854\n",
      "4134\n",
      "11967\n",
      "4133\n",
      "19943\n",
      "11771\n",
      "65304\n",
      "113787\n",
      "2627\n",
      "36947\n",
      "113781\n",
      "350035\n",
      "315086\n",
      "364846\n",
      "330909\n",
      "4135\n",
      "110152\n",
      "26360\n",
      "111427\n",
      "1601\n",
      "382651\n",
      "349209\n",
      "36967\n",
      "371110\n",
      "226875\n",
      "349242\n",
      "12749\n",
      "349252\n",
      "2624\n",
      "111361\n",
      "2700\n",
      "367232\n",
      "3101296\n",
      "29104\n",
      "26360\n",
      "2641\n",
      "2690\n",
      "2668\n",
      "315084\n",
      "113050\n",
      "364498\n",
      "13568\n",
      "347082\n",
      "347082\n",
      "2908\n",
      "693\n",
      "2908\n",
      "363291\n",
      "17421\n",
      "244358\n",
      "330979\n",
      "2620\n",
      "347085\n",
      "113807\n",
      "11755\n",
      "110413\n",
      "345572\n",
      "372622\n",
      "349251\n",
      "218629\n",
      "349205\n",
      "349909\n",
      "2686\n",
      "350417\n",
      "11769\n",
      "14312\n",
      "358585\n",
      "243880\n",
      "13507\n",
      "2689\n",
      "237789\n",
      "17421\n",
      "28403\n",
      "13049\n",
      "3411\n",
      "110413\n",
      "237565\n",
      "13567\n",
      "14973\n",
      "36947\n",
      "364848\n",
      "345773\n",
      "248727\n",
      "2664\n",
      "243847\n",
      "349214\n",
      "113796\n",
      "364511\n",
      "111426\n",
      "349910\n",
      "349246\n",
      "113804\n",
      "347082\n",
      "367230\n",
      "370377\n",
      "364512\n",
      "220845\n",
      "347080\n",
      "230136\n",
      "31028\n",
      "2659\n",
      "11753\n",
      "2653\n",
      "350029\n",
      "54636\n",
      "36963\n",
      "219533\n",
      "13502\n",
      "349224\n",
      "334912\n",
      "27042\n",
      "347743\n",
      "13214\n",
      "112052\n",
      "347088\n",
      "237668\n",
      "3101295\n",
      "376564\n",
      "350050\n",
      "347088\n",
      "1601\n",
      "2666\n",
      "349231\n",
      "13213\n",
      "349221\n",
      "231919\n",
      "8475\n",
      "330919\n",
      "365226\n",
      "349223\n",
      "364849\n",
      "29751\n",
      "35273\n",
      "2623\n",
      "5727\n",
      "349210\n",
      "234686\n",
      "312993\n",
      "19996\n",
      "29750\n",
      "244270\n",
      "239856\n",
      "349912\n",
      "342826\n",
      "4138\n",
      "330935\n",
      "6563\n",
      "29750\n",
      "3101295\n",
      "349228\n",
      "350036\n",
      "24160\n",
      "17474\n",
      "349256\n",
      "1601\n",
      "2672\n",
      "113800\n",
      "248731\n",
      "363592\n",
      "35852\n",
      "17421\n",
      "348121\n",
      "2691\n",
      "36864\n",
      "350025\n",
      "250655\n",
      "223596\n",
      "113781\n",
      "2661\n",
      "113028\n",
      "19996\n",
      "7545\n",
      "250647\n",
      "348124\n",
      "34218\n",
      "36568\n",
      "347062\n",
      "248727\n",
      "350048\n",
      "12233\n",
      "250643\n",
      "113806\n",
      "315094\n",
      "31027\n",
      "36866\n",
      "236853\n",
      "24160\n",
      "2699\n",
      "239855\n",
      "28425\n",
      "233639\n",
      "54636\n",
      "349201\n",
      "349218\n",
      "16988\n",
      "19877\n",
      "376566\n",
      "250648\n",
      "113773\n",
      "335097\n",
      "29103\n",
      "392096\n",
      "345780\n",
      "349204\n",
      "220845\n",
      "250649\n",
      "350042\n",
      "29108\n",
      "363294\n",
      "110152\n",
      "358585\n",
      "2663\n",
      "113760\n",
      "347074\n",
      "13502\n",
      "112379\n",
      "364850\n",
      "371110\n",
      "8471\n",
      "345781\n",
      "350047\n",
      "2674\n",
      "29105\n",
      "347078\n",
      "383121\n",
      "364516\n",
      "36865\n",
      "24160\n",
      "2687\n",
      "17474\n",
      "113501\n",
      "374887\n",
      "3101265\n",
      "382652\n",
      "12460\n",
      "239865\n",
      "349203\n",
      "28213\n",
      "17465\n",
      "349244\n",
      "2685\n",
      "345773\n",
      "250647\n",
      "113760\n",
      "2625\n",
      "347089\n",
      "347063\n",
      "112050\n",
      "347087\n",
      "248723\n",
      "113806\n",
      "3474\n",
      "28206\n",
      "347082\n",
      "364499\n",
      "112058\n",
      "347088\n",
      "12749\n",
      "315098\n",
      "19972\n",
      "392096\n",
      "3101295\n",
      "368323\n",
      "1601\n",
      "367228\n",
      "113572\n",
      "2659\n",
      "29106\n",
      "2671\n",
      "347468\n",
      "2223\n",
      "315097\n",
      "392092\n",
      "1601\n",
      "11774\n",
      "113798\n",
      "2683\n",
      "315090\n",
      "349213\n",
      "248727\n",
      "17453\n",
      "347082\n",
      "347060\n",
      "2678\n",
      "244252\n",
      "392091\n",
      "36928\n",
      "113055\n",
      "2666\n",
      "2629\n",
      "350026\n",
      "28134\n",
      "17466\n",
      "233866\n",
      "236852\n",
      "345777\n",
      "347742\n",
      "349248\n",
      "11751\n",
      "695\n",
      "345765\n",
      "2667\n",
      "7534\n",
      "349212\n",
      "349217\n",
      "11767\n",
      "230433\n",
      "349257\n",
      "7552\n",
      "382652\n",
      "211536\n",
      "112053\n",
      "111369\n",
      "370376\n"
     ]
    }
   ],
   "source": [
    "df['Ticket_no'] = pd.Series()\n",
    "df['Deck'] = pd.Series()\n",
    "\n",
    "for i, ticket in enumerate(df['Ticket']):\n",
    "    if i in ticket_no_only.keys():\n",
    "        print(ticket)"
   ]
  },
  {
   "cell_type": "code",
   "execution_count": null,
   "id": "1e4eb8d9-eb99-4cbf-8d5d-6e9929e603ec",
   "metadata": {},
   "outputs": [],
   "source": []
  },
  {
   "cell_type": "code",
   "execution_count": null,
   "id": "dacd7c31-c0d2-4aaa-a4be-60b7e1b55d8c",
   "metadata": {},
   "outputs": [],
   "source": []
  },
  {
   "cell_type": "code",
   "execution_count": 55,
   "id": "839cc14f-467b-4f1c-bbe3-3f4702c859f8",
   "metadata": {
    "tags": []
   },
   "outputs": [
    {
     "name": "stdout",
     "output_type": "stream",
     "text": [
      "891\n",
      "661 226\n"
     ]
    }
   ],
   "source": [
    "counter_numeric_ticker = 0\n",
    "counter_start_alpha = 0\n",
    "\n",
    "for ticket in df['Ticket']:\n",
    "    if ticket.isdigit():\n",
    "        counter_numeric_ticker +=1\n",
    "    elif ticket[0].isalpha() and (' ' in ticket):\n",
    "        counter_start_alpha +=1\n",
    "print(len(df))\n",
    "print(counter_numeric_ticker, counter_start_alpha)"
   ]
  },
  {
   "cell_type": "code",
   "execution_count": 58,
   "id": "cf5e6af4-f36e-4ec2-8643-ca293bb25228",
   "metadata": {
    "tags": []
   },
   "outputs": [
    {
     "name": "stdout",
     "output_type": "stream",
     "text": [
      "LINE\n",
      "LINE\n",
      "LINE\n",
      "LINE\n"
     ]
    }
   ],
   "source": [
    "for ticket in df['Ticket']:\n",
    "    if (' ' not in ticket) and (not ticket.isdigit()):\n",
    "        print(ticket)"
   ]
  },
  {
   "cell_type": "code",
   "execution_count": null,
   "id": "1120a0e5-def9-46e0-a8cf-a277fa42eacf",
   "metadata": {},
   "outputs": [],
   "source": []
  },
  {
   "cell_type": "code",
   "execution_count": null,
   "id": "06874c5c-679a-45b9-a041-277dc722c8f3",
   "metadata": {},
   "outputs": [],
   "source": []
  },
  {
   "cell_type": "code",
   "execution_count": null,
   "id": "1e22f3f7-c92d-4551-bf9a-28922daf414a",
   "metadata": {},
   "outputs": [],
   "source": []
  },
  {
   "cell_type": "markdown",
   "id": "c39319ec-9aa4-42e1-a52c-2f26ba4b2a0a",
   "metadata": {},
   "source": [
    "## Numerical Variables"
   ]
  },
  {
   "cell_type": "code",
   "execution_count": null,
   "id": "9b7161dd-f358-4ba1-af55-63bbaa3fd6a2",
   "metadata": {
    "tags": []
   },
   "outputs": [],
   "source": []
  },
  {
   "cell_type": "code",
   "execution_count": null,
   "id": "82ffc582-1229-4751-854a-a83e14c430f6",
   "metadata": {},
   "outputs": [],
   "source": []
  },
  {
   "cell_type": "markdown",
   "id": "d6405787-8129-4592-bc85-9d0767ef7b30",
   "metadata": {},
   "source": [
    "# 4. Data Encoding and Preparation"
   ]
  },
  {
   "cell_type": "code",
   "execution_count": 85,
   "id": "208f5061-f3c9-4dbd-a15f-f5513621eb2c",
   "metadata": {
    "tags": []
   },
   "outputs": [],
   "source": [
    "categorical_features = df.select_dtypes(include=['object', 'category']).columns\n",
    "dummies_df = pd.get_dummies(df, categorical_features, drop_first=True)"
   ]
  },
  {
   "cell_type": "code",
   "execution_count": 86,
   "id": "54ffb37b-5667-4a9d-bde6-bd102b21b68e",
   "metadata": {
    "tags": []
   },
   "outputs": [
    {
     "name": "stdout",
     "output_type": "stream",
     "text": [
      "(891, 12)\n",
      "(891,)\n"
     ]
    }
   ],
   "source": [
    "X = dummies_df.drop(columns=['Survived'])\n",
    "y = df['Survived']\n",
    "\n",
    "print(X.shape)\n",
    "print(y.shape)"
   ]
  },
  {
   "cell_type": "markdown",
   "id": "dbda4149-3ed2-4694-b478-d51877279093",
   "metadata": {},
   "source": [
    "# 5. Model Building"
   ]
  },
  {
   "cell_type": "code",
   "execution_count": 87,
   "id": "f2e43a76-dc4e-498b-bebc-abc5399880cd",
   "metadata": {
    "tags": []
   },
   "outputs": [],
   "source": [
    "from sklearn.model_selection import train_test_split, GridSearchCV, cross_validate, cross_val_score\n",
    "from sklearn.pipeline import Pipeline\n",
    "from sklearn.linear_model import LogisticRegression\n",
    "from sklearn.ensemble import GradientBoostingClassifier, RandomForestClassifier\n",
    "from xgboost import XGBClassifier\n",
    "from sklearn.preprocessing import StandardScaler\n",
    "from sklearn.metrics import accuracy_score, classification_report"
   ]
  },
  {
   "cell_type": "code",
   "execution_count": 88,
   "id": "bc456ab8-9263-4e5e-95af-8c3a56939391",
   "metadata": {
    "tags": []
   },
   "outputs": [],
   "source": [
    "X_train, X_test, y_train, y_test = train_test_split(X, y, test_size=0.2, random_state=42)"
   ]
  },
  {
   "cell_type": "code",
   "execution_count": 89,
   "id": "a4e35ac9-3f30-4b1d-af36-ebb5cab0aff7",
   "metadata": {
    "tags": []
   },
   "outputs": [],
   "source": [
    "scaler = StandardScaler()\n",
    "X_train_scaled = scaler.fit_transform(X_train)\n",
    "X_test_scaled = scaler.transform(X_test)\n",
    "X_train = X_train_scaled\n",
    "X_test = X_test_scaled"
   ]
  },
  {
   "cell_type": "code",
   "execution_count": 90,
   "id": "2dfef12d-b01f-412a-8a0c-9ccd7b84e616",
   "metadata": {
    "tags": []
   },
   "outputs": [
    {
     "data": {
      "text/html": [
       "<style>#sk-container-id-2 {color: black;background-color: white;}#sk-container-id-2 pre{padding: 0;}#sk-container-id-2 div.sk-toggleable {background-color: white;}#sk-container-id-2 label.sk-toggleable__label {cursor: pointer;display: block;width: 100%;margin-bottom: 0;padding: 0.3em;box-sizing: border-box;text-align: center;}#sk-container-id-2 label.sk-toggleable__label-arrow:before {content: \"▸\";float: left;margin-right: 0.25em;color: #696969;}#sk-container-id-2 label.sk-toggleable__label-arrow:hover:before {color: black;}#sk-container-id-2 div.sk-estimator:hover label.sk-toggleable__label-arrow:before {color: black;}#sk-container-id-2 div.sk-toggleable__content {max-height: 0;max-width: 0;overflow: hidden;text-align: left;background-color: #f0f8ff;}#sk-container-id-2 div.sk-toggleable__content pre {margin: 0.2em;color: black;border-radius: 0.25em;background-color: #f0f8ff;}#sk-container-id-2 input.sk-toggleable__control:checked~div.sk-toggleable__content {max-height: 200px;max-width: 100%;overflow: auto;}#sk-container-id-2 input.sk-toggleable__control:checked~label.sk-toggleable__label-arrow:before {content: \"▾\";}#sk-container-id-2 div.sk-estimator input.sk-toggleable__control:checked~label.sk-toggleable__label {background-color: #d4ebff;}#sk-container-id-2 div.sk-label input.sk-toggleable__control:checked~label.sk-toggleable__label {background-color: #d4ebff;}#sk-container-id-2 input.sk-hidden--visually {border: 0;clip: rect(1px 1px 1px 1px);clip: rect(1px, 1px, 1px, 1px);height: 1px;margin: -1px;overflow: hidden;padding: 0;position: absolute;width: 1px;}#sk-container-id-2 div.sk-estimator {font-family: monospace;background-color: #f0f8ff;border: 1px dotted black;border-radius: 0.25em;box-sizing: border-box;margin-bottom: 0.5em;}#sk-container-id-2 div.sk-estimator:hover {background-color: #d4ebff;}#sk-container-id-2 div.sk-parallel-item::after {content: \"\";width: 100%;border-bottom: 1px solid gray;flex-grow: 1;}#sk-container-id-2 div.sk-label:hover label.sk-toggleable__label {background-color: #d4ebff;}#sk-container-id-2 div.sk-serial::before {content: \"\";position: absolute;border-left: 1px solid gray;box-sizing: border-box;top: 0;bottom: 0;left: 50%;z-index: 0;}#sk-container-id-2 div.sk-serial {display: flex;flex-direction: column;align-items: center;background-color: white;padding-right: 0.2em;padding-left: 0.2em;position: relative;}#sk-container-id-2 div.sk-item {position: relative;z-index: 1;}#sk-container-id-2 div.sk-parallel {display: flex;align-items: stretch;justify-content: center;background-color: white;position: relative;}#sk-container-id-2 div.sk-item::before, #sk-container-id-2 div.sk-parallel-item::before {content: \"\";position: absolute;border-left: 1px solid gray;box-sizing: border-box;top: 0;bottom: 0;left: 50%;z-index: -1;}#sk-container-id-2 div.sk-parallel-item {display: flex;flex-direction: column;z-index: 1;position: relative;background-color: white;}#sk-container-id-2 div.sk-parallel-item:first-child::after {align-self: flex-end;width: 50%;}#sk-container-id-2 div.sk-parallel-item:last-child::after {align-self: flex-start;width: 50%;}#sk-container-id-2 div.sk-parallel-item:only-child::after {width: 0;}#sk-container-id-2 div.sk-dashed-wrapped {border: 1px dashed gray;margin: 0 0.4em 0.5em 0.4em;box-sizing: border-box;padding-bottom: 0.4em;background-color: white;}#sk-container-id-2 div.sk-label label {font-family: monospace;font-weight: bold;display: inline-block;line-height: 1.2em;}#sk-container-id-2 div.sk-label-container {text-align: center;}#sk-container-id-2 div.sk-container {/* jupyter's `normalize.less` sets `[hidden] { display: none; }` but bootstrap.min.css set `[hidden] { display: none !important; }` so we also need the `!important` here to be able to override the default hidden behavior on the sphinx rendered scikit-learn.org. See: https://github.com/scikit-learn/scikit-learn/issues/21755 */display: inline-block !important;position: relative;}#sk-container-id-2 div.sk-text-repr-fallback {display: none;}</style><div id=\"sk-container-id-2\" class=\"sk-top-container\"><div class=\"sk-text-repr-fallback\"><pre>GradientBoostingClassifier()</pre><b>In a Jupyter environment, please rerun this cell to show the HTML representation or trust the notebook. <br />On GitHub, the HTML representation is unable to render, please try loading this page with nbviewer.org.</b></div><div class=\"sk-container\" hidden><div class=\"sk-item\"><div class=\"sk-estimator sk-toggleable\"><input class=\"sk-toggleable__control sk-hidden--visually\" id=\"sk-estimator-id-2\" type=\"checkbox\" checked><label for=\"sk-estimator-id-2\" class=\"sk-toggleable__label sk-toggleable__label-arrow\">GradientBoostingClassifier</label><div class=\"sk-toggleable__content\"><pre>GradientBoostingClassifier()</pre></div></div></div></div></div>"
      ],
      "text/plain": [
       "GradientBoostingClassifier()"
      ]
     },
     "execution_count": 90,
     "metadata": {},
     "output_type": "execute_result"
    }
   ],
   "source": [
    "# Initialize the models\n",
    "logistic_regression = LogisticRegression()\n",
    "random_forest = RandomForestClassifier()\n",
    "xgboost = XGBClassifier()\n",
    "gboost = GradientBoostingClassifier()\n",
    "\n",
    "# Train the models\n",
    "logistic_regression.fit(X_train, y_train)\n",
    "random_forest.fit(X_train, y_train)\n",
    "xgboost.fit(X_train, y_train)\n",
    "gboost.fit(X_train, y_train)"
   ]
  },
  {
   "cell_type": "code",
   "execution_count": 91,
   "id": "4b193b77-d4b5-4419-92fe-b4f2b7e2a6e0",
   "metadata": {
    "tags": []
   },
   "outputs": [
    {
     "name": "stdout",
     "output_type": "stream",
     "text": [
      "Logistic Regression Accuracy: 0.8100558659217877\n",
      "Random Forest Accuracy: 0.8435754189944135\n",
      "XGBoost Accuracy: 0.8379888268156425\n",
      "GBoost Accuracy: 0.8324022346368715\n"
     ]
    }
   ],
   "source": [
    "# Make predictions\n",
    "lr_predictions = logistic_regression.predict(X_test)\n",
    "rf_predictions = random_forest.predict(X_test)\n",
    "xgb_predictions = xgboost.predict(X_test)\n",
    "gb_predictions = gboost.predict(X_test)\n",
    "\n",
    "# Evaluate models\n",
    "lr_accuracy = accuracy_score(y_test, lr_predictions)\n",
    "rf_accuracy = accuracy_score(y_test, rf_predictions)\n",
    "xgb_accuracy = accuracy_score(y_test, xgb_predictions)\n",
    "gb_accuracy = accuracy_score(y_test, gb_predictions)\n",
    "\n",
    "print(\"Logistic Regression Accuracy:\", lr_accuracy)\n",
    "print(\"Random Forest Accuracy:\", rf_accuracy)\n",
    "print(\"XGBoost Accuracy:\", xgb_accuracy)\n",
    "print(\"GBoost Accuracy:\", gb_accuracy)"
   ]
  },
  {
   "cell_type": "code",
   "execution_count": null,
   "id": "ba8cc0cf-cde1-40bb-a6e3-d94c97384ea7",
   "metadata": {},
   "outputs": [],
   "source": []
  },
  {
   "cell_type": "code",
   "execution_count": null,
   "id": "0116d4db-9933-4ee6-9d15-e831c4c06a7f",
   "metadata": {},
   "outputs": [],
   "source": []
  },
  {
   "cell_type": "raw",
   "id": "811354b6-6dc6-4b97-872e-e4ff3a11291e",
   "metadata": {
    "tags": []
   },
   "source": []
  },
  {
   "cell_type": "code",
   "execution_count": null,
   "id": "f884222d-89ae-462d-80fd-ef9562784746",
   "metadata": {},
   "outputs": [],
   "source": []
  },
  {
   "cell_type": "code",
   "execution_count": null,
   "id": "d214ee11-fecd-4114-9de6-8fa40a52681c",
   "metadata": {},
   "outputs": [],
   "source": []
  },
  {
   "cell_type": "code",
   "execution_count": null,
   "id": "8454f2b8-225c-4fca-9a71-c8d92fd05f71",
   "metadata": {},
   "outputs": [],
   "source": []
  },
  {
   "cell_type": "code",
   "execution_count": null,
   "id": "c0a81162-cc9f-4483-87c4-05f3a60ca54e",
   "metadata": {},
   "outputs": [],
   "source": []
  },
  {
   "cell_type": "code",
   "execution_count": null,
   "id": "dc34acd0-e1aa-47b6-b646-524c190bd3c1",
   "metadata": {},
   "outputs": [],
   "source": []
  },
  {
   "cell_type": "code",
   "execution_count": null,
   "id": "08c9c3ad-efb1-4c7e-a972-cb2b380452cc",
   "metadata": {},
   "outputs": [],
   "source": []
  },
  {
   "cell_type": "code",
   "execution_count": null,
   "id": "17e92b55-c82a-4e9b-9e23-5137696cf260",
   "metadata": {},
   "outputs": [],
   "source": []
  },
  {
   "cell_type": "code",
   "execution_count": null,
   "id": "c21be9de-90b4-4121-9b5c-7c63a4e73ebb",
   "metadata": {},
   "outputs": [],
   "source": []
  },
  {
   "cell_type": "code",
   "execution_count": null,
   "id": "131158ce-e65a-4d3c-82b4-e477038a4508",
   "metadata": {},
   "outputs": [],
   "source": []
  },
  {
   "cell_type": "code",
   "execution_count": null,
   "id": "a81043a5-b3f5-45b4-b13b-414ca360a52f",
   "metadata": {},
   "outputs": [],
   "source": []
  },
  {
   "cell_type": "code",
   "execution_count": null,
   "id": "3a23fb70-8688-4aeb-a5a6-1bfb828a600d",
   "metadata": {},
   "outputs": [],
   "source": []
  },
  {
   "cell_type": "code",
   "execution_count": null,
   "id": "3c0e5c6b-a407-47ad-903a-e3598b0d5112",
   "metadata": {},
   "outputs": [],
   "source": []
  },
  {
   "cell_type": "markdown",
   "id": "bb5bc196-744c-4e52-a02f-86772c7d6ed8",
   "metadata": {},
   "source": [
    "# Comparing The Results for each meaningfull Iteration - Feature Engineering"
   ]
  },
  {
   "cell_type": "code",
   "execution_count": 92,
   "id": "f8dd88db-e09e-4c1f-ae32-e3c56092e06d",
   "metadata": {
    "tags": []
   },
   "outputs": [],
   "source": [
    "# first Iteration - with default model parametres\n",
    "# no feature engineering\n",
    "# 'PassengerId', ['Name', 'Ticket', 'Cabin']' dropped\n",
    "# basic imputation performed\n",
    "# X = (891, 8)"
   ]
  },
  {
   "attachments": {
    "ab91b994-7c0f-4475-99ef-fe1bab4a00cb.png": {
     "image/png": "[encoded data removed]"
    }
   },
   "cell_type": "markdown",
   "id": "be47262f-a5b1-43f5-8a18-12fa5d579d1f",
   "metadata": {},
   "source": [
    "![image.png](attachment:ab91b994-7c0f-4475-99ef-fe1bab4a00cb.png)"
   ]
  },
  {
   "cell_type": "code",
   "execution_count": 94,
   "id": "d62602e6-d330-4771-b571-7d82f3472ca5",
   "metadata": {
    "tags": []
   },
   "outputs": [],
   "source": [
    "# Second Iteration - Names are transformed into titles\n",
    "# X = (891, 12)"
   ]
  },
  {
   "attachments": {
    "6225e070-7a57-436b-954e-aa645e609c43.png": {
     "image/png": "[encoded data removed]"
    }
   },
   "cell_type": "markdown",
   "id": "25a82d88-54d2-4e83-8d9a-bb19ae521d80",
   "metadata": {},
   "source": [
    "![image.png](attachment:6225e070-7a57-436b-954e-aa645e609c43.png)"
   ]
  },
  {
   "cell_type": "code",
   "execution_count": null,
   "id": "c915542e-06b8-4576-91aa-e6c2398d5c9d",
   "metadata": {},
   "outputs": [],
   "source": []
  },
  {
   "cell_type": "code",
   "execution_count": null,
   "id": "46af5448-7920-423d-8cf6-745ca628035c",
   "metadata": {},
   "outputs": [],
   "source": []
  },
  {
   "cell_type": "code",
   "execution_count": null,
   "id": "ff0e3cba-bba1-4d6d-8da4-684576eb7eb0",
   "metadata": {},
   "outputs": [],
   "source": []
  },
  {
   "cell_type": "markdown",
   "id": "440266b8-d785-42b6-aded-abde78aa418d",
   "metadata": {},
   "source": [
    "# HyperParamtre Tuning"
   ]
  },
  {
   "cell_type": "raw",
   "id": "b6d88652-30e5-401b-b8b5-932a70a97a87",
   "metadata": {},
   "source": [
    "first_model = GradientBoostingClassifier(\n",
    "    learning_rate=0.01,\n",
    "    max_depth=5,\n",
    "    max_features='sqrt',\n",
    "    min_samples_leaf=2,\n",
    "    min_samples_split=2,\n",
    "    subsample = 1.0,\n",
    "    n_estimators=200\n",
    ")"
   ]
  },
  {
   "cell_type": "raw",
   "id": "3512c6da-5bce-45db-9d5e-fa621a6c6086",
   "metadata": {},
   "source": [
    "first_model.fit(X_train, y_train)\n",
    "y_pred = first_model.predict(X_test)\n",
    "print(accuracy_score(y_test, y_pred))\n",
    "print(classification_report(y_test, y_pred))"
   ]
  },
  {
   "cell_type": "raw",
   "id": "73de8b32-72c4-4213-a2d8-9eb285763876",
   "metadata": {},
   "source": [
    "from sklearn.model_selection import GridSearchCV\n",
    "\n",
    "# Define hyperparameters and their possible values for each model\n",
    "param_grids = {\n",
    "    'Logistic Regression': {'C': [0.01, 0.1, 1, 10, 100],\n",
    "                            'penalty': ['l1', 'l2'],\n",
    "                            'solver': ['liblinear', 'newton-cg', 'lbfgs', 'sag', 'saga']},\n",
    "    \n",
    "    'Random Forest'    : {'n_estimators': [50, 100, 200],\n",
    "                            'max_depth': [5, 10, 15],\n",
    "                            'min_samples_leaf': [1, 2, 4]},\n",
    "    \n",
    "    'Gradient Boosting': {'n_estimators': [50, 100, 200],\n",
    "                            'learning_rate': [0.01, 0.1, 0.2],\n",
    "                            'max_depth': [3, 4, 5],\n",
    "                            'min_samples_split': [2, 3],\n",
    "                            'min_samples_leaf': [1, 2],\n",
    "                            'subsample': [0.8, 1.0],\n",
    "                            'max_features': ['auto', 'sqrt']\n",
    "                            }\n",
    "                }\n",
    "\n",
    "# Define the models\n",
    "models = {\n",
    "    'Logistic Regression': LogisticRegression(),\n",
    "    'Random Forest'    : RandomForestClassifier(),\n",
    "    'Gradient Boosting': GradientBoostingClassifier()\n",
    "}\n",
    "\n",
    "# Initialize an empty dictionary to store best models and their parameters\n",
    "best_models = {}\n",
    "\n",
    "# Loop through each model and perform hyperparameter tuning\n",
    "for model_name, model in models.items():\n",
    "    param_grid = param_grids[model_name]\n",
    "    grid = GridSearchCV(model, param_grid, cv=5)\n",
    "    grid.fit(X_train, y_train)\n",
    "    best_params = grid.best_params_\n",
    "    best_model = model.set_params(**best_params)\n",
    "    best_model.fit(X_train, y_train)\n",
    "    best_models[model_name] = best_model\n",
    "\n",
    "# Print the best models and their parameters\n",
    "for model_name, best_model in best_models.items():\n",
    "    accuracy = best_model.score(X_test, y_test)\n",
    "    print(f\"{model_name} - Best Hyperparameters: {best_model.get_params()}\")\n",
    "    print(f\"{model_name} - Test Accuracy: {accuracy}\")"
   ]
  },
  {
   "cell_type": "code",
   "execution_count": null,
   "id": "1d7da1f5-98d3-4ec1-abdb-c2a1879b58fc",
   "metadata": {},
   "outputs": [],
   "source": []
  },
  {
   "cell_type": "code",
   "execution_count": null,
   "id": "ceb495b5-404a-4b51-be6b-8f9acda192fc",
   "metadata": {},
   "outputs": [],
   "source": []
  },
  {
   "cell_type": "code",
   "execution_count": null,
   "id": "7af54e9d-a20e-4176-a5e1-9d6c5297be14",
   "metadata": {},
   "outputs": [],
   "source": []
  },
  {
   "cell_type": "markdown",
   "id": "68ad9cc6-7c52-49ff-afac-3acd744c1803",
   "metadata": {
    "tags": []
   },
   "source": [
    "# 6. Final Model and Deployment"
   ]
  },
  {
   "cell_type": "code",
   "execution_count": null,
   "id": "af1ee250-fc9b-4946-b1d4-b533ac63df3b",
   "metadata": {
    "tags": []
   },
   "outputs": [],
   "source": []
  },
  {
   "cell_type": "raw",
   "id": "62ebd108-c4a5-478e-aedb-19b30d1465a2",
   "metadata": {
    "tags": []
   },
   "source": [
    "# Apply transformations to test data\n",
    "\n",
    "df_test2 = pd.read_csv('data/test.csv')\n",
    "df_test = df_test2.copy()\n",
    "\n",
    "df_test['Age'] = df_test['Age'][df_test['Age'].isnull()==False].astype(int)\n",
    "df_test['Age'].fillna(df_test['Age'].mean(), inplace=True)\n",
    "\n",
    "df_test['Embarked'].fillna(df_test['Embarked'].mode(), inplace=True)\n",
    "df_test['Fare'].fillna(df_test['Fare'].mean(), inplace=True)\n",
    "\n",
    "df_test.drop(columns=['Cabin'], inplace=True)\n",
    "\n",
    "df_test.drop(columns=['PassengerId'], inplace=True)\n",
    "\n",
    "df_test.drop(columns=['Name', 'Ticket'], inplace=True)\n",
    "\n",
    "categorical_features = df_test.select_dtypes(include=['object', 'category']).columns\n",
    "df_test_encoded = pd.get_dummies(df_test, categorical_features, drop_first=True)\n",
    "print(X_train.shape)\n",
    "print(df_test_encoded.shape)"
   ]
  },
  {
   "cell_type": "raw",
   "id": "4ad12666-97fa-4b98-b522-d72ae9516a31",
   "metadata": {
    "tags": []
   },
   "source": [
    "df_test_scaled = scaler.transform(df_test_encoded)"
   ]
  },
  {
   "cell_type": "raw",
   "id": "c1d94c97-173e-4ba0-bb61-15dd00b1a178",
   "metadata": {
    "tags": []
   },
   "source": [
    "y_pred = first_model.predict(df_test_scaled)\n",
    "y_pred"
   ]
  },
  {
   "cell_type": "raw",
   "id": "7a41a050-3a1b-4d28-92c7-77671fe750f2",
   "metadata": {
    "tags": []
   },
   "source": [
    "df_submit_01 = pd.DataFrame({'PassengerId': df_test2['PassengerId'], 'Survived': y_pred})"
   ]
  },
  {
   "cell_type": "raw",
   "id": "8194e0df-8cc6-4f10-9a49-66b13c4ed7fc",
   "metadata": {
    "tags": []
   },
   "source": [
    "df_submit_01.head()"
   ]
  },
  {
   "cell_type": "raw",
   "id": "702faa34-eed0-4826-bc2e-effdb7110d10",
   "metadata": {
    "tags": []
   },
   "source": [
    "df_submit_01.to_csv('data/submission01.csv', index=False)"
   ]
  },
  {
   "cell_type": "code",
   "execution_count": null,
   "id": "b25d0009-4ace-4e3f-8c98-5d0f78b49c08",
   "metadata": {},
   "outputs": [],
   "source": []
  }
 ],
 "metadata": {
  "kernelspec": {
   "display_name": "Python 3 (ipykernel)",
   "language": "python",
   "name": "python3"
  },
  "language_info": {
   "codemirror_mode": {
    "name": "ipython",
    "version": 3
   },
   "file_extension": ".py",
   "mimetype": "text/x-python",
   "name": "python",
   "nbconvert_exporter": "python",
   "pygments_lexer": "ipython3",
   "version": "3.10.8"
  }
 },
 "nbformat": 4,
 "nbformat_minor": 5
}
